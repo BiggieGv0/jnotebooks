{
 "cells": [
  {
   "cell_type": "code",
   "execution_count": 1,
   "metadata": {},
   "outputs": [],
   "source": [
    "from IPython.display import HTML"
   ]
  },
  {
   "cell_type": "code",
   "execution_count": 2,
   "metadata": {},
   "outputs": [
    {
     "name": "stderr",
     "output_type": "stream",
     "text": [
      "/usr/local/lib/python2.7/dist-packages/pytz/__init__.py:29: UserWarning: Module numpy was already imported from /usr/lib/pymodules/python2.7/numpy/__init__.pyc, but /usr/local/lib/python2.7/dist-packages is being added to sys.path\n",
      "  from pkg_resources import resource_stream\n",
      "ERROR: "
     ]
    },
    {
     "ename": "Exception",
     "evalue": " 'settings_local.py' must be present (and contain\n    CG_KEY and such). Copy or link one of the examples\n    ('settings_local.py.prod' or 'settings_local.py.testsrv'). ",
     "output_type": "error",
     "traceback": [
      "\u001b[1;31m---------------------------------------------------------------------------\u001b[0m\n\u001b[1;31mException\u001b[0m                                 Traceback (most recent call last)",
      "\u001b[1;32m<ipython-input-2-bc013a28161e>\u001b[0m in \u001b[0;36m<module>\u001b[1;34m()\u001b[0m\n\u001b[0;32m      1\u001b[0m \u001b[1;32mfrom\u001b[0m \u001b[0mmarketdata\u001b[0m \u001b[1;32mimport\u001b[0m \u001b[0mccomb\u001b[0m\u001b[1;33m\u001b[0m\u001b[0m\n\u001b[1;32m----> 2\u001b[1;33m \u001b[1;32mfrom\u001b[0m \u001b[0mservices\u001b[0m\u001b[1;33m.\u001b[0m\u001b[0mdatastream\u001b[0m \u001b[1;32mimport\u001b[0m \u001b[0mbars2df\u001b[0m\u001b[1;33m\u001b[0m\u001b[0m\n\u001b[0m\u001b[0;32m      3\u001b[0m \u001b[1;32mimport\u001b[0m \u001b[0mdatetime\u001b[0m\u001b[1;33m\u001b[0m\u001b[0m\n\u001b[0;32m      4\u001b[0m ohlc = bars2df(ccomb.get_cc_bars(\n\u001b[0;32m      5\u001b[0m   \u001b[1;34m'RTS'\u001b[0m\u001b[1;33m,\u001b[0m \u001b[1;34m'timeframe_900'\u001b[0m\u001b[1;33m,\u001b[0m\u001b[1;33m\u001b[0m\u001b[0m\n",
      "\u001b[1;32m/home/mad/src/infrastructure/services/datastream.py\u001b[0m in \u001b[0;36m<module>\u001b[1;34m()\u001b[0m\n\u001b[0;32m     11\u001b[0m \u001b[1;31m#from pprint import pprint  # tmp\u001b[0m\u001b[1;33m\u001b[0m\u001b[1;33m\u001b[0m\u001b[0m\n\u001b[0;32m     12\u001b[0m \u001b[1;33m\u001b[0m\u001b[0m\n\u001b[1;32m---> 13\u001b[1;33m \u001b[1;32mfrom\u001b[0m \u001b[1;33m.\u001b[0m\u001b[0mmdonline\u001b[0m \u001b[1;32mimport\u001b[0m \u001b[0mget_last_bars\u001b[0m\u001b[1;33m\u001b[0m\u001b[0m\n\u001b[0m\u001b[0;32m     14\u001b[0m \u001b[1;32mfrom\u001b[0m \u001b[1;33m.\u001b[0m\u001b[0mzmqlayer\u001b[0m \u001b[1;32mimport\u001b[0m \u001b[0mTxZmqListener\u001b[0m\u001b[1;33m\u001b[0m\u001b[0m\n\u001b[0;32m     15\u001b[0m \u001b[1;32mfrom\u001b[0m \u001b[1;33m.\u001b[0m\u001b[0mmsgtemplates\u001b[0m \u001b[1;32mimport\u001b[0m \u001b[0mdt_decode\u001b[0m\u001b[1;33m,\u001b[0m \u001b[0mBarWrapper\u001b[0m\u001b[1;33m\u001b[0m\u001b[0m\n",
      "\u001b[1;32m/home/mad/src/infrastructure/services/mdonline.py\u001b[0m in \u001b[0;36m<module>\u001b[1;34m()\u001b[0m\n\u001b[0;32m     19\u001b[0m \u001b[1;33m\u001b[0m\u001b[0m\n\u001b[0;32m     20\u001b[0m \u001b[1;32mtry\u001b[0m\u001b[1;33m:\u001b[0m\u001b[1;33m\u001b[0m\u001b[0m\n\u001b[1;32m---> 21\u001b[1;33m     \u001b[1;32mimport\u001b[0m \u001b[0msettings\u001b[0m\u001b[1;33m\u001b[0m\u001b[0m\n\u001b[0m\u001b[0;32m     22\u001b[0m     \u001b[0m_\u001b[0m \u001b[1;33m=\u001b[0m \u001b[0msettings\u001b[0m\u001b[1;33m.\u001b[0m\u001b[0mFORTS_MDB_DATADUMP_PATH\u001b[0m\u001b[1;33m\u001b[0m\u001b[0m\n\u001b[0;32m     23\u001b[0m \u001b[1;32mexcept\u001b[0m \u001b[0mImportError\u001b[0m \u001b[1;32mas\u001b[0m \u001b[0me\u001b[0m\u001b[1;33m:\u001b[0m\u001b[1;33m\u001b[0m\u001b[0m\n",
      "\u001b[1;32m/home/mad/src/infrastructure/settings.py\u001b[0m in \u001b[0;36m<module>\u001b[1;34m()\u001b[0m\n\u001b[0;32m    320\u001b[0m     raise Exception(\"\"\" 'settings_local.py' must be present (and contain\n\u001b[0;32m    321\u001b[0m     CG_KEY and such). Copy or link one of the examples\n\u001b[1;32m--> 322\u001b[1;33m     ('settings_local.py.prod' or 'settings_local.py.testsrv'). \"\"\")\n\u001b[0m",
      "\u001b[1;31mException\u001b[0m:  'settings_local.py' must be present (and contain\n    CG_KEY and such). Copy or link one of the examples\n    ('settings_local.py.prod' or 'settings_local.py.testsrv'). "
     ]
    },
    {
     "name": "stderr",
     "output_type": "stream",
     "text": [
      "An unexpected error occurred while tokenizing input\n",
      "The following traceback may be corrupted or invalid\n",
      "The error message is: ('EOF in multi-line string', (1, 63))\n",
      "\n"
     ]
    }
   ],
   "source": [
    "from marketdata import ccomb\n",
    "from services.datastream import bars2df\n",
    "import datetime\n",
    "ohlc = bars2df(ccomb.get_cc_bars(\n",
    "  'RTS', 'timeframe_900',\n",
    "  #from_ts=datetime.datetime(2013, 3, 1),\n",
    "  to_ts=datetime.datetime(2013, 5, 18),\n",
    "  ))\n"
   ]
  },
  {
   "cell_type": "code",
   "execution_count": 3,
   "metadata": {},
   "outputs": [
    {
     "ename": "NameError",
     "evalue": "name 'ohlc' is not defined",
     "output_type": "error",
     "traceback": [
      "\u001b[1;31m---------------------------------------------------------------------------\u001b[0m\n\u001b[1;31mNameError\u001b[0m                                 Traceback (most recent call last)",
      "\u001b[1;32m<ipython-input-3-51cb4227b5ad>\u001b[0m in \u001b[0;36m<module>\u001b[1;34m()\u001b[0m\n\u001b[0;32m     69\u001b[0m \u001b[1;33m\u001b[0m\u001b[0m\n\u001b[0;32m     70\u001b[0m \u001b[0mdctfw\u001b[0m \u001b[1;33m=\u001b[0m \u001b[0mpersistent_locals2\u001b[0m\u001b[1;33m(\u001b[0m\u001b[0mdctf\u001b[0m\u001b[1;33m)\u001b[0m\u001b[1;33m\u001b[0m\u001b[0m\n\u001b[1;32m---> 71\u001b[1;33m \u001b[0mres\u001b[0m \u001b[1;33m=\u001b[0m \u001b[0mdctfw\u001b[0m\u001b[1;33m(\u001b[0m\u001b[0mohlc\u001b[0m\u001b[1;33m)\u001b[0m\u001b[1;33m\u001b[0m\u001b[0m\n\u001b[0m\u001b[0;32m     72\u001b[0m \u001b[0meq\u001b[0m \u001b[1;33m=\u001b[0m \u001b[0mBacktest\u001b[0m\u001b[1;33m(\u001b[0m\u001b[0mdict\u001b[0m\u001b[1;33m(\u001b[0m\u001b[0mres\u001b[0m\u001b[1;33m,\u001b[0m \u001b[0mohlc\u001b[0m\u001b[1;33m=\u001b[0m\u001b[0mohlc\u001b[0m\u001b[1;33m)\u001b[0m\u001b[1;33m,\u001b[0m \u001b[1;34m'whichever'\u001b[0m\u001b[1;33m)\u001b[0m\u001b[1;33m\u001b[0m\u001b[0m\n",
      "\u001b[1;31mNameError\u001b[0m: name 'ohlc' is not defined"
     ]
    }
   ],
   "source": [
    "import math\n",
    "import pandas\n",
    "pa = pandas\n",
    "from pyquant.backtest import bars_since\n",
    "from pybacktest import Backtest, TimeNum\n",
    "from strat.pbpsbth import persistent_locals2\n",
    "\n",
    "def regr(y):\n",
    "    x = np.arange(len(y))\n",
    "    A = np.vstack([x, np.ones(len(x))]).T\n",
    "    slope, intercept = np.linalg.lstsq(A, y)[0]\n",
    "    return intercept, slope\n",
    "def regright(y):\n",
    "    intercept, slope = regr(y)\n",
    "    return intercept + slope * (len(y) - 1) \n",
    "def _LinearReg(v, window):\n",
    "    return None, pandas.rolling_apply(v, window, regright)\n",
    "\n",
    "\n",
    "_or = lambda a, b: a | b\n",
    "_and = lambda a, b: a & b\n",
    "#def _LinearReg(v, window):\n",
    "#    b = pa.ols(x=v, y=v, window=window)\n",
    "#    ## XXXX: known to be wrong.\n",
    "#    return b, b.y_predict.reindex(v.index).ffill()\n",
    "_ValueWhen = lambda when, values, index=None: values[when].reindex_like(index or values).ffill()\n",
    "_HHV = lambda val, window: pa.rolling_max(val, window)\n",
    "_LLV = lambda val, window: pa.rolling_min(val, window)\n",
    "_BarsSince = lambda v: bars_since(v).fillna(value=0)  # NOTE.\n",
    "def _Sum(vals, windows):\n",
    "    ## XXX: non-manual dynamic rolling-window in pandas?\n",
    "    return pandas.Series(\n",
    "      [sum(vals[:idx].tail(window)) if window else float('nan') \n",
    "       for idx, window in windows.iteritems()],\n",
    "      index=windows.index)\n",
    "def dctf(ohlc):\n",
    "    O, H, L, C, V = ohlc.O, ohlc.H, ohlc.L, ohlc.C, ohlc.V\n",
    "    _rangeDonch = 80\n",
    "    HRL_b, HRL = _LinearReg(H, 80)\n",
    "    LRL_b, LRL = _LinearReg(L, 80)\n",
    "    sant = (C / C.shift()).apply(math.log) * V\n",
    "    sant = sant.dropna()\n",
    "\n",
    "    _buyHH=(O < HRL) & (C > HRL)\n",
    "    _shortLL = (O > LRL) & (C < LRL)\n",
    "\n",
    "    Longline = _ValueWhen(_buyHH, _HHV(H, 3))\n",
    "    Shortline = _ValueWhen(_shortLL, _LLV(L, 3))\n",
    "\n",
    "    b_sant = _Sum(sant, _BarsSince(_buyHH));\n",
    "    Sell = (C <= LRL) & (b_sant < 0)\n",
    "\n",
    "    s_sant = _Sum(sant, _BarsSince(_shortLL))\n",
    "    Cover = (C >= HRL) & (s_sant > 0)\n",
    "\n",
    "    Longline = _ValueWhen(_buyHH, _HHV(H, 3))\n",
    "    Shortline = _ValueWhen(_shortLL, _LLV(L, 3))\n",
    "\n",
    "    tn = TimeNum(ohlc)\n",
    "    ## ', '.join([v.split('==', 1)[1] for v in zz.replace('\\n', ' ').split(' OR ')])\n",
    "    Entertime_v = (101500, 103000, 110000, 113000, 114500, 130000, 133000,\n",
    "      140000, 143000, 160000, 161500, 173000, 180000, 191500)\n",
    "    Entertime = reduce(_or, [tn == v for v in Entertime_v])\n",
    "\n",
    "    Buy = (C > Longline) & (O < Longline) & (Longline > HRL)\n",
    "    Short = (O > Shortline) & (C < Shortline) & (Shortline < LRL)\n",
    "\n",
    "    return dict(Buy=Buy, Sell=Sell, Short=Short, Cover=Cover)\n",
    "\n",
    "dctfw = persistent_locals2(dctf)\n",
    "res = dctfw(ohlc)\n",
    "eq = Backtest(dict(res, ohlc=ohlc), 'whichever')"
   ]
  },
  {
   "cell_type": "code",
   "execution_count": 11,
   "metadata": {},
   "outputs": [],
   "source": [
    "#resdf = pa.DataFrame(res)\n",
    "#resdf_f = resdf[reduce(_or, [resdf[k] for k in resdf.columns])]\n",
    "#\n",
    "#HTML(resdf_f.to_html())"
   ]
  },
  {
   "cell_type": "code",
   "execution_count": 12,
   "metadata": {},
   "outputs": [],
   "source": [
    "_META = dict(\n",
    "    strategy_name='DCTF',\n",
    "    strategy_fn=dctf,\n",
    "    security='RTS',\n",
    "    tf=900,  # mostly for verification\n",
    "    base_period=2,  # minimal backlog (days) to supply\n",
    "    amicmp=dict(\n",
    "        varmap=dict(\n",
    "            # Entertime HRL LRL b_sant s_sant\n",
    "            Entertime=\"Entertime\", Hrl=\"HRL\", Lrl=\"LRL\", b_sant=\"b_sant\", s_sant=\"s_sant\",\n",
    "            Buy_b=\"Buy\", Sell_b=\"Sell\", Short_b=\"Short\", Cover_b=\"Cover\",\n",
    "        ),\n",
    "        ami_vars_path=\"/home/ewc/_amifilterdata/dctrnd_vars.csv\",\n",
    "        ami_trades_path=\"/home/ewc/_amifilterdata/dctrnd_trds.csv\",\n",
    "    ),\n",
    ")"
   ]
  },
  {
   "cell_type": "code",
   "execution_count": 13,
   "metadata": {},
   "outputs": [],
   "source": [
    "#from strat.pbpsbth import ami_var_compare\n",
    "from pyquant.backtest.amicomp import compare as ami_var_compare, filter_comp_2\n",
    "amicmp = _META['amicmp']\n",
    "f_locals = dctfw.locals\n",
    "comp = ami_var_compare(f_locals, varmap=amicmp['varmap'],\n",
    "  ami_vars_path=amicmp['ami_vars_path'],\n",
    "  precision=2,\n",
    "  #precision_p=0.1,\n",
    "  )\n",
    "#HTML(filter_comp_2(comp).head(500).to_html())"
   ]
  },
  {
   "cell_type": "code",
   "execution_count": 14,
   "metadata": {},
   "outputs": [],
   "source": [
    "#from strat import pbpsbth; reload(pbpsbth)\n",
    "from strat.pbpsbth import compare_trds\n",
    "trd_comp, eq_trades, ami_trades = compare_trds(eq.trades,\n",
    "  ami_trades_path=_META['amicmp']['ami_trades_path'], tf=_META['tf'])\n",
    "trd_comp['match'] = (trd_comp['vol_py'] == trd_comp['vol_ami'])"
   ]
  },
  {
   "cell_type": "code",
   "execution_count": 15,
   "metadata": {},
   "outputs": [
    {
     "data": {
      "text/html": [
       "<table border=\"1\" class=\"dataframe\">\n",
       "  <thead>\n",
       "    <tr style=\"text-align: right;\">\n",
       "      <th></th>\n",
       "      <th>pos_py</th>\n",
       "      <th>vol_py</th>\n",
       "      <th>pos_ami</th>\n",
       "      <th>vol_ami</th>\n",
       "      <th>match</th>\n",
       "    </tr>\n",
       "  </thead>\n",
       "  <tbody>\n",
       "    <tr>\n",
       "      <th>2013-05-17 13:15:00</th>\n",
       "      <td>  1</td>\n",
       "      <td>  1</td>\n",
       "      <td>NaN</td>\n",
       "      <td>NaN</td>\n",
       "      <td> False</td>\n",
       "    </tr>\n",
       "    <tr>\n",
       "      <th>2013-05-17 23:45:00</th>\n",
       "      <td>NaN</td>\n",
       "      <td>NaN</td>\n",
       "      <td>NaN</td>\n",
       "      <td>NaN</td>\n",
       "      <td> False</td>\n",
       "    </tr>\n",
       "  </tbody>\n",
       "</table>"
      ],
      "text/plain": [
       "<IPython.core.display.HTML at 0x7a5bf90>"
      ]
     },
     "execution_count": 15,
     "metadata": {},
     "output_type": "execute_result"
    }
   ],
   "source": [
    "z = trd_comp[~ trd_comp['match']]\n",
    "HTML(z.head(500).to_html())"
   ]
  },
  {
   "cell_type": "code",
   "execution_count": null,
   "metadata": {},
   "outputs": [],
   "source": []
  }
 ],
 "metadata": {
  "kernelspec": {
   "display_name": "Python 3",
   "language": "python",
   "name": "python3"
  },
  "language_info": {
   "codemirror_mode": {
    "name": "ipython",
    "version": 3
   },
   "file_extension": ".py",
   "mimetype": "text/x-python",
   "name": "python",
   "nbconvert_exporter": "python",
   "pygments_lexer": "ipython3",
   "version": "3.7.3"
  }
 },
 "nbformat": 4,
 "nbformat_minor": 1
}
