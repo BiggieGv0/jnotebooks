{
 "cells": [
  {
   "cell_type": "code",
   "execution_count": 115,
   "metadata": {},
   "outputs": [],
   "source": [
    "import marketdata.ext\n",
    "import marketdata\n",
    "import pandas as pa\n",
    "from IPython.display import HTML\n",
    "import pybacktest as pbt\n",
    "import datetime as dt\n",
    "from IPython.display import HTML"
   ]
  },
  {
   "cell_type": "code",
   "execution_count": 2,
   "metadata": {},
   "outputs": [],
   "source": [
    "#data loading\n",
    "price_b = marketdata.ext.load_metotron('SPY')"
   ]
  },
  {
   "cell_type": "code",
   "execution_count": 175,
   "metadata": {},
   "outputs": [],
   "source": [
    "#data preparing\n",
    "start = dt.datetime(2000, 1, 1)\n",
    "ohlc = pa.DataFrame(price_b, columns=('O', 'H', 'L', 'C')).ix[start:]"
   ]
  },
  {
   "cell_type": "code",
   "execution_count": 188,
   "metadata": {},
   "outputs": [],
   "source": [
    "#strategy code\n",
    "O, H, L, C = ohlc.O, ohlc.H, ohlc.L, ohlc.C\n",
    "ATR = pa.rolling_mean(H-L, 25)\n",
    "LLV = pa.rolling_min(L, 10)\n",
    "IBS = (C-L)/(H-L)\n",
    "UpBand = L + ATR\n",
    "ChUp = (C > UpBand)\n",
    "ChIBS = (IBS > 0.85)\n",
    "ChRet = ((O/C.shift(1) - 1) > 0.001)\n",
    "short =  ChUp & ChIBS & ChRet.shift(-1)#code have a hack here (for simplicity of research) and cannot be placed in prod without mode\n",
    "cover = short.shift(1)# and here. also, need to modify to exit on close\n",
    "buy = sell = 0\n",
    "buyprice = shortprice = O\n",
    "sellprice = coverprice = C\n",
    "res = dict(Buy=buy, Sell=sell, Short=short, Cover=cover)\n",
    "bct = pbt.Backtest(dict(ohlc=ohlc, buy=res['Buy'], sell=res['Sell'],short=res['Short'], cover=res['Cover']), name = 'SPY diverge')\n",
    "perf = bct.report\n",
    "#bct.trades.head(20)\n",
    "#bct.plot_equity()"
   ]
  },
  {
   "cell_type": "code",
   "execution_count": 158,
   "metadata": {},
   "outputs": [],
   "source": [
    "#checking table\n",
    "test = ohlc\n",
    "test['ATR'] = pa.rolling_mean(test.H-test.L, 25)\n",
    "test['LLC'] = pa.rolling_min(test.L, 10)\n",
    "test['IBS'] = (test.C - test.L) / (test.H - test.L)\n",
    "test['UpBand'] = test.L + test.ATR\n",
    "test['C_UpB'] = (test.C > test.UpBand)\n",
    "test['CheckIBS'] = (test.IBS > 0.85)\n",
    "test['Return'] = (test.O/test.C.shift(1) -1) > 0.001\n",
    "test['Short'] = (test.C_UpB) & (test.CheckIBS) & (test.Return.shift(-1))\n",
    "test['Cover'] = test.Short.shift(1)\n",
    "test = test.dropna(how = 'any')"
   ]
  },
  {
   "cell_type": "code",
   "execution_count": 163,
   "metadata": {},
   "outputs": [],
   "source": [
    "#H = lambda df: HTML(test.head(100).to_html())\n",
    "#tt = H(test)"
   ]
  },
  {
   "cell_type": "code",
   "execution_count": 164,
   "metadata": {},
   "outputs": [],
   "source": [
    "start = test.index.searchsorted(dt.datetime(2000, 3, 14))\n",
    "end = test.index.searchsorted(dt.datetime(2000, 3, 18))\n",
    "df1 = test.ix[start:end]"
   ]
  }
 ],
 "metadata": {
  "kernelspec": {
   "display_name": "Python 3",
   "language": "python",
   "name": "python3"
  },
  "language_info": {
   "codemirror_mode": {
    "name": "ipython",
    "version": 3
   },
   "file_extension": ".py",
   "mimetype": "text/x-python",
   "name": "python",
   "nbconvert_exporter": "python",
   "pygments_lexer": "ipython3",
   "version": "3.7.6"
  }
 },
 "nbformat": 4,
 "nbformat_minor": 1
}
