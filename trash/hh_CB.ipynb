{
 "metadata": {
  "name": ""
 },
 "nbformat": 3,
 "nbformat_minor": 0,
 "worksheets": [
  {
   "cells": [
    {
     "cell_type": "code",
     "collapsed": false,
     "input": [
      "import h2\n",
      "reload(h2)\n",
      "from h2 import *\n",
      "\n",
      "import h\n",
      "reload(h)\n",
      "\n",
      "import strat.pbpsbth as bth\n",
      "pandas = pa\n",
      "\n",
      "import h2\n",
      "reload(h2)\n",
      "from h2 import *\n",
      "\n",
      "import h\n",
      "reload(h)\n",
      "\n",
      "import strat.pbpsbth as bth\n",
      "pandas = pa\n",
      "\n",
      "1"
     ],
     "language": "python",
     "metadata": {},
     "outputs": [
      {
       "output_type": "stream",
       "stream": "stderr",
       "text": [
        "/usr/local/lib/python2.7/dist-packages/pytz/__init__.py:29: UserWarning: Module numpy was already imported from /usr/lib/pymodules/python2.7/numpy/__init__.pyc, but /usr/local/lib/python2.7/dist-packages is being added to sys.path\n",
        "  from pkg_resources import resource_stream\n"
       ]
      },
      {
       "metadata": {},
       "output_type": "pyout",
       "prompt_number": 1,
       "text": [
        "1"
       ]
      }
     ],
     "prompt_number": 1
    },
    {
     "cell_type": "code",
     "collapsed": false,
     "input": [
      "_sym = 'AAPL'\n",
      "start = datetime.date(1998, 1, 1)\n",
      "ohlc_full_b = marketdata.ext.load_metotron(_sym)\n",
      "ohlc_full_b = ohlc_full_b.ix[start:]\n",
      "spx_full_b = marketdata.ext.load_metotron('$SPX')\n",
      "spx_full_b = spx_full_b.reindex(ohlc_full_b.index, method='ffill')\n",
      "# spx = spx.ix[start:]\n",
      "# print venn(ohlc.index, spx.index)[1:]\n",
      "# ohlc, spx = intersect_index(ohlc, spx)\n",
      "# print venn(ohlc.index, spx.index)[1:]"
     ],
     "language": "python",
     "metadata": {},
     "outputs": [],
     "prompt_number": 2
    },
    {
     "cell_type": "code",
     "collapsed": false,
     "input": [
      "ami_code_a = \"\"\"\n",
      "\n",
      "Upper_Band=BBandTop(C,5,1);\n",
      "Lower_Band=BBandBot(C,5,1);\n",
      "b=(C-Lower_Band)/(Upper_Band-Lower_Band);\n",
      "Plot(b,\"b\",colorYellow,styleNoLine | styleOwnScale);\n",
      "\n",
      "/////\u041d\u0410\u0421\u0422\u0420\u041e\u0419\u041a\u0418 \u0421\u041a\u0410\u041d\u0415\u0420\u0410 \u0426\u0415\u041d\u042b \u0438 \u041b\u0418\u041a\u0412\u0418\u0414\u041d\u041e\u0421\u0422\u0418\n",
      "//1. \u043e\u043f\u0440\u0435\u0434\u0435\u043b\u0435\u043d\u0438\u0435 \u043b\u0438\u043a\u0432\u0438\u0434\u043d\u043e\u0441\u0442\u0438 \u0431\u0443\u043c\u0430\u0433\u0438\n",
      "//\u043e\u043f\u0440\u0435\u0434\u0435\u043b\u0435\u043d\u0438\u0435 \u0441\u0440\u0435\u0434\u043d\u0435\u0433\u043e \u0437\u043d\u0430\u0447\u0435\u043d\u0438\u044f V*C \u0443 \u0438\u043d\u0434\u0435\u043a\u0441\u0430 \u0437\u0430 65 \u0434\u043d\u0435\u0439. \u0412\u041d\u0418\u041c\u0410\u041d\u0418\u0415!!! \u041d\u0435\u043a\u043e\u0442\u043e\u0440\u0430\u044b\u0435 \u043f\u043e\u0441\u0442\u0430\u0432\u0449\u0438\u043a\u0438\n",
      "//\u0434\u0430\u043d\u043d\u044b\u0445 \u043d\u0435 \u0434\u0430\u0435\u044e\u0442 \u0437\u043d\u0430\u0447\u0435\u043d\u0438\u0435 \"\u043e\u0431\u044a\u0435\u043c\" \u0443 \u0438\u043d\u0434\u0435\u043a\u0441\u0430 \n",
      "SetForeign(\"$SPX\");//\u043e\u0431\u0440\u0430\u0449\u0435\u043d\u0438\u0435 \u043a \u0441\u0442\u043e\u0440\u043e\u043d\u043d\u0435\u043c\u0443 \u0438\u043d\u0434\u0435\u043a\u0441\u0443\n",
      "VolSP = MA(V*C,65);\n",
      "volumeSP=V;\n",
      "closeSP=C;\n",
      "RestorePriceArrays();\n",
      "\n",
      "xvolFilter =3/1000000; //\u043f\u043e\u0440\u043e\u0433\u043e\u0432\u043e\u0435 \u043c\u0438\u043d\u0438\u043c\u0430\u043b\u044c\u043d\u043e\u0435 \u0437\u043d\u0430\u0447\u0435\u043d\u0438\u0435\n",
      "Vol_close=MA(C * V,20);\n",
      "liqIndex = Vol_close > (volSP*xvolFilter);\n",
      "//2. \u043e\u043f\u0440\u0435\u0434\u0435\u043b\u0435\u043d\u0438\u0435 \u043d\u0438\u0436\u043d\u0435\u0433\u043e \u043f\u043e\u0440\u043e\u0433\u0430 \u0446\u0435\u043d\u044b\n",
      "minPrice=C>5;\n",
      "//3. \u043e\u043f\u0440\u0435\u0434\u0435\u043b\u0435\u043d\u0438\u0435 \u0432\u0435\u0440\u0445\u043d\u0435\u0433\u043e \u043f\u043e\u0440\u043e\u0433\u0430 \u0446\u0435\u043d\u044b\n",
      "maxPrice=C<100;\n",
      "priceLiqScan=liqIndex & minPrice & maxPrice;\n",
      "\n",
      "/////\u041d\u0410\u0421\u0422\u0420\u041e\u0419\u041a\u0418 \u0421\u041a\u0410\u041d\u0415\u0420\u0410 \u0421\u0415\u0422\u0410\u041f\u0410\n",
      "//1.\u043e\u043f\u0440\u0435\u0434\u0435\u043b\u0435\u043d\u0438\u0435 \u043d\u0430\u043b\u0438\u0447\u0438\u044f \u0434\u043e\u043b\u0433\u043e\u0441\u0440\u043e\u0447\u043d\u043e\u0433\u043e \u043f\u043e\u0432\u044b\u0448\u0430\u0442\u0435\u043b\u044c\u043d\u043e\u0433\u043e \u0442\u0440\u0435\u043d\u0434\u0430\n",
      "hardLong=C>MA(C,200);\n",
      "Plot(MA(C,200),\"hardLong\",colorRed);\n",
      "//2.\u043f\u043e\u0434\u0442\u0432\u0435\u0440\u0436\u0434\u0435\u043d\u0438\u0435, \u0447\u0442\u043e \u0442\u0440\u0435\u043d\u0434 \u0440\u0430\u0437\u0432\u0438\u0432\u0430\u0435\u0442\u0441\u044f\n",
      "hardTrend= ADX(5)>40;\n",
      "Plot(ADX(5),\"ADX\",colorYellow,styleNoLine | styleOwnScale);\n",
      "//3.\u043f\u043e\u0434\u0442\u0432\u0435\u0440\u0436\u0434\u0435\u043d\u0438\u0435 \u0440\u0435\u0437\u043a\u043e\u0433\u043e \u043e\u0442\u043a\u0430\u0442\u0430 \u0446\u0435\u043d\u044b\n",
      "hardDrop=BarsSince(b>0.5)>3 AND B<=0.1;\n",
      "//4.\u043e\u0431\u044a\u0435\u043c \u043d\u0435 \u0434\u043e\u043b\u0436\u0435\u043d \u0431\u044b\u0442\u044c \u043c\u0438\u043d\u0438\u043c\u0430\u043b\u044c\u043d\u044b\u043c\n",
      "hardVol=V>LLV(V,5);\n",
      "\n",
      "setupScan=hardLong & hardTrend & hardDrop & hardVol;\n",
      "\n",
      "/////\u041e\u0411\u042a\u0415\u0414\u0418\u041d\u0415\u041d\u0418\u0415 \u0421\u041a\u0410\u041d\u0415\u0420\u041e\u0412\n",
      "BuyHR=priceLiqScan & setupScan;\n",
      "\n",
      "//\u041d\u0410\u0421\u0422\u0420\u041e\u0419\u041a\u0418 \u0422\u0420\u0418\u0413\u0413\u0415\u0420\u0410\n",
      "Lmt = 3;\n",
      "PriceTrigger = Ref(C, -1) * (1 - Lmt/100);\n",
      "Trigger = L <= PriceTrigger;\n",
      "\n",
      "//\u0421\u041e\u0411\u0421\u0422\u0412\u0415\u041d\u041d\u041e \u0422\u041e\u0420\u0413\u041e\u0412\u0410\u042f \u041b\u041e\u0413\u0418\u041a\u0410\n",
      "\n",
      "Buy=Ref(BuyHR,-1) & Trigger;\n",
      "//stB=ValueWhen(Buy,Min(O, PriceTrigger));\n",
      "BuyPrice = Min(O, PriceTrigger);\n",
      "\n",
      "stp_MA=MA(C,3);\n",
      "\n",
      "Sell=C>stp_MA;// OR (BarsSince(Buy)>1 AND C-stB<0);\n",
      "Plot(MA(C,3),\"Exit\",colorBlue);\n",
      "SellPrice=C;\n",
      "Short=Cover=0;\n",
      "ApplyStop(stopTypeNBar,stopModeBars, 5,0);\n",
      "//ApplyStop(stopTypeLoss,stopModePercent, 10,1);\n",
      "Short_b = Short; Cover_b = Cover; Buy_b = Buy; Sell_b = Sell;\n",
      "\n",
      "\"\"\""
     ],
     "language": "python",
     "metadata": {},
     "outputs": [],
     "prompt_number": 3
    },
    {
     "cell_type": "code",
     "collapsed": false,
     "input": [
      "import re\n",
      "_xsub = lambda ptn, repl, s: re.compile(ptn, re.MULTILINE).sub(repl, s)\n",
      "def _lexrepl(repl_from, repl_to, string):\n",
      "    \"\"\" ...\n",
      "    replace whole words and add spaces if necessary.\n",
      "    NOTE: `repl_from` is treated as a regex. \"\"\"\n",
      "    def _repl(match):\n",
      "        gd = match.groupdict()\n",
      "        lm, rm = gd['_lr_left_g'], gd['_lr_right_g']\n",
      "        return ''.join([\n",
      "            lm, ' ' if lm != ' ' else '',\n",
      "            '%s' % (repl_to,),\n",
      "            ' ' if rm != ' ' else '', rm,\n",
      "            ])\n",
      "    return re.sub(\n",
      "        r'(?P<_lr_left_g>[^\\w])%s(?P<_lr_right_g>[^\\w])' % (repl_from,),  # whole word\n",
      "        _repl, string)\n",
      "\n",
      "ami_code_b = ami_code_a\n",
      "## Strip whitepaces before newline\n",
      "ami_code_b = _xsub(r' *$', r'', ami_code_b)\n",
      "## Change and fix comments\n",
      "ami_code_b = _xsub(\n",
      "    r'([^ ]?)(//+)',\n",
      "    lambda m: '%s%s%s ' % (\n",
      "        m.group(1),\n",
      "        '  ' if m.group(1) and m.group(1) != '\\n' else '',\n",
      "        m.group(2).replace('/', '#'),),\n",
      "    ami_code_b)\n",
      "## Fix whitepaces before comments\n",
      "ami_code_b = _xsub(r'([^ \\n#]) *(#+.*)$', r'\\1  \\2', ami_code_b)\n",
      "## Fix whitespaces around commas\n",
      "ami_code_b = _xsub(r' *, *([^,])', r', \\1', ami_code_b)\n",
      "## Fix whitespaces around brackets\n",
      "ami_code_b = _xsub(r'\\( *', '(', ami_code_b)\n",
      "ami_code_b = _xsub(r' *\\)', ')', ami_code_b)\n",
      "## Fix whitespaces around binary operations\n",
      "## NOTE: might have to apply it multiple times\n",
      "for _ in xrange(4):\n",
      "    ami_code_b = _xsub(r'( *)(<=|>=|!=|[*><=+/=&])( *)', r' \\2 ', ami_code_b)\n",
      "## '-' has a special unary operation case like ' -3,', so do only two-sided replaces\n",
      "ami_code_b = _xsub(r'([^ ])([\\-])([^ ])', r'\\1 \\2 \\3', ami_code_b)\n",
      "## Strip whitepaces before newline again (in case some were added)\n",
      "ami_code_b = _xsub(r' *$', r'', ami_code_b)\n",
      "## Strip out semicolons (at the endlines and with comments)\n",
      "ami_code_b = _xsub(r';$', r'', ami_code_b)\n",
      "ami_code_b = _xsub(r';( *#.*)$', r'\\1', ami_code_b)\n",
      "## ...\n",
      "## Code compat p2\n",
      "## Note that elementwise (bitwise) operators are used.\n",
      "ami_code_b = _lexrepl(r'OR', '|', ami_code_b)\n",
      "ami_code_b = _lexrepl(r'AND', '&', ami_code_b)\n",
      "_delcmd = lambda cmd, s: re.sub(r'\\n *%s[^\\n]+\\n' % (cmd,), '\\n', s)\n",
      "for _cmd in ('SetChartOptions', 'Plot', 'SetOption', 'ApplyStop', 'AddColumn'):\n",
      "    ami_code_b = _delcmd(_cmd, ami_code_b)\n",
      "ami_code_b = _xsub(r'\\n\\n+', '\\n', ami_code_b)\n",
      "## ...\n",
      "## TODO?: add various template stuff, do some template replacements like for 'SetForeign'\n",
      "## Known remaining things that are a bit beyond regexes:\n",
      "##  * case-insensitivity\n",
      "## ... -> func\n",
      "ami_code_b = h2.a2p_aliases + '\\n## ...' + ami_code_b\n",
      "ami_code_b = ami_code_b + '\\nreturn locals()'\n",
      "## Indent non-empty\n",
      "ami_code_b = _xsub(r'^(.)', r'    \\1', ami_code_b)\n",
      "ami_code_b = 'def strat_base(ohlc):\\n' + ami_code_b\n",
      "# print ami_code_b\n",
      "# exec ami_code_b"
     ],
     "language": "python",
     "metadata": {},
     "outputs": [],
     "prompt_number": 4
    },
    {
     "cell_type": "code",
     "collapsed": false,
     "input": [
      "def CB(ohlc, spx):\n",
      "\n",
      "    ## Alises AMI -> Pandas\n",
      "    _min_periods = 1\n",
      "    MA = lambda s, l: pa.rolling_mean(s, l, min_periods=_min_periods)\n",
      "    LLV = lambda s, l: pa.rolling_min(s, l, min_periods=_min_periods)\n",
      "    StDev = lambda s, l: pa.rolling_std(s, l, min_periods=_min_periods)\n",
      "    Ref = lambda series, num: series.shift(-num)\n",
      "    log = np.log\n",
      "    Min = lambda *serieses: pa.concat(serieses, axis=1).min(axis=1)\n",
      "    from pyquant.transforms import RSI as q_RSI, RSI_iter as q_RSI_iter\n",
      "    RSI = lambda n: q_RSI_iter(ohlc.C, n)\n",
      "    O, H, L, C, V = ohlc.O, ohlc.H, ohlc.L, ohlc.C, ohlc.V\n",
      "    # Not recommended to use:\n",
      "    BBandTop = lambda *ar, **kwa: bbands(*ar, **kwa)[1]\n",
      "    BBandBot = lambda *ar, **kwa: bbands(*ar, **kwa)[2]\n",
      "    ADX = lambda n: adx(ohlc, n)\n",
      "\n",
      "    ## ...\n",
      "    Upper_Band = BBandTop(C, 5, 1)\n",
      "    Lower_Band = BBandBot(C, 5, 1)\n",
      "    b = (C - Lower_Band) / (Upper_Band - Lower_Band)\n",
      "    ##### \u041d\u0410\u0421\u0422\u0420\u041e\u0419\u041a\u0418 \u0421\u041a\u0410\u041d\u0415\u0420\u0410 \u0426\u0415\u041d\u042b \u0438 \u041b\u0418\u041a\u0412\u0418\u0414\u041d\u041e\u0421\u0422\u0418\n",
      "    ## 1. \u043e\u043f\u0440\u0435\u0434\u0435\u043b\u0435\u043d\u0438\u0435 \u043b\u0438\u043a\u0432\u0438\u0434\u043d\u043e\u0441\u0442\u0438 \u0431\u0443\u043c\u0430\u0433\u0438\n",
      "    ## \u043e\u043f\u0440\u0435\u0434\u0435\u043b\u0435\u043d\u0438\u0435 \u0441\u0440\u0435\u0434\u043d\u0435\u0433\u043e \u0437\u043d\u0430\u0447\u0435\u043d\u0438\u044f V * C \u0443 \u0438\u043d\u0434\u0435\u043a\u0441\u0430 \u0437\u0430 65 \u0434\u043d\u0435\u0439. \u0412\u041d\u0418\u041c\u0410\u041d\u0418\u0415!!! \u041d\u0435\u043a\u043e\u0442\u043e\u0440\u0430\u044b\u0435 \u043f\u043e\u0441\u0442\u0430\u0432\u0449\u0438\u043a\u0438\n",
      "    ## \u0434\u0430\u043d\u043d\u044b\u0445 \u043d\u0435 \u0434\u0430\u0435\u044e\u0442 \u0437\u043d\u0430\u0447\u0435\u043d\u0438\u0435 \"\u043e\u0431\u044a\u0435\u043c\" \u0443 \u0438\u043d\u0434\u0435\u043a\u0441\u0430\n",
      "    O, H, L, C, V = spx.O, spx.H, spx.L, spx.C, spx.V\n",
      "    VolSP = MA(V * C, 65)\n",
      "    volumeSP = V\n",
      "    closeSP = C\n",
      "    O, H, L, C, V = ohlc.O, ohlc.H, ohlc.L, ohlc.C, ohlc.V\n",
      "\n",
      "    xvolFilter = 3.0 / 1000000  ## \u043f\u043e\u0440\u043e\u0433\u043e\u0432\u043e\u0435 \u043c\u0438\u043d\u0438\u043c\u0430\u043b\u044c\u043d\u043e\u0435 \u0437\u043d\u0430\u0447\u0435\u043d\u0438\u0435\n",
      "    Vol_close = MA(C * V, 20)\n",
      "    liqIndex = Vol_close > (VolSP * xvolFilter)\n",
      "    ## 2. \u043e\u043f\u0440\u0435\u0434\u0435\u043b\u0435\u043d\u0438\u0435 \u043d\u0438\u0436\u043d\u0435\u0433\u043e \u043f\u043e\u0440\u043e\u0433\u0430 \u0446\u0435\u043d\u044b\n",
      "    minPrice = C > 5\n",
      "    ## 3. \u043e\u043f\u0440\u0435\u0434\u0435\u043b\u0435\u043d\u0438\u0435 \u0432\u0435\u0440\u0445\u043d\u0435\u0433\u043e \u043f\u043e\u0440\u043e\u0433\u0430 \u0446\u0435\u043d\u044b\n",
      "    maxPrice = C < 100\n",
      "    priceLiqScan = liqIndex & minPrice & maxPrice\n",
      "    ##### \u041d\u0410\u0421\u0422\u0420\u041e\u0419\u041a\u0418 \u0421\u041a\u0410\u041d\u0415\u0420\u0410 \u0421\u0415\u0422\u0410\u041f\u0410\n",
      "    ## 1.\u043e\u043f\u0440\u0435\u0434\u0435\u043b\u0435\u043d\u0438\u0435 \u043d\u0430\u043b\u0438\u0447\u0438\u044f \u0434\u043e\u043b\u0433\u043e\u0441\u0440\u043e\u0447\u043d\u043e\u0433\u043e \u043f\u043e\u0432\u044b\u0448\u0430\u0442\u0435\u043b\u044c\u043d\u043e\u0433\u043e \u0442\u0440\u0435\u043d\u0434\u0430\n",
      "    hardLong = C > MA(C, 200)\n",
      "    ## 2.\u043f\u043e\u0434\u0442\u0432\u0435\u0440\u0436\u0434\u0435\u043d\u0438\u0435, \u0447\u0442\u043e \u0442\u0440\u0435\u043d\u0434 \u0440\u0430\u0437\u0432\u0438\u0432\u0430\u0435\u0442\u0441\u044f\n",
      "    hardTrend = ADX(5) > 40\n",
      "    ## 3.\u043f\u043e\u0434\u0442\u0432\u0435\u0440\u0436\u0434\u0435\u043d\u0438\u0435 \u0440\u0435\u0437\u043a\u043e\u0433\u043e \u043e\u0442\u043a\u0430\u0442\u0430 \u0446\u0435\u043d\u044b\n",
      "    hardDrop = (BarsSince(b > 0.5) > 3) & (b <= 0.1)\n",
      "    ## 4.\u043e\u0431\u044a\u0435\u043c \u043d\u0435 \u0434\u043e\u043b\u0436\u0435\u043d \u0431\u044b\u0442\u044c \u043c\u0438\u043d\u0438\u043c\u0430\u043b\u044c\u043d\u044b\u043c\n",
      "    hardVol = V > LLV(V, 5)\n",
      "    setupScan = hardLong & hardTrend & hardDrop & hardVol\n",
      "    ##### \u041e\u0411\u042a\u0415\u0414\u0418\u041d\u0415\u041d\u0418\u0415 \u0421\u041a\u0410\u041d\u0415\u0420\u041e\u0412\n",
      "    BuyHR = priceLiqScan & setupScan\n",
      "    ## \u041d\u0410\u0421\u0422\u0420\u041e\u0419\u041a\u0418 \u0422\u0420\u0418\u0413\u0413\u0415\u0420\u0410\n",
      "    Lmt = 3\n",
      "    PriceTrigger = Ref(C, -1) * (1.0 - Lmt / 100.0)\n",
      "    Trigger = (L <= PriceTrigger)\n",
      "\n",
      "    ## \u0421\u041e\u0411\u0421\u0422\u0412\u0415\u041d\u041d\u041e \u0422\u041e\u0420\u0413\u041e\u0412\u0410\u042f \u041b\u041e\u0413\u0418\u041a\u0410\n",
      "    Buy = Ref(BuyHR, -1) & Trigger\n",
      "    ## stB = ValueWhen(Buy, Min(O, PriceTrigger))\n",
      "    BuyPrice = Min(O, PriceTrigger)\n",
      "    stp_MA = MA(C, 3)\n",
      "    sell1 = C > stp_MA\n",
      "    sell2 = h.nbarexit(Buy, 5)\n",
      "    Sell = sell1 | sell2  ##  | (BarsSince(Buy) > 1 & C - stB < 0)\n",
      "    SellPrice = C\n",
      "    Short = pa.Series(False, index=O.index)\n",
      "    Cover = pa.Series(False, index=O.index)\n",
      "    ## ApplyStop(stopTypeLoss, stopModePercent, 10, 1)\n",
      "    Short_b = Short; Cover_b = Cover; Buy_b = Buy; Sell_b = Sell\n",
      "\n",
      "    ## To be processed later with Live Backtest:\n",
      "    ## maximal price to buy at (via an order, likely)\n",
      "    BuyLimitPrice = PriceTrigger\n",
      "    ## limit order signal\n",
      "    BuyLimit = BuyHR\n",
      "    ## iterative sell signal\n",
      "    NBarStop = 5  ## Not implemented yet\n",
      "    ## Backtest automatic volume\n",
      "    BT_InitialEquity = 100000\n",
      "    ## Live-sell\n",
      "    # X_Sell = sell1  ## NBarStop isn't implemented yet\n",
      "    X_Sell = sell1 | sell2\n",
      "\n",
      "    ## PyBacktest relevant variables: Buy Sell Short Cover BuyPrice SellPrice\n",
      "    ## Live Backtest relevant variables: BuyLimitPrice BuyLimit NBarStop X_Sell\n",
      "    return locals()\n",
      "\n",
      "\n",
      "loc_base = CB(ohlc_full_b, spx_full_b)\n",
      "\n",
      "def loc2df(loc_data, live=True):\n",
      "    columns = (\n",
      "        'Buy', 'Sell', 'Short', 'Cover', 'BuyPrice', 'SellPrice',\n",
      "        'BuyLimitPrice', 'BuyLimit', 'NBarStop', 'X_Sell')\n",
      "    res = pa.DataFrame(loc_data, columns=columns)\n",
      "    if live:\n",
      "        for k in ('Buy', 'Sell', 'Short', 'Cover'):\n",
      "            live_override = res.get('X_%s' % (k,))\n",
      "            if live_override is not None:\n",
      "                res[k] = live_override\n",
      "    return res\n",
      "\n",
      "loc_df_base = loc2df(loc_base)"
     ],
     "language": "python",
     "metadata": {},
     "outputs": [],
     "prompt_number": 5
    },
    {
     "cell_type": "code",
     "collapsed": false,
     "input": [
      "# _t, _s = next(ldf[ldf.X_Sell].iterrows())\n",
      "# _t, _s, ohlc.shift(-1).ix[_t]['O'], ohlc.ix[_t:].iloc[:4]\n",
      "\n",
      "# _t = ohlc.index[-1]\n",
      "\n",
      "# from_now = ohlc.ix[_t:]\n",
      "# if len(from_now) <= 1:\n",
      "#     print \"no future 1\"\n",
      "# try:\n",
      "#     future = from_now.iloc[1:]\n",
      "# except IndexError:\n",
      "#     print \"no future\"\n",
      "#     future = None\n",
      "# else:\n",
      "#     next_day = future.iloc[0]\n",
      "#     print _t, next_day.name"
     ],
     "language": "python",
     "metadata": {},
     "outputs": [],
     "prompt_number": 6
    },
    {
     "cell_type": "code",
     "collapsed": false,
     "input": [
      "## Modified copypaste from pybaktest.parts\n",
      "def _mkvol(pos, price, equity, ohlc=None, **kwa):\n",
      "    return int(float(equity) / price)\n",
      "\n",
      "\n",
      "long_en, long_ex, short_en, short_ex = ('Buy', 'Sell', 'Short', 'Cover')\n",
      "\n",
      "\n",
      "class SigToPos(object):\n",
      "    def __init__(self, init_equity=100000, mkvol=_mkvol, ohlc=None, **kwa):\n",
      "        self.init_equity = init_equity\n",
      "        self.mkvol = mkvol\n",
      "        self.ohlc = ohlc\n",
      "        self.kwa = kwa\n",
      "        ## Temporaries:\n",
      "        self.pos = None\n",
      "        self.current_equity = None\n",
      "        self.prices = None\n",
      "\n",
      "    def process_signals(self, sig, pos=None):\n",
      "        \"\"\" Signal -> 'meta' \"\"\"\n",
      "        pos = self.pos if pos is None else pos\n",
      "        meta = {'orders': []}\n",
      "        if pos != 0:  # if in position\n",
      "            ## TODO: \u2026Limit entries\n",
      "            ##    NOTE: BuyLimit and SellLimit together might make a weird case.\n",
      "            if pos > 0 and sig[long_ex]:  # if exit long signal\n",
      "                meta['orders'].append(dict(direction=-1, vol=-pos))\n",
      "                pos = 0  ## assume we succeed\n",
      "            elif pos < 0 and sig[short_ex]:  # if exit short signal\n",
      "                meta['orders'].append(dict(direction=1, vol=pos))\n",
      "                pos = 0  ## assume we succeed\n",
      "\n",
      "        # check entry (possibly right after exit)\n",
      "        if pos == 0:\n",
      "            if sig.get('BuyLimit'):\n",
      "                limit_price = sig['BuyLimitPrice']\n",
      "                meta['orders'].append(\n",
      "                    dict(type='limit', direction=1,\n",
      "                         limit_price=limit_price))\n",
      "            elif sig[long_en]:\n",
      "                meta['orders'].append(dict(direction=1))\n",
      "            elif sig[short_en]:\n",
      "                meta['orders'].append(dict(direction=-1))\n",
      "\n",
      "        return meta\n",
      "                \n",
      "    def execute_meta(self, meta, today, trade_fn=None, **x_kwa):\n",
      "        ## NOTE: 'today' doesn't really have to be today;\n",
      "        ## just the currently-happening bar.\n",
      "        trade_fn = trade_fn or self._trade\n",
      "        orders = meta.get('orders', []) or [meta.get('order')]\n",
      "        orders = [v for v in orders if v is not None]\n",
      "        for order in orders:\n",
      "            otype = order.get('type', 'market')\n",
      "            \n",
      "            ## By default, volume is auto-computed,\n",
      "            ## but then direction has to be specified\n",
      "            vol = order.get('vol', None)\n",
      "            direction = order.get('direction', None)\n",
      "            if not vol and not direction:\n",
      "                raise ProgrammingError(\n",
      "                    (\"In order, either volume or direction\"\n",
      "                     \" must be specified\"), order)\n",
      "            elif not direction:  # volume, then\n",
      "                direction = 1 if vol > 0 else -1 if vol < 0 else 0\n",
      "            kwa = dict(x_kwa, vol=vol, buy=(direction > 0))\n",
      "            if otype == 'market':\n",
      "                trade_fn(price=today['O'], **kwa)\n",
      "            elif otype == 'limit':\n",
      "                limit_price = order['limit_price']\n",
      "                kwa['price'] = limit_price\n",
      "                if direction > 0 and today['L'] < limit_price:\n",
      "                    ## Buying and the price got low enough\n",
      "                    trade_fn(**kwa)\n",
      "                elif direction < 0 and today['H'] > limit_price:\n",
      "                    ## Selling and the price got high enough\n",
      "                    trade_fn(**kwa)\n",
      "                ## Otherwise the order did not go.\n",
      "                break  ## no other orders should be.\n",
      "                ## TODO?: limit order timespan / expiration / put-it-back?\n",
      "            else:\n",
      "                raise ProgrammingError(\"Wrong order type\", otype)\n",
      "        \n",
      "    def _trade(self, vol=None, price=None, buy=True, **kwa):\n",
      "        if vol is None:\n",
      "            price = price if price is not None else self.price\n",
      "            if price is None:\n",
      "                raise Exception(\"Price was not set, somehow\")\n",
      "            vol = self.mkvol(self.pos, price, self.current_equity,\n",
      "                             ohlc=self.ohlc, **kwa)\n",
      "            if not buy:\n",
      "                vol = -vol\n",
      "        self.pos += vol\n",
      "        self.current_equity -= vol * price\n",
      "        self.prices.append(price)\n",
      "        return self.pos, self.current_equity\n",
      "\n",
      "    def signals_to_positions(self, signals, ohlc=None, init_pos=0, **kwa):\n",
      "        # BuyLimitPrice BuyLimit NBarStop X_Sell\n",
      "        # long enter, long exit, short enter, short exit\n",
      "        long_en, long_ex, short_en, short_ex = ('Buy', 'Sell', 'Short', 'Cover')\n",
      "        \n",
      "        if ohlc is not None:\n",
      "            self.ohlc = ohlc\n",
      "        else:\n",
      "            ohlc = self.ohlc\n",
      "    \n",
      "        self.pos = init_pos\n",
      "        self.current_equity = self.init_equity\n",
      "\n",
      "        ## The result holders:\n",
      "        ps = pandas.Series(0., index=signals.index)\n",
      "        prices = pandas.Series(None, index=signals.index)\n",
      "        equity = pandas.Series(None, index=signals.index)\n",
      "        equity_base = pandas.Series(None, index=signals.index)\n",
      "        equity.iloc[0] = self.current_equity\n",
      "        equity_base.iloc[0] = self.current_equity\n",
      "        meta = {}\n",
      "        self.meta = meta\n",
      "        self.prices = []\n",
      "    \n",
      "        for t, sig in signals.iterrows():\n",
      "            \n",
      "            ## Execute the previous meta (or nothing if e just started)\n",
      "            today = ohlc.ix[t]\n",
      "            ## Mutates the state on self:\n",
      "            self.execute_meta(meta, today, **kwa)\n",
      "\n",
      "            meta = {}  ## Not curretly necessary\n",
      "            signals_meta = self.process_signals(sig)\n",
      "            meta.update(signals_meta)\n",
      "\n",
      "            ps[t] = self.pos\n",
      "            equity_base[t] = self.current_equity\n",
      "            equity[t] = self.current_equity + today['C'] * self.pos\n",
      "            prices[t] = self.prices[-1] if self.prices else None\n",
      "\n",
      "            ## Cleanup temporaries:\n",
      "            self.prices = []\n",
      "    \n",
      "        res = pa.DataFrame(dict(ps=ps, prices=prices, equity=equity))\n",
      "        res = res.ix[ps != ps.shift()]\n",
      "        return res, meta\n",
      "\n",
      "    __call__ = signals_to_positions\n",
      "\n",
      "\n",
      "stp_base = SigToPos(mkvol=lambda *ar, **kwa: 1, init_equity=0)\n",
      "poss_base, meta_base = stp_base.signals_to_positions(loc_df_base, ohlc_full_b)\n",
      "poss_base['symbol'] = _sym\n",
      "poss_base.to_csv('/home/data/tmp/cb_trades_py1.csv', index_label='timestamp')\n",
      "#H(poss), meta"
     ],
     "language": "python",
     "metadata": {},
     "outputs": [],
     "prompt_number": 7
    },
    {
     "cell_type": "code",
     "collapsed": false,
     "input": [
      "# ohlc_full_b.ix['2003-01-01':]  ## This *really* should work. Maybe a version problem."
     ],
     "language": "python",
     "metadata": {},
     "outputs": [],
     "prompt_number": 79
    },
    {
     "cell_type": "code",
     "collapsed": false,
     "input": [
      "ohlc_x = ohlc_full_b.ix['2005-01':].iloc[:48]\n",
      "spx_x = spx_full_b.reindex(ohlc_x.index, method='ffill')\n",
      "# ohlc_x, spx_x = ohlc_xx, spx_xx\n",
      "stp_x = SigToPos(mkvol=lambda *ar, **kwa: 1, init_equity=0)\n",
      "poss_x, meta_x = (\n",
      "    stp_x\n",
      "    .signals_to_positions(loc2df(CB(ohlc_x, spx_x), live=True), ohlc_x))\n",
      "H(poss_x.tail(100)), meta_x, ohlc_x.iloc[-1].name  # == pa.Timestamp('2005-03-11')"
     ],
     "language": "python",
     "metadata": {},
     "outputs": [
      {
       "html": [
        "<table border=\"1\" class=\"dataframe\">\n",
        "  <thead>\n",
        "    <tr style=\"text-align: right;\">\n",
        "      <th></th>\n",
        "      <th>equity</th>\n",
        "      <th>prices</th>\n",
        "      <th>ps</th>\n",
        "    </tr>\n",
        "  </thead>\n",
        "  <tbody>\n",
        "    <tr>\n",
        "      <th>2005-01-03</th>\n",
        "      <td> 0.000000</td>\n",
        "      <td>     nan</td>\n",
        "      <td>0.000000</td>\n",
        "    </tr>\n",
        "    <tr>\n",
        "      <th>2005-01-04</th>\n",
        "      <td> 0.010000</td>\n",
        "      <td>4.557138</td>\n",
        "      <td>1.000000</td>\n",
        "    </tr>\n",
        "    <tr>\n",
        "      <th>2005-01-05</th>\n",
        "      <td> 0.047143</td>\n",
        "      <td>4.604281</td>\n",
        "      <td>0.000000</td>\n",
        "    </tr>\n",
        "    <tr>\n",
        "      <th>2005-03-09</th>\n",
        "      <td>-0.255357</td>\n",
        "      <td>5.923923</td>\n",
        "      <td>1.000000</td>\n",
        "    </tr>\n",
        "  </tbody>\n",
        "</table>"
       ],
       "metadata": {},
       "output_type": "display_data",
       "text": [
        "<IPython.core.display.HTML at 0x4e5ab50>"
       ]
      },
      {
       "metadata": {},
       "output_type": "pyout",
       "prompt_number": 121,
       "text": [
        "(None,\n",
        " {'orders': [{'direction': -1, 'vol': -1}]},\n",
        " Timestamp('2005-03-11 00:00:00', tz=None))"
       ]
      }
     ],
     "prompt_number": 121
    },
    {
     "cell_type": "code",
     "collapsed": false,
     "input": [
      "H(stp_xx(loc2df(CB(ohlc_x, spx_x), live=True), ohlc_x)[0])\n",
      "H(poss_x)\n",
      "H(poss_xx)"
     ],
     "language": "python",
     "metadata": {},
     "outputs": [
      {
       "html": [
        "<table border=\"1\" class=\"dataframe\">\n",
        "  <thead>\n",
        "    <tr style=\"text-align: right;\">\n",
        "      <th></th>\n",
        "      <th>equity</th>\n",
        "      <th>prices</th>\n",
        "      <th>ps</th>\n",
        "    </tr>\n",
        "  </thead>\n",
        "  <tbody>\n",
        "    <tr>\n",
        "      <th>2005-01-03</th>\n",
        "      <td>0.000000</td>\n",
        "      <td>nan</td>\n",
        "      <td>0.000000</td>\n",
        "    </tr>\n",
        "  </tbody>\n",
        "</table>"
       ],
       "metadata": {},
       "output_type": "display_data",
       "text": [
        "<IPython.core.display.HTML at 0x5066790>"
       ]
      },
      {
       "html": [
        "<table border=\"1\" class=\"dataframe\">\n",
        "  <thead>\n",
        "    <tr style=\"text-align: right;\">\n",
        "      <th></th>\n",
        "      <th>equity</th>\n",
        "      <th>prices</th>\n",
        "      <th>ps</th>\n",
        "    </tr>\n",
        "  </thead>\n",
        "  <tbody>\n",
        "    <tr>\n",
        "      <th>2005-01-03</th>\n",
        "      <td> 0.000000</td>\n",
        "      <td>     nan</td>\n",
        "      <td>0.000000</td>\n",
        "    </tr>\n",
        "    <tr>\n",
        "      <th>2005-01-04</th>\n",
        "      <td> 0.010000</td>\n",
        "      <td>4.557138</td>\n",
        "      <td>1.000000</td>\n",
        "    </tr>\n",
        "    <tr>\n",
        "      <th>2005-01-05</th>\n",
        "      <td> 0.047143</td>\n",
        "      <td>4.604281</td>\n",
        "      <td>0.000000</td>\n",
        "    </tr>\n",
        "    <tr>\n",
        "      <th>2005-03-09</th>\n",
        "      <td>-0.255357</td>\n",
        "      <td>5.923923</td>\n",
        "      <td>1.000000</td>\n",
        "    </tr>\n",
        "  </tbody>\n",
        "</table>"
       ],
       "metadata": {},
       "output_type": "display_data",
       "text": [
        "<IPython.core.display.HTML at 0x4fbf950>"
       ]
      },
      {
       "html": [
        "<table border=\"1\" class=\"dataframe\">\n",
        "  <thead>\n",
        "    <tr style=\"text-align: right;\">\n",
        "      <th></th>\n",
        "      <th>equity</th>\n",
        "      <th>prices</th>\n",
        "      <th>ps</th>\n",
        "    </tr>\n",
        "  </thead>\n",
        "  <tbody>\n",
        "    <tr>\n",
        "      <th>2005-01-03</th>\n",
        "      <td>0.000000</td>\n",
        "      <td>nan</td>\n",
        "      <td>0.000000</td>\n",
        "    </tr>\n",
        "  </tbody>\n",
        "</table>"
       ],
       "metadata": {},
       "output_type": "display_data",
       "text": [
        "<IPython.core.display.HTML at 0x4fbfa10>"
       ]
      }
     ],
     "prompt_number": 124
    },
    {
     "cell_type": "code",
     "collapsed": false,
     "input": [
      "ohlc_x.iloc[-1].name == pa.Timestamp('2005-03-11')"
     ],
     "language": "python",
     "metadata": {},
     "outputs": [
      {
       "metadata": {},
       "output_type": "pyout",
       "prompt_number": 61,
       "text": [
        "True"
       ]
      }
     ],
     "prompt_number": 61
    },
    {
     "cell_type": "code",
     "collapsed": false,
     "input": [
      "_dbg = {}\n",
      "\n",
      "class IterBacktest(SigToPos):\n",
      "    \"\"\" ... \n",
      "    \n",
      "    This is similar to SigToPos, but also runs another SigToPos on each step\n",
      "    instead of using pre-computed whole sliced strategy signals output (and walks over\n",
      "    OHLC instead of those signals)\n",
      "    \"\"\"\n",
      "    sub_stp = None\n",
      "    def __init__(self, func, full_ohlc, full_spx, min_bars=200, max_steps=None):\n",
      "        super(IterBacktest, self).__init__()\n",
      "\n",
      "        ## Sort-of-override\n",
      "        self.mkvol = lambda *ar, **kwa: 1  ## Not sure anything else will work\n",
      "        self.init_equity = 0\n",
      "\n",
      "        self.stp_kwa = dict(\n",
      "            mkvol=self.mkvol,\n",
      "            init_equity=self.init_equity)\n",
      "        self.func = func\n",
      "        self.full_ohlc = full_ohlc\n",
      "        self.full_spx = full_spx\n",
      "        self.min_bars = min_bars\n",
      "        self.max_steps = max_steps\n",
      "        \n",
      "    def run(self, **kwa):\n",
      "        full_ohlc = self.full_ohlc\n",
      "        full_spx = self.full_spx\n",
      "        steps = 0\n",
      "\n",
      "        self.pos = 0\n",
      "        self.current_equity = self.init_equity\n",
      "\n",
      "        ## The result holders:\n",
      "        ps = pandas.Series(0., index=full_ohlc.index)\n",
      "        prices = pandas.Series(None, index=full_ohlc.index)\n",
      "        equity = pandas.Series(None, index=full_ohlc.index)\n",
      "        equity_base = pandas.Series(None, index=full_ohlc.index)\n",
      "        equity.iloc[0] = self.current_equity\n",
      "        equity_base.iloc[0] = self.current_equity\n",
      "        meta = {}\n",
      "        self.meta = meta\n",
      "        self.prices = []\n",
      "\n",
      "        ohlc_it = iter(full_ohlc.iterrows())\n",
      "        ## Empty DF to append bars from OHLC to\n",
      "        current_ohlc = pandas.DataFrame(full_ohlc.iloc[:0])\n",
      "\n",
      "        for i, (today_ts, today) in enumerate(ohlc_it):\n",
      "            current_ohlc = current_ohlc.append(today)\n",
      "\n",
      "            if self.min_bars is not None and i < self.min_bars:\n",
      "                continue\n",
      "            steps += 1\n",
      "            if self.max_steps is not None and steps > self.max_steps:\n",
      "                break\n",
      "\n",
      "            ohlc = current_ohlc\n",
      "            ## XXX: it could be preferable to add the SPX data into the OHLC\n",
      "            ## (and do it that way in the strategy func)\n",
      "            spx = full_spx.reindex(ohlc.index, method='ffill')\n",
      "\n",
      "            self.execute_meta(meta, today, **kwa)\n",
      "\n",
      "            loc = self.func(ohlc, spx)\n",
      "            loc_df = loc2df(loc, live=True)\n",
      "            sub_stp = SigToPos(**self.stp_kwa)\n",
      "            self.sub_stp = sub_stp\n",
      "            _dbg.update(loc_df=loc_df, ohlc=ohlc)\n",
      "            poss, meta = sub_stp.signals_to_positions(loc_df, ohlc)\n",
      "\n",
      "            if meta and meta.get('orders'):\n",
      "                print today_ts, meta\n",
      "                _dbg.setdefault('metas', []).append((i,  meta))\n",
      "#             if today.name == pa.Timestamp('2005-03-11'):\n",
      "#                 _dbg['mmt_x'] = dict(ohlc=ohlc, spx=spx, loc_df=loc_df,\n",
      "#                                      poss=poss, meta=meta, stp=sub_stp)\n",
      "\n",
      "            t = today_ts\n",
      "            ps[t] = self.pos\n",
      "            equity_base[t] = self.current_equity\n",
      "            equity[t] = self.current_equity + today['C'] * self.pos\n",
      "            prices[t] = self.prices[-1] if self.prices else None\n",
      "\n",
      "            ## Cleanup temporaries:\n",
      "            self.prices = []\n",
      "\n",
      "        res = pa.DataFrame(dict(ps=ps, prices=prices, equity=equity))\n",
      "        res = res.ix[ps != ps.shift()]\n",
      "        return res\n",
      "\n",
      "    __call__ = run\n",
      "\n",
      "ibt = IterBacktest(\n",
      "    CB,\n",
      "    ohlc_full_b.ix['2005-01':], spx_full_b,\n",
      "    min_bars=2, max_steps=20000)\n",
      "ibt_res = ibt()"
     ],
     "language": "python",
     "metadata": {},
     "outputs": [
      {
       "output_type": "stream",
       "stream": "stdout",
       "text": [
        "2005-03-08 00:00:00 {'orders': [{'limit_price': 5.923922890000001, 'direction': 1, 'type': 'limit'}]}\n",
        "2005-03-11 00:00:00 {'orders': [{'vol': -1, 'direction': -1}]}\n",
        "2006-01-24 00:00:00"
       ]
      },
      {
       "output_type": "stream",
       "stream": "stdout",
       "text": [
        " {'orders': [{'limit_price': 10.76283191, 'direction': 1, 'type': 'limit'}]}\n",
        "2006-01-30 00:00:00"
       ]
      },
      {
       "output_type": "stream",
       "stream": "stdout",
       "text": [
        " {'orders': [{'vol': -1, 'direction': -1}]}\n",
        "2006-02-07 00:00:00"
       ]
      },
      {
       "output_type": "stream",
       "stream": "stdout",
       "text": [
        " {'orders': [{'limit_price': 9.32584772, 'direction': 1, 'type': 'limit'}]}\n",
        "2006-02-09 00:00:00"
       ]
      },
      {
       "output_type": "stream",
       "stream": "stdout",
       "text": [
        " {'orders': [{'limit_price': 9.535090299999998, 'direction': 1, 'type': 'limit'}]}\n",
        "2006-02-10 00:00:00"
       ]
      },
      {
       "output_type": "stream",
       "stream": "stdout",
       "text": [
        " {'orders': [{'vol': -1, 'direction': -1}, {'direction': 1}]}\n",
        "2006-02-14 00:00:00"
       ]
      },
      {
       "output_type": "stream",
       "stream": "stdout",
       "text": [
        " {'orders': [{'vol': -1, 'direction': -1}]}\n",
        "2006-03-09 00:00:00"
       ]
      },
      {
       "output_type": "stream",
       "stream": "stdout",
       "text": [
        " {'orders': [{'limit_price': 9.09859127, 'direction': 1, 'type': 'limit'}]}\n",
        "2006-03-13 00:00:00"
       ]
      },
      {
       "output_type": "stream",
       "stream": "stdout",
       "text": [
        " {'orders': [{'vol': -1, 'direction': -1}]}\n",
        "2006-03-23 00:00:00"
       ]
      },
      {
       "output_type": "stream",
       "stream": "stdout",
       "text": [
        " {'orders': [{'limit_price': 8.54569127, 'direction': 1, 'type': 'limit'}]}\n",
        "2006-03-29 00:00:00"
       ]
      },
      {
       "output_type": "stream",
       "stream": "stdout",
       "text": [
        " {'orders': [{'vol': -1, 'direction': -1}]}\n",
        "2006-05-12 00:00:00"
       ]
      },
      {
       "output_type": "stream",
       "stream": "stdout",
       "text": [
        " {'orders': [{'limit_price': 9.44363288, 'direction': 1, 'type': 'limit'}]}\n",
        "2006-05-16 00:00:00"
       ]
      },
      {
       "output_type": "stream",
       "stream": "stdout",
       "text": [
        " {'orders': [{'limit_price': 9.393747719999999, 'direction': 1, 'type': 'limit'}]}\n",
        "2006-05-19 00:00:00"
       ]
      },
      {
       "output_type": "stream",
       "stream": "stdout",
       "text": [
        " {'orders': [{'vol': -1, 'direction': -1}]}\n",
        "2006-05-22 00:00:00"
       ]
      },
      {
       "output_type": "stream",
       "stream": "stdout",
       "text": [
        " {'orders': [{'limit_price': 8.939233849999999, 'direction': 1, 'type': 'limit'}]}\n",
        "2006-11-01 00:00:00"
       ]
      },
      {
       "output_type": "stream",
       "stream": "stdout",
       "text": [
        " {'orders': [{'limit_price': 11.23536062, 'direction': 1, 'type': 'limit'}]}\n",
        "2006-11-06 00:00:00"
       ]
      },
      {
       "output_type": "stream",
       "stream": "stdout",
       "text": [
        " {'orders': [{'vol': -1, 'direction': -1}]}\n",
        "2006-12-07 00:00:00"
       ]
      },
      {
       "output_type": "stream",
       "stream": "stdout",
       "text": [
        " {'orders': [{'limit_price': 12.447859649999998, 'direction': 1, 'type': 'limit'}]}\n",
        "2006-12-11 00:00:00"
       ]
      },
      {
       "output_type": "stream",
       "stream": "stdout",
       "text": [
        " {'orders': [{'vol': -1, 'direction': -1}]}\n",
        "2006-12-12 00:00:00"
       ]
      },
      {
       "output_type": "stream",
       "stream": "stdout",
       "text": [
        " {'orders': [{'limit_price': 12.29820126, 'direction': 1, 'type': 'limit'}]}\n",
        "2006-12-21 00:00:00"
       ]
      },
      {
       "output_type": "stream",
       "stream": "stdout",
       "text": [
        " {'orders': [{'limit_price': 11.7453032, 'direction': 1, 'type': 'limit'}]}\n",
        "2006-12-29 00:00:00"
       ]
      },
      {
       "output_type": "stream",
       "stream": "stdout",
       "text": [
        " {'orders': [{'vol': -1, 'direction': -1}]}\n",
        "2007-01-22 00:00:00"
       ]
      },
      {
       "output_type": "stream",
       "stream": "stdout",
       "text": [
        " {'orders': [{'limit_price': 12.26355868, 'direction': 1, 'type': 'limit'}]}\n",
        "2007-01-24 00:00:00"
       ]
      },
      {
       "output_type": "stream",
       "stream": "stdout",
       "text": [
        " {'orders': [{'vol': -1, 'direction': -1}]}\n",
        "2007-02-05 00:00:00"
       ]
      },
      {
       "output_type": "stream",
       "stream": "stdout",
       "text": [
        " {'orders': [{'limit_price': 11.743917069999998, 'direction': 1, 'type': 'limit'}]}\n",
        "2007-08-15 00:00:00"
       ]
      },
      {
       "output_type": "stream",
       "stream": "stdout",
       "text": [
        " {'orders': [{'limit_price': 17.18699738, 'direction': 1, 'type': 'limit'}]}\n",
        "2007-08-17 00:00:00"
       ]
      },
      {
       "output_type": "stream",
       "stream": "stdout",
       "text": [
        " {'orders': [{'vol': -1, 'direction': -1}]}\n",
        "2007-11-12 00:00:00"
       ]
      },
      {
       "output_type": "stream",
       "stream": "stdout",
       "text": [
        " {'orders': [{'limit_price': 22.91553414, 'direction': 1, 'type': 'limit'}]}\n",
        "2007-11-13 00:00:00"
       ]
      },
      {
       "output_type": "stream",
       "stream": "stdout",
       "text": [
        " {'orders': [{'vol': -1, 'direction': -1}]}\n",
        "2008-01-07 00:00:00"
       ]
      },
      {
       "output_type": "stream",
       "stream": "stdout",
       "text": [
        " {'orders': [{'limit_price': 24.94976091, 'direction': 1, 'type': 'limit'}]}\n",
        "2008-01-09 00:00:00"
       ]
      },
      {
       "output_type": "stream",
       "stream": "stdout",
       "text": [
        " {'orders': [{'vol': -1, 'direction': -1}]}\n",
        "2008-01-22 00:00:00"
       ]
      },
      {
       "output_type": "stream",
       "stream": "stdout",
       "text": [
        " {'orders': [{'limit_price': 22.35986285, 'direction': 1, 'type': 'limit'}]}\n",
        "2008-01-29 00:00:00"
       ]
      },
      {
       "output_type": "stream",
       "stream": "stdout",
       "text": [
        " {'orders': [{'vol': -1, 'direction': -1}]}\n",
        "2008-05-21 00:00:00"
       ]
      },
      {
       "output_type": "stream",
       "stream": "stdout",
       "text": [
        " {'orders': [{'limit_price': 25.760402519999996, 'direction': 1, 'type': 'limit'}]}\n",
        "2008-05-23 00:00:00"
       ]
      },
      {
       "output_type": "stream",
       "stream": "stdout",
       "text": [
        " {'orders': [{'vol': -1, 'direction': -1}]}\n",
        "2008-09-03 00:00:00"
       ]
      },
      {
       "output_type": "stream",
       "stream": "stdout",
       "text": [
        " {'orders': [{'limit_price': 23.02916285, 'direction': 1, 'type': 'limit'}]}\n",
        "2008-09-11 00:00:00"
       ]
      },
      {
       "output_type": "stream",
       "stream": "stdout",
       "text": [
        " {'orders': [{'vol': -1, 'direction': -1}]}\n",
        "2009-05-12 00:00:00"
       ]
      },
      {
       "output_type": "stream",
       "stream": "stdout",
       "text": [
        " {'orders': [{'limit_price': 17.954681569999998, 'direction': 1, 'type': 'limit'}]}\n",
        "2009-05-14 00:00:00"
       ]
      },
      {
       "output_type": "stream",
       "stream": "stdout",
       "text": [
        " {'orders': [{'vol': -1, 'direction': -1}]}\n",
        "2009-10-30 00:00:00"
       ]
      },
      {
       "output_type": "stream",
       "stream": "stdout",
       "text": [
        " {'orders': [{'limit_price': 27.208473809999997, 'direction': 1, 'type': 'limit'}]}\n",
        "2009-11-04 00:00:00"
       ]
      },
      {
       "output_type": "stream",
       "stream": "stdout",
       "text": [
        " {'orders': [{'vol': -1, 'direction': -1}]}\n",
        "2009-12-04 00:00:00"
       ]
      },
      {
       "output_type": "stream",
       "stream": "stdout",
       "text": [
        " {'orders': [{'limit_price': 27.226485739999998, 'direction': 1, 'type': 'limit'}]}\n",
        "2009-12-09 00:00:00"
       ]
      },
      {
       "output_type": "stream",
       "stream": "stdout",
       "text": [
        " {'orders': [{'vol': -1, 'direction': -1}]}\n",
        "2010-05-07 00:00:00"
       ]
      },
      {
       "output_type": "stream",
       "stream": "stdout",
       "text": [
        " {'orders': [{'limit_price': 34.123178949999996, 'direction': 1, 'type': 'limit'}]}\n",
        "2010-05-19 00:00:00"
       ]
      },
      {
       "output_type": "stream",
       "stream": "stdout",
       "text": [
        " {'orders': [{'limit_price': 34.96985024, 'direction': 1, 'type': 'limit'}]}\n",
        "2010-05-24 00:00:00"
       ]
      },
      {
       "output_type": "stream",
       "stream": "stdout",
       "text": [
        " {'orders': [{'vol': -1, 'direction': -1}]}\n",
        "2010-06-30 00:00:00"
       ]
      },
      {
       "output_type": "stream",
       "stream": "stdout",
       "text": [
        " {'orders': [{'limit_price': 35.497805719999995, 'direction': 1, 'type': 'limit'}]}\n",
        "2010-07-06 00:00:00"
       ]
      },
      {
       "output_type": "stream",
       "stream": "stdout",
       "text": [
        " {'orders': [{'vol': -1, 'direction': -1}]}\n",
        "2010-08-13 00:00:00"
       ]
      },
      {
       "output_type": "stream",
       "stream": "stdout",
       "text": [
        " {'orders': [{'limit_price': 34.890864109999995, 'direction': 1, 'type': 'limit'}]}\n",
        "2010-08-24 00:00:00"
       ]
      },
      {
       "output_type": "stream",
       "stream": "stdout",
       "text": [
        " {'orders': [{'limit_price': 34.0608225, 'direction': 1, 'type': 'limit'}]}\n",
        "2010-08-25 00:00:00"
       ]
      },
      {
       "output_type": "stream",
       "stream": "stdout",
       "text": [
        " {'orders': [{'vol': -1, 'direction': -1}]}\n",
        "2010-08-26 00:00:00"
       ]
      },
      {
       "output_type": "stream",
       "stream": "stdout",
       "text": [
        " {'orders': [{'limit_price': 33.657579919999996, 'direction': 1, 'type': 'limit'}]}\n",
        "2010-08-27 00:00:00"
       ]
      },
      {
       "output_type": "stream",
       "stream": "stdout",
       "text": [
        " {'orders': [{'vol': -1, 'direction': -1}]}\n",
        "2010-11-16 00:00:00"
       ]
      },
      {
       "output_type": "stream",
       "stream": "stdout",
       "text": [
        " {'orders': [{'limit_price': 42.54692764, 'direction': 1, 'type': 'limit'}]}\n",
        "2010-11-18 00:00:00"
       ]
      },
      {
       "output_type": "stream",
       "stream": "stdout",
       "text": [
        " {'orders': [{'vol': -1, 'direction': -1}]}\n",
        "2011-01-21 00:00:00"
       ]
      },
      {
       "output_type": "stream",
       "stream": "stdout",
       "text": [
        " {'orders': [{'limit_price': 46.09989505, 'direction': 1, 'type': 'limit'}]}\n",
        "2011-04-11 00:00:00"
       ]
      },
      {
       "output_type": "stream",
       "stream": "stdout",
       "text": [
        " {'orders': [{'limit_price': 46.42969505, 'direction': 1, 'type': 'limit'}]}\n",
        "2011-05-16 00:00:00"
       ]
      },
      {
       "output_type": "stream",
       "stream": "stdout",
       "text": [
        " {'orders': [{'limit_price': 47.18352279, 'direction': 1, 'type': 'limit'}]}\n",
        "2011-06-10 00:00:00"
       ]
      },
      {
       "output_type": "stream",
       "stream": "stdout",
       "text": [
        " {'orders': [{'limit_price': 45.934996989999995, 'direction': 1, 'type': 'limit'}]}\n",
        "2011-06-13 00:00:00"
       ]
      },
      {
       "output_type": "stream",
       "stream": "stdout",
       "text": [
        " {'orders': [{'limit_price': 45.160382150000004, 'direction': 1, 'type': 'limit'}]}\n",
        "2011-10-04 00:00:00"
       ]
      },
      {
       "output_type": "stream",
       "stream": "stdout",
       "text": [
        " {'orders': [{'limit_price': 51.90880601, 'direction': 1, 'type': 'limit'}]}\n",
        "2011-10-05 00:00:00"
       ]
      },
      {
       "output_type": "stream",
       "stream": "stdout",
       "text": [
        " {'orders': [{'vol': -1, 'direction': -1}, {'direction': 1}]}\n",
        "2011-10-06 00:00:00"
       ]
      },
      {
       "output_type": "stream",
       "stream": "stdout",
       "text": [
        " {'orders': [{'vol': -1, 'direction': -1}]}\n",
        "2012-04-13 00:00:00"
       ]
      },
      {
       "output_type": "stream",
       "stream": "stdout",
       "text": [
        " {'orders': [{'limit_price': 86.29804432, 'direction': 1, 'type': 'limit'}]}\n",
        "2012-04-17 00:00:00"
       ]
      },
      {
       "output_type": "stream",
       "stream": "stdout",
       "text": [
        " {'orders': [{'vol': -1, 'direction': -1}]}\n",
        "2012-04-24 00:00:00"
       ]
      },
      {
       "output_type": "stream",
       "stream": "stdout",
       "text": [
        " {'orders': [{'limit_price': 79.22120852999998, 'direction': 1, 'type': 'limit'}]}\n",
        "2012-05-16 00:00:00"
       ]
      },
      {
       "output_type": "stream",
       "stream": "stdout",
       "text": [
        " {'orders': [{'limit_price': 76.65348176, 'direction': 1, 'type': 'limit'}]}\n",
        "2012-05-21 00:00:00"
       ]
      },
      {
       "output_type": "stream",
       "stream": "stdout",
       "text": [
        " {'orders': [{'vol': -1, 'direction': -1}]}\n",
        "2012-07-26 00:00:00"
       ]
      },
      {
       "output_type": "stream",
       "stream": "stdout",
       "text": [
        " {'orders': [{'limit_price': 79.67433433000001, 'direction': 1, 'type': 'limit'}]}\n",
        "2012-09-26 00:00:00"
       ]
      },
      {
       "output_type": "stream",
       "stream": "stdout",
       "text": [
        " {'orders': [{'limit_price': 93.33330494, 'direction': 1, 'type': 'limit'}]}\n",
        "2012-10-11 00:00:00"
       ]
      },
      {
       "output_type": "stream",
       "stream": "stdout",
       "text": [
        " {'orders': [{'limit_price': 88.81172463, 'direction': 1, 'type': 'limit'}]}\n",
        "2012-10-23 00:00:00"
       ]
      },
      {
       "output_type": "stream",
       "stream": "stdout",
       "text": [
        " {'orders': [{'limit_price': 87.85835431, 'direction': 1, 'type': 'limit'}]}\n",
        "2012-11-06 00:00:00"
       ]
      },
      {
       "output_type": "stream",
       "stream": "stdout",
       "text": [
        " {'orders': [{'vol': -1, 'direction': -1}]}\n",
        "2013-12-19 00:00:00"
       ]
      },
      {
       "output_type": "stream",
       "stream": "stdout",
       "text": [
        " {'orders': [{'limit_price': 76.32091047, 'direction': 1, 'type': 'limit'}]}\n",
        "2014-01-06 00:00:00"
       ]
      },
      {
       "output_type": "stream",
       "stream": "stdout",
       "text": [
        " {'orders': [{'limit_price': 74.96430047999999, 'direction': 1, 'type': 'limit'}]}\n",
        "2014-01-07 00:00:00"
       ]
      },
      {
       "output_type": "stream",
       "stream": "stdout",
       "text": [
        " {'orders': [{'limit_price': 75.37308175999999, 'direction': 1, 'type': 'limit'}]}\n",
        "2014-01-09 00:00:00"
       ]
      },
      {
       "output_type": "stream",
       "stream": "stdout",
       "text": [
        " {'orders': [{'limit_price': 75.30795014, 'direction': 1, 'type': 'limit'}]}\n",
        "2014-01-10 00:00:00"
       ]
      },
      {
       "output_type": "stream",
       "stream": "stdout",
       "text": [
        " {'orders': [{'limit_price': 74.34626886000001, 'direction': 1, 'type': 'limit'}]}\n",
        "2014-01-30 00:00:00"
       ]
      },
      {
       "output_type": "stream",
       "stream": "stdout",
       "text": [
        " {'orders': [{'limit_price': 69.38957565, 'direction': 1, 'type': 'limit'}]}\n",
        "2014-04-08 00:00:00"
       ]
      },
      {
       "output_type": "stream",
       "stream": "stdout",
       "text": [
        " {'orders': [{'limit_price': 72.53791629, 'direction': 1, 'type': 'limit'}]}\n",
        "2014-04-15 00:00:00"
       ]
      },
      {
       "output_type": "stream",
       "stream": "stdout",
       "text": [
        " {'orders': [{'limit_price': 72.28987274, 'direction': 1, 'type': 'limit'}]}\n"
       ]
      }
     ],
     "prompt_number": 130
    },
    {
     "cell_type": "code",
     "collapsed": false,
     "input": [
      "# ohlc_xx = _dbg['mmt_x']['ohlc']\n",
      "# spx_xx = _dbg['mmt_x']['spx']\n",
      "# poss_xx = _dbg['mmt_x']['poss']\n",
      "# stp_xx = _dbg['mmt_x']['stp']\n",
      "# # H(_dbg['mmt_x']['ohlc'].tail(4))\n",
      "# # H(ohlc_x.tail(4))\n",
      "# H(poss_xx)"
     ],
     "language": "python",
     "metadata": {},
     "outputs": [],
     "prompt_number": 129
    },
    {
     "cell_type": "code",
     "collapsed": false,
     "input": [
      "H(ibt_res)"
     ],
     "language": "python",
     "metadata": {},
     "outputs": [
      {
       "html": [
        "<table border=\"1\" class=\"dataframe\">\n",
        "  <thead>\n",
        "    <tr style=\"text-align: right;\">\n",
        "      <th></th>\n",
        "      <th>equity</th>\n",
        "      <th>prices</th>\n",
        "      <th>ps</th>\n",
        "    </tr>\n",
        "  </thead>\n",
        "  <tbody>\n",
        "    <tr>\n",
        "      <th>2005-01-03</th>\n",
        "      <td> 0.000000</td>\n",
        "      <td>      nan</td>\n",
        "      <td>0.000000</td>\n",
        "    </tr>\n",
        "    <tr>\n",
        "      <th>2005-03-09</th>\n",
        "      <td>-0.302500</td>\n",
        "      <td> 5.923923</td>\n",
        "      <td>1.000000</td>\n",
        "    </tr>\n",
        "    <tr>\n",
        "      <th>2005-03-14</th>\n",
        "      <td>-0.115357</td>\n",
        "      <td> 5.808566</td>\n",
        "      <td>0.000000</td>\n",
        "    </tr>\n",
        "    <tr>\n",
        "      <th>2006-01-25</th>\n",
        "      <td>-0.278200</td>\n",
        "      <td>10.762832</td>\n",
        "      <td>1.000000</td>\n",
        "    </tr>\n",
        "    <tr>\n",
        "      <th>2006-01-31</th>\n",
        "      <td>-0.092485</td>\n",
        "      <td>10.785704</td>\n",
        "      <td>0.000000</td>\n",
        "    </tr>\n",
        "    <tr>\n",
        "      <th>2006-02-10</th>\n",
        "      <td>-0.011870</td>\n",
        "      <td> 9.535090</td>\n",
        "      <td>1.000000</td>\n",
        "    </tr>\n",
        "    <tr>\n",
        "      <th>2006-02-15</th>\n",
        "      <td>-0.033299</td>\n",
        "      <td> 9.594276</td>\n",
        "      <td>0.000000</td>\n",
        "    </tr>\n",
        "    <tr>\n",
        "      <th>2006-03-10</th>\n",
        "      <td>-0.104756</td>\n",
        "      <td> 9.098591</td>\n",
        "      <td>1.000000</td>\n",
        "    </tr>\n",
        "    <tr>\n",
        "      <th>2006-03-14</th>\n",
        "      <td> 0.263815</td>\n",
        "      <td> 9.395705</td>\n",
        "      <td>0.000000</td>\n",
        "    </tr>\n",
        "    <tr>\n",
        "      <th>2006-03-24</th>\n",
        "      <td> 0.283828</td>\n",
        "      <td> 8.545691</td>\n",
        "      <td>1.000000</td>\n",
        "    </tr>\n",
        "    <tr>\n",
        "      <th>2006-03-30</th>\n",
        "      <td> 0.692400</td>\n",
        "      <td> 8.974277</td>\n",
        "      <td>0.000000</td>\n",
        "    </tr>\n",
        "    <tr>\n",
        "      <th>2006-05-17</th>\n",
        "      <td> 0.621500</td>\n",
        "      <td> 9.393748</td>\n",
        "      <td>1.000000</td>\n",
        "    </tr>\n",
        "    <tr>\n",
        "      <th>2006-05-22</th>\n",
        "      <td> 0.422929</td>\n",
        "      <td> 9.124276</td>\n",
        "      <td>0.000000</td>\n",
        "    </tr>\n",
        "    <tr>\n",
        "      <th>2006-11-02</th>\n",
        "      <td> 0.470413</td>\n",
        "      <td>11.235361</td>\n",
        "      <td>1.000000</td>\n",
        "    </tr>\n",
        "    <tr>\n",
        "      <th>2006-11-07</th>\n",
        "      <td> 0.680414</td>\n",
        "      <td>11.492846</td>\n",
        "      <td>0.000000</td>\n",
        "    </tr>\n",
        "    <tr>\n",
        "      <th>2006-12-08</th>\n",
        "      <td> 0.841113</td>\n",
        "      <td>12.447860</td>\n",
        "      <td>1.000000</td>\n",
        "    </tr>\n",
        "    <tr>\n",
        "      <th>2006-12-12</th>\n",
        "      <td> 0.891113</td>\n",
        "      <td>12.658559</td>\n",
        "      <td>0.000000</td>\n",
        "    </tr>\n",
        "    <tr>\n",
        "      <th>2006-12-22</th>\n",
        "      <td> 0.888656</td>\n",
        "      <td>11.745303</td>\n",
        "      <td>1.000000</td>\n",
        "    </tr>\n",
        "    <tr>\n",
        "      <th>2007-01-03</th>\n",
        "      <td> 1.472940</td>\n",
        "      <td>12.327130</td>\n",
        "      <td>0.000000</td>\n",
        "    </tr>\n",
        "    <tr>\n",
        "      <th>2007-01-23</th>\n",
        "      <td> 1.452226</td>\n",
        "      <td>12.263559</td>\n",
        "      <td>1.000000</td>\n",
        "    </tr>\n",
        "    <tr>\n",
        "      <th>2007-01-25</th>\n",
        "      <td> 1.653654</td>\n",
        "      <td>12.444273</td>\n",
        "      <td>0.000000</td>\n",
        "    </tr>\n",
        "    <tr>\n",
        "      <th>2007-08-16</th>\n",
        "      <td> 1.188070</td>\n",
        "      <td>17.186997</td>\n",
        "      <td>1.000000</td>\n",
        "    </tr>\n",
        "    <tr>\n",
        "      <th>2007-08-20</th>\n",
        "      <td> 2.175210</td>\n",
        "      <td>17.708553</td>\n",
        "      <td>0.000000</td>\n",
        "    </tr>\n",
        "    <tr>\n",
        "      <th>2007-11-13</th>\n",
        "      <td> 3.539652</td>\n",
        "      <td>22.915534</td>\n",
        "      <td>1.000000</td>\n",
        "    </tr>\n",
        "    <tr>\n",
        "      <th>2007-11-14</th>\n",
        "      <td> 4.568222</td>\n",
        "      <td>25.308546</td>\n",
        "      <td>0.000000</td>\n",
        "    </tr>\n",
        "    <tr>\n",
        "      <th>2008-01-08</th>\n",
        "      <td> 4.082723</td>\n",
        "      <td>24.949761</td>\n",
        "      <td>1.000000</td>\n",
        "    </tr>\n",
        "    <tr>\n",
        "      <th>2008-01-10</th>\n",
        "      <td> 4.987007</td>\n",
        "      <td>25.368546</td>\n",
        "      <td>0.000000</td>\n",
        "    </tr>\n",
        "    <tr>\n",
        "      <th>2008-01-23</th>\n",
        "      <td> 2.494267</td>\n",
        "      <td>22.359863</td>\n",
        "      <td>1.000000</td>\n",
        "    </tr>\n",
        "    <tr>\n",
        "      <th>2008-01-30</th>\n",
        "      <td> 1.394268</td>\n",
        "      <td>18.767124</td>\n",
        "      <td>0.000000</td>\n",
        "    </tr>\n",
        "    <tr>\n",
        "      <th>2008-05-22</th>\n",
        "      <td> 0.926697</td>\n",
        "      <td>25.760403</td>\n",
        "      <td>1.000000</td>\n",
        "    </tr>\n",
        "    <tr>\n",
        "      <th>2008-05-27</th>\n",
        "      <td> 1.740983</td>\n",
        "      <td>26.107117</td>\n",
        "      <td>0.000000</td>\n",
        "    </tr>\n",
        "    <tr>\n",
        "      <th>2008-09-04</th>\n",
        "      <td> 1.743226</td>\n",
        "      <td>23.029163</td>\n",
        "      <td>1.000000</td>\n",
        "    </tr>\n",
        "    <tr>\n",
        "      <th>2008-09-12</th>\n",
        "      <td> 0.270370</td>\n",
        "      <td>21.558550</td>\n",
        "      <td>0.000000</td>\n",
        "    </tr>\n",
        "    <tr>\n",
        "      <th>2009-05-13</th>\n",
        "      <td>-0.614329</td>\n",
        "      <td>17.954682</td>\n",
        "      <td>1.000000</td>\n",
        "    </tr>\n",
        "    <tr>\n",
        "      <th>2009-05-15</th>\n",
        "      <td>-0.210044</td>\n",
        "      <td>17.474268</td>\n",
        "      <td>0.000000</td>\n",
        "    </tr>\n",
        "    <tr>\n",
        "      <th>2009-11-02</th>\n",
        "      <td>-0.374260</td>\n",
        "      <td>27.208474</td>\n",
        "      <td>1.000000</td>\n",
        "    </tr>\n",
        "    <tr>\n",
        "      <th>2009-11-05</th>\n",
        "      <td> 0.067169</td>\n",
        "      <td>27.485687</td>\n",
        "      <td>0.000000</td>\n",
        "    </tr>\n",
        "    <tr>\n",
        "      <th>2009-12-07</th>\n",
        "      <td>-0.166486</td>\n",
        "      <td>27.226486</td>\n",
        "      <td>1.000000</td>\n",
        "    </tr>\n",
        "    <tr>\n",
        "      <th>2009-12-10</th>\n",
        "      <td> 1.340655</td>\n",
        "      <td>28.499971</td>\n",
        "      <td>0.000000</td>\n",
        "    </tr>\n",
        "    <tr>\n",
        "      <th>2010-05-20</th>\n",
        "      <td> 0.336483</td>\n",
        "      <td>34.969850</td>\n",
        "      <td>1.000000</td>\n",
        "    </tr>\n",
        "    <tr>\n",
        "      <th>2010-05-25</th>\n",
        "      <td> 0.563626</td>\n",
        "      <td>34.192822</td>\n",
        "      <td>0.000000</td>\n",
        "    </tr>\n",
        "    <tr>\n",
        "      <th>2010-07-01</th>\n",
        "      <td> 0.562929</td>\n",
        "      <td>35.497806</td>\n",
        "      <td>1.000000</td>\n",
        "    </tr>\n",
        "    <tr>\n",
        "      <th>2010-07-07</th>\n",
        "      <td> 0.850069</td>\n",
        "      <td>35.784248</td>\n",
        "      <td>0.000000</td>\n",
        "    </tr>\n",
        "    <tr>\n",
        "      <th>2010-08-25</th>\n",
        "      <td> 1.487782</td>\n",
        "      <td>34.060823</td>\n",
        "      <td>1.000000</td>\n",
        "    </tr>\n",
        "    <tr>\n",
        "      <th>2010-08-26</th>\n",
        "      <td> 1.853497</td>\n",
        "      <td>35.064251</td>\n",
        "      <td>0.000000</td>\n",
        "    </tr>\n",
        "    <tr>\n",
        "      <th>2010-08-27</th>\n",
        "      <td> 2.713026</td>\n",
        "      <td>33.657580</td>\n",
        "      <td>1.000000</td>\n",
        "    </tr>\n",
        "    <tr>\n",
        "      <th>2010-08-30</th>\n",
        "      <td> 2.590170</td>\n",
        "      <td>34.394253</td>\n",
        "      <td>0.000000</td>\n",
        "    </tr>\n",
        "    <tr>\n",
        "      <th>2010-11-17</th>\n",
        "      <td> 2.971771</td>\n",
        "      <td>42.546928</td>\n",
        "      <td>1.000000</td>\n",
        "    </tr>\n",
        "    <tr>\n",
        "      <th>2010-11-19</th>\n",
        "      <td> 4.038913</td>\n",
        "      <td>43.995670</td>\n",
        "      <td>0.000000</td>\n",
        "    </tr>\n",
        "    <tr>\n",
        "      <th>2011-10-05</th>\n",
        "      <td> 6.165767</td>\n",
        "      <td>51.908806</td>\n",
        "      <td>1.000000</td>\n",
        "    </tr>\n",
        "    <tr>\n",
        "      <th>2011-10-07</th>\n",
        "      <td> 5.812911</td>\n",
        "      <td>53.682804</td>\n",
        "      <td>0.000000</td>\n",
        "    </tr>\n",
        "    <tr>\n",
        "      <th>2012-04-16</th>\n",
        "      <td> 2.390499</td>\n",
        "      <td>86.298044</td>\n",
        "      <td>1.000000</td>\n",
        "    </tr>\n",
        "    <tr>\n",
        "      <th>2012-04-18</th>\n",
        "      <td> 7.189060</td>\n",
        "      <td>87.674194</td>\n",
        "      <td>0.000000</td>\n",
        "    </tr>\n",
        "    <tr>\n",
        "      <th>2012-05-17</th>\n",
        "      <td> 6.266933</td>\n",
        "      <td>76.653482</td>\n",
        "      <td>1.000000</td>\n",
        "    </tr>\n",
        "    <tr>\n",
        "      <th>2012-05-22</th>\n",
        "      <td>11.899783</td>\n",
        "      <td>81.364204</td>\n",
        "      <td>0.000000</td>\n",
        "    </tr>\n",
        "    <tr>\n",
        "      <th>2012-10-24</th>\n",
        "      <td>12.159912</td>\n",
        "      <td>87.858354</td>\n",
        "      <td>1.000000</td>\n",
        "    </tr>\n",
        "    <tr>\n",
        "      <th>2012-11-07</th>\n",
        "      <td> 6.018486</td>\n",
        "      <td>81.977058</td>\n",
        "      <td>0.000000</td>\n",
        "    </tr>\n",
        "  </tbody>\n",
        "</table>"
       ],
       "metadata": {},
       "output_type": "display_data",
       "text": [
        "<IPython.core.display.HTML at 0x496edd0>"
       ]
      }
     ],
     "prompt_number": 132
    },
    {
     "cell_type": "code",
     "collapsed": false,
     "input": [
      "_base_df.append?"
     ],
     "language": "python",
     "metadata": {},
     "outputs": [],
     "prompt_number": 22
    },
    {
     "cell_type": "code",
     "collapsed": false,
     "input": [
      "_dbg"
     ],
     "language": "python",
     "metadata": {},
     "outputs": []
    },
    {
     "cell_type": "code",
     "collapsed": false,
     "input": [
      "# reload(bth)\n",
      "\n",
      "# bct = pbt.Backtest(dict(loc, ohlc=ohlc), name='CB')\n",
      "# # len(bct.trades), bct.summary()\n",
      "\n",
      "# tx = bct.trades.copy()\n",
      "# # tx.index = tx.index.shift(-1, datetime.timedelta(1))\n",
      "# tx = tx.reindex(ohlc.index).shift(-1).dropna()\n",
      "\n",
      "# ami_trades_path = '/home/data/tmp/Cb_trades_AAPL.csv'\n",
      "# tc, eqt, ami_trades = bth.compare_trds(tx, ami_trades_path)\n",
      "# # H(tc)\n",
      "# ami_poss = pandas.read_csv(\n",
      "#         ami_trades_path, index_col=2,\n",
      "#         parse_dates=[2, 4],  # ('Date', 'Ex. date')                                                                                                    \n",
      "#     )\n",
      "# ami_trades_g = bth.ami2trd(ami_poss)\n",
      "# ami_trades_g = list(ami_trades_g)\n",
      "# ami_trades = pandas.DataFrame(list(ami_trades_g), columns=('ts', 'price', 'vol'))\n",
      "# ami_trades = ami_trades.set_index('ts')\n",
      "# ami_trades['pos'] = ami_trades['vol'].cumsum()\n",
      "# _filter1 = lambda df: pandas.DataFrame(df, columns=('pos', 'vol', 'price'))\n",
      "# # _filter1(ami_trades)\n",
      "# # ami_poss\n",
      "# H(tc)"
     ],
     "language": "python",
     "metadata": {},
     "outputs": []
    },
    {
     "cell_type": "code",
     "collapsed": false,
     "input": [
      "# ami_vars_path = \"/home/mad/madlabs/lab/cbcheck/Cb_vars_AAPL.csv\"\n",
      "# _export_vars_base = (\n",
      "#     '''Ticker,Date/Time,O,H,L,C,Upper_Band,Lower_Band,BB,VolSP,volumeSP,closeSP,Vol_close,liqIndex,minPrice,maxPrice,priceLiqScan,hardLong,hardTrend,hardDrop,hardVol,setupScan,BuyHR,Buy_b,Trigger,PriceTrigger,BuyPrice,stp_MA,Sell_b,'''\n",
      "# ).split(',')\n",
      "# _export_vars = [v for v in _export_vars_base if v in loc.keys()]\n",
      "# # print _export_vars\n",
      "\n",
      "# varmap = {k: k for k in _export_vars}\n",
      "\n",
      "# import pyquant.backtest.amicomp as amicomp\n",
      "# #reload(amicomp)\n",
      "# ami_var_compare = amicomp.compare\n",
      "# comp = ami_var_compare(\n",
      "#     loc,\n",
      "#     varmap=varmap,\n",
      "#     ami_vars_path=ami_vars_path,\n",
      "#     precision_p=0.05,\n",
      "#     )"
     ],
     "language": "python",
     "metadata": {},
     "outputs": []
    },
    {
     "cell_type": "code",
     "collapsed": false,
     "input": [
      "#H(comp)\n",
      "#H(amicomp.filter_comp_1(comp).tail(500))\n",
      "#H(amicomp.filter_comp_2(comp).tail(100))\n",
      "#H(comp.ix['2011-03-18'])\n",
      "#    setupScan = hardLong & hardTrend & hardDrop & hardVol\n",
      "#    hardDrop = (BarsSince(b > 0.5) > 3) & (b <= 0.1)\n"
     ],
     "language": "python",
     "metadata": {},
     "outputs": []
    }
   ],
   "metadata": {}
  }
 ]
}