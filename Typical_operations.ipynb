{
  "nbformat": 4,
  "nbformat_minor": 0,
  "metadata": {
    "colab": {
      "provenance": [],
      "include_colab_link": true
    }
  },
  "cells": [
    {
      "cell_type": "markdown",
      "metadata": {
        "id": "view-in-github",
        "colab_type": "text"
      },
      "source": [
        "<a href=\"https://colab.research.google.com/github/BiggieGv0/jnotebooks/blob/master/Typical_operations.ipynb\" target=\"_parent\"><img src=\"https://colab.research.google.com/assets/colab-badge.svg\" alt=\"Open In Colab\"/></a>"
      ]
    },
    {
      "cell_type": "code",
      "source": [
        "import pandas as pd\n",
        "from pandas.io.data import DataReader\n",
        "import math\n",
        "from marketdata import ccomb"
      ],
      "outputs": [
        {
          "output_type": "stream",
          "text": [
            "/home/mad/env/local/lib/python2.7/site-packages/pytz/__init__.py:29: UserWarning: Module numpy was already imported from /usr/lib/pymodules/python2.7/numpy/__init__.pyc, but /home/mad/env/lib/python2.7/site-packages is being added to sys.path\n",
            "  from pkg_resources import resource_stream\n"
          ],
          "name": "stderr"
        }
      ],
      "metadata": {
        "id": "stSNWIJGWMVC",
        "outputId": "7078642e-1215-4a12-b0dc-9c5b0d734fb3"
      },
      "execution_count": null
    },
    {
      "cell_type": "code",
      "source": [
        "#Yahoo data loading\n",
        "spy = DataReader('SPY', data_source='yahoo', start='2000')\n",
        "\n",
        "#Powerbase data loading\n",
        "a = ccomb.get_cc_bars('RTS', 'bar_timeframe_900');\n",
        "a = ([v.start, v.o, v.h, v.l, v.c] for v in a); a = list(a)\n",
        "df = pd.DataFrame(a, columns =['TimeStamp', 'Open' , 'High', 'Low', 'Close'])\n",
        "#df = df.set_index(['TimeStamp'])\n",
        "\n",
        "#Quandl data loading\n",
        "#import Quandl\n",
        "#data = Quandl.get(\"GOOG/NYSE_IBM\", authtoken='qwePHAwSwRqpsEXaUpW7', returns=\"pandas\", collapse=\"weekly\")\n",
        "\n",
        "#Load PremiumData\n",
        "#import marketdata.ext\n",
        "#price_b = marketdata.ext.load_metotron(symbol)\n",
        "\n",
        "#Load minute PremiumData\n",
        "#marketdata.ext.load_mtiqf\n",
        "#tmp/mtdata.ipynb: \"data = ext.load_mtiqf('USDRUB')\""
      ],
      "outputs": [],
      "metadata": {
        "id": "62MMUWn3WMVD"
      },
      "execution_count": null
    },
    {
      "cell_type": "code",
      "source": [
        "#New vector and arifmetics operations\n",
        "spy['Typical'] = (spy.Open + spy.High + spy.Close) / 3"
      ],
      "outputs": [],
      "metadata": {
        "id": "OcCB6QkDWMVD"
      },
      "execution_count": null
    },
    {
      "cell_type": "code",
      "source": [
        "#Deleting columns\n",
        "df = df.drop(['ColName1','ColName2'], axis =1)"
      ],
      "outputs": [],
      "metadata": {
        "id": "JXH4Vaa4WMVD"
      },
      "execution_count": null
    },
    {
      "cell_type": "code",
      "source": [
        "#Sorting\n",
        "sort = spy.sort(columns='Close')"
      ],
      "outputs": [],
      "metadata": {
        "id": "WFPa6wkzWMVD"
      },
      "execution_count": null
    },
    {
      "cell_type": "code",
      "source": [
        "#Filtering\n",
        "filt = spy.ix[spy.Volume > spy.Volume.quantile(0.7)].tail()"
      ],
      "outputs": [],
      "metadata": {
        "id": "WeQ2w3J1WMVD"
      },
      "execution_count": null
    },
    {
      "cell_type": "code",
      "source": [
        "#Multy filter\n",
        "filt2 = spy.ix[(spy.Volume > spy.Volume.quantile(0.7)) & (spy.Volume < spy.Volume.quantile(0.9))]"
      ],
      "outputs": [],
      "metadata": {
        "id": "majLMNTUWMVD"
      },
      "execution_count": null
    },
    {
      "cell_type": "code",
      "source": [
        "#Shifting\n",
        "c = spy.Close\n",
        "first_diff = c - c.shift(1)\n",
        "firdt_diff_log = (c / c.shift(1)).apply(math.log)"
      ],
      "outputs": [],
      "metadata": {
        "id": "4UvxYjzJWMVE"
      },
      "execution_count": null
    },
    {
      "cell_type": "code",
      "source": [
        "#Slicing\n",
        "a = c[3000:]"
      ],
      "outputs": [],
      "metadata": {
        "id": "AzEgBXm3WMVE"
      },
      "execution_count": null
    },
    {
      "cell_type": "code",
      "source": [
        "#concat 2 pandas series\n",
        "pd.concat([s1, s2], axis=1)"
      ],
      "outputs": [],
      "metadata": {
        "id": "DeHq5sAEWMVE"
      },
      "execution_count": null
    },
    {
      "cell_type": "code",
      "source": [
        "#Resampling from days to monthses\n",
        "#print c.resample('M').tail()  ## mean\n",
        "#print c.resample('M', how='last').tail()  ## mean\n",
        "#print c.resample('M', how='ohlc').tail()  ## mean"
      ],
      "outputs": [],
      "metadata": {
        "id": "U8NXVvMgWMVE"
      },
      "execution_count": null
    },
    {
      "cell_type": "code",
      "source": [
        "#Samples of dayfiltering\n",
        "#day = spy.index.day\n",
        "#print spy.index.dayofweek\n",
        "#print spy.index.month"
      ],
      "outputs": [],
      "metadata": {
        "id": "c-KIioP9WMVE"
      },
      "execution_count": null
    },
    {
      "cell_type": "code",
      "source": [
        "#Day of week filter\n",
        "dow = spy.ix[spy.index.dayofweek == 4].tail()"
      ],
      "outputs": [],
      "metadata": {
        "id": "DoaAvUlCWMVE"
      },
      "execution_count": null
    },
    {
      "cell_type": "code",
      "source": [
        "#View in HTML table\n",
        "from IPython.display import HTML\n",
        "H = lambda df: HTML(price_b.head(100).to_html())\n",
        "tt = H(price_b)"
      ],
      "outputs": [
        {
          "output_type": "execute_result",
          "data": {},
          "metadata": {},
          "execution_count": 6
        }
      ],
      "metadata": {
        "id": "CLjWS2DVWMVE",
        "outputId": "01e0968a-559f-4574-8950-62d28383f7dc"
      },
      "execution_count": null
    },
    {
      "cell_type": "code",
      "source": [
        "#Filter with boolean vector using mask\n",
        "mask = (price_b['C'] > HHV)\n",
        "filtered = df.ix[mask]"
      ],
      "outputs": [],
      "metadata": {
        "id": "3fba77FfWMVE"
      },
      "execution_count": null
    },
    {
      "cell_type": "code",
      "source": [
        "#Check if any value in a series is true\n",
        "series.any()"
      ],
      "outputs": [],
      "metadata": {
        "id": "_X1347UaWMVE"
      },
      "execution_count": null
    },
    {
      "cell_type": "code",
      "source": [
        "#Selecting by datetime index\n",
        "import datetime as dt\n",
        "start = dx.index.searchsorted(dt.datetime(2000, 1, 3))\n",
        "df1 = df.ix[start:]\n",
        "\n",
        "#ИЛИ\n",
        "ddf1 = price_b.ix[dt.datetime(2009, 2, 1)]"
      ],
      "outputs": [],
      "metadata": {
        "id": "52KNr_PjWMVE"
      },
      "execution_count": null
    },
    {
      "cell_type": "code",
      "source": [
        "#Example of creating empty dataframe without specifying index\n",
        "tempDF = pa.DataFrame(columns=(\"OpenDate\", \"CloseDate\", \"PriceOpen\", \"PriceClose\", \"PNL\"))\n",
        "initialdata = {\"OpenDate\":0, \"CloseDate\":0, \"PriceOpen\":0, \"PriceClose\":0, \"PNL\":0}\n",
        "tempDF = tempDF.append(initialdata, ignore_index=True)"
      ],
      "outputs": [],
      "metadata": {
        "id": "oEq0uOfYWMVF"
      },
      "execution_count": null
    },
    {
      "cell_type": "code",
      "source": [
        "#Using apply() to run function across all values in the column (or row)\n",
        "data.date = data.date.apply(lambda d: datetime.strptime(d, \"%Y-%m-%d\"))\n",
        "data.date.head()"
      ],
      "outputs": [],
      "metadata": {
        "id": "J-uLhYCJWMVF"
      },
      "execution_count": null
    },
    {
      "cell_type": "code",
      "source": [
        "#filter true values in ts\n",
        "ts[ts]"
      ],
      "outputs": [],
      "metadata": {
        "id": "kersJnVzWMVF"
      },
      "execution_count": null
    },
    {
      "cell_type": "code",
      "source": [
        "#reindexing from 0 to ...\n",
        "symblist = slist.reset_index(drop=True)"
      ],
      "outputs": [],
      "metadata": {
        "id": "YwUalqz7WMVF"
      },
      "execution_count": null
    },
    {
      "cell_type": "code",
      "source": [
        "#adding formats to strings with old and new ways\n",
        "#old\n",
        "df.to_csv(\"/home/mad/gaps/valid/%s.csv\" % (s))\n",
        "#new\n",
        "df.to_csv(\"/home/mad/gaps/valid/{s}.csv\".format(s = s))"
      ],
      "outputs": [],
      "metadata": {
        "id": "C5UenVSJWMVF"
      },
      "execution_count": null
    },
    {
      "cell_type": "code",
      "source": [
        "#delaet raschet kolichestva vhozhdeniy elementa v viborku, dlya vseh elementov\n",
        "from collections import Counter\n",
        "c = Counter(ba1.DecShift)"
      ],
      "outputs": [],
      "metadata": {
        "id": "yuSrsMs3WMVF"
      },
      "execution_count": null
    },
    {
      "cell_type": "code",
      "source": [
        "#example of using rolling_apply() with custom function\n",
        "def fta(series):\n",
        "    return decil(series[:-1], series[-1])\n",
        "\n",
        "ba['Decile'] = pa.rolling_apply(ba.volat, 50, fta)"
      ],
      "outputs": [
        {
          "output_type": "error",
          "ename": "NameError",
          "evalue": "name 'pa' is not defined",
          "traceback": [
            "\u001b[1;31m---------------------------------------------------------------------------\u001b[0m\n\u001b[1;31mNameError\u001b[0m                                 Traceback (most recent call last)",
            "\u001b[1;32m<ipython-input-2-f6252a984787>\u001b[0m in \u001b[0;36m<module>\u001b[1;34m()\u001b[0m\n\u001b[0;32m      3\u001b[0m     \u001b[1;32mreturn\u001b[0m \u001b[0mdecil\u001b[0m\u001b[1;33m(\u001b[0m\u001b[0mseries\u001b[0m\u001b[1;33m[\u001b[0m\u001b[1;33m:\u001b[0m\u001b[1;33m-\u001b[0m\u001b[1;36m1\u001b[0m\u001b[1;33m]\u001b[0m\u001b[1;33m,\u001b[0m \u001b[0mseries\u001b[0m\u001b[1;33m[\u001b[0m\u001b[1;33m-\u001b[0m\u001b[1;36m1\u001b[0m\u001b[1;33m]\u001b[0m\u001b[1;33m)\u001b[0m\u001b[1;33m\u001b[0m\u001b[0m\n\u001b[0;32m      4\u001b[0m \u001b[1;33m\u001b[0m\u001b[0m\n\u001b[1;32m----> 5\u001b[1;33m \u001b[0mba\u001b[0m\u001b[1;33m[\u001b[0m\u001b[1;34m'Decile'\u001b[0m\u001b[1;33m]\u001b[0m \u001b[1;33m=\u001b[0m \u001b[0mpa\u001b[0m\u001b[1;33m.\u001b[0m\u001b[0mrolling_apply\u001b[0m\u001b[1;33m(\u001b[0m\u001b[0mba\u001b[0m\u001b[1;33m.\u001b[0m\u001b[0mvolat\u001b[0m\u001b[1;33m,\u001b[0m \u001b[1;36m50\u001b[0m\u001b[1;33m,\u001b[0m \u001b[0mfta\u001b[0m\u001b[1;33m)\u001b[0m\u001b[1;33m\u001b[0m\u001b[0m\n\u001b[0m",
            "\u001b[1;31mNameError\u001b[0m: name 'pa' is not defined"
          ]
        }
      ],
      "metadata": {
        "id": "ivIqQtCZWMVF",
        "outputId": "ee3b40bd-792a-47bb-bf01-dd179c84c83a"
      },
      "execution_count": null
    },
    {
      "cell_type": "code",
      "source": [
        "#write to excel file\n",
        "df.to_excel('path_to_file.xlsx', sheet_name='Sheet1')\n",
        "\n",
        "#to separates sheets\n",
        "with ExcelWriter('path_to_file.xlsx') as writer:\n",
        "    df1.to_excel(writer, sheet_name='Sheet1')\n",
        "    df2.to_excel(writer, sheet_name='Sheet2')"
      ],
      "outputs": [],
      "metadata": {
        "id": "Yizlex9BWMVF"
      },
      "execution_count": null
    },
    {
      "cell_type": "code",
      "source": [
        "#iterating through rows\n",
        "for idx in pd2.index:\n",
        "    row = pd2.ix[idx]"
      ],
      "outputs": [],
      "metadata": {
        "id": "bZw8gmBEWMVF"
      },
      "execution_count": null
    },
    {
      "cell_type": "code",
      "source": [
        "#iterating trough list\n",
        "a = [i.isoweekday() for i in holidays_list]"
      ],
      "outputs": [],
      "metadata": {
        "id": "912I7VffWMVF"
      },
      "execution_count": null
    },
    {
      "cell_type": "code",
      "source": [
        "#Сопоставление двух списков поэлементно\n",
        "zip(holidays_list, [i.isoweekday() for i in holidays_list])\n",
        "#or another example\n",
        "zip([1, 2, 3], ['a', 'b', 'c']) == [(1, 'a'), (2, 'b'), (3, 'c')]"
      ],
      "outputs": [],
      "metadata": {
        "id": "hUEHiKzzWMVF"
      },
      "execution_count": null
    },
    {
      "cell_type": "code",
      "source": [
        "#найти в датафрейме значение по индексу (используя дату) и без использования ix\n",
        "df.C.get(1996-01-05)"
      ],
      "outputs": [],
      "metadata": {
        "id": "ga2Qr2KwWMVG"
      },
      "execution_count": null
    }
  ]
}