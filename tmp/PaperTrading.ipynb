{
 "metadata": {
  "name": "",
  "signature": "sha256:5515813a8a5fb3d889016a250bf0c6e82875bf9a87b31a56c25e8353e3e7cc93"
 },
 "nbformat": 3,
 "nbformat_minor": 0,
 "worksheets": [
  {
   "cells": [
    {
     "cell_type": "code",
     "collapsed": false,
     "input": [
      "import pandas as pa\n",
      "import Quandl\n",
      "import csv"
     ],
     "language": "python",
     "metadata": {},
     "outputs": [],
     "prompt_number": 1
    },
    {
     "cell_type": "code",
     "collapsed": false,
     "input": [
      "#BA strategy\n",
      "\"\"\"\n",
      "Percent Range\n",
      "\"\"\"\n",
      "\n",
      "def decil(rang, val):\n",
      "    total = bigger = 0\n",
      "    for x in rang:\n",
      "        total += 1\n",
      "        if x <= val:\n",
      "            bigger += 1\n",
      "    decil = float(bigger)/total\n",
      "    return decil\n",
      "\n",
      "def fta(series):\n",
      "    return decil(series[:-1], series[-1])"
     ],
     "language": "python",
     "metadata": {},
     "outputs": [],
     "prompt_number": 2
    },
    {
     "cell_type": "code",
     "collapsed": false,
     "input": [
      "file = \"/home/mad/Options/PaperTrade/set.csv\""
     ],
     "language": "python",
     "metadata": {},
     "outputs": [],
     "prompt_number": 3
    },
    {
     "cell_type": "code",
     "collapsed": false,
     "input": [
      "pd = pa.DataFrame.from_csv(file)"
     ],
     "language": "python",
     "metadata": {},
     "outputs": [],
     "prompt_number": 4
    },
    {
     "cell_type": "code",
     "collapsed": false,
     "input": [
      "#reader = csv.reader(open(file),delimiter=',')\n",
      "\n",
      "def scan(pd):\n",
      "    f1 = []\n",
      "    f2 = []\n",
      "    for row in pd.index:\n",
      "        try:\n",
      "            data = Quandl.get('WIKI/{s}'.format(s = row), authtoken='qwePHAwSwRqpsEXaUpW7', returns=\"pandas\")\n",
      "        except:\n",
      "            print ('symbol WIKI/{s} is not found'.format(s = row))\n",
      "            f2.append(row)            \n",
      "            continue\n",
      "        data = data.drop(['Open', 'High', 'Low', 'Close', 'Volume', 'Ex-Dividend', 'Split Ratio', 'Adj. Volume', 'Adj. Open'],1)\n",
      "        data = data.rename(columns={'Adj. High': 'H', 'Adj. Low': 'L', 'Adj. Close': 'C'})\n",
      "        data['Volat'] = (data.H - data.L)/data.C\n",
      "        data['Decile'] = pa.rolling_apply(data.Volat, 50, fta)\n",
      "        data['AvgDecile'] = pa.rolling_mean(data.Decile, 5)\n",
      "        data['AvgHL'] = pa.rolling_mean(data.Volat, 5)\n",
      "        data['Buy'] = (data.AvgDecile >= 0.7) & (data.AvgHL >= 0.03)\n",
      "        if data.Buy[-1]:\n",
      "            f1.append(row)\n",
      "            #print f1\n",
      "    return f1, f2"
     ],
     "language": "python",
     "metadata": {},
     "outputs": [],
     "prompt_number": 5
    },
    {
     "cell_type": "code",
     "collapsed": false,
     "input": [
      "buy, nf = scan(pd)"
     ],
     "language": "python",
     "metadata": {},
     "outputs": [
      {
       "output_type": "stream",
       "stream": "stdout",
       "text": [
        "Token qwePHAwSwRqpsEXaUpW7 activated and saved for later use.\n",
        "symbol WIKI/AGQ is not found"
       ]
      },
      {
       "output_type": "stream",
       "stream": "stdout",
       "text": [
        "\n",
        "Token qwePHAwSwRqpsEXaUpW7 activated and saved for later use.\n",
        "symbol WIKI/ASHR is not found"
       ]
      },
      {
       "output_type": "stream",
       "stream": "stdout",
       "text": [
        "\n",
        "Token qwePHAwSwRqpsEXaUpW7 activated and saved for later use.\n",
        "symbol WIKI/DIA is not found"
       ]
      },
      {
       "output_type": "stream",
       "stream": "stdout",
       "text": [
        "\n",
        "Token qwePHAwSwRqpsEXaUpW7 activated and saved for later use.\n",
        "symbol WIKI/DUST is not found"
       ]
      },
      {
       "output_type": "stream",
       "stream": "stdout",
       "text": [
        "\n",
        "Token qwePHAwSwRqpsEXaUpW7 activated and saved for later use.\n",
        "symbol WIKI/DXJ is not found"
       ]
      },
      {
       "output_type": "stream",
       "stream": "stdout",
       "text": [
        "\n",
        "Token qwePHAwSwRqpsEXaUpW7 activated and saved for later use.\n",
        "symbol WIKI/EEM is not found"
       ]
      },
      {
       "output_type": "stream",
       "stream": "stdout",
       "text": [
        "\n",
        "Token qwePHAwSwRqpsEXaUpW7 activated and saved for later use.\n",
        "symbol WIKI/EFA is not found"
       ]
      },
      {
       "output_type": "stream",
       "stream": "stdout",
       "text": [
        "\n",
        "Token qwePHAwSwRqpsEXaUpW7 activated and saved for later use.\n",
        "symbol WIKI/EPI is not found"
       ]
      },
      {
       "output_type": "stream",
       "stream": "stdout",
       "text": [
        "\n",
        "Token qwePHAwSwRqpsEXaUpW7 activated and saved for later use.\n",
        "symbol WIKI/ERX is not found"
       ]
      },
      {
       "output_type": "stream",
       "stream": "stdout",
       "text": [
        "\n",
        "Token qwePHAwSwRqpsEXaUpW7 activated and saved for later use.\n",
        "symbol WIKI/EWG is not found"
       ]
      },
      {
       "output_type": "stream",
       "stream": "stdout",
       "text": [
        "\n",
        "Token qwePHAwSwRqpsEXaUpW7 activated and saved for later use.\n",
        "symbol WIKI/EWJ is not found"
       ]
      },
      {
       "output_type": "stream",
       "stream": "stdout",
       "text": [
        "\n",
        "Token qwePHAwSwRqpsEXaUpW7 activated and saved for later use.\n",
        "symbol WIKI/EWW is not found"
       ]
      },
      {
       "output_type": "stream",
       "stream": "stdout",
       "text": [
        "\n",
        "Token qwePHAwSwRqpsEXaUpW7 activated and saved for later use.\n",
        "symbol WIKI/EWZ is not found"
       ]
      },
      {
       "output_type": "stream",
       "stream": "stdout",
       "text": [
        "\n",
        "Token qwePHAwSwRqpsEXaUpW7 activated and saved for later use.\n",
        "symbol WIKI/FAS is not found"
       ]
      },
      {
       "output_type": "stream",
       "stream": "stdout",
       "text": [
        "\n",
        "Token qwePHAwSwRqpsEXaUpW7 activated and saved for later use.\n",
        "symbol WIKI/FAZ is not found"
       ]
      },
      {
       "output_type": "stream",
       "stream": "stdout",
       "text": [
        "\n",
        "Token qwePHAwSwRqpsEXaUpW7 activated and saved for later use.\n",
        "symbol WIKI/FEZ is not found"
       ]
      },
      {
       "output_type": "stream",
       "stream": "stdout",
       "text": [
        "\n",
        "Token qwePHAwSwRqpsEXaUpW7 activated and saved for later use.\n",
        "symbol WIKI/FXE is not found"
       ]
      },
      {
       "output_type": "stream",
       "stream": "stdout",
       "text": [
        "\n",
        "Token qwePHAwSwRqpsEXaUpW7 activated and saved for later use.\n",
        "symbol WIKI/FXI is not found"
       ]
      },
      {
       "output_type": "stream",
       "stream": "stdout",
       "text": [
        "\n",
        "Token qwePHAwSwRqpsEXaUpW7 activated and saved for later use.\n",
        "symbol WIKI/FXY is not found"
       ]
      },
      {
       "output_type": "stream",
       "stream": "stdout",
       "text": [
        "\n",
        "Token qwePHAwSwRqpsEXaUpW7 activated and saved for later use.\n",
        "symbol WIKI/GDX is not found"
       ]
      },
      {
       "output_type": "stream",
       "stream": "stdout",
       "text": [
        "\n",
        "Token qwePHAwSwRqpsEXaUpW7 activated and saved for later use.\n",
        "symbol WIKI/GDXJ is not found"
       ]
      },
      {
       "output_type": "stream",
       "stream": "stdout",
       "text": [
        "\n",
        "Token qwePHAwSwRqpsEXaUpW7 activated and saved for later use.\n",
        "symbol WIKI/GLD is not found"
       ]
      },
      {
       "output_type": "stream",
       "stream": "stdout",
       "text": [
        "\n",
        "Token qwePHAwSwRqpsEXaUpW7 activated and saved for later use.\n",
        "symbol WIKI/GREK is not found"
       ]
      },
      {
       "output_type": "stream",
       "stream": "stdout",
       "text": [
        "\n",
        "Token qwePHAwSwRqpsEXaUpW7 activated and saved for later use.\n",
        "symbol WIKI/HACK is not found"
       ]
      },
      {
       "output_type": "stream",
       "stream": "stdout",
       "text": [
        "\n",
        "Token qwePHAwSwRqpsEXaUpW7 activated and saved for later use.\n",
        "symbol WIKI/HEDJ is not found"
       ]
      },
      {
       "output_type": "stream",
       "stream": "stdout",
       "text": [
        "\n",
        "Token qwePHAwSwRqpsEXaUpW7 activated and saved for later use.\n",
        "symbol WIKI/HYG is not found"
       ]
      },
      {
       "output_type": "stream",
       "stream": "stdout",
       "text": [
        "\n",
        "Token qwePHAwSwRqpsEXaUpW7 activated and saved for later use.\n",
        "symbol WIKI/IBB is not found"
       ]
      },
      {
       "output_type": "stream",
       "stream": "stdout",
       "text": [
        "\n",
        "Token qwePHAwSwRqpsEXaUpW7 activated and saved for later use.\n",
        "symbol WIKI/ITB is not found"
       ]
      },
      {
       "output_type": "stream",
       "stream": "stdout",
       "text": [
        "\n",
        "Token qwePHAwSwRqpsEXaUpW7 activated and saved for later use.\n",
        "symbol WIKI/IWM is not found"
       ]
      },
      {
       "output_type": "stream",
       "stream": "stdout",
       "text": [
        "\n",
        "Token qwePHAwSwRqpsEXaUpW7 activated and saved for later use.\n",
        "symbol WIKI/IYR is not found"
       ]
      },
      {
       "output_type": "stream",
       "stream": "stdout",
       "text": [
        "\n",
        "Token qwePHAwSwRqpsEXaUpW7 activated and saved for later use.\n",
        "symbol WIKI/JNUG is not found"
       ]
      },
      {
       "output_type": "stream",
       "stream": "stdout",
       "text": [
        "\n",
        "Token qwePHAwSwRqpsEXaUpW7 activated and saved for later use.\n",
        "symbol WIKI/KRE is not found"
       ]
      },
      {
       "output_type": "stream",
       "stream": "stdout",
       "text": [
        "\n",
        "Token qwePHAwSwRqpsEXaUpW7 activated and saved for later use.\n",
        "symbol WIKI/MDY is not found"
       ]
      },
      {
       "output_type": "stream",
       "stream": "stdout",
       "text": [
        "\n",
        "Token qwePHAwSwRqpsEXaUpW7 activated and saved for later use.\n",
        "symbol WIKI/NUGT is not found"
       ]
      },
      {
       "output_type": "stream",
       "stream": "stdout",
       "text": [
        "\n",
        "Token qwePHAwSwRqpsEXaUpW7 activated and saved for later use.\n",
        "symbol WIKI/OIH is not found"
       ]
      },
      {
       "output_type": "stream",
       "stream": "stdout",
       "text": [
        "\n",
        "Token qwePHAwSwRqpsEXaUpW7 activated and saved for later use.\n",
        "symbol WIKI/QQQ is not found"
       ]
      },
      {
       "output_type": "stream",
       "stream": "stdout",
       "text": [
        "\n",
        "Token qwePHAwSwRqpsEXaUpW7 activated and saved for later use.\n",
        "symbol WIKI/RSX is not found"
       ]
      },
      {
       "output_type": "stream",
       "stream": "stdout",
       "text": [
        "\n",
        "Token qwePHAwSwRqpsEXaUpW7 activated and saved for later use.\n",
        "symbol WIKI/SCO is not found"
       ]
      },
      {
       "output_type": "stream",
       "stream": "stdout",
       "text": [
        "\n",
        "Token qwePHAwSwRqpsEXaUpW7 activated and saved for later use.\n",
        "symbol WIKI/SDS is not found"
       ]
      },
      {
       "output_type": "stream",
       "stream": "stdout",
       "text": [
        "\n",
        "Token qwePHAwSwRqpsEXaUpW7 activated and saved for later use.\n",
        "symbol WIKI/SLV is not found"
       ]
      },
      {
       "output_type": "stream",
       "stream": "stdout",
       "text": [
        "\n",
        "Token qwePHAwSwRqpsEXaUpW7 activated and saved for later use.\n",
        "symbol WIKI/SPY is not found"
       ]
      },
      {
       "output_type": "stream",
       "stream": "stdout",
       "text": [
        "\n",
        "Token qwePHAwSwRqpsEXaUpW7 activated and saved for later use.\n",
        "symbol WIKI/SSO is not found"
       ]
      },
      {
       "output_type": "stream",
       "stream": "stdout",
       "text": [
        "\n",
        "Token qwePHAwSwRqpsEXaUpW7 activated and saved for later use.\n",
        "symbol WIKI/SVXY is not found"
       ]
      },
      {
       "output_type": "stream",
       "stream": "stdout",
       "text": [
        "\n",
        "Token qwePHAwSwRqpsEXaUpW7 activated and saved for later use.\n",
        "symbol WIKI/TBT is not found"
       ]
      },
      {
       "output_type": "stream",
       "stream": "stdout",
       "text": [
        "\n",
        "Token qwePHAwSwRqpsEXaUpW7 activated and saved for later use.\n",
        "symbol WIKI/TLT is not found"
       ]
      },
      {
       "output_type": "stream",
       "stream": "stdout",
       "text": [
        "\n",
        "Token qwePHAwSwRqpsEXaUpW7 activated and saved for later use.\n",
        "symbol WIKI/TNA is not found"
       ]
      },
      {
       "output_type": "stream",
       "stream": "stdout",
       "text": [
        "\n",
        "Token qwePHAwSwRqpsEXaUpW7 activated and saved for later use.\n",
        "symbol WIKI/TQQQ is not found"
       ]
      },
      {
       "output_type": "stream",
       "stream": "stdout",
       "text": [
        "\n",
        "Token qwePHAwSwRqpsEXaUpW7 activated and saved for later use.\n",
        "symbol WIKI/TZA is not found"
       ]
      },
      {
       "output_type": "stream",
       "stream": "stdout",
       "text": [
        "\n",
        "Token qwePHAwSwRqpsEXaUpW7 activated and saved for later use.\n",
        "symbol WIKI/UCO is not found"
       ]
      },
      {
       "output_type": "stream",
       "stream": "stdout",
       "text": [
        "\n",
        "Token qwePHAwSwRqpsEXaUpW7 activated and saved for later use.\n",
        "symbol WIKI/UNG is not found"
       ]
      },
      {
       "output_type": "stream",
       "stream": "stdout",
       "text": [
        "\n",
        "Token qwePHAwSwRqpsEXaUpW7 activated and saved for later use.\n",
        "symbol WIKI/UPRO is not found"
       ]
      },
      {
       "output_type": "stream",
       "stream": "stdout",
       "text": [
        "\n",
        "Token qwePHAwSwRqpsEXaUpW7 activated and saved for later use.\n",
        "symbol WIKI/USO is not found"
       ]
      },
      {
       "output_type": "stream",
       "stream": "stdout",
       "text": [
        "\n",
        "Token qwePHAwSwRqpsEXaUpW7 activated and saved for later use.\n",
        "symbol WIKI/UUP is not found"
       ]
      },
      {
       "output_type": "stream",
       "stream": "stdout",
       "text": [
        "\n",
        "Token qwePHAwSwRqpsEXaUpW7 activated and saved for later use.\n",
        "symbol WIKI/UVXY is not found"
       ]
      },
      {
       "output_type": "stream",
       "stream": "stdout",
       "text": [
        "\n",
        "Token qwePHAwSwRqpsEXaUpW7 activated and saved for later use.\n",
        "symbol WIKI/VWO is not found"
       ]
      },
      {
       "output_type": "stream",
       "stream": "stdout",
       "text": [
        "\n",
        "Token qwePHAwSwRqpsEXaUpW7 activated and saved for later use.\n",
        "symbol WIKI/VXX is not found"
       ]
      },
      {
       "output_type": "stream",
       "stream": "stdout",
       "text": [
        "\n",
        "Token qwePHAwSwRqpsEXaUpW7 activated and saved for later use.\n",
        "symbol WIKI/XBI is not found"
       ]
      },
      {
       "output_type": "stream",
       "stream": "stdout",
       "text": [
        "\n",
        "Token qwePHAwSwRqpsEXaUpW7 activated and saved for later use.\n",
        "symbol WIKI/XHB is not found"
       ]
      },
      {
       "output_type": "stream",
       "stream": "stdout",
       "text": [
        "\n",
        "Token qwePHAwSwRqpsEXaUpW7 activated and saved for later use.\n",
        "symbol WIKI/XLB is not found"
       ]
      },
      {
       "output_type": "stream",
       "stream": "stdout",
       "text": [
        "\n",
        "Token qwePHAwSwRqpsEXaUpW7 activated and saved for later use.\n",
        "symbol WIKI/XLE is not found"
       ]
      },
      {
       "output_type": "stream",
       "stream": "stdout",
       "text": [
        "\n",
        "Token qwePHAwSwRqpsEXaUpW7 activated and saved for later use.\n",
        "symbol WIKI/XLF is not found"
       ]
      },
      {
       "output_type": "stream",
       "stream": "stdout",
       "text": [
        "\n",
        "Token qwePHAwSwRqpsEXaUpW7 activated and saved for later use.\n",
        "symbol WIKI/XLI is not found"
       ]
      },
      {
       "output_type": "stream",
       "stream": "stdout",
       "text": [
        "\n",
        "Token qwePHAwSwRqpsEXaUpW7 activated and saved for later use.\n",
        "symbol WIKI/XLK is not found"
       ]
      },
      {
       "output_type": "stream",
       "stream": "stdout",
       "text": [
        "\n",
        "Token qwePHAwSwRqpsEXaUpW7 activated and saved for later use.\n",
        "symbol WIKI/XLP is not found"
       ]
      },
      {
       "output_type": "stream",
       "stream": "stdout",
       "text": [
        "\n",
        "Token qwePHAwSwRqpsEXaUpW7 activated and saved for later use.\n",
        "symbol WIKI/XLU is not found"
       ]
      },
      {
       "output_type": "stream",
       "stream": "stdout",
       "text": [
        "\n",
        "Token qwePHAwSwRqpsEXaUpW7 activated and saved for later use.\n",
        "symbol WIKI/XLV is not found"
       ]
      },
      {
       "output_type": "stream",
       "stream": "stdout",
       "text": [
        "\n",
        "Token qwePHAwSwRqpsEXaUpW7 activated and saved for later use.\n",
        "symbol WIKI/XLY is not found"
       ]
      },
      {
       "output_type": "stream",
       "stream": "stdout",
       "text": [
        "\n",
        "Token qwePHAwSwRqpsEXaUpW7 activated and saved for later use.\n",
        "symbol WIKI/XME is not found"
       ]
      },
      {
       "output_type": "stream",
       "stream": "stdout",
       "text": [
        "\n",
        "Token qwePHAwSwRqpsEXaUpW7 activated and saved for later use.\n",
        "symbol WIKI/XOP is not found"
       ]
      },
      {
       "output_type": "stream",
       "stream": "stdout",
       "text": [
        "\n",
        "Token qwePHAwSwRqpsEXaUpW7 activated and saved for later use.\n",
        "symbol WIKI/XRT is not found"
       ]
      },
      {
       "output_type": "stream",
       "stream": "stdout",
       "text": [
        "\n",
        "Token qwePHAwSwRqpsEXaUpW7 activated and saved for later use.\n",
        "symbol WIKI/YANG is not found"
       ]
      },
      {
       "output_type": "stream",
       "stream": "stdout",
       "text": [
        "\n",
        "Token qwePHAwSwRqpsEXaUpW7 activated and saved for later use.\n",
        "Returning Dataframe for "
       ]
      },
      {
       "output_type": "stream",
       "stream": "stdout",
       "text": [
        " WIKI/AA\n",
        "Token qwePHAwSwRqpsEXaUpW7 activated and saved for later use."
       ]
      },
      {
       "output_type": "stream",
       "stream": "stdout",
       "text": [
        "\n",
        "Returning Dataframe for "
       ]
      },
      {
       "output_type": "stream",
       "stream": "stdout",
       "text": [
        " WIKI/AAL\n",
        "Token qwePHAwSwRqpsEXaUpW7 activated and saved for later use.\n",
        "Returning Dataframe for "
       ]
      },
      {
       "output_type": "stream",
       "stream": "stdout",
       "text": [
        " WIKI/AAPL\n",
        "Token qwePHAwSwRqpsEXaUpW7 activated and saved for later use."
       ]
      },
      {
       "output_type": "stream",
       "stream": "stdout",
       "text": [
        "\n",
        "Returning Dataframe for "
       ]
      },
      {
       "output_type": "stream",
       "stream": "stdout",
       "text": [
        " WIKI/ABBV\n",
        "Token qwePHAwSwRqpsEXaUpW7 activated and saved for later use.\n",
        "symbol WIKI/ABX is not found"
       ]
      },
      {
       "output_type": "stream",
       "stream": "stdout",
       "text": [
        "\n",
        "Token qwePHAwSwRqpsEXaUpW7 activated and saved for later use.\n",
        "Returning Dataframe for "
       ]
      },
      {
       "output_type": "stream",
       "stream": "stdout",
       "text": [
        " WIKI/ACHN\n",
        "Token qwePHAwSwRqpsEXaUpW7 activated and saved for later use.\n",
        "Returning Dataframe for "
       ]
      },
      {
       "output_type": "stream",
       "stream": "stdout",
       "text": [
        " WIKI/ACN\n",
        "Token qwePHAwSwRqpsEXaUpW7 activated and saved for later use."
       ]
      },
      {
       "output_type": "stream",
       "stream": "stdout",
       "text": [
        "\n",
        "symbol WIKI/ACT is not found"
       ]
      },
      {
       "output_type": "stream",
       "stream": "stdout",
       "text": [
        "\n",
        "Token qwePHAwSwRqpsEXaUpW7 activated and saved for later use.\n",
        "Returning Dataframe for "
       ]
      },
      {
       "output_type": "stream",
       "stream": "stdout",
       "text": [
        " WIKI/ADM\n",
        "Token qwePHAwSwRqpsEXaUpW7 activated and saved for later use."
       ]
      },
      {
       "output_type": "stream",
       "stream": "stdout",
       "text": [
        "\n",
        "Returning Dataframe for "
       ]
      },
      {
       "output_type": "stream",
       "stream": "stdout",
       "text": [
        " WIKI/AEO\n",
        "Token qwePHAwSwRqpsEXaUpW7 activated and saved for later use."
       ]
      },
      {
       "output_type": "stream",
       "stream": "stdout",
       "text": [
        "\n",
        "Returning Dataframe for "
       ]
      },
      {
       "output_type": "stream",
       "stream": "stdout",
       "text": [
        " WIKI/AET\n",
        "Token qwePHAwSwRqpsEXaUpW7 activated and saved for later use."
       ]
      },
      {
       "output_type": "stream",
       "stream": "stdout",
       "text": [
        "\n",
        "Returning Dataframe for "
       ]
      },
      {
       "output_type": "stream",
       "stream": "stdout",
       "text": [
        " WIKI/AGN\n",
        "Token qwePHAwSwRqpsEXaUpW7 activated and saved for later use."
       ]
      },
      {
       "output_type": "stream",
       "stream": "stdout",
       "text": [
        "\n",
        "Returning Dataframe for "
       ]
      },
      {
       "output_type": "stream",
       "stream": "stdout",
       "text": [
        " WIKI/AGNC\n",
        "Token qwePHAwSwRqpsEXaUpW7 activated and saved for later use.\n",
        "symbol WIKI/AGU is not found"
       ]
      },
      {
       "output_type": "stream",
       "stream": "stdout",
       "text": [
        "\n",
        "Token qwePHAwSwRqpsEXaUpW7 activated and saved for later use.\n",
        "Returning Dataframe for "
       ]
      },
      {
       "output_type": "stream",
       "stream": "stdout",
       "text": [
        " WIKI/AIG\n",
        "Token qwePHAwSwRqpsEXaUpW7 activated and saved for later use."
       ]
      },
      {
       "output_type": "stream",
       "stream": "stdout",
       "text": [
        "\n",
        "Returning Dataframe for "
       ]
      },
      {
       "output_type": "stream",
       "stream": "stdout",
       "text": [
        " WIKI/AKAM\n",
        "Token qwePHAwSwRqpsEXaUpW7 activated and saved for later use.\n",
        "Returning Dataframe for "
       ]
      },
      {
       "output_type": "stream",
       "stream": "stdout",
       "text": [
        " WIKI/AKS\n",
        "Token qwePHAwSwRqpsEXaUpW7 activated and saved for later use."
       ]
      },
      {
       "output_type": "stream",
       "stream": "stdout",
       "text": [
        "\n",
        "Returning Dataframe for "
       ]
      },
      {
       "output_type": "stream",
       "stream": "stdout",
       "text": [
        " WIKI/ALTR\n",
        "Token qwePHAwSwRqpsEXaUpW7 activated and saved for later use."
       ]
      },
      {
       "output_type": "stream",
       "stream": "stdout",
       "text": [
        "\n",
        "Returning Dataframe for "
       ]
      },
      {
       "output_type": "stream",
       "stream": "stdout",
       "text": [
        " WIKI/ALXN\n",
        "Token qwePHAwSwRqpsEXaUpW7 activated and saved for later use."
       ]
      },
      {
       "output_type": "stream",
       "stream": "stdout",
       "text": [
        "\n",
        "Returning Dataframe for "
       ]
      },
      {
       "output_type": "stream",
       "stream": "stdout",
       "text": [
        " WIKI/AMAT\n",
        "Token qwePHAwSwRqpsEXaUpW7 activated and saved for later use."
       ]
      },
      {
       "output_type": "stream",
       "stream": "stdout",
       "text": [
        "\n",
        "Returning Dataframe for "
       ]
      },
      {
       "output_type": "stream",
       "stream": "stdout",
       "text": [
        " WIKI/AMBA\n",
        "Token qwePHAwSwRqpsEXaUpW7 activated and saved for later use.\n",
        "Returning Dataframe for "
       ]
      },
      {
       "output_type": "stream",
       "stream": "stdout",
       "text": [
        " WIKI/AMD\n",
        "Token qwePHAwSwRqpsEXaUpW7 activated and saved for later use."
       ]
      },
      {
       "output_type": "stream",
       "stream": "stdout",
       "text": [
        "\n",
        "Returning Dataframe for "
       ]
      },
      {
       "output_type": "stream",
       "stream": "stdout",
       "text": [
        " WIKI/AMGN\n",
        "Token qwePHAwSwRqpsEXaUpW7 activated and saved for later use."
       ]
      },
      {
       "output_type": "stream",
       "stream": "stdout",
       "text": [
        "\n",
        "symbol WIKI/AMRN is not found"
       ]
      },
      {
       "output_type": "stream",
       "stream": "stdout",
       "text": [
        "\n",
        "Token qwePHAwSwRqpsEXaUpW7 activated and saved for later use.\n",
        "Returning Dataframe for "
       ]
      },
      {
       "output_type": "stream",
       "stream": "stdout",
       "text": [
        " WIKI/AMT\n",
        "Token qwePHAwSwRqpsEXaUpW7 activated and saved for later use."
       ]
      },
      {
       "output_type": "stream",
       "stream": "stdout",
       "text": [
        "\n",
        "Returning Dataframe for "
       ]
      },
      {
       "output_type": "stream",
       "stream": "stdout",
       "text": [
        " WIKI/AMZN\n",
        "Token qwePHAwSwRqpsEXaUpW7 activated and saved for later use."
       ]
      },
      {
       "output_type": "stream",
       "stream": "stdout",
       "text": [
        "\n",
        "Returning Dataframe for "
       ]
      },
      {
       "output_type": "stream",
       "stream": "stdout",
       "text": [
        " WIKI/ANF\n",
        "Token qwePHAwSwRqpsEXaUpW7 activated and saved for later use."
       ]
      },
      {
       "output_type": "stream",
       "stream": "stdout",
       "text": [
        "\n",
        "Returning Dataframe for "
       ]
      },
      {
       "output_type": "stream",
       "stream": "stdout",
       "text": [
        " WIKI/ANR\n",
        "Token qwePHAwSwRqpsEXaUpW7 activated and saved for later use.\n",
        "Returning Dataframe for "
       ]
      },
      {
       "output_type": "stream",
       "stream": "stdout",
       "text": [
        " WIKI/ANTM\n",
        "Token qwePHAwSwRqpsEXaUpW7 activated and saved for later use.\n",
        "Returning Dataframe for "
       ]
      },
      {
       "output_type": "stream",
       "stream": "stdout",
       "text": [
        " WIKI/APA\n",
        "Token qwePHAwSwRqpsEXaUpW7 activated and saved for later use."
       ]
      },
      {
       "output_type": "stream",
       "stream": "stdout",
       "text": [
        "\n",
        "Returning Dataframe for "
       ]
      },
      {
       "output_type": "stream",
       "stream": "stdout",
       "text": [
        " WIKI/APC\n",
        "Token qwePHAwSwRqpsEXaUpW7 activated and saved for later use."
       ]
      },
      {
       "output_type": "stream",
       "stream": "stdout",
       "text": [
        "\n",
        "symbol WIKI/ARCP is not found"
       ]
      },
      {
       "output_type": "stream",
       "stream": "stdout",
       "text": [
        "\n",
        "Token qwePHAwSwRqpsEXaUpW7 activated and saved for later use.\n",
        "Returning Dataframe for "
       ]
      },
      {
       "output_type": "stream",
       "stream": "stdout",
       "text": [
        " WIKI/ARIA\n",
        "Token qwePHAwSwRqpsEXaUpW7 activated and saved for later use."
       ]
      },
      {
       "output_type": "stream",
       "stream": "stdout",
       "text": [
        "\n",
        "Returning Dataframe for "
       ]
      },
      {
       "output_type": "stream",
       "stream": "stdout",
       "text": [
        " WIKI/ARNA\n",
        "Token qwePHAwSwRqpsEXaUpW7 activated and saved for later use."
       ]
      },
      {
       "output_type": "stream",
       "stream": "stdout",
       "text": [
        "\n",
        "Returning Dataframe for "
       ]
      },
      {
       "output_type": "stream",
       "stream": "stdout",
       "text": [
        " WIKI/ATHN\n",
        "Token qwePHAwSwRqpsEXaUpW7 activated and saved for later use.\n",
        "Returning Dataframe for "
       ]
      },
      {
       "output_type": "stream",
       "stream": "stdout",
       "text": [
        " WIKI/ATVI\n",
        "Token qwePHAwSwRqpsEXaUpW7 activated and saved for later use."
       ]
      },
      {
       "output_type": "stream",
       "stream": "stdout",
       "text": [
        "\n",
        "symbol WIKI/AUY is not found"
       ]
      },
      {
       "output_type": "stream",
       "stream": "stdout",
       "text": [
        "\n",
        "Token qwePHAwSwRqpsEXaUpW7 activated and saved for later use.\n",
        "Returning Dataframe for "
       ]
      },
      {
       "output_type": "stream",
       "stream": "stdout",
       "text": [
        " WIKI/AVP\n",
        "Token qwePHAwSwRqpsEXaUpW7 activated and saved for later use."
       ]
      },
      {
       "output_type": "stream",
       "stream": "stdout",
       "text": [
        "\n",
        "Returning Dataframe for "
       ]
      },
      {
       "output_type": "stream",
       "stream": "stdout",
       "text": [
        " WIKI/AXP\n",
        "Token qwePHAwSwRqpsEXaUpW7 activated and saved for later use."
       ]
      },
      {
       "output_type": "stream",
       "stream": "stdout",
       "text": [
        "\n",
        "symbol WIKI/AZN is not found"
       ]
      },
      {
       "output_type": "stream",
       "stream": "stdout",
       "text": [
        "\n",
        "Token qwePHAwSwRqpsEXaUpW7 activated and saved for later use.\n",
        "Returning Dataframe for "
       ]
      },
      {
       "output_type": "stream",
       "stream": "stdout",
       "text": [
        " WIKI/BA\n",
        "Token qwePHAwSwRqpsEXaUpW7 activated and saved for later use."
       ]
      },
      {
       "output_type": "stream",
       "stream": "stdout",
       "text": [
        "\n",
        "symbol WIKI/BABA is not found"
       ]
      },
      {
       "output_type": "stream",
       "stream": "stdout",
       "text": [
        "\n",
        "Token qwePHAwSwRqpsEXaUpW7 activated and saved for later use.\n",
        "Returning Dataframe for "
       ]
      },
      {
       "output_type": "stream",
       "stream": "stdout",
       "text": [
        " WIKI/BAC\n",
        "Token qwePHAwSwRqpsEXaUpW7 activated and saved for later use."
       ]
      },
      {
       "output_type": "stream",
       "stream": "stdout",
       "text": [
        "\n",
        "Returning Dataframe for "
       ]
      },
      {
       "output_type": "stream",
       "stream": "stdout",
       "text": [
        " WIKI/BAX\n",
        "Token qwePHAwSwRqpsEXaUpW7 activated and saved for later use."
       ]
      },
      {
       "output_type": "stream",
       "stream": "stdout",
       "text": [
        "\n",
        "Returning Dataframe for "
       ]
      },
      {
       "output_type": "stream",
       "stream": "stdout",
       "text": [
        " WIKI/BBBY\n",
        "Token qwePHAwSwRqpsEXaUpW7 activated and saved for later use."
       ]
      },
      {
       "output_type": "stream",
       "stream": "stdout",
       "text": [
        "\n",
        "symbol WIKI/BBRY is not found"
       ]
      },
      {
       "output_type": "stream",
       "stream": "stdout",
       "text": [
        "\n",
        "Token qwePHAwSwRqpsEXaUpW7 activated and saved for later use.\n",
        "Returning Dataframe for "
       ]
      },
      {
       "output_type": "stream",
       "stream": "stdout",
       "text": [
        " WIKI/BBY\n",
        "Token qwePHAwSwRqpsEXaUpW7 activated and saved for later use."
       ]
      },
      {
       "output_type": "stream",
       "stream": "stdout",
       "text": [
        "\n",
        "Returning Dataframe for "
       ]
      },
      {
       "output_type": "stream",
       "stream": "stdout",
       "text": [
        " WIKI/BHI\n",
        "Token qwePHAwSwRqpsEXaUpW7 activated and saved for later use."
       ]
      },
      {
       "output_type": "stream",
       "stream": "stdout",
       "text": [
        "\n",
        "Returning Dataframe for "
       ]
      },
      {
       "output_type": "stream",
       "stream": "stdout",
       "text": [
        " WIKI/BIDU\n",
        "Token qwePHAwSwRqpsEXaUpW7 activated and saved for later use.\n",
        "Returning Dataframe for "
       ]
      },
      {
       "output_type": "stream",
       "stream": "stdout",
       "text": [
        " WIKI/BIIB\n",
        "Token qwePHAwSwRqpsEXaUpW7 activated and saved for later use."
       ]
      },
      {
       "output_type": "stream",
       "stream": "stdout",
       "text": [
        "\n",
        "Returning Dataframe for "
       ]
      },
      {
       "output_type": "stream",
       "stream": "stdout",
       "text": [
        " WIKI/BK\n",
        "Token qwePHAwSwRqpsEXaUpW7 activated and saved for later use."
       ]
      },
      {
       "output_type": "stream",
       "stream": "stdout",
       "text": [
        "\n",
        "Returning Dataframe for "
       ]
      },
      {
       "output_type": "stream",
       "stream": "stdout",
       "text": [
        " WIKI/BMY\n",
        "Token qwePHAwSwRqpsEXaUpW7 activated and saved for later use."
       ]
      },
      {
       "output_type": "stream",
       "stream": "stdout",
       "text": [
        "\n",
        "Returning Dataframe for "
       ]
      },
      {
       "output_type": "stream",
       "stream": "stdout",
       "text": [
        " WIKI/BP\n",
        "Token qwePHAwSwRqpsEXaUpW7 activated and saved for later use."
       ]
      },
      {
       "output_type": "stream",
       "stream": "stdout",
       "text": [
        "\n",
        "Returning Dataframe for "
       ]
      },
      {
       "output_type": "stream",
       "stream": "stdout",
       "text": [
        " WIKI/BRCM\n",
        "Token qwePHAwSwRqpsEXaUpW7 activated and saved for later use."
       ]
      },
      {
       "output_type": "stream",
       "stream": "stdout",
       "text": [
        "\n",
        "symbol WIKI/BRK/B is not found"
       ]
      },
      {
       "output_type": "stream",
       "stream": "stdout",
       "text": [
        "\n",
        "Token qwePHAwSwRqpsEXaUpW7 activated and saved for later use.\n",
        "Returning Dataframe for "
       ]
      },
      {
       "output_type": "stream",
       "stream": "stdout",
       "text": [
        " WIKI/BTU\n",
        "Token qwePHAwSwRqpsEXaUpW7 activated and saved for later use.\n",
        "symbol WIKI/BX is not found"
       ]
      },
      {
       "output_type": "stream",
       "stream": "stdout",
       "text": [
        "\n",
        "Token qwePHAwSwRqpsEXaUpW7 activated and saved for later use.\n",
        "Returning Dataframe for "
       ]
      },
      {
       "output_type": "stream",
       "stream": "stdout",
       "text": [
        " WIKI/C\n",
        "Token qwePHAwSwRqpsEXaUpW7 activated and saved for later use."
       ]
      },
      {
       "output_type": "stream",
       "stream": "stdout",
       "text": [
        "\n",
        "Returning Dataframe for "
       ]
      },
      {
       "output_type": "stream",
       "stream": "stdout",
       "text": [
        " WIKI/CAT\n",
        "Token qwePHAwSwRqpsEXaUpW7 activated and saved for later use."
       ]
      },
      {
       "output_type": "stream",
       "stream": "stdout",
       "text": [
        "\n",
        "Returning Dataframe for "
       ]
      },
      {
       "output_type": "stream",
       "stream": "stdout",
       "text": [
        " WIKI/CBI\n",
        "Token qwePHAwSwRqpsEXaUpW7 activated and saved for later use."
       ]
      },
      {
       "output_type": "stream",
       "stream": "stdout",
       "text": [
        "\n",
        "Returning Dataframe for "
       ]
      },
      {
       "output_type": "stream",
       "stream": "stdout",
       "text": [
        " WIKI/CBS\n",
        "Token qwePHAwSwRqpsEXaUpW7 activated and saved for later use.\n",
        "symbol WIKI/CCJ is not found"
       ]
      },
      {
       "output_type": "stream",
       "stream": "stdout",
       "text": [
        "\n",
        "Token qwePHAwSwRqpsEXaUpW7 activated and saved for later use.\n",
        "Returning Dataframe for "
       ]
      },
      {
       "output_type": "stream",
       "stream": "stdout",
       "text": [
        " WIKI/CELG\n",
        "Token qwePHAwSwRqpsEXaUpW7 activated and saved for later use."
       ]
      },
      {
       "output_type": "stream",
       "stream": "stdout",
       "text": [
        "\n",
        "Returning Dataframe for "
       ]
      },
      {
       "output_type": "stream",
       "stream": "stdout",
       "text": [
        " WIKI/CF\n",
        "Token qwePHAwSwRqpsEXaUpW7 activated and saved for later use.\n",
        "Returning Dataframe for "
       ]
      },
      {
       "output_type": "stream",
       "stream": "stdout",
       "text": [
        " WIKI/CHK\n",
        "Token qwePHAwSwRqpsEXaUpW7 activated and saved for later use."
       ]
      },
      {
       "output_type": "stream",
       "stream": "stdout",
       "text": [
        "\n",
        "Returning Dataframe for "
       ]
      },
      {
       "output_type": "stream",
       "stream": "stdout",
       "text": [
        " WIKI/CIEN\n",
        "Token qwePHAwSwRqpsEXaUpW7 activated and saved for later use."
       ]
      },
      {
       "output_type": "stream",
       "stream": "stdout",
       "text": [
        "\n",
        "Returning Dataframe for "
       ]
      },
      {
       "output_type": "stream",
       "stream": "stdout",
       "text": [
        " WIKI/CL\n",
        "Token qwePHAwSwRqpsEXaUpW7 activated and saved for later use."
       ]
      },
      {
       "output_type": "stream",
       "stream": "stdout",
       "text": [
        "\n",
        "Returning Dataframe for "
       ]
      },
      {
       "output_type": "stream",
       "stream": "stdout",
       "text": [
        " WIKI/CLF\n",
        "Token qwePHAwSwRqpsEXaUpW7 activated and saved for later use."
       ]
      },
      {
       "output_type": "stream",
       "stream": "stdout",
       "text": [
        "\n",
        "Returning Dataframe for "
       ]
      },
      {
       "output_type": "stream",
       "stream": "stdout",
       "text": [
        " WIKI/CMCSA\n",
        "Token qwePHAwSwRqpsEXaUpW7 activated and saved for later use."
       ]
      },
      {
       "output_type": "stream",
       "stream": "stdout",
       "text": [
        "\n",
        "Returning Dataframe for "
       ]
      },
      {
       "output_type": "stream",
       "stream": "stdout",
       "text": [
        " WIKI/CME\n",
        "Token qwePHAwSwRqpsEXaUpW7 activated and saved for later use.\n",
        "Returning Dataframe for "
       ]
      },
      {
       "output_type": "stream",
       "stream": "stdout",
       "text": [
        " WIKI/CMG\n",
        "Token qwePHAwSwRqpsEXaUpW7 activated and saved for later use.\n",
        "Returning Dataframe for "
       ]
      },
      {
       "output_type": "stream",
       "stream": "stdout",
       "text": [
        " WIKI/CMI\n",
        "Token qwePHAwSwRqpsEXaUpW7 activated and saved for later use."
       ]
      },
      {
       "output_type": "stream",
       "stream": "stdout",
       "text": [
        "\n",
        "Returning Dataframe for "
       ]
      },
      {
       "output_type": "stream",
       "stream": "stdout",
       "text": [
        " WIKI/COF\n",
        "Token qwePHAwSwRqpsEXaUpW7 activated and saved for later use."
       ]
      },
      {
       "output_type": "stream",
       "stream": "stdout",
       "text": [
        "\n",
        "Returning Dataframe for "
       ]
      },
      {
       "output_type": "stream",
       "stream": "stdout",
       "text": [
        " WIKI/COH\n",
        "Token qwePHAwSwRqpsEXaUpW7 activated and saved for later use.\n",
        "Returning Dataframe for "
       ]
      },
      {
       "output_type": "stream",
       "stream": "stdout",
       "text": [
        " WIKI/COP\n",
        "Token qwePHAwSwRqpsEXaUpW7 activated and saved for later use."
       ]
      },
      {
       "output_type": "stream",
       "stream": "stdout",
       "text": [
        "\n",
        "Returning Dataframe for "
       ]
      },
      {
       "output_type": "stream",
       "stream": "stdout",
       "text": [
        " WIKI/COST\n",
        "Token qwePHAwSwRqpsEXaUpW7 activated and saved for later use."
       ]
      },
      {
       "output_type": "stream",
       "stream": "stdout",
       "text": [
        "\n",
        "Returning Dataframe for "
       ]
      },
      {
       "output_type": "stream",
       "stream": "stdout",
       "text": [
        " WIKI/CREE\n",
        "Token qwePHAwSwRqpsEXaUpW7 activated and saved for later use."
       ]
      },
      {
       "output_type": "stream",
       "stream": "stdout",
       "text": [
        "\n",
        "Returning Dataframe for "
       ]
      },
      {
       "output_type": "stream",
       "stream": "stdout",
       "text": [
        " WIKI/CRM\n",
        "Token qwePHAwSwRqpsEXaUpW7 activated and saved for later use.\n",
        "Returning Dataframe for "
       ]
      },
      {
       "output_type": "stream",
       "stream": "stdout",
       "text": [
        " WIKI/CRM\n",
        "Token qwePHAwSwRqpsEXaUpW7 activated and saved for later use.\n",
        "Returning Dataframe for "
       ]
      },
      {
       "output_type": "stream",
       "stream": "stdout",
       "text": [
        " WIKI/CRUS\n",
        "Token qwePHAwSwRqpsEXaUpW7 activated and saved for later use."
       ]
      },
      {
       "output_type": "stream",
       "stream": "stdout",
       "text": [
        "\n",
        "Returning Dataframe for "
       ]
      },
      {
       "output_type": "stream",
       "stream": "stdout",
       "text": [
        " WIKI/CSCO\n",
        "Token qwePHAwSwRqpsEXaUpW7 activated and saved for later use."
       ]
      },
      {
       "output_type": "stream",
       "stream": "stdout",
       "text": [
        "\n",
        "symbol WIKI/CSIQ is not found"
       ]
      },
      {
       "output_type": "stream",
       "stream": "stdout",
       "text": [
        "\n",
        "Token qwePHAwSwRqpsEXaUpW7 activated and saved for later use.\n",
        "symbol WIKI/CTRP is not found"
       ]
      },
      {
       "output_type": "stream",
       "stream": "stdout",
       "text": [
        "\n",
        "Token qwePHAwSwRqpsEXaUpW7 activated and saved for later use.\n",
        "Returning Dataframe for "
       ]
      },
      {
       "output_type": "stream",
       "stream": "stdout",
       "text": [
        " WIKI/CTSH\n",
        "Token qwePHAwSwRqpsEXaUpW7 activated and saved for later use."
       ]
      },
      {
       "output_type": "stream",
       "stream": "stdout",
       "text": [
        "\n",
        "Returning Dataframe for "
       ]
      },
      {
       "output_type": "stream",
       "stream": "stdout",
       "text": [
        " WIKI/CVS\n",
        "Token qwePHAwSwRqpsEXaUpW7 activated and saved for later use."
       ]
      },
      {
       "output_type": "stream",
       "stream": "stdout",
       "text": [
        "\n",
        "Returning Dataframe for "
       ]
      },
      {
       "output_type": "stream",
       "stream": "stdout",
       "text": [
        " WIKI/CVX\n",
        "Token qwePHAwSwRqpsEXaUpW7 activated and saved for later use."
       ]
      },
      {
       "output_type": "stream",
       "stream": "stdout",
       "text": [
        "\n",
        "symbol WIKI/CYBR is not found"
       ]
      },
      {
       "output_type": "stream",
       "stream": "stdout",
       "text": [
        "\n",
        "Token qwePHAwSwRqpsEXaUpW7 activated and saved for later use.\n",
        "Returning Dataframe for "
       ]
      },
      {
       "output_type": "stream",
       "stream": "stdout",
       "text": [
        " WIKI/CYH\n",
        "Token qwePHAwSwRqpsEXaUpW7 activated and saved for later use."
       ]
      },
      {
       "output_type": "stream",
       "stream": "stdout",
       "text": [
        "\n",
        "Returning Dataframe for "
       ]
      },
      {
       "output_type": "stream",
       "stream": "stdout",
       "text": [
        " WIKI/CZR\n",
        "Token qwePHAwSwRqpsEXaUpW7 activated and saved for later use.\n",
        "Returning Dataframe for "
       ]
      },
      {
       "output_type": "stream",
       "stream": "stdout",
       "text": [
        " WIKI/DAL\n",
        "Token qwePHAwSwRqpsEXaUpW7 activated and saved for later use.\n",
        "Returning Dataframe for "
       ]
      },
      {
       "output_type": "stream",
       "stream": "stdout",
       "text": [
        " WIKI/DATA\n",
        "Token qwePHAwSwRqpsEXaUpW7 activated and saved for later use.\n",
        "Returning Dataframe for "
       ]
      },
      {
       "output_type": "stream",
       "stream": "stdout",
       "text": [
        " WIKI/DD\n",
        "Token qwePHAwSwRqpsEXaUpW7 activated and saved for later use."
       ]
      },
      {
       "output_type": "stream",
       "stream": "stdout",
       "text": [
        "\n",
        "Returning Dataframe for "
       ]
      },
      {
       "output_type": "stream",
       "stream": "stdout",
       "text": [
        " WIKI/DDD\n",
        "Token qwePHAwSwRqpsEXaUpW7 activated and saved for later use."
       ]
      },
      {
       "output_type": "stream",
       "stream": "stdout",
       "text": [
        "\n",
        "Returning Dataframe for "
       ]
      },
      {
       "output_type": "stream",
       "stream": "stdout",
       "text": [
        " WIKI/DE\n",
        "Token qwePHAwSwRqpsEXaUpW7 activated and saved for later use."
       ]
      },
      {
       "output_type": "stream",
       "stream": "stdout",
       "text": [
        "\n",
        "Returning Dataframe for "
       ]
      },
      {
       "output_type": "stream",
       "stream": "stdout",
       "text": [
        " WIKI/DECK\n",
        "Token qwePHAwSwRqpsEXaUpW7 activated and saved for later use."
       ]
      },
      {
       "output_type": "stream",
       "stream": "stdout",
       "text": [
        "\n",
        "Returning Dataframe for "
       ]
      },
      {
       "output_type": "stream",
       "stream": "stdout",
       "text": [
        " WIKI/DFS\n",
        "Token qwePHAwSwRqpsEXaUpW7 activated and saved for later use.\n",
        "Returning Dataframe for "
       ]
      },
      {
       "output_type": "stream",
       "stream": "stdout",
       "text": [
        " WIKI/DG\n",
        "Token qwePHAwSwRqpsEXaUpW7 activated and saved for later use.\n",
        "Returning Dataframe for "
       ]
      },
      {
       "output_type": "stream",
       "stream": "stdout",
       "text": [
        " WIKI/DHI\n",
        "Token qwePHAwSwRqpsEXaUpW7 activated and saved for later use."
       ]
      },
      {
       "output_type": "stream",
       "stream": "stdout",
       "text": [
        "\n",
        "Returning Dataframe for "
       ]
      },
      {
       "output_type": "stream",
       "stream": "stdout",
       "text": [
        " WIKI/DIS\n",
        "Token qwePHAwSwRqpsEXaUpW7 activated and saved for later use."
       ]
      },
      {
       "output_type": "stream",
       "stream": "stdout",
       "text": [
        "\n",
        "Returning Dataframe for "
       ]
      },
      {
       "output_type": "stream",
       "stream": "stdout",
       "text": [
        " WIKI/DISH\n",
        "Token qwePHAwSwRqpsEXaUpW7 activated and saved for later use."
       ]
      },
      {
       "output_type": "stream",
       "stream": "stdout",
       "text": [
        "\n",
        "Returning Dataframe for "
       ]
      },
      {
       "output_type": "stream",
       "stream": "stdout",
       "text": [
        " WIKI/DOW\n",
        "Token qwePHAwSwRqpsEXaUpW7 activated and saved for later use."
       ]
      },
      {
       "output_type": "stream",
       "stream": "stdout",
       "text": [
        "\n",
        "symbol WIKI/DRYS is not found"
       ]
      },
      {
       "output_type": "stream",
       "stream": "stdout",
       "text": [
        "\n",
        "Token qwePHAwSwRqpsEXaUpW7 activated and saved for later use.\n",
        "Returning Dataframe for "
       ]
      },
      {
       "output_type": "stream",
       "stream": "stdout",
       "text": [
        " WIKI/DVN\n",
        "Token qwePHAwSwRqpsEXaUpW7 activated and saved for later use."
       ]
      },
      {
       "output_type": "stream",
       "stream": "stdout",
       "text": [
        "\n",
        "Returning Dataframe for "
       ]
      },
      {
       "output_type": "stream",
       "stream": "stdout",
       "text": [
        " WIKI/DWA\n",
        "Token qwePHAwSwRqpsEXaUpW7 activated and saved for later use.\n",
        "Returning Dataframe for "
       ]
      },
      {
       "output_type": "stream",
       "stream": "stdout",
       "text": [
        " WIKI/EA\n",
        "Token qwePHAwSwRqpsEXaUpW7 activated and saved for later use."
       ]
      },
      {
       "output_type": "stream",
       "stream": "stdout",
       "text": [
        "\n",
        "Returning Dataframe for "
       ]
      },
      {
       "output_type": "stream",
       "stream": "stdout",
       "text": [
        " WIKI/EBAY\n",
        "Token qwePHAwSwRqpsEXaUpW7 activated and saved for later use."
       ]
      },
      {
       "output_type": "stream",
       "stream": "stdout",
       "text": [
        "\n",
        "Returning Dataframe for "
       ]
      },
      {
       "output_type": "stream",
       "stream": "stdout",
       "text": [
        " WIKI/EMC\n",
        "Token qwePHAwSwRqpsEXaUpW7 activated and saved for later use."
       ]
      },
      {
       "output_type": "stream",
       "stream": "stdout",
       "text": [
        "\n",
        "symbol WIKI/EMES is not found"
       ]
      },
      {
       "output_type": "stream",
       "stream": "stdout",
       "text": [
        "\n",
        "Token qwePHAwSwRqpsEXaUpW7 activated and saved for later use.\n",
        "Returning Dataframe for "
       ]
      },
      {
       "output_type": "stream",
       "stream": "stdout",
       "text": [
        " WIKI/EOG\n",
        "Token qwePHAwSwRqpsEXaUpW7 activated and saved for later use."
       ]
      },
      {
       "output_type": "stream",
       "stream": "stdout",
       "text": [
        "\n",
        "Returning Dataframe for "
       ]
      },
      {
       "output_type": "stream",
       "stream": "stdout",
       "text": [
        " WIKI/ESRX\n",
        "Token qwePHAwSwRqpsEXaUpW7 activated and saved for later use."
       ]
      },
      {
       "output_type": "stream",
       "stream": "stdout",
       "text": [
        "\n",
        "Returning Dataframe for "
       ]
      },
      {
       "output_type": "stream",
       "stream": "stdout",
       "text": [
        " WIKI/ETFC\n",
        "Token qwePHAwSwRqpsEXaUpW7 activated and saved for later use."
       ]
      },
      {
       "output_type": "stream",
       "stream": "stdout",
       "text": [
        "\n",
        "Returning Dataframe for "
       ]
      },
      {
       "output_type": "stream",
       "stream": "stdout",
       "text": [
        " WIKI/ETN\n",
        "Token qwePHAwSwRqpsEXaUpW7 activated and saved for later use."
       ]
      },
      {
       "output_type": "stream",
       "stream": "stdout",
       "text": [
        "\n",
        "Returning Dataframe for "
       ]
      },
      {
       "output_type": "stream",
       "stream": "stdout",
       "text": [
        " WIKI/EXPE\n",
        "Token qwePHAwSwRqpsEXaUpW7 activated and saved for later use.\n",
        "Returning Dataframe for "
       ]
      },
      {
       "output_type": "stream",
       "stream": "stdout",
       "text": [
        " WIKI/EXXI\n",
        "Token qwePHAwSwRqpsEXaUpW7 activated and saved for later use.\n",
        "Returning Dataframe for "
       ]
      },
      {
       "output_type": "stream",
       "stream": "stdout",
       "text": [
        " WIKI/F\n",
        "Token qwePHAwSwRqpsEXaUpW7 activated and saved for later use."
       ]
      },
      {
       "output_type": "stream",
       "stream": "stdout",
       "text": [
        "\n",
        "Returning Dataframe for "
       ]
      },
      {
       "output_type": "stream",
       "stream": "stdout",
       "text": [
        " WIKI/FB\n",
        "Token qwePHAwSwRqpsEXaUpW7 activated and saved for later use.\n",
        "Returning Dataframe for "
       ]
      },
      {
       "output_type": "stream",
       "stream": "stdout",
       "text": [
        " WIKI/FCX\n",
        "Token qwePHAwSwRqpsEXaUpW7 activated and saved for later use."
       ]
      },
      {
       "output_type": "stream",
       "stream": "stdout",
       "text": [
        "\n",
        "Returning Dataframe for "
       ]
      },
      {
       "output_type": "stream",
       "stream": "stdout",
       "text": [
        " WIKI/FDO\n",
        "Token qwePHAwSwRqpsEXaUpW7 activated and saved for later use."
       ]
      },
      {
       "output_type": "stream",
       "stream": "stdout",
       "text": [
        "\n",
        "Returning Dataframe for "
       ]
      },
      {
       "output_type": "stream",
       "stream": "stdout",
       "text": [
        " WIKI/FDX\n",
        "Token qwePHAwSwRqpsEXaUpW7 activated and saved for later use."
       ]
      },
      {
       "output_type": "stream",
       "stream": "stdout",
       "text": [
        "\n",
        "symbol WIKI/FEYE is not found"
       ]
      },
      {
       "output_type": "stream",
       "stream": "stdout",
       "text": [
        "\n",
        "Token qwePHAwSwRqpsEXaUpW7 activated and saved for later use.\n",
        "Returning Dataframe for "
       ]
      },
      {
       "output_type": "stream",
       "stream": "stdout",
       "text": [
        " WIKI/FFIV\n",
        "Token qwePHAwSwRqpsEXaUpW7 activated and saved for later use."
       ]
      },
      {
       "output_type": "stream",
       "stream": "stdout",
       "text": [
        "\n",
        "symbol WIKI/FIT is not found"
       ]
      },
      {
       "output_type": "stream",
       "stream": "stdout",
       "text": [
        "\n",
        "Token qwePHAwSwRqpsEXaUpW7 activated and saved for later use.\n",
        "Returning Dataframe for "
       ]
      },
      {
       "output_type": "stream",
       "stream": "stdout",
       "text": [
        " WIKI/FLR\n",
        "Token qwePHAwSwRqpsEXaUpW7 activated and saved for later use."
       ]
      },
      {
       "output_type": "stream",
       "stream": "stdout",
       "text": [
        "\n",
        "Returning Dataframe for "
       ]
      },
      {
       "output_type": "stream",
       "stream": "stdout",
       "text": [
        " WIKI/FOSL\n",
        "Token qwePHAwSwRqpsEXaUpW7 activated and saved for later use."
       ]
      },
      {
       "output_type": "stream",
       "stream": "stdout",
       "text": [
        "\n",
        "Returning Dataframe for "
       ]
      },
      {
       "output_type": "stream",
       "stream": "stdout",
       "text": [
        " WIKI/FSLR\n",
        "Token qwePHAwSwRqpsEXaUpW7 activated and saved for later use.\n",
        "Returning Dataframe for "
       ]
      },
      {
       "output_type": "stream",
       "stream": "stdout",
       "text": [
        " WIKI/GALE\n",
        "Token qwePHAwSwRqpsEXaUpW7 activated and saved for later use.\n",
        "Returning Dataframe for "
       ]
      },
      {
       "output_type": "stream",
       "stream": "stdout",
       "text": [
        " WIKI/GE\n",
        "Token qwePHAwSwRqpsEXaUpW7 activated and saved for later use."
       ]
      },
      {
       "output_type": "stream",
       "stream": "stdout",
       "text": [
        "\n",
        "symbol WIKI/GG is not found"
       ]
      },
      {
       "output_type": "stream",
       "stream": "stdout",
       "text": [
        "\n",
        "Token qwePHAwSwRqpsEXaUpW7 activated and saved for later use.\n",
        "Returning Dataframe for "
       ]
      },
      {
       "output_type": "stream",
       "stream": "stdout",
       "text": [
        " WIKI/GILD\n",
        "Token qwePHAwSwRqpsEXaUpW7 activated and saved for later use."
       ]
      },
      {
       "output_type": "stream",
       "stream": "stdout",
       "text": [
        "\n",
        "Returning Dataframe for "
       ]
      },
      {
       "output_type": "stream",
       "stream": "stdout",
       "text": [
        " WIKI/GLW\n",
        "Token qwePHAwSwRqpsEXaUpW7 activated and saved for later use."
       ]
      },
      {
       "output_type": "stream",
       "stream": "stdout",
       "text": [
        "\n",
        "Returning Dataframe for "
       ]
      },
      {
       "output_type": "stream",
       "stream": "stdout",
       "text": [
        " WIKI/GM\n",
        "Token qwePHAwSwRqpsEXaUpW7 activated and saved for later use.\n",
        "Returning Dataframe for "
       ]
      },
      {
       "output_type": "stream",
       "stream": "stdout",
       "text": [
        " WIKI/GMCR\n",
        "Token qwePHAwSwRqpsEXaUpW7 activated and saved for later use."
       ]
      },
      {
       "output_type": "stream",
       "stream": "stdout",
       "text": [
        "\n",
        "Returning Dataframe for "
       ]
      },
      {
       "output_type": "stream",
       "stream": "stdout",
       "text": [
        " WIKI/GME\n",
        "Token qwePHAwSwRqpsEXaUpW7 activated and saved for later use."
       ]
      },
      {
       "output_type": "stream",
       "stream": "stdout",
       "text": [
        "\n",
        "Returning Dataframe for "
       ]
      },
      {
       "output_type": "stream",
       "stream": "stdout",
       "text": [
        " WIKI/GNW\n",
        "Token qwePHAwSwRqpsEXaUpW7 activated and saved for later use.\n",
        "Returning Dataframe for "
       ]
      },
      {
       "output_type": "stream",
       "stream": "stdout",
       "text": [
        " WIKI/GOGO\n",
        "Token qwePHAwSwRqpsEXaUpW7 activated and saved for later use.\n",
        "Returning Dataframe for "
       ]
      },
      {
       "output_type": "stream",
       "stream": "stdout",
       "text": [
        " WIKI/GOOG\n",
        "Token qwePHAwSwRqpsEXaUpW7 activated and saved for later use.\n",
        "Returning Dataframe for "
       ]
      },
      {
       "output_type": "stream",
       "stream": "stdout",
       "text": [
        " WIKI/GOOGL\n",
        "Token qwePHAwSwRqpsEXaUpW7 activated and saved for later use.\n",
        "symbol WIKI/GPRO is not found"
       ]
      },
      {
       "output_type": "stream",
       "stream": "stdout",
       "text": [
        "\n",
        "Token qwePHAwSwRqpsEXaUpW7 activated and saved for later use.\n",
        "Returning Dataframe for "
       ]
      },
      {
       "output_type": "stream",
       "stream": "stdout",
       "text": [
        " WIKI/GPS\n",
        "Token qwePHAwSwRqpsEXaUpW7 activated and saved for later use."
       ]
      },
      {
       "output_type": "stream",
       "stream": "stdout",
       "text": [
        "\n",
        "Returning Dataframe for "
       ]
      },
      {
       "output_type": "stream",
       "stream": "stdout",
       "text": [
        " WIKI/GRPN\n",
        "Token qwePHAwSwRqpsEXaUpW7 activated and saved for later use.\n",
        "Returning Dataframe for "
       ]
      },
      {
       "output_type": "stream",
       "stream": "stdout",
       "text": [
        " WIKI/GS\n",
        "Token qwePHAwSwRqpsEXaUpW7 activated and saved for later use."
       ]
      },
      {
       "output_type": "stream",
       "stream": "stdout",
       "text": [
        "\n",
        "Returning Dataframe for "
       ]
      },
      {
       "output_type": "stream",
       "stream": "stdout",
       "text": [
        " WIKI/GT\n",
        "Token qwePHAwSwRqpsEXaUpW7 activated and saved for later use."
       ]
      },
      {
       "output_type": "stream",
       "stream": "stdout",
       "text": [
        "\n",
        "Returning Dataframe for "
       ]
      },
      {
       "output_type": "stream",
       "stream": "stdout",
       "text": [
        " WIKI/HAL\n",
        "Token qwePHAwSwRqpsEXaUpW7 activated and saved for later use."
       ]
      },
      {
       "output_type": "stream",
       "stream": "stdout",
       "text": [
        "\n",
        "Returning Dataframe for "
       ]
      },
      {
       "output_type": "stream",
       "stream": "stdout",
       "text": [
        " WIKI/HCA\n",
        "Token qwePHAwSwRqpsEXaUpW7 activated and saved for later use.\n",
        "Returning Dataframe for "
       ]
      },
      {
       "output_type": "stream",
       "stream": "stdout",
       "text": [
        " WIKI/HD\n",
        "Token qwePHAwSwRqpsEXaUpW7 activated and saved for later use."
       ]
      },
      {
       "output_type": "stream",
       "stream": "stdout",
       "text": [
        "\n",
        "Returning Dataframe for "
       ]
      },
      {
       "output_type": "stream",
       "stream": "stdout",
       "text": [
        " WIKI/HES\n",
        "Token qwePHAwSwRqpsEXaUpW7 activated and saved for later use."
       ]
      },
      {
       "output_type": "stream",
       "stream": "stdout",
       "text": [
        "\n",
        "Returning Dataframe for "
       ]
      },
      {
       "output_type": "stream",
       "stream": "stdout",
       "text": [
        " WIKI/HFC\n",
        "Token qwePHAwSwRqpsEXaUpW7 activated and saved for later use."
       ]
      },
      {
       "output_type": "stream",
       "stream": "stdout",
       "text": [
        "\n",
        "Returning Dataframe for "
       ]
      },
      {
       "output_type": "stream",
       "stream": "stdout",
       "text": [
        " WIKI/HIG\n",
        "Token qwePHAwSwRqpsEXaUpW7 activated and saved for later use."
       ]
      },
      {
       "output_type": "stream",
       "stream": "stdout",
       "text": [
        "\n",
        "symbol WIKI/HIMX is not found"
       ]
      },
      {
       "output_type": "stream",
       "stream": "stdout",
       "text": [
        "\n",
        "Token qwePHAwSwRqpsEXaUpW7 activated and saved for later use.\n",
        "Returning Dataframe for "
       ]
      },
      {
       "output_type": "stream",
       "stream": "stdout",
       "text": [
        " WIKI/HK\n",
        "Token qwePHAwSwRqpsEXaUpW7 activated and saved for later use.\n",
        "Returning Dataframe for "
       ]
      },
      {
       "output_type": "stream",
       "stream": "stdout",
       "text": [
        " WIKI/HLF\n",
        "Token qwePHAwSwRqpsEXaUpW7 activated and saved for later use.\n",
        "Returning Dataframe for "
       ]
      },
      {
       "output_type": "stream",
       "stream": "stdout",
       "text": [
        " WIKI/HPQ\n",
        "Token qwePHAwSwRqpsEXaUpW7 activated and saved for later use."
       ]
      },
      {
       "output_type": "stream",
       "stream": "stdout",
       "text": [
        "\n",
        "Returning Dataframe for "
       ]
      },
      {
       "output_type": "stream",
       "stream": "stdout",
       "text": [
        " WIKI/HTZ\n",
        "Token qwePHAwSwRqpsEXaUpW7 activated and saved for later use.\n",
        "Returning Dataframe for "
       ]
      },
      {
       "output_type": "stream",
       "stream": "stdout",
       "text": [
        " WIKI/HUM\n",
        "Token qwePHAwSwRqpsEXaUpW7 activated and saved for later use."
       ]
      },
      {
       "output_type": "stream",
       "stream": "stdout",
       "text": [
        "\n",
        "Returning Dataframe for "
       ]
      },
      {
       "output_type": "stream",
       "stream": "stdout",
       "text": [
        " WIKI/IBM\n",
        "Token qwePHAwSwRqpsEXaUpW7 activated and saved for later use."
       ]
      },
      {
       "output_type": "stream",
       "stream": "stdout",
       "text": [
        "\n",
        "Returning Dataframe for "
       ]
      },
      {
       "output_type": "stream",
       "stream": "stdout",
       "text": [
        " WIKI/ICPT\n",
        "Token qwePHAwSwRqpsEXaUpW7 activated and saved for later use.\n",
        "Returning Dataframe for "
       ]
      },
      {
       "output_type": "stream",
       "stream": "stdout",
       "text": [
        " WIKI/IDCC\n",
        "Token qwePHAwSwRqpsEXaUpW7 activated and saved for later use."
       ]
      },
      {
       "output_type": "stream",
       "stream": "stdout",
       "text": [
        "\n",
        "Returning Dataframe for "
       ]
      },
      {
       "output_type": "stream",
       "stream": "stdout",
       "text": [
        " WIKI/ILMN\n",
        "Token qwePHAwSwRqpsEXaUpW7 activated and saved for later use."
       ]
      },
      {
       "output_type": "stream",
       "stream": "stdout",
       "text": [
        "\n",
        "Returning Dataframe for "
       ]
      },
      {
       "output_type": "stream",
       "stream": "stdout",
       "text": [
        " WIKI/INTC\n",
        "Token qwePHAwSwRqpsEXaUpW7 activated and saved for later use."
       ]
      },
      {
       "output_type": "stream",
       "stream": "stdout",
       "text": [
        "\n",
        "Returning Dataframe for "
       ]
      },
      {
       "output_type": "stream",
       "stream": "stdout",
       "text": [
        " WIKI/INVN\n",
        "Token qwePHAwSwRqpsEXaUpW7 activated and saved for later use.\n",
        "symbol WIKI/IOC is not found"
       ]
      },
      {
       "output_type": "stream",
       "stream": "stdout",
       "text": [
        "\n",
        "Token qwePHAwSwRqpsEXaUpW7 activated and saved for later use.\n",
        "Returning Dataframe for "
       ]
      },
      {
       "output_type": "stream",
       "stream": "stdout",
       "text": [
        " WIKI/IP\n",
        "Token qwePHAwSwRqpsEXaUpW7 activated and saved for later use."
       ]
      },
      {
       "output_type": "stream",
       "stream": "stdout",
       "text": [
        "\n",
        "Returning Dataframe for "
       ]
      },
      {
       "output_type": "stream",
       "stream": "stdout",
       "text": [
        " WIKI/ISIS\n",
        "Token qwePHAwSwRqpsEXaUpW7 activated and saved for later use."
       ]
      },
      {
       "output_type": "stream",
       "stream": "stdout",
       "text": [
        "\n",
        "Returning Dataframe for "
       ]
      },
      {
       "output_type": "stream",
       "stream": "stdout",
       "text": [
        " WIKI/ISRG\n",
        "Token qwePHAwSwRqpsEXaUpW7 activated and saved for later use."
       ]
      },
      {
       "output_type": "stream",
       "stream": "stdout",
       "text": [
        "\n",
        "symbol WIKI/JAZZ is not found"
       ]
      },
      {
       "output_type": "stream",
       "stream": "stdout",
       "text": [
        "\n",
        "Token qwePHAwSwRqpsEXaUpW7 activated and saved for later use.\n",
        "Returning Dataframe for "
       ]
      },
      {
       "output_type": "stream",
       "stream": "stdout",
       "text": [
        " WIKI/JCP\n",
        "Token qwePHAwSwRqpsEXaUpW7 activated and saved for later use."
       ]
      },
      {
       "output_type": "stream",
       "stream": "stdout",
       "text": [
        "\n",
        "symbol WIKI/JD is not found"
       ]
      },
      {
       "output_type": "stream",
       "stream": "stdout",
       "text": [
        "\n",
        "Token qwePHAwSwRqpsEXaUpW7 activated and saved for later use.\n",
        "Returning Dataframe for "
       ]
      },
      {
       "output_type": "stream",
       "stream": "stdout",
       "text": [
        " WIKI/JNJ\n",
        "Token qwePHAwSwRqpsEXaUpW7 activated and saved for later use."
       ]
      },
      {
       "output_type": "stream",
       "stream": "stdout",
       "text": [
        "\n",
        "Returning Dataframe for "
       ]
      },
      {
       "output_type": "stream",
       "stream": "stdout",
       "text": [
        " WIKI/JNPR\n",
        "Token qwePHAwSwRqpsEXaUpW7 activated and saved for later use."
       ]
      },
      {
       "output_type": "stream",
       "stream": "stdout",
       "text": [
        "\n",
        "Returning Dataframe for "
       ]
      },
      {
       "output_type": "stream",
       "stream": "stdout",
       "text": [
        " WIKI/JOY\n",
        "Token qwePHAwSwRqpsEXaUpW7 activated and saved for later use.\n",
        "Returning Dataframe for "
       ]
      },
      {
       "output_type": "stream",
       "stream": "stdout",
       "text": [
        " WIKI/JPM\n",
        "Token qwePHAwSwRqpsEXaUpW7 activated and saved for later use."
       ]
      },
      {
       "output_type": "stream",
       "stream": "stdout",
       "text": [
        "\n",
        "symbol WIKI/KGC is not found"
       ]
      },
      {
       "output_type": "stream",
       "stream": "stdout",
       "text": [
        "\n",
        "Token qwePHAwSwRqpsEXaUpW7 activated and saved for later use.\n",
        "symbol WIKI/KING is not found"
       ]
      },
      {
       "output_type": "stream",
       "stream": "stdout",
       "text": [
        "\n",
        "Token qwePHAwSwRqpsEXaUpW7 activated and saved for later use.\n",
        "Returning Dataframe for "
       ]
      },
      {
       "output_type": "stream",
       "stream": "stdout",
       "text": [
        " WIKI/KMI\n",
        "Token qwePHAwSwRqpsEXaUpW7 activated and saved for later use.\n",
        "symbol WIKI/KNDI is not found"
       ]
      },
      {
       "output_type": "stream",
       "stream": "stdout",
       "text": [
        "\n",
        "Token qwePHAwSwRqpsEXaUpW7 activated and saved for later use.\n",
        "Returning Dataframe for "
       ]
      },
      {
       "output_type": "stream",
       "stream": "stdout",
       "text": [
        " WIKI/KO\n",
        "Token qwePHAwSwRqpsEXaUpW7 activated and saved for later use."
       ]
      },
      {
       "output_type": "stream",
       "stream": "stdout",
       "text": [
        "\n",
        "Returning Dataframe for "
       ]
      },
      {
       "output_type": "stream",
       "stream": "stdout",
       "text": [
        " WIKI/KORS\n",
        "Token qwePHAwSwRqpsEXaUpW7 activated and saved for later use.\n",
        "Returning Dataframe for "
       ]
      },
      {
       "output_type": "stream",
       "stream": "stdout",
       "text": [
        " WIKI/KRFT\n",
        "Token qwePHAwSwRqpsEXaUpW7 activated and saved for later use.\n",
        "Returning Dataframe for "
       ]
      },
      {
       "output_type": "stream",
       "stream": "stdout",
       "text": [
        " WIKI/KSU\n",
        "Token qwePHAwSwRqpsEXaUpW7 activated and saved for later use."
       ]
      },
      {
       "output_type": "stream",
       "stream": "stdout",
       "text": [
        "\n",
        "Returning Dataframe for "
       ]
      },
      {
       "output_type": "stream",
       "stream": "stdout",
       "text": [
        " WIKI/LL\n",
        "Token qwePHAwSwRqpsEXaUpW7 activated and saved for later use.\n",
        "Returning Dataframe for "
       ]
      },
      {
       "output_type": "stream",
       "stream": "stdout",
       "text": [
        " WIKI/LLY\n",
        "Token qwePHAwSwRqpsEXaUpW7 activated and saved for later use."
       ]
      },
      {
       "output_type": "stream",
       "stream": "stdout",
       "text": [
        "\n",
        "Returning Dataframe for "
       ]
      },
      {
       "output_type": "stream",
       "stream": "stdout",
       "text": [
        " WIKI/LNG\n",
        "Token qwePHAwSwRqpsEXaUpW7 activated and saved for later use."
       ]
      },
      {
       "output_type": "stream",
       "stream": "stdout",
       "text": [
        "\n",
        "Returning Dataframe for "
       ]
      },
      {
       "output_type": "stream",
       "stream": "stdout",
       "text": [
        " WIKI/LNKD\n",
        "Token qwePHAwSwRqpsEXaUpW7 activated and saved for later use.\n",
        "symbol WIKI/LOCO is not found"
       ]
      },
      {
       "output_type": "stream",
       "stream": "stdout",
       "text": [
        "\n",
        "Token qwePHAwSwRqpsEXaUpW7 activated and saved for later use.\n",
        "symbol WIKI/LULU is not found"
       ]
      },
      {
       "output_type": "stream",
       "stream": "stdout",
       "text": [
        "\n",
        "Token qwePHAwSwRqpsEXaUpW7 activated and saved for later use.\n",
        "Returning Dataframe for "
       ]
      },
      {
       "output_type": "stream",
       "stream": "stdout",
       "text": [
        " WIKI/LUV\n",
        "Token qwePHAwSwRqpsEXaUpW7 activated and saved for later use."
       ]
      },
      {
       "output_type": "stream",
       "stream": "stdout",
       "text": [
        "\n",
        "Returning Dataframe for "
       ]
      },
      {
       "output_type": "stream",
       "stream": "stdout",
       "text": [
        " WIKI/LVS\n",
        "Token qwePHAwSwRqpsEXaUpW7 activated and saved for later use.\n",
        "Returning Dataframe for "
       ]
      },
      {
       "output_type": "stream",
       "stream": "stdout",
       "text": [
        " WIKI/M\n",
        "Token qwePHAwSwRqpsEXaUpW7 activated and saved for later use."
       ]
      },
      {
       "output_type": "stream",
       "stream": "stdout",
       "text": [
        "\n",
        "Returning Dataframe for "
       ]
      },
      {
       "output_type": "stream",
       "stream": "stdout",
       "text": [
        " WIKI/MA\n",
        "Token qwePHAwSwRqpsEXaUpW7 activated and saved for later use.\n",
        "Returning Dataframe for "
       ]
      },
      {
       "output_type": "stream",
       "stream": "stdout",
       "text": [
        " WIKI/MBI\n",
        "Token qwePHAwSwRqpsEXaUpW7 activated and saved for later use."
       ]
      },
      {
       "output_type": "stream",
       "stream": "stdout",
       "text": [
        "\n",
        "symbol WIKI/MBLY is not found"
       ]
      },
      {
       "output_type": "stream",
       "stream": "stdout",
       "text": [
        "\n",
        "Token qwePHAwSwRqpsEXaUpW7 activated and saved for later use.\n",
        "Returning Dataframe for "
       ]
      },
      {
       "output_type": "stream",
       "stream": "stdout",
       "text": [
        " WIKI/MCD\n",
        "Token qwePHAwSwRqpsEXaUpW7 activated and saved for later use."
       ]
      },
      {
       "output_type": "stream",
       "stream": "stdout",
       "text": [
        "\n",
        "Returning Dataframe for "
       ]
      },
      {
       "output_type": "stream",
       "stream": "stdout",
       "text": [
        " WIKI/MCP\n",
        "Token qwePHAwSwRqpsEXaUpW7 activated and saved for later use.\n",
        "Returning Dataframe for "
       ]
      },
      {
       "output_type": "stream",
       "stream": "stdout",
       "text": [
        " WIKI/MDT\n",
        "Token qwePHAwSwRqpsEXaUpW7 activated and saved for later use."
       ]
      },
      {
       "output_type": "stream",
       "stream": "stdout",
       "text": [
        "\n",
        "Returning Dataframe for "
       ]
      },
      {
       "output_type": "stream",
       "stream": "stdout",
       "text": [
        " WIKI/MDVN\n",
        "Token qwePHAwSwRqpsEXaUpW7 activated and saved for later use."
       ]
      },
      {
       "output_type": "stream",
       "stream": "stdout",
       "text": [
        "\n",
        "Returning Dataframe for "
       ]
      },
      {
       "output_type": "stream",
       "stream": "stdout",
       "text": [
        " WIKI/MET\n",
        "Token qwePHAwSwRqpsEXaUpW7 activated and saved for later use."
       ]
      },
      {
       "output_type": "stream",
       "stream": "stdout",
       "text": [
        "\n",
        "Returning Dataframe for "
       ]
      },
      {
       "output_type": "stream",
       "stream": "stdout",
       "text": [
        " WIKI/MGM\n",
        "Token qwePHAwSwRqpsEXaUpW7 activated and saved for later use."
       ]
      },
      {
       "output_type": "stream",
       "stream": "stdout",
       "text": [
        "\n",
        "Returning Dataframe for "
       ]
      },
      {
       "output_type": "stream",
       "stream": "stdout",
       "text": [
        " WIKI/MMM\n",
        "Token qwePHAwSwRqpsEXaUpW7 activated and saved for later use."
       ]
      },
      {
       "output_type": "stream",
       "stream": "stdout",
       "text": [
        "\n",
        "Returning Dataframe for "
       ]
      },
      {
       "output_type": "stream",
       "stream": "stdout",
       "text": [
        " WIKI/MNK\n",
        "Token qwePHAwSwRqpsEXaUpW7 activated and saved for later use.\n",
        "Returning Dataframe for "
       ]
      },
      {
       "output_type": "stream",
       "stream": "stdout",
       "text": [
        " WIKI/MNKD\n",
        "Token qwePHAwSwRqpsEXaUpW7 activated and saved for later use.\n",
        "Returning Dataframe for "
       ]
      },
      {
       "output_type": "stream",
       "stream": "stdout",
       "text": [
        " WIKI/MNST\n",
        "Token qwePHAwSwRqpsEXaUpW7 activated and saved for later use."
       ]
      },
      {
       "output_type": "stream",
       "stream": "stdout",
       "text": [
        "\n",
        "Returning Dataframe for "
       ]
      },
      {
       "output_type": "stream",
       "stream": "stdout",
       "text": [
        " WIKI/MO\n",
        "Token qwePHAwSwRqpsEXaUpW7 activated and saved for later use."
       ]
      },
      {
       "output_type": "stream",
       "stream": "stdout",
       "text": [
        "\n",
        "Returning Dataframe for "
       ]
      },
      {
       "output_type": "stream",
       "stream": "stdout",
       "text": [
        " WIKI/MON\n",
        "Token qwePHAwSwRqpsEXaUpW7 activated and saved for later use.\n",
        "Returning Dataframe for "
       ]
      },
      {
       "output_type": "stream",
       "stream": "stdout",
       "text": [
        " WIKI/MOS\n",
        "Token qwePHAwSwRqpsEXaUpW7 activated and saved for later use."
       ]
      },
      {
       "output_type": "stream",
       "stream": "stdout",
       "text": [
        "\n",
        "Returning Dataframe for "
       ]
      },
      {
       "output_type": "stream",
       "stream": "stdout",
       "text": [
        " WIKI/MPC\n",
        "Token qwePHAwSwRqpsEXaUpW7 activated and saved for later use.\n",
        "symbol WIKI/MPEL is not found"
       ]
      },
      {
       "output_type": "stream",
       "stream": "stdout",
       "text": [
        "\n",
        "Token qwePHAwSwRqpsEXaUpW7 activated and saved for later use.\n",
        "Returning Dataframe for "
       ]
      },
      {
       "output_type": "stream",
       "stream": "stdout",
       "text": [
        " WIKI/MRK\n",
        "Token qwePHAwSwRqpsEXaUpW7 activated and saved for later use."
       ]
      },
      {
       "output_type": "stream",
       "stream": "stdout",
       "text": [
        "\n",
        "Returning Dataframe for "
       ]
      },
      {
       "output_type": "stream",
       "stream": "stdout",
       "text": [
        " WIKI/MRO\n",
        "Token qwePHAwSwRqpsEXaUpW7 activated and saved for later use."
       ]
      },
      {
       "output_type": "stream",
       "stream": "stdout",
       "text": [
        "\n",
        "Returning Dataframe for "
       ]
      },
      {
       "output_type": "stream",
       "stream": "stdout",
       "text": [
        " WIKI/MRVL\n",
        "Token qwePHAwSwRqpsEXaUpW7 activated and saved for later use."
       ]
      },
      {
       "output_type": "stream",
       "stream": "stdout",
       "text": [
        "\n",
        "Returning Dataframe for "
       ]
      },
      {
       "output_type": "stream",
       "stream": "stdout",
       "text": [
        " WIKI/MS\n",
        "Token qwePHAwSwRqpsEXaUpW7 activated and saved for later use."
       ]
      },
      {
       "output_type": "stream",
       "stream": "stdout",
       "text": [
        "\n",
        "Returning Dataframe for "
       ]
      },
      {
       "output_type": "stream",
       "stream": "stdout",
       "text": [
        " WIKI/MSFT\n",
        "Token qwePHAwSwRqpsEXaUpW7 activated and saved for later use."
       ]
      },
      {
       "output_type": "stream",
       "stream": "stdout",
       "text": [
        "\n",
        "Returning Dataframe for "
       ]
      },
      {
       "output_type": "stream",
       "stream": "stdout",
       "text": [
        " WIKI/MTG\n",
        "Token qwePHAwSwRqpsEXaUpW7 activated and saved for later use."
       ]
      },
      {
       "output_type": "stream",
       "stream": "stdout",
       "text": [
        "\n",
        "Returning Dataframe for "
       ]
      },
      {
       "output_type": "stream",
       "stream": "stdout",
       "text": [
        " WIKI/MU\n",
        "Token qwePHAwSwRqpsEXaUpW7 activated and saved for later use."
       ]
      },
      {
       "output_type": "stream",
       "stream": "stdout",
       "text": [
        "\n",
        "Returning Dataframe for "
       ]
      },
      {
       "output_type": "stream",
       "stream": "stdout",
       "text": [
        " WIKI/MYGN\n",
        "Token qwePHAwSwRqpsEXaUpW7 activated and saved for later use."
       ]
      },
      {
       "output_type": "stream",
       "stream": "stdout",
       "text": [
        "\n",
        "Returning Dataframe for "
       ]
      },
      {
       "output_type": "stream",
       "stream": "stdout",
       "text": [
        " WIKI/MYL\n",
        "Token qwePHAwSwRqpsEXaUpW7 activated and saved for later use."
       ]
      },
      {
       "output_type": "stream",
       "stream": "stdout",
       "text": [
        "\n",
        "Returning Dataframe for "
       ]
      },
      {
       "output_type": "stream",
       "stream": "stdout",
       "text": [
        " WIKI/NAV\n",
        "Token qwePHAwSwRqpsEXaUpW7 activated and saved for later use."
       ]
      },
      {
       "output_type": "stream",
       "stream": "stdout",
       "text": [
        "\n",
        "symbol WIKI/NBG is not found"
       ]
      },
      {
       "output_type": "stream",
       "stream": "stdout",
       "text": [
        "\n",
        "Token qwePHAwSwRqpsEXaUpW7 activated and saved for later use.\n",
        "Returning Dataframe for "
       ]
      },
      {
       "output_type": "stream",
       "stream": "stdout",
       "text": [
        " WIKI/NE\n",
        "Token qwePHAwSwRqpsEXaUpW7 activated and saved for later use."
       ]
      },
      {
       "output_type": "stream",
       "stream": "stdout",
       "text": [
        "\n",
        "Returning Dataframe for "
       ]
      },
      {
       "output_type": "stream",
       "stream": "stdout",
       "text": [
        " WIKI/NEM\n",
        "Token qwePHAwSwRqpsEXaUpW7 activated and saved for later use."
       ]
      },
      {
       "output_type": "stream",
       "stream": "stdout",
       "text": [
        "\n",
        "Returning Dataframe for "
       ]
      },
      {
       "output_type": "stream",
       "stream": "stdout",
       "text": [
        " WIKI/NFLX\n",
        "Token qwePHAwSwRqpsEXaUpW7 activated and saved for later use."
       ]
      },
      {
       "output_type": "stream",
       "stream": "stdout",
       "text": [
        "\n",
        "Returning Dataframe for "
       ]
      },
      {
       "output_type": "stream",
       "stream": "stdout",
       "text": [
        " WIKI/NKE\n",
        "Token qwePHAwSwRqpsEXaUpW7 activated and saved for later use."
       ]
      },
      {
       "output_type": "stream",
       "stream": "stdout",
       "text": [
        "\n",
        "Returning Dataframe for "
       ]
      },
      {
       "output_type": "stream",
       "stream": "stdout",
       "text": [
        " WIKI/NLY\n",
        "Token qwePHAwSwRqpsEXaUpW7 activated and saved for later use."
       ]
      },
      {
       "output_type": "stream",
       "stream": "stdout",
       "text": [
        "\n",
        "symbol WIKI/NOK is not found"
       ]
      },
      {
       "output_type": "stream",
       "stream": "stdout",
       "text": [
        "\n",
        "Token qwePHAwSwRqpsEXaUpW7 activated and saved for later use.\n",
        "Returning Dataframe for "
       ]
      },
      {
       "output_type": "stream",
       "stream": "stdout",
       "text": [
        " WIKI/NOV\n",
        "Token qwePHAwSwRqpsEXaUpW7 activated and saved for later use."
       ]
      },
      {
       "output_type": "stream",
       "stream": "stdout",
       "text": [
        "\n",
        "symbol WIKI/NQ is not found"
       ]
      },
      {
       "output_type": "stream",
       "stream": "stdout",
       "text": [
        "\n",
        "Token qwePHAwSwRqpsEXaUpW7 activated and saved for later use.\n",
        "Returning Dataframe for "
       ]
      },
      {
       "output_type": "stream",
       "stream": "stdout",
       "text": [
        " WIKI/NSC\n",
        "Token qwePHAwSwRqpsEXaUpW7 activated and saved for later use."
       ]
      },
      {
       "output_type": "stream",
       "stream": "stdout",
       "text": [
        "\n",
        "Returning Dataframe for "
       ]
      },
      {
       "output_type": "stream",
       "stream": "stdout",
       "text": [
        " WIKI/NTAP\n",
        "Token qwePHAwSwRqpsEXaUpW7 activated and saved for later use."
       ]
      },
      {
       "output_type": "stream",
       "stream": "stdout",
       "text": [
        "\n",
        "Returning Dataframe for "
       ]
      },
      {
       "output_type": "stream",
       "stream": "stdout",
       "text": [
        " WIKI/NUE\n",
        "Token qwePHAwSwRqpsEXaUpW7 activated and saved for later use."
       ]
      },
      {
       "output_type": "stream",
       "stream": "stdout",
       "text": [
        "\n",
        "Returning Dataframe for "
       ]
      },
      {
       "output_type": "stream",
       "stream": "stdout",
       "text": [
        " WIKI/NUS\n",
        "Token qwePHAwSwRqpsEXaUpW7 activated and saved for later use."
       ]
      },
      {
       "output_type": "stream",
       "stream": "stdout",
       "text": [
        "\n",
        "Returning Dataframe for "
       ]
      },
      {
       "output_type": "stream",
       "stream": "stdout",
       "text": [
        " WIKI/NVDA\n",
        "Token qwePHAwSwRqpsEXaUpW7 activated and saved for later use."
       ]
      },
      {
       "output_type": "stream",
       "stream": "stdout",
       "text": [
        "\n",
        "Returning Dataframe for "
       ]
      },
      {
       "output_type": "stream",
       "stream": "stdout",
       "text": [
        " WIKI/OLN\n",
        "Token qwePHAwSwRqpsEXaUpW7 activated and saved for later use."
       ]
      },
      {
       "output_type": "stream",
       "stream": "stdout",
       "text": [
        "\n",
        "Returning Dataframe for "
       ]
      },
      {
       "output_type": "stream",
       "stream": "stdout",
       "text": [
        " WIKI/OPK\n",
        "Token qwePHAwSwRqpsEXaUpW7 activated and saved for later use."
       ]
      },
      {
       "output_type": "stream",
       "stream": "stdout",
       "text": [
        "\n",
        "Returning Dataframe for "
       ]
      },
      {
       "output_type": "stream",
       "stream": "stdout",
       "text": [
        " WIKI/ORCL\n",
        "Token qwePHAwSwRqpsEXaUpW7 activated and saved for later use."
       ]
      },
      {
       "output_type": "stream",
       "stream": "stdout",
       "text": [
        "\n",
        "Returning Dataframe for "
       ]
      },
      {
       "output_type": "stream",
       "stream": "stdout",
       "text": [
        " WIKI/OUTR\n",
        "Token qwePHAwSwRqpsEXaUpW7 activated and saved for later use."
       ]
      },
      {
       "output_type": "stream",
       "stream": "stdout",
       "text": [
        "\n",
        "Returning Dataframe for "
       ]
      },
      {
       "output_type": "stream",
       "stream": "stdout",
       "text": [
        " WIKI/OXY\n",
        "Token qwePHAwSwRqpsEXaUpW7 activated and saved for later use."
       ]
      },
      {
       "output_type": "stream",
       "stream": "stdout",
       "text": [
        "\n",
        "Returning Dataframe for "
       ]
      },
      {
       "output_type": "stream",
       "stream": "stdout",
       "text": [
        " WIKI/P\n",
        "Token qwePHAwSwRqpsEXaUpW7 activated and saved for later use.\n",
        "Returning Dataframe for "
       ]
      },
      {
       "output_type": "stream",
       "stream": "stdout",
       "text": [
        " WIKI/PANW\n",
        "Token qwePHAwSwRqpsEXaUpW7 activated and saved for later use.\n",
        "symbol WIKI/PBR is not found"
       ]
      },
      {
       "output_type": "stream",
       "stream": "stdout",
       "text": [
        "\n",
        "Token qwePHAwSwRqpsEXaUpW7 activated and saved for later use.\n",
        "Returning Dataframe for "
       ]
      },
      {
       "output_type": "stream",
       "stream": "stdout",
       "text": [
        " WIKI/PBYI\n",
        "Token qwePHAwSwRqpsEXaUpW7 activated and saved for later use.\n",
        "Returning Dataframe for "
       ]
      },
      {
       "output_type": "stream",
       "stream": "stdout",
       "text": [
        " WIKI/PCLN\n",
        "Token qwePHAwSwRqpsEXaUpW7 activated and saved for later use."
       ]
      },
      {
       "output_type": "stream",
       "stream": "stdout",
       "text": [
        "\n",
        "Returning Dataframe for "
       ]
      },
      {
       "output_type": "stream",
       "stream": "stdout",
       "text": [
        " WIKI/PEP\n",
        "Token qwePHAwSwRqpsEXaUpW7 activated and saved for later use."
       ]
      },
      {
       "output_type": "stream",
       "stream": "stdout",
       "text": [
        "\n",
        "Returning Dataframe for "
       ]
      },
      {
       "output_type": "stream",
       "stream": "stdout",
       "text": [
        " WIKI/PFE\n",
        "Token qwePHAwSwRqpsEXaUpW7 activated and saved for later use."
       ]
      },
      {
       "output_type": "stream",
       "stream": "stdout",
       "text": [
        "\n",
        "Returning Dataframe for "
       ]
      },
      {
       "output_type": "stream",
       "stream": "stdout",
       "text": [
        " WIKI/PG\n",
        "Token qwePHAwSwRqpsEXaUpW7 activated and saved for later use."
       ]
      },
      {
       "output_type": "stream",
       "stream": "stdout",
       "text": [
        "\n",
        "Returning Dataframe for "
       ]
      },
      {
       "output_type": "stream",
       "stream": "stdout",
       "text": [
        " WIKI/PHM\n",
        "Token qwePHAwSwRqpsEXaUpW7 activated and saved for later use."
       ]
      },
      {
       "output_type": "stream",
       "stream": "stdout",
       "text": [
        "\n",
        "Returning Dataframe for "
       ]
      },
      {
       "output_type": "stream",
       "stream": "stdout",
       "text": [
        " WIKI/PLUG\n",
        "Token qwePHAwSwRqpsEXaUpW7 activated and saved for later use."
       ]
      },
      {
       "output_type": "stream",
       "stream": "stdout",
       "text": [
        "\n",
        "Returning Dataframe for "
       ]
      },
      {
       "output_type": "stream",
       "stream": "stdout",
       "text": [
        " WIKI/PM\n",
        "Token qwePHAwSwRqpsEXaUpW7 activated and saved for later use.\n",
        "symbol WIKI/POT is not found"
       ]
      },
      {
       "output_type": "stream",
       "stream": "stdout",
       "text": [
        "\n",
        "Token qwePHAwSwRqpsEXaUpW7 activated and saved for later use.\n",
        "Returning Dataframe for "
       ]
      },
      {
       "output_type": "stream",
       "stream": "stdout",
       "text": [
        " WIKI/PSX\n",
        "Token qwePHAwSwRqpsEXaUpW7 activated and saved for later use.\n",
        "Returning Dataframe for "
       ]
      },
      {
       "output_type": "stream",
       "stream": "stdout",
       "text": [
        " WIKI/PXD\n",
        "Token qwePHAwSwRqpsEXaUpW7 activated and saved for later use."
       ]
      },
      {
       "output_type": "stream",
       "stream": "stdout",
       "text": [
        "\n",
        "Returning Dataframe for "
       ]
      },
      {
       "output_type": "stream",
       "stream": "stdout",
       "text": [
        " WIKI/PYPL\n",
        "Token qwePHAwSwRqpsEXaUpW7 activated and saved for later use.\n",
        "Returning Dataframe for "
       ]
      },
      {
       "output_type": "stream",
       "stream": "stdout",
       "text": [
        " WIKI/QCOM\n",
        "Token qwePHAwSwRqpsEXaUpW7 activated and saved for later use."
       ]
      },
      {
       "output_type": "stream",
       "stream": "stdout",
       "text": [
        "\n",
        "symbol WIKI/QIHU is not found"
       ]
      },
      {
       "output_type": "stream",
       "stream": "stdout",
       "text": [
        "\n",
        "Token qwePHAwSwRqpsEXaUpW7 activated and saved for later use.\n",
        "Returning Dataframe for "
       ]
      },
      {
       "output_type": "stream",
       "stream": "stdout",
       "text": [
        " WIKI/QLIK\n",
        "Token qwePHAwSwRqpsEXaUpW7 activated and saved for later use.\n",
        "Returning Dataframe for "
       ]
      },
      {
       "output_type": "stream",
       "stream": "stdout",
       "text": [
        " WIKI/RAD\n",
        "Token qwePHAwSwRqpsEXaUpW7 activated and saved for later use."
       ]
      },
      {
       "output_type": "stream",
       "stream": "stdout",
       "text": [
        "\n",
        "Returning Dataframe for "
       ]
      },
      {
       "output_type": "stream",
       "stream": "stdout",
       "text": [
        " WIKI/RAX\n",
        "Token qwePHAwSwRqpsEXaUpW7 activated and saved for later use.\n",
        "Returning Dataframe for "
       ]
      },
      {
       "output_type": "stream",
       "stream": "stdout",
       "text": [
        " WIKI/REGN\n",
        "Token qwePHAwSwRqpsEXaUpW7 activated and saved for later use."
       ]
      },
      {
       "output_type": "stream",
       "stream": "stdout",
       "text": [
        "\n",
        "Returning Dataframe for "
       ]
      },
      {
       "output_type": "stream",
       "stream": "stdout",
       "text": [
        " WIKI/RIG\n",
        "Token qwePHAwSwRqpsEXaUpW7 activated and saved for later use."
       ]
      },
      {
       "output_type": "stream",
       "stream": "stdout",
       "text": [
        "\n",
        "Returning Dataframe for "
       ]
      },
      {
       "output_type": "stream",
       "stream": "stdout",
       "text": [
        " WIKI/S\n",
        "Token qwePHAwSwRqpsEXaUpW7 activated and saved for later use."
       ]
      },
      {
       "output_type": "stream",
       "stream": "stdout",
       "text": [
        "\n",
        "symbol WIKI/SAN is not found"
       ]
      },
      {
       "output_type": "stream",
       "stream": "stdout",
       "text": [
        "\n",
        "Token qwePHAwSwRqpsEXaUpW7 activated and saved for later use.\n",
        "Returning Dataframe for "
       ]
      },
      {
       "output_type": "stream",
       "stream": "stdout",
       "text": [
        " WIKI/SBUX\n",
        "Token qwePHAwSwRqpsEXaUpW7 activated and saved for later use."
       ]
      },
      {
       "output_type": "stream",
       "stream": "stdout",
       "text": [
        "\n",
        "Returning Dataframe for "
       ]
      },
      {
       "output_type": "stream",
       "stream": "stdout",
       "text": [
        " WIKI/SCTY\n",
        "Token qwePHAwSwRqpsEXaUpW7 activated and saved for later use.\n",
        "Returning Dataframe for "
       ]
      },
      {
       "output_type": "stream",
       "stream": "stdout",
       "text": [
        " WIKI/SD\n",
        "Token qwePHAwSwRqpsEXaUpW7 activated and saved for later use.\n",
        "Returning Dataframe for "
       ]
      },
      {
       "output_type": "stream",
       "stream": "stdout",
       "text": [
        " WIKI/SDRL\n",
        "Token qwePHAwSwRqpsEXaUpW7 activated and saved for later use.\n",
        "symbol WIKI/SFUN is not found"
       ]
      },
      {
       "output_type": "stream",
       "stream": "stdout",
       "text": [
        "\n",
        "Token qwePHAwSwRqpsEXaUpW7 activated and saved for later use.\n",
        "symbol WIKI/SHAK is not found"
       ]
      },
      {
       "output_type": "stream",
       "stream": "stdout",
       "text": [
        "\n",
        "Token qwePHAwSwRqpsEXaUpW7 activated and saved for later use.\n",
        "Returning Dataframe for "
       ]
      },
      {
       "output_type": "stream",
       "stream": "stdout",
       "text": [
        " WIKI/SHLD\n",
        "Token qwePHAwSwRqpsEXaUpW7 activated and saved for later use."
       ]
      },
      {
       "output_type": "stream",
       "stream": "stdout",
       "text": [
        "\n",
        "symbol WIKI/SHPG is not found"
       ]
      },
      {
       "output_type": "stream",
       "stream": "stdout",
       "text": [
        "\n",
        "Token qwePHAwSwRqpsEXaUpW7 activated and saved for later use.\n",
        "symbol WIKI/SINA is not found"
       ]
      },
      {
       "output_type": "stream",
       "stream": "stdout",
       "text": [
        "\n",
        "Token qwePHAwSwRqpsEXaUpW7 activated and saved for later use.\n",
        "Returning Dataframe for "
       ]
      },
      {
       "output_type": "stream",
       "stream": "stdout",
       "text": [
        " WIKI/SIRI\n",
        "Token qwePHAwSwRqpsEXaUpW7 activated and saved for later use."
       ]
      },
      {
       "output_type": "stream",
       "stream": "stdout",
       "text": [
        "\n",
        "Returning Dataframe for "
       ]
      },
      {
       "output_type": "stream",
       "stream": "stdout",
       "text": [
        " WIKI/SKX\n",
        "Token qwePHAwSwRqpsEXaUpW7 activated and saved for later use."
       ]
      },
      {
       "output_type": "stream",
       "stream": "stdout",
       "text": [
        "\n",
        "Returning Dataframe for "
       ]
      },
      {
       "output_type": "stream",
       "stream": "stdout",
       "text": [
        " WIKI/SLB\n",
        "Token qwePHAwSwRqpsEXaUpW7 activated and saved for later use."
       ]
      },
      {
       "output_type": "stream",
       "stream": "stdout",
       "text": [
        "\n",
        "symbol WIKI/SLW is not found"
       ]
      },
      {
       "output_type": "stream",
       "stream": "stdout",
       "text": [
        "\n",
        "Token qwePHAwSwRqpsEXaUpW7 activated and saved for later use.\n",
        "Returning Dataframe for "
       ]
      },
      {
       "output_type": "stream",
       "stream": "stdout",
       "text": [
        " WIKI/SNDK\n",
        "Token qwePHAwSwRqpsEXaUpW7 activated and saved for later use."
       ]
      },
      {
       "output_type": "stream",
       "stream": "stdout",
       "text": [
        "\n",
        "symbol WIKI/SNE is not found"
       ]
      },
      {
       "output_type": "stream",
       "stream": "stdout",
       "text": [
        "\n",
        "Token qwePHAwSwRqpsEXaUpW7 activated and saved for later use.\n",
        "symbol WIKI/SODA is not found"
       ]
      },
      {
       "output_type": "stream",
       "stream": "stdout",
       "text": [
        "\n",
        "Token qwePHAwSwRqpsEXaUpW7 activated and saved for later use.\n",
        "Returning Dataframe for "
       ]
      },
      {
       "output_type": "stream",
       "stream": "stdout",
       "text": [
        " WIKI/SPLK\n",
        "Token qwePHAwSwRqpsEXaUpW7 activated and saved for later use.\n",
        "Returning Dataframe for "
       ]
      },
      {
       "output_type": "stream",
       "stream": "stdout",
       "text": [
        " WIKI/SPLS\n",
        "Token qwePHAwSwRqpsEXaUpW7 activated and saved for later use."
       ]
      },
      {
       "output_type": "stream",
       "stream": "stdout",
       "text": [
        "\n",
        "Returning Dataframe for "
       ]
      },
      {
       "output_type": "stream",
       "stream": "stdout",
       "text": [
        " WIKI/SPWR\n",
        "Token qwePHAwSwRqpsEXaUpW7 activated and saved for later use.\n",
        "Returning Dataframe for "
       ]
      },
      {
       "output_type": "stream",
       "stream": "stdout",
       "text": [
        " WIKI/SRPT\n",
        "Token qwePHAwSwRqpsEXaUpW7 activated and saved for later use."
       ]
      },
      {
       "output_type": "stream",
       "stream": "stdout",
       "text": [
        "\n",
        "Returning Dataframe for "
       ]
      },
      {
       "output_type": "stream",
       "stream": "stdout",
       "text": [
        " WIKI/SSYS\n",
        "Token qwePHAwSwRqpsEXaUpW7 activated and saved for later use."
       ]
      },
      {
       "output_type": "stream",
       "stream": "stdout",
       "text": [
        "\n",
        "Returning Dataframe for "
       ]
      },
      {
       "output_type": "stream",
       "stream": "stdout",
       "text": [
        " WIKI/STX\n",
        "Token qwePHAwSwRqpsEXaUpW7 activated and saved for later use."
       ]
      },
      {
       "output_type": "stream",
       "stream": "stdout",
       "text": [
        "\n",
        "symbol WIKI/SU is not found"
       ]
      },
      {
       "output_type": "stream",
       "stream": "stdout",
       "text": [
        "\n",
        "Token qwePHAwSwRqpsEXaUpW7 activated and saved for later use.\n",
        "Returning Dataframe for "
       ]
      },
      {
       "output_type": "stream",
       "stream": "stdout",
       "text": [
        " WIKI/SUNE\n",
        "Token qwePHAwSwRqpsEXaUpW7 activated and saved for later use."
       ]
      },
      {
       "output_type": "stream",
       "stream": "stdout",
       "text": [
        "\n",
        "Returning Dataframe for "
       ]
      },
      {
       "output_type": "stream",
       "stream": "stdout",
       "text": [
        " WIKI/SWKS\n",
        "Token qwePHAwSwRqpsEXaUpW7 activated and saved for later use."
       ]
      },
      {
       "output_type": "stream",
       "stream": "stdout",
       "text": [
        "\n",
        "Returning Dataframe for "
       ]
      },
      {
       "output_type": "stream",
       "stream": "stdout",
       "text": [
        " WIKI/SYNA\n",
        "Token qwePHAwSwRqpsEXaUpW7 activated and saved for later use.\n",
        "Returning Dataframe for "
       ]
      },
      {
       "output_type": "stream",
       "stream": "stdout",
       "text": [
        " WIKI/T\n",
        "Token qwePHAwSwRqpsEXaUpW7 activated and saved for later use."
       ]
      },
      {
       "output_type": "stream",
       "stream": "stdout",
       "text": [
        "\n",
        "Returning Dataframe for "
       ]
      },
      {
       "output_type": "stream",
       "stream": "stdout",
       "text": [
        " WIKI/TASR\n",
        "Token qwePHAwSwRqpsEXaUpW7 activated and saved for later use."
       ]
      },
      {
       "output_type": "stream",
       "stream": "stdout",
       "text": [
        "\n",
        "symbol WIKI/TEVA is not found"
       ]
      },
      {
       "output_type": "stream",
       "stream": "stdout",
       "text": [
        "\n",
        "Token qwePHAwSwRqpsEXaUpW7 activated and saved for later use.\n",
        "Returning Dataframe for "
       ]
      },
      {
       "output_type": "stream",
       "stream": "stdout",
       "text": [
        " WIKI/TGT\n",
        "Token qwePHAwSwRqpsEXaUpW7 activated and saved for later use."
       ]
      },
      {
       "output_type": "stream",
       "stream": "stdout",
       "text": [
        "\n",
        "Returning Dataframe for "
       ]
      },
      {
       "output_type": "stream",
       "stream": "stdout",
       "text": [
        " WIKI/THC\n",
        "Token qwePHAwSwRqpsEXaUpW7 activated and saved for later use."
       ]
      },
      {
       "output_type": "stream",
       "stream": "stdout",
       "text": [
        "\n",
        "symbol WIKI/TKMR is not found"
       ]
      },
      {
       "output_type": "stream",
       "stream": "stdout",
       "text": [
        "\n",
        "Token qwePHAwSwRqpsEXaUpW7 activated and saved for later use.\n",
        "Returning Dataframe for "
       ]
      },
      {
       "output_type": "stream",
       "stream": "stdout",
       "text": [
        " WIKI/TMUS\n",
        "Token qwePHAwSwRqpsEXaUpW7 activated and saved for later use.\n",
        "Returning Dataframe for "
       ]
      },
      {
       "output_type": "stream",
       "stream": "stdout",
       "text": [
        " WIKI/TOL\n",
        "Token qwePHAwSwRqpsEXaUpW7 activated and saved for later use."
       ]
      },
      {
       "output_type": "stream",
       "stream": "stdout",
       "text": [
        "\n",
        "Returning Dataframe for "
       ]
      },
      {
       "output_type": "stream",
       "stream": "stdout",
       "text": [
        " WIKI/TRIP\n",
        "Token qwePHAwSwRqpsEXaUpW7 activated and saved for later use.\n",
        "Returning Dataframe for "
       ]
      },
      {
       "output_type": "stream",
       "stream": "stdout",
       "text": [
        " WIKI/TRN\n",
        "Token qwePHAwSwRqpsEXaUpW7 activated and saved for later use."
       ]
      },
      {
       "output_type": "stream",
       "stream": "stdout",
       "text": [
        "\n",
        "Returning Dataframe for "
       ]
      },
      {
       "output_type": "stream",
       "stream": "stdout",
       "text": [
        " WIKI/TSLA\n",
        "Token qwePHAwSwRqpsEXaUpW7 activated and saved for later use.\n",
        "Returning Dataframe for "
       ]
      },
      {
       "output_type": "stream",
       "stream": "stdout",
       "text": [
        " WIKI/TSO\n",
        "Token qwePHAwSwRqpsEXaUpW7 activated and saved for later use."
       ]
      },
      {
       "output_type": "stream",
       "stream": "stdout",
       "text": [
        "\n",
        "symbol WIKI/TTM is not found"
       ]
      },
      {
       "output_type": "stream",
       "stream": "stdout",
       "text": [
        "\n",
        "Token qwePHAwSwRqpsEXaUpW7 activated and saved for later use.\n",
        "Returning Dataframe for "
       ]
      },
      {
       "output_type": "stream",
       "stream": "stdout",
       "text": [
        " WIKI/TWTR\n",
        "Token qwePHAwSwRqpsEXaUpW7 activated and saved for later use.\n",
        "Returning Dataframe for "
       ]
      },
      {
       "output_type": "stream",
       "stream": "stdout",
       "text": [
        " WIKI/TWX\n",
        "Token qwePHAwSwRqpsEXaUpW7 activated and saved for later use."
       ]
      },
      {
       "output_type": "stream",
       "stream": "stdout",
       "text": [
        "\n",
        "Returning Dataframe for "
       ]
      },
      {
       "output_type": "stream",
       "stream": "stdout",
       "text": [
        " WIKI/TXN\n",
        "Token qwePHAwSwRqpsEXaUpW7 activated and saved for later use."
       ]
      },
      {
       "output_type": "stream",
       "stream": "stdout",
       "text": [
        "\n",
        "Returning Dataframe for "
       ]
      },
      {
       "output_type": "stream",
       "stream": "stdout",
       "text": [
        " WIKI/UA\n",
        "Token qwePHAwSwRqpsEXaUpW7 activated and saved for later use.\n",
        "Returning Dataframe for "
       ]
      },
      {
       "output_type": "stream",
       "stream": "stdout",
       "text": [
        " WIKI/UAL\n",
        "Token qwePHAwSwRqpsEXaUpW7 activated and saved for later use.\n",
        "Returning Dataframe for "
       ]
      },
      {
       "output_type": "stream",
       "stream": "stdout",
       "text": [
        " WIKI/UNH\n",
        "Token qwePHAwSwRqpsEXaUpW7 activated and saved for later use."
       ]
      },
      {
       "output_type": "stream",
       "stream": "stdout",
       "text": [
        "\n",
        "Returning Dataframe for "
       ]
      },
      {
       "output_type": "stream",
       "stream": "stdout",
       "text": [
        " WIKI/UNP\n",
        "Token qwePHAwSwRqpsEXaUpW7 activated and saved for later use."
       ]
      },
      {
       "output_type": "stream",
       "stream": "stdout",
       "text": [
        "\n",
        "Returning Dataframe for "
       ]
      },
      {
       "output_type": "stream",
       "stream": "stdout",
       "text": [
        " WIKI/UPS\n",
        "Token qwePHAwSwRqpsEXaUpW7 activated and saved for later use."
       ]
      },
      {
       "output_type": "stream",
       "stream": "stdout",
       "text": [
        "\n",
        "Returning Dataframe for "
       ]
      },
      {
       "output_type": "stream",
       "stream": "stdout",
       "text": [
        " WIKI/URI\n",
        "Token qwePHAwSwRqpsEXaUpW7 activated and saved for later use."
       ]
      },
      {
       "output_type": "stream",
       "stream": "stdout",
       "text": [
        "\n",
        "Returning Dataframe for "
       ]
      },
      {
       "output_type": "stream",
       "stream": "stdout",
       "text": [
        " WIKI/USB\n",
        "Token qwePHAwSwRqpsEXaUpW7 activated and saved for later use."
       ]
      },
      {
       "output_type": "stream",
       "stream": "stdout",
       "text": [
        "\n",
        "Returning Dataframe for "
       ]
      },
      {
       "output_type": "stream",
       "stream": "stdout",
       "text": [
        " WIKI/UTX\n",
        "Token qwePHAwSwRqpsEXaUpW7 activated and saved for later use."
       ]
      },
      {
       "output_type": "stream",
       "stream": "stdout",
       "text": [
        "\n",
        "Returning Dataframe for "
       ]
      },
      {
       "output_type": "stream",
       "stream": "stdout",
       "text": [
        " WIKI/V\n",
        "Token qwePHAwSwRqpsEXaUpW7 activated and saved for later use.\n",
        "symbol WIKI/VALE is not found"
       ]
      },
      {
       "output_type": "stream",
       "stream": "stdout",
       "text": [
        "\n",
        "Token qwePHAwSwRqpsEXaUpW7 activated and saved for later use.\n",
        "symbol WIKI/VER is not found"
       ]
      },
      {
       "output_type": "stream",
       "stream": "stdout",
       "text": [
        "\n",
        "Token qwePHAwSwRqpsEXaUpW7 activated and saved for later use.\n",
        "symbol WIKI/VIPS is not found"
       ]
      },
      {
       "output_type": "stream",
       "stream": "stdout",
       "text": [
        "\n",
        "Token qwePHAwSwRqpsEXaUpW7 activated and saved for later use.\n",
        "Returning Dataframe for "
       ]
      },
      {
       "output_type": "stream",
       "stream": "stdout",
       "text": [
        " WIKI/VLO\n",
        "Token qwePHAwSwRqpsEXaUpW7 activated and saved for later use."
       ]
      },
      {
       "output_type": "stream",
       "stream": "stdout",
       "text": [
        "\n",
        "Returning Dataframe for "
       ]
      },
      {
       "output_type": "stream",
       "stream": "stdout",
       "text": [
        " WIKI/VMW\n",
        "Token qwePHAwSwRqpsEXaUpW7 activated and saved for later use.\n",
        "Returning Dataframe for "
       ]
      },
      {
       "output_type": "stream",
       "stream": "stdout",
       "text": [
        " WIKI/VOD\n",
        "Token qwePHAwSwRqpsEXaUpW7 activated and saved for later use."
       ]
      },
      {
       "output_type": "stream",
       "stream": "stdout",
       "text": [
        "\n",
        "Returning Dataframe for "
       ]
      },
      {
       "output_type": "stream",
       "stream": "stdout",
       "text": [
        " WIKI/VRTX\n",
        "Token qwePHAwSwRqpsEXaUpW7 activated and saved for later use."
       ]
      },
      {
       "output_type": "stream",
       "stream": "stdout",
       "text": [
        "\n",
        "symbol WIKI/VRX is not found"
       ]
      },
      {
       "output_type": "stream",
       "stream": "stdout",
       "text": [
        "\n",
        "Token qwePHAwSwRqpsEXaUpW7 activated and saved for later use.\n",
        "Returning Dataframe for "
       ]
      },
      {
       "output_type": "stream",
       "stream": "stdout",
       "text": [
        " WIKI/VZ\n",
        "Token qwePHAwSwRqpsEXaUpW7 activated and saved for later use."
       ]
      },
      {
       "output_type": "stream",
       "stream": "stdout",
       "text": [
        "\n",
        "Returning Dataframe for "
       ]
      },
      {
       "output_type": "stream",
       "stream": "stdout",
       "text": [
        " WIKI/WBA\n",
        "Token qwePHAwSwRqpsEXaUpW7 activated and saved for later use.\n",
        "Returning Dataframe for "
       ]
      },
      {
       "output_type": "stream",
       "stream": "stdout",
       "text": [
        " WIKI/WDAY\n",
        "Token qwePHAwSwRqpsEXaUpW7 activated and saved for later use.\n",
        "Returning Dataframe for "
       ]
      },
      {
       "output_type": "stream",
       "stream": "stdout",
       "text": [
        " WIKI/WDC\n",
        "Token qwePHAwSwRqpsEXaUpW7 activated and saved for later use."
       ]
      },
      {
       "output_type": "stream",
       "stream": "stdout",
       "text": [
        "\n",
        "Returning Dataframe for "
       ]
      },
      {
       "output_type": "stream",
       "stream": "stdout",
       "text": [
        " WIKI/WFC\n",
        "Token qwePHAwSwRqpsEXaUpW7 activated and saved for later use."
       ]
      },
      {
       "output_type": "stream",
       "stream": "stdout",
       "text": [
        "\n",
        "Returning Dataframe for "
       ]
      },
      {
       "output_type": "stream",
       "stream": "stdout",
       "text": [
        " WIKI/WFM\n",
        "Token qwePHAwSwRqpsEXaUpW7 activated and saved for later use."
       ]
      },
      {
       "output_type": "stream",
       "stream": "stdout",
       "text": [
        "\n",
        "symbol WIKI/WFT is not found"
       ]
      },
      {
       "output_type": "stream",
       "stream": "stdout",
       "text": [
        "\n",
        "Token qwePHAwSwRqpsEXaUpW7 activated and saved for later use.\n",
        "Returning Dataframe for "
       ]
      },
      {
       "output_type": "stream",
       "stream": "stdout",
       "text": [
        " WIKI/WLL\n",
        "Token qwePHAwSwRqpsEXaUpW7 activated and saved for later use.\n",
        "Returning Dataframe for "
       ]
      },
      {
       "output_type": "stream",
       "stream": "stdout",
       "text": [
        " WIKI/WLT\n",
        "Token qwePHAwSwRqpsEXaUpW7 activated and saved for later use."
       ]
      },
      {
       "output_type": "stream",
       "stream": "stdout",
       "text": [
        "\n",
        "Returning Dataframe for "
       ]
      },
      {
       "output_type": "stream",
       "stream": "stdout",
       "text": [
        " WIKI/WMB\n",
        "Token qwePHAwSwRqpsEXaUpW7 activated and saved for later use."
       ]
      },
      {
       "output_type": "stream",
       "stream": "stdout",
       "text": [
        "\n",
        "Returning Dataframe for "
       ]
      },
      {
       "output_type": "stream",
       "stream": "stdout",
       "text": [
        " WIKI/WMT\n",
        "Token qwePHAwSwRqpsEXaUpW7 activated and saved for later use."
       ]
      },
      {
       "output_type": "stream",
       "stream": "stdout",
       "text": [
        "\n",
        "Returning Dataframe for "
       ]
      },
      {
       "output_type": "stream",
       "stream": "stdout",
       "text": [
        " WIKI/WY\n",
        "Token qwePHAwSwRqpsEXaUpW7 activated and saved for later use."
       ]
      },
      {
       "output_type": "stream",
       "stream": "stdout",
       "text": [
        "\n",
        "Returning Dataframe for "
       ]
      },
      {
       "output_type": "stream",
       "stream": "stdout",
       "text": [
        " WIKI/WYNN\n",
        "Token qwePHAwSwRqpsEXaUpW7 activated and saved for later use.\n",
        "Returning Dataframe for "
       ]
      },
      {
       "output_type": "stream",
       "stream": "stdout",
       "text": [
        " WIKI/X\n",
        "Token qwePHAwSwRqpsEXaUpW7 activated and saved for later use."
       ]
      },
      {
       "output_type": "stream",
       "stream": "stdout",
       "text": [
        "\n",
        "Returning Dataframe for "
       ]
      },
      {
       "output_type": "stream",
       "stream": "stdout",
       "text": [
        " WIKI/XLNX\n",
        "Token qwePHAwSwRqpsEXaUpW7 activated and saved for later use."
       ]
      },
      {
       "output_type": "stream",
       "stream": "stdout",
       "text": [
        "\n",
        "Returning Dataframe for "
       ]
      },
      {
       "output_type": "stream",
       "stream": "stdout",
       "text": [
        " WIKI/XOM\n",
        "Token qwePHAwSwRqpsEXaUpW7 activated and saved for later use."
       ]
      },
      {
       "output_type": "stream",
       "stream": "stdout",
       "text": [
        "\n",
        "Returning Dataframe for "
       ]
      },
      {
       "output_type": "stream",
       "stream": "stdout",
       "text": [
        " WIKI/YELP\n",
        "Token qwePHAwSwRqpsEXaUpW7 activated and saved for later use.\n",
        "Returning Dataframe for "
       ]
      },
      {
       "output_type": "stream",
       "stream": "stdout",
       "text": [
        " WIKI/YHOO\n",
        "Token qwePHAwSwRqpsEXaUpW7 activated and saved for later use."
       ]
      },
      {
       "output_type": "stream",
       "stream": "stdout",
       "text": [
        "\n",
        "symbol WIKI/YNDX is not found"
       ]
      },
      {
       "output_type": "stream",
       "stream": "stdout",
       "text": [
        "\n",
        "Token qwePHAwSwRqpsEXaUpW7 activated and saved for later use.\n",
        "symbol WIKI/YOKU is not found"
       ]
      },
      {
       "output_type": "stream",
       "stream": "stdout",
       "text": [
        "\n",
        "Token qwePHAwSwRqpsEXaUpW7 activated and saved for later use.\n",
        "symbol WIKI/YPF is not found"
       ]
      },
      {
       "output_type": "stream",
       "stream": "stdout",
       "text": [
        "\n",
        "Token qwePHAwSwRqpsEXaUpW7 activated and saved for later use.\n",
        "Returning Dataframe for "
       ]
      },
      {
       "output_type": "stream",
       "stream": "stdout",
       "text": [
        " WIKI/YUM\n",
        "Token qwePHAwSwRqpsEXaUpW7 activated and saved for later use."
       ]
      },
      {
       "output_type": "stream",
       "stream": "stdout",
       "text": [
        "\n",
        "symbol WIKI/YY is not found"
       ]
      },
      {
       "output_type": "stream",
       "stream": "stdout",
       "text": [
        "\n",
        "Token qwePHAwSwRqpsEXaUpW7 activated and saved for later use.\n",
        "symbol WIKI/ZG is not found"
       ]
      },
      {
       "output_type": "stream",
       "stream": "stdout",
       "text": [
        "\n",
        "Token qwePHAwSwRqpsEXaUpW7 activated and saved for later use.\n",
        "Returning Dataframe for "
       ]
      },
      {
       "output_type": "stream",
       "stream": "stdout",
       "text": [
        " WIKI/ZNGA\n",
        "Token qwePHAwSwRqpsEXaUpW7 activated and saved for later use.\n",
        "Returning Dataframe for "
       ]
      },
      {
       "output_type": "stream",
       "stream": "stdout",
       "text": [
        " WIKI/ZTS\n",
        "Token qwePHAwSwRqpsEXaUpW7 activated and saved for later use.\n",
        "symbol WIKI/ZU is not found"
       ]
      },
      {
       "output_type": "stream",
       "stream": "stdout",
       "text": [
        "\n"
       ]
      }
     ],
     "prompt_number": 6
    },
    {
     "cell_type": "code",
     "collapsed": false,
     "input": [
      "scaner = pa.DataFrame(buy, columns = ['Symbol'])\n",
      "scaner.to_csv('/home/mad/Options/PaperTrade/scan.csv')"
     ],
     "language": "python",
     "metadata": {},
     "outputs": [],
     "prompt_number": 7
    },
    {
     "cell_type": "code",
     "collapsed": false,
     "input": [
      "notfound = pa.DataFrame(nf, columns = ['Symbol'])"
     ],
     "language": "python",
     "metadata": {},
     "outputs": [],
     "prompt_number": 8
    },
    {
     "cell_type": "code",
     "collapsed": false,
     "input": [
      "notfound.to_csv('/home/mad/Options/PaperTrade/notfound.csv')"
     ],
     "language": "python",
     "metadata": {},
     "outputs": [],
     "prompt_number": 9
    },
    {
     "cell_type": "code",
     "collapsed": false,
     "input": [
      "data = Quandl.get('WIKI/GMCR', authtoken='qwePHAwSwRqpsEXaUpW7', returns=\"pandas\")\n",
      "data = data.drop(['Open', 'High', 'Low', 'Close', 'Volume', 'Ex-Dividend', 'Split Ratio', 'Adj. Volume', 'Adj. Open'],1)\n",
      "data = data.rename(columns={'Adj. High': 'H', 'Adj. Low': 'L', 'Adj. Close': 'C'})\n",
      "data['Volat'] = (data.H - data.L)/data.C\n",
      "data['Decile'] = pa.rolling_apply(data.Volat, 50, fta)\n",
      "data['AvgDecile'] = pa.rolling_mean(data.Decile, 5)\n",
      "data['AvgHL'] = pa.rolling_mean(data.Volat, 5)\n",
      "data['Buy'] = (data.AvgDecile >= 0.7) & (data.AvgHL >= 0.03)"
     ],
     "language": "python",
     "metadata": {},
     "outputs": [
      {
       "output_type": "stream",
       "stream": "stdout",
       "text": [
        "Token qwePHAwSwRqpsEXaUpW7 activated and saved for later use.\n",
        "Returning Dataframe for "
       ]
      },
      {
       "output_type": "stream",
       "stream": "stdout",
       "text": [
        " WIKI/GMCR\n"
       ]
      }
     ],
     "prompt_number": 10
    },
    {
     "cell_type": "code",
     "collapsed": false,
     "input": [
      "data.to_csv(\"/home/mad/Options/PaperTrade/sample.csv\")"
     ],
     "language": "python",
     "metadata": {},
     "outputs": [],
     "prompt_number": 11
    },
    {
     "cell_type": "code",
     "collapsed": false,
     "input": [],
     "language": "python",
     "metadata": {},
     "outputs": [],
     "prompt_number": 11
    }
   ],
   "metadata": {}
  }
 ]
}