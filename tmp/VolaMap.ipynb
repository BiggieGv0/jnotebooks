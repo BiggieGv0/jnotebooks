{
 "metadata": {
  "name": "",
  "signature": "sha256:f4dfcc7b9364ba3ab3988551a5d37ff76f2660391579199b540bd2f16510f8c4"
 },
 "nbformat": 3,
 "nbformat_minor": 0,
 "worksheets": [
  {
   "cells": [
    {
     "cell_type": "code",
     "collapsed": false,
     "input": [
      "import pandas as pa\n",
      "from IPython.display import HTML\n",
      "import matplotlib.pyplot as plt\n",
      "import numpy as np\n",
      "from __future__ import division\n",
      "import datetime as dt\n",
      "import pyquant\n",
      "import pybacktest as pbt"
     ],
     "language": "python",
     "metadata": {},
     "outputs": [],
     "prompt_number": 1
    },
    {
     "cell_type": "code",
     "collapsed": false,
     "input": [
      "#Define symbol and path to data\n",
      "ba = (\n",
      "pa.read_csv(\n",
      "'/home/mad/Options/SPY_D.csv',\n",
      "date_parser=lambda v: datetime.datetime.strptime(v, '%d.%m.%Y'),\n",
      "parse_dates=[0],\n",
      ").rename(columns=dict(\n",
      "Date='timestamp', Open='O', High='H', Low='L', Settle='C', Volume='V')\n",
      ").set_index('timestamp'))\n",
      "ba = ba.drop(['Prev. Day Open Interest', 'V'], 1)"
     ],
     "language": "python",
     "metadata": {},
     "outputs": [],
     "prompt_number": 2
    },
    {
     "cell_type": "code",
     "collapsed": false,
     "input": [
      "ba['volat'] = (ba.H - ba.L)/ba.C\n",
      "#ba = ba[0:6000]"
     ],
     "language": "python",
     "metadata": {},
     "outputs": [],
     "prompt_number": 3
    },
    {
     "cell_type": "code",
     "collapsed": false,
     "input": [
      "\"\"\"\n",
      "Percent Range\n",
      "\"\"\"\n",
      "\n",
      "def decil(rang, val):\n",
      "    total = bigger = 0\n",
      "    for x in rang:\n",
      "        total += 1\n",
      "        if x <= val:\n",
      "            bigger += 1\n",
      "    decil = float(bigger)/total\n",
      "    return decil\n",
      "\n",
      "def fta(series):\n",
      "    return decil(series[:-1], series[-1])"
     ],
     "language": "python",
     "metadata": {},
     "outputs": [],
     "prompt_number": 4
    },
    {
     "cell_type": "code",
     "collapsed": false,
     "input": [
      "ba['Decile'] = pa.rolling_apply(ba.volat, 50, fta)"
     ],
     "language": "python",
     "metadata": {},
     "outputs": [],
     "prompt_number": 5
    },
    {
     "cell_type": "code",
     "collapsed": false,
     "input": [
      "ba['DecShift'] = ba.Decile.shift(-15)\n",
      "\n",
      "d = {}\n",
      "step = 0\n",
      "for i in range(0, 10, 1):\n",
      "    ba1 = ba.ix[(ba.Decile >= step) & (ba.Decile < step+0.1)]\n",
      "    ba1 = ba1.dropna()\n",
      "    counts, intervals = np.histogram(ba1.DecShift)\n",
      "    counts = counts.astype(float)\n",
      "    counts /= len(ba1)\n",
      "    counts *= 100\n",
      "    d[step] = counts\n",
      "    step += 0.1\n",
      "    \n",
      "df3 = pa.DataFrame.from_dict(data = d)"
     ],
     "language": "python",
     "metadata": {},
     "outputs": [],
     "prompt_number": 6
    },
    {
     "cell_type": "code",
     "collapsed": false,
     "input": [
      "#df3.to_html('/home/mad/Options/Results/SPY/volamap_15.htm')"
     ],
     "language": "python",
     "metadata": {},
     "outputs": [],
     "prompt_number": 7
    },
    {
     "cell_type": "code",
     "collapsed": false,
     "input": [
      "def volamaps(df, period):\n",
      "    ba['DecShift'] = ba.Decile.shift(-period)\n",
      "    d = {}\n",
      "    step = 0\n",
      "    for i in range(0, 10, 1):\n",
      "        ba1 = ba.ix[(ba.Decile >= step) & (ba.Decile < step+0.1)]\n",
      "        ba1 = ba1.dropna()\n",
      "        counts, intervals = np.histogram(ba1.DecShift)\n",
      "        counts = counts.astype(float)\n",
      "        counts /= len(ba1)\n",
      "        counts *= 100\n",
      "        d[step] = counts\n",
      "        step += 0.1\n",
      "\n",
      "    df = pa.DataFrame.from_dict(data = d)\n",
      "    return df"
     ],
     "language": "python",
     "metadata": {},
     "outputs": [],
     "prompt_number": 8
    },
    {
     "cell_type": "code",
     "collapsed": false,
     "input": [
      "from pandas.io.excel import ExcelWriter\n",
      "#Define range of periods and step in range(5, 20, 5)\n",
      "dfes = [(period, volamaps(ba, period)) for period in (range(5, 20, 5))]\n",
      "\n",
      "#define path to excel book\n",
      "with ExcelWriter('/home/mad/Options/Results/SPY/volamap_15.xlsx') as writer:\n",
      "    for name, res_df in dfes:\n",
      "        res_df.to_excel(writer, sheet_name=str(name))"
     ],
     "language": "python",
     "metadata": {},
     "outputs": [],
     "prompt_number": 9
    },
    {
     "cell_type": "code",
     "collapsed": false,
     "input": [
      "ba['Buy'] = ba['Sell'] = (ba.index.dayofweek == 5) | ((ba.index.dayofweek == 4) & (ba.shift(-1).index.dayofweek != 5))\n",
      "ba.Buy = ba.Buy.shift(1)\n"
     ],
     "language": "python",
     "metadata": {},
     "outputs": [],
     "prompt_number": 10
    },
    {
     "cell_type": "code",
     "collapsed": false,
     "input": [
      "#ba = ba.ix[4:]\n",
      "buy = ba.Buy\n",
      "sell = ba.Sell\n",
      "short = cover = 0\n",
      "buyprice = shortprice = ba.O\n",
      "sellprice = coverprice = ba.C\n",
      "res = dict(Buy=buy, Sell=sell, Short=short, Cover=cover)"
     ],
     "language": "python",
     "metadata": {},
     "outputs": [],
     "prompt_number": 11
    },
    {
     "cell_type": "code",
     "collapsed": false,
     "input": [
      "#eq = pyquant.Backtest(signal_fields=(buy, sell, short, cover), price_fields=(buyprice, sellprice, shortprice, coverprice))"
     ],
     "language": "python",
     "metadata": {},
     "outputs": [],
     "prompt_number": 12
    },
    {
     "cell_type": "code",
     "collapsed": false,
     "input": [
      "bct = pbt.Backtest(dict(ohlc=ba, buy=res['Buy'], sell=res['Sell'],short=res['Short'], cover=res['Cover']), name = 'Avg PayOuts')\n",
      "perf = bct.report"
     ],
     "language": "python",
     "metadata": {},
     "outputs": [],
     "prompt_number": 13
    },
    {
     "cell_type": "code",
     "collapsed": false,
     "input": [
      "returns = bct.equity\n",
      "returns = returns.ix[returns != 0].apply(lambda v: v if v >= 0 else 0)\n",
      "avg = returns.mean()\n",
      "avg"
     ],
     "language": "python",
     "metadata": {},
     "outputs": [
      {
       "metadata": {},
       "output_type": "pyout",
       "prompt_number": 14,
       "text": [
        "1.0847414405010436"
       ]
      }
     ],
     "prompt_number": 14
    },
    {
     "cell_type": "code",
     "collapsed": false,
     "input": [
      "returns['2014-01-27']"
     ],
     "language": "python",
     "metadata": {},
     "outputs": [
      {
       "metadata": {},
       "output_type": "pyout",
       "prompt_number": 15,
       "text": [
        "0.0"
       ]
      }
     ],
     "prompt_number": 15
    },
    {
     "cell_type": "code",
     "collapsed": false,
     "input": [
      "returns.to_csv('/home/mad/Options/Results/SPY/avgPayOut.csv')\n"
     ],
     "language": "python",
     "metadata": {},
     "outputs": [],
     "prompt_number": 16
    },
    {
     "cell_type": "code",
     "collapsed": false,
     "input": [],
     "language": "python",
     "metadata": {},
     "outputs": [],
     "prompt_number": 16
    }
   ],
   "metadata": {}
  }
 ]
}