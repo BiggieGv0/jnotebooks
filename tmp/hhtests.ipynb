{
 "metadata": {
  "name": "",
  "signature": "sha256:fab032cf7ba30b710d88aa15752065fd57d172606ad944f9dbd2c5c276743355"
 },
 "nbformat": 3,
 "nbformat_minor": 0,
 "worksheets": [
  {
   "cells": [
    {
     "cell_type": "code",
     "collapsed": false,
     "input": [
      "import pandas\n",
      "pa = pandas\n",
      "import numpy\n",
      "np = numpy\n",
      "import random"
     ],
     "language": "python",
     "metadata": {},
     "outputs": [],
     "prompt_number": 2
    },
    {
     "cell_type": "code",
     "collapsed": false,
     "input": [
      "df = pa.DataFrame([1, 2, 3, 4], index=[1, 3, 5, 9], columns=('a',))\n",
      "# df['noted'][notables] = True  # Works but does not create\n",
      "# df['noted'].ix[notables_all]"
     ],
     "language": "python",
     "metadata": {},
     "outputs": [],
     "prompt_number": 3
    },
    {
     "cell_type": "code",
     "collapsed": false,
     "input": [
      "def add_value_by_index(df, name, idx, value=1, sort_index=True):\n",
      "    if not hasattr(value, '__iter__'):\n",
      "        value = [value] * len(idx)\n",
      "    \n",
      "    df2 = pa.DataFrame(value, index=idx, columns=(name,))\n",
      "    res = pa.merge(df, df2, how='outer', left_index=True, right_index=True, suffixes=('', ''))\n",
      "    if sort_index:\n",
      "        res.sort_index(inplace=True)\n",
      "\n",
      "    return res\n",
      "\n",
      "new_rows = [1, 2, 3, 10, 11]\n",
      "df = add_value_by_index(df, 'b', new_rows)\n",
      "df"
     ],
     "language": "python",
     "metadata": {},
     "outputs": [
      {
       "html": [
        "<div style=\"max-height:1000px;max-width:1500px;overflow:auto;\">\n",
        "<table border=\"1\" class=\"dataframe\">\n",
        "  <thead>\n",
        "    <tr style=\"text-align: right;\">\n",
        "      <th></th>\n",
        "      <th>a</th>\n",
        "      <th>b</th>\n",
        "    </tr>\n",
        "  </thead>\n",
        "  <tbody>\n",
        "    <tr>\n",
        "      <th>1 </th>\n",
        "      <td>  1</td>\n",
        "      <td>  1</td>\n",
        "    </tr>\n",
        "    <tr>\n",
        "      <th>2 </th>\n",
        "      <td>NaN</td>\n",
        "      <td>  1</td>\n",
        "    </tr>\n",
        "    <tr>\n",
        "      <th>3 </th>\n",
        "      <td>  2</td>\n",
        "      <td>  1</td>\n",
        "    </tr>\n",
        "    <tr>\n",
        "      <th>5 </th>\n",
        "      <td>  3</td>\n",
        "      <td>NaN</td>\n",
        "    </tr>\n",
        "    <tr>\n",
        "      <th>9 </th>\n",
        "      <td>  4</td>\n",
        "      <td>NaN</td>\n",
        "    </tr>\n",
        "    <tr>\n",
        "      <th>10</th>\n",
        "      <td>NaN</td>\n",
        "      <td>  1</td>\n",
        "    </tr>\n",
        "    <tr>\n",
        "      <th>11</th>\n",
        "      <td>NaN</td>\n",
        "      <td>  1</td>\n",
        "    </tr>\n",
        "  </tbody>\n",
        "</table>\n",
        "</div>"
       ],
       "metadata": {},
       "output_type": "pyout",
       "prompt_number": 4,
       "text": [
        "     a   b\n",
        "1    1   1\n",
        "2  NaN   1\n",
        "3    2   1\n",
        "5    3 NaN\n",
        "9    4 NaN\n",
        "10 NaN   1\n",
        "11 NaN   1"
       ]
      }
     ],
     "prompt_number": 4
    },
    {
     "cell_type": "code",
     "collapsed": false,
     "input": [
      "import datetime\n",
      "\n",
      "df = (\n",
      "    pa.read_csv(\n",
      "        '/home/mad/Options/SPY_D.csv',\n",
      "        date_parser=lambda v: datetime.datetime.strptime(v, '%d.%m.%Y'),\n",
      "        parse_dates=[0],\n",
      "    ).rename(columns=dict(\n",
      "        Date='timestamp', Open='O', High='H', Low='L', Settle='C', Volume='V')\n",
      "    ).set_index('timestamp'))\n",
      "df.head()"
     ],
     "language": "python",
     "metadata": {},
     "outputs": [
      {
       "html": [
        "<div style=\"max-height:1000px;max-width:1500px;overflow:auto;\">\n",
        "<table border=\"1\" class=\"dataframe\">\n",
        "  <thead>\n",
        "    <tr style=\"text-align: right;\">\n",
        "      <th></th>\n",
        "      <th>O</th>\n",
        "      <th>H</th>\n",
        "      <th>L</th>\n",
        "      <th>C</th>\n",
        "      <th>V</th>\n",
        "      <th>Prev. Day Open Interest</th>\n",
        "    </tr>\n",
        "    <tr>\n",
        "      <th>timestamp</th>\n",
        "      <th></th>\n",
        "      <th></th>\n",
        "      <th></th>\n",
        "      <th></th>\n",
        "      <th></th>\n",
        "      <th></th>\n",
        "    </tr>\n",
        "  </thead>\n",
        "  <tbody>\n",
        "    <tr>\n",
        "      <th>1996-01-02</th>\n",
        "      <td> 61.4063</td>\n",
        "      <td> 62.1406</td>\n",
        "      <td> 61.3438</td>\n",
        "      <td> 62.1406</td>\n",
        "      <td>  514400</td>\n",
        "      <td> 0</td>\n",
        "    </tr>\n",
        "    <tr>\n",
        "      <th>1996-01-03</th>\n",
        "      <td> 62.3438</td>\n",
        "      <td> 62.5000</td>\n",
        "      <td> 62.0000</td>\n",
        "      <td> 62.3125</td>\n",
        "      <td>  610300</td>\n",
        "      <td> 0</td>\n",
        "    </tr>\n",
        "    <tr>\n",
        "      <th>1996-01-04</th>\n",
        "      <td> 62.3906</td>\n",
        "      <td> 62.6250</td>\n",
        "      <td> 61.2188</td>\n",
        "      <td> 61.7188</td>\n",
        "      <td> 1129700</td>\n",
        "      <td> 0</td>\n",
        "    </tr>\n",
        "    <tr>\n",
        "      <th>1996-01-05</th>\n",
        "      <td> 61.3125</td>\n",
        "      <td> 61.7500</td>\n",
        "      <td> 61.1719</td>\n",
        "      <td> 61.5938</td>\n",
        "      <td>  302400</td>\n",
        "      <td> 0</td>\n",
        "    </tr>\n",
        "    <tr>\n",
        "      <th>1996-01-08</th>\n",
        "      <td> 61.8125</td>\n",
        "      <td> 61.9063</td>\n",
        "      <td> 61.7344</td>\n",
        "      <td> 61.8281</td>\n",
        "      <td>  179900</td>\n",
        "      <td> 0</td>\n",
        "    </tr>\n",
        "  </tbody>\n",
        "</table>\n",
        "</div>"
       ],
       "metadata": {},
       "output_type": "pyout",
       "prompt_number": 5,
       "text": [
        "                  O        H        L        C        V  \\\n",
        "timestamp                                                 \n",
        "1996-01-02  61.4063  62.1406  61.3438  62.1406   514400   \n",
        "1996-01-03  62.3438  62.5000  62.0000  62.3125   610300   \n",
        "1996-01-04  62.3906  62.6250  61.2188  61.7188  1129700   \n",
        "1996-01-05  61.3125  61.7500  61.1719  61.5938   302400   \n",
        "1996-01-08  61.8125  61.9063  61.7344  61.8281   179900   \n",
        "\n",
        "            Prev. Day Open Interest  \n",
        "timestamp                            \n",
        "1996-01-02                        0  \n",
        "1996-01-03                        0  \n",
        "1996-01-04                        0  \n",
        "1996-01-05                        0  \n",
        "1996-01-08                        0  "
       ]
      }
     ],
     "prompt_number": 5
    },
    {
     "cell_type": "code",
     "collapsed": false,
     "input": [
      "pa.read_table??"
     ],
     "language": "python",
     "metadata": {},
     "outputs": [],
     "prompt_number": 6
    },
    {
     "cell_type": "code",
     "collapsed": false,
     "input": [
      "np.histogram([random.random() for _ in xrange(200)])"
     ],
     "language": "python",
     "metadata": {},
     "outputs": [
      {
       "metadata": {},
       "output_type": "pyout",
       "prompt_number": 7,
       "text": [
        "(array([16, 20, 18, 20, 23, 12, 15, 25, 30, 21]),\n",
        " array([ 0.00586709,  0.10510757,  0.20434804,  0.30358852,  0.402829  ,\n",
        "         0.50206948,  0.60130996,  0.70055043,  0.79979091,  0.89903139,\n",
        "         0.99827187]))"
       ]
      }
     ],
     "prompt_number": 7
    },
    {
     "cell_type": "code",
     "collapsed": false,
     "input": [
      "[\n",
      "  (x, min(x, 120), min(x, 100), min(x, 120) - min(x, 100))\n",
      "  for x in range(80, 150, 5)\n",
      "]"
     ],
     "language": "python",
     "metadata": {},
     "outputs": [
      {
       "metadata": {},
       "output_type": "pyout",
       "prompt_number": 8,
       "text": [
        "[(80, 80, 80, 0),\n",
        " (85, 85, 85, 0),\n",
        " (90, 90, 90, 0),\n",
        " (95, 95, 95, 0),\n",
        " (100, 100, 100, 0),\n",
        " (105, 105, 100, 5),\n",
        " (110, 110, 100, 10),\n",
        " (115, 115, 100, 15),\n",
        " (120, 120, 100, 20),\n",
        " (125, 120, 100, 20),\n",
        " (130, 120, 100, 20),\n",
        " (135, 120, 100, 20),\n",
        " (140, 120, 100, 20),\n",
        " (145, 120, 100, 20)]"
       ]
      }
     ],
     "prompt_number": 8
    },
    {
     "cell_type": "code",
     "collapsed": false,
     "input": [
      "buy_price = 3\n",
      "buy_strike = 25  # call\n",
      "sell_price = 1\n",
      "sell_strike = 30  # call\n",
      "entry_eq = sell_price - buy_price\n",
      "\n",
      "\n",
      "def option_closing_eq(x):\n",
      "    res = 0\n",
      "    res += sell_price - buy_price\n",
      "    if sell_strike < x:\n",
      "        ## We need to sell the active to the buyer\n",
      "        ## the active costs us:\n",
      "        # call at the buy_strike or buy at x, whichever is lower\n",
      "        res += -min(x, buy_strike)\n",
      "        # sell at the sell_strike\n",
      "        res += sell_strike\n",
      "    elif x > buy_strike:\n",
      "        ## We can call at the buy_strike and sell at x\n",
      "        res += -buy_strike\n",
      "        res += x\n",
      "    return res\n",
      "\n",
      "\n",
      "def option_closing_eq_2(x):\n",
      "    sellcall_loss = min(x, buy_strike) - sell_strike if x > sell_strike else 0\n",
      "    return (\n",
      "        0\n",
      "        + sell_price - buy_price\n",
      "        + max(  ## cannot go negative\n",
      "            x - buy_strike,  # buycall_profit\n",
      "            0)\n",
      "        - sellcall_loss\n",
      "    )\n",
      "\n",
      "\n",
      "[\n",
      "    (x,\n",
      "     option_closing_eq(x),\n",
      "     # option_closing_eq_2(x),\n",
      "     #max(x - buy_strike, 0)\n",
      "     #min(x, buy_strike) - sell_strike\n",
      "     #min(sell_strike - x, 0)\n",
      "     #(sell_strike < x, sell_strike - x, sell_strike - min(x, buy_strike)),\n",
      "     # (x > buy_strike, x - buy_strike,\n",
      "     #max(x - buy_strike, 0),\n",
      "     #sell_price - min(x, buy_strike) + min(x, sell_strike) - buy_price\n",
      "     x - min(x, buy_strike) - buy_price, sell_price + min(x, sell_strike) - x\n",
      "#      # call at the buy_strike or buy at x, whichever is lower\n",
      "#      + min(x, buy_strike)\n",
      "#      # if sell_strike < x, we need to sell the active to the buyer\n",
      "#      - \n",
      "#      # elif sell_strike >= x, we \n",
      "#      - min(x, sell_strike)\n",
      "    )\n",
      "    for x in range(20, 40)\n",
      "]"
     ],
     "language": "python",
     "metadata": {},
     "outputs": [
      {
       "metadata": {},
       "output_type": "pyout",
       "prompt_number": 9,
       "text": [
        "[(20, -2, -3, 1),\n",
        " (21, -2, -3, 1),\n",
        " (22, -2, -3, 1),\n",
        " (23, -2, -3, 1),\n",
        " (24, -2, -3, 1),\n",
        " (25, -2, -3, 1),\n",
        " (26, -1, -2, 1),\n",
        " (27, 0, -1, 1),\n",
        " (28, 1, 0, 1),\n",
        " (29, 2, 1, 1),\n",
        " (30, 3, 2, 1),\n",
        " (31, 3, 3, 0),\n",
        " (32, 3, 4, -1),\n",
        " (33, 3, 5, -2),\n",
        " (34, 3, 6, -3),\n",
        " (35, 3, 7, -4),\n",
        " (36, 3, 8, -5),\n",
        " (37, 3, 9, -6),\n",
        " (38, 3, 10, -7),\n",
        " (39, 3, 11, -8)]"
       ]
      }
     ],
     "prompt_number": 9
    },
    {
     "cell_type": "code",
     "collapsed": false,
     "input": [
      "dfx = pa.DataFrame(\n",
      "    [[1, 'a', False],\n",
      "     [2, 'b', True]],\n",
      "    columns=('x', 'y', 'z')\n",
      ")\n",
      "\n",
      "def stuff(row):\n",
      "    print \"-------\"\n",
      "    print \"ar\", repr(ar), \"kwa\", repr(kwa)\n",
      "    return 1\n",
      "\n",
      "dfx.apply(stuff, axis=1)"
     ],
     "language": "python",
     "metadata": {},
     "outputs": [
      {
       "output_type": "stream",
       "stream": "stdout",
       "text": [
        "-------\n",
        "ar (x        1\n",
        "y        a\n",
        "z    False\n",
        "Name: 0, dtype: object,) kwa {}\n",
        "-------\n",
        "ar (x       2\n",
        "y       b\n",
        "z    True\n",
        "Name: 1, dtype: object,) kwa {}\n"
       ]
      },
      {
       "metadata": {},
       "output_type": "pyout",
       "prompt_number": 13,
       "text": [
        "0    1\n",
        "1    1\n",
        "dtype: int64"
       ]
      }
     ],
     "prompt_number": 13
    },
    {
     "cell_type": "code",
     "collapsed": false,
     "input": [
      "dfx = pa.DataFrame(\n",
      "    [['2014-01-01', 1],\n",
      "     ['2014-01-02', 2]],\n",
      "    columns=('date', 'val')\n",
      ").set_index('date')\n",
      "dfx"
     ],
     "language": "python",
     "metadata": {},
     "outputs": [
      {
       "html": [
        "<div style=\"max-height:1000px;max-width:1500px;overflow:auto;\">\n",
        "<table border=\"1\" class=\"dataframe\">\n",
        "  <thead>\n",
        "    <tr style=\"text-align: right;\">\n",
        "      <th></th>\n",
        "      <th>val</th>\n",
        "    </tr>\n",
        "    <tr>\n",
        "      <th>date</th>\n",
        "      <th></th>\n",
        "    </tr>\n",
        "  </thead>\n",
        "  <tbody>\n",
        "    <tr>\n",
        "      <th>2014-01-01</th>\n",
        "      <td> 1</td>\n",
        "    </tr>\n",
        "    <tr>\n",
        "      <th>2014-01-02</th>\n",
        "      <td> 2</td>\n",
        "    </tr>\n",
        "  </tbody>\n",
        "</table>\n",
        "</div>"
       ],
       "metadata": {},
       "output_type": "pyout",
       "prompt_number": 3,
       "text": [
        "            val\n",
        "date           \n",
        "2014-01-01    1\n",
        "2014-01-02    2"
       ]
      }
     ],
     "prompt_number": 3
    }
   ],
   "metadata": {}
  }
 ]
}