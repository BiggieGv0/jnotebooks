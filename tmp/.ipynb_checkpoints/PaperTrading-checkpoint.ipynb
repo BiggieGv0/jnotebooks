{
 "metadata": {
  "name": "",
  "signature": "sha256:33f0f7d43406ab1dc6552bcea1fbaba39a3a147ec830e7ddd3f08c0d5bce25f1"
 },
 "nbformat": 3,
 "nbformat_minor": 0,
 "worksheets": [
  {
   "cells": [
    {
     "cell_type": "code",
     "collapsed": false,
     "input": [
      "import pandas as pa\n",
      "import Quandl\n",
      "import csv"
     ],
     "language": "python",
     "metadata": {},
     "outputs": [],
     "prompt_number": 5
    },
    {
     "cell_type": "code",
     "collapsed": false,
     "input": [
      "#BA strategy\n",
      "\"\"\"\n",
      "Percent Range\n",
      "\"\"\"\n",
      "\n",
      "def decil(rang, val):\n",
      "    total = bigger = 0\n",
      "    for x in rang:\n",
      "        total += 1\n",
      "        if x <= val:\n",
      "            bigger += 1\n",
      "    decil = float(bigger)/total\n",
      "    return decil\n",
      "\n",
      "def fta(series):\n",
      "    return decil(series[:-1], series[-1])"
     ],
     "language": "python",
     "metadata": {},
     "outputs": [],
     "prompt_number": 6
    },
    {
     "cell_type": "code",
     "collapsed": false,
     "input": [
      "file = \"/home/mad/Options/PaperTrade/set.csv\""
     ],
     "language": "python",
     "metadata": {},
     "outputs": [],
     "prompt_number": 7
    },
    {
     "cell_type": "code",
     "collapsed": false,
     "input": [
      "pd = pa.DataFrame.from_csv(file)"
     ],
     "language": "python",
     "metadata": {},
     "outputs": [],
     "prompt_number": 8
    },
    {
     "cell_type": "code",
     "collapsed": false,
     "input": [
      "#reader = csv.reader(open(file),delimiter=',')\n",
      "\n",
      "def scan(pd):\n",
      "    f1 = []\n",
      "    f2 = []\n",
      "    for row in pd.index:\n",
      "        try:\n",
      "            data = Quandl.get('WIKI/{s}'.format(s = row), authtoken='qwePHAwSwRqpsEXaUpW7', returns=\"pandas\")\n",
      "        except:\n",
      "            print ('symbol WIKI/{s} is not found'.format(s = row))\n",
      "            f2.append(row)            \n",
      "            continue\n",
      "        data = data.drop(['Open', 'High', 'Low', 'Close', 'Volume', 'Ex-Dividend', 'Split Ratio', 'Adj. Volume', 'Adj. Open'],1)\n",
      "        data = data.rename(columns={'Adj. High': 'H', 'Adj. Low': 'L', 'Adj. Close': 'C'})\n",
      "        data['Volat'] = (data.H - data.L)/data.C\n",
      "        data['Decile'] = pa.rolling_apply(data.Volat, 50, fta)\n",
      "        data['AvgDecile'] = pa.rolling_mean(data.Decile, 5)\n",
      "        data['AvgHL'] = pa.rolling_mean(data.Volat, 5)\n",
      "        data['Buy'] = (data.AvgDecile >= 0.7) & (data.AvgHL >= 0.03)\n",
      "        if data.Buy[-1]:\n",
      "            f1.append(row)\n",
      "            #print f1\n",
      "    return f1, f2"
     ],
     "language": "python",
     "metadata": {},
     "outputs": []
    },
    {
     "cell_type": "code",
     "collapsed": false,
     "input": [
      "buy, nf = scan(pd)"
     ],
     "language": "python",
     "metadata": {},
     "outputs": [
      {
       "output_type": "stream",
       "stream": "stdout",
       "text": [
        "Token qwePHAwSwRqpsEXaUpW7 activated and saved for later use.\n",
        "symbol WIKI/AGQ is not found"
       ]
      },
      {
       "output_type": "stream",
       "stream": "stdout",
       "text": [
        "\n",
        "Token qwePHAwSwRqpsEXaUpW7 activated and saved for later use.\n",
        "symbol WIKI/ASHR is not found"
       ]
      },
      {
       "output_type": "stream",
       "stream": "stdout",
       "text": [
        "\n",
        "Token qwePHAwSwRqpsEXaUpW7 activated and saved for later use.\n",
        "symbol WIKI/DIA is not found"
       ]
      },
      {
       "output_type": "stream",
       "stream": "stdout",
       "text": [
        "\n",
        "Token qwePHAwSwRqpsEXaUpW7 activated and saved for later use.\n",
        "symbol WIKI/DUST is not found"
       ]
      },
      {
       "output_type": "stream",
       "stream": "stdout",
       "text": [
        "\n",
        "Token qwePHAwSwRqpsEXaUpW7 activated and saved for later use.\n",
        "symbol WIKI/DXJ is not found"
       ]
      },
      {
       "output_type": "stream",
       "stream": "stdout",
       "text": [
        "\n",
        "Token qwePHAwSwRqpsEXaUpW7 activated and saved for later use.\n",
        "symbol WIKI/EEM is not found"
       ]
      },
      {
       "output_type": "stream",
       "stream": "stdout",
       "text": [
        "\n",
        "Token qwePHAwSwRqpsEXaUpW7 activated and saved for later use.\n",
        "symbol WIKI/EFA is not found"
       ]
      },
      {
       "output_type": "stream",
       "stream": "stdout",
       "text": [
        "\n",
        "Token qwePHAwSwRqpsEXaUpW7 activated and saved for later use.\n",
        "symbol WIKI/EPI is not found"
       ]
      },
      {
       "output_type": "stream",
       "stream": "stdout",
       "text": [
        "\n",
        "Token qwePHAwSwRqpsEXaUpW7 activated and saved for later use.\n",
        "symbol WIKI/ERX is not found"
       ]
      },
      {
       "output_type": "stream",
       "stream": "stdout",
       "text": [
        "\n",
        "Token qwePHAwSwRqpsEXaUpW7 activated and saved for later use.\n",
        "symbol WIKI/EWG is not found"
       ]
      },
      {
       "output_type": "stream",
       "stream": "stdout",
       "text": [
        "\n",
        "Token qwePHAwSwRqpsEXaUpW7 activated and saved for later use.\n",
        "symbol WIKI/EWJ is not found"
       ]
      },
      {
       "output_type": "stream",
       "stream": "stdout",
       "text": [
        "\n",
        "Token qwePHAwSwRqpsEXaUpW7 activated and saved for later use.\n",
        "symbol WIKI/EWW is not found"
       ]
      },
      {
       "output_type": "stream",
       "stream": "stdout",
       "text": [
        "\n",
        "Token qwePHAwSwRqpsEXaUpW7 activated and saved for later use.\n",
        "symbol WIKI/EWZ is not found"
       ]
      },
      {
       "output_type": "stream",
       "stream": "stdout",
       "text": [
        "\n",
        "Token qwePHAwSwRqpsEXaUpW7 activated and saved for later use.\n",
        "symbol WIKI/FAS is not found"
       ]
      },
      {
       "output_type": "stream",
       "stream": "stdout",
       "text": [
        "\n",
        "Token qwePHAwSwRqpsEXaUpW7 activated and saved for later use.\n",
        "symbol WIKI/FAZ is not found"
       ]
      },
      {
       "output_type": "stream",
       "stream": "stdout",
       "text": [
        "\n",
        "Token qwePHAwSwRqpsEXaUpW7 activated and saved for later use.\n",
        "symbol WIKI/FEZ is not found"
       ]
      },
      {
       "output_type": "stream",
       "stream": "stdout",
       "text": [
        "\n",
        "Token qwePHAwSwRqpsEXaUpW7 activated and saved for later use.\n",
        "symbol WIKI/FXE is not found"
       ]
      },
      {
       "output_type": "stream",
       "stream": "stdout",
       "text": [
        "\n",
        "Token qwePHAwSwRqpsEXaUpW7 activated and saved for later use.\n",
        "symbol WIKI/FXI is not found"
       ]
      },
      {
       "output_type": "stream",
       "stream": "stdout",
       "text": [
        "\n",
        "Token qwePHAwSwRqpsEXaUpW7 activated and saved for later use.\n",
        "symbol WIKI/FXY is not found"
       ]
      },
      {
       "output_type": "stream",
       "stream": "stdout",
       "text": [
        "\n",
        "Token qwePHAwSwRqpsEXaUpW7 activated and saved for later use.\n",
        "symbol WIKI/GDX is not found"
       ]
      },
      {
       "output_type": "stream",
       "stream": "stdout",
       "text": [
        "\n",
        "Token qwePHAwSwRqpsEXaUpW7 activated and saved for later use.\n",
        "symbol WIKI/GDXJ is not found"
       ]
      },
      {
       "output_type": "stream",
       "stream": "stdout",
       "text": [
        "\n",
        "Token qwePHAwSwRqpsEXaUpW7 activated and saved for later use.\n",
        "symbol WIKI/GLD is not found"
       ]
      },
      {
       "output_type": "stream",
       "stream": "stdout",
       "text": [
        "\n",
        "Token qwePHAwSwRqpsEXaUpW7 activated and saved for later use.\n",
        "symbol WIKI/GREK is not found"
       ]
      },
      {
       "output_type": "stream",
       "stream": "stdout",
       "text": [
        "\n",
        "Token qwePHAwSwRqpsEXaUpW7 activated and saved for later use.\n",
        "symbol WIKI/HACK is not found"
       ]
      },
      {
       "output_type": "stream",
       "stream": "stdout",
       "text": [
        "\n",
        "Token qwePHAwSwRqpsEXaUpW7 activated and saved for later use.\n",
        "symbol WIKI/HEDJ is not found"
       ]
      },
      {
       "output_type": "stream",
       "stream": "stdout",
       "text": [
        "\n",
        "Token qwePHAwSwRqpsEXaUpW7 activated and saved for later use.\n",
        "symbol WIKI/HYG is not found"
       ]
      },
      {
       "output_type": "stream",
       "stream": "stdout",
       "text": [
        "\n",
        "Token qwePHAwSwRqpsEXaUpW7 activated and saved for later use.\n",
        "symbol WIKI/IBB is not found"
       ]
      },
      {
       "output_type": "stream",
       "stream": "stdout",
       "text": [
        "\n",
        "Token qwePHAwSwRqpsEXaUpW7 activated and saved for later use.\n",
        "symbol WIKI/ITB is not found"
       ]
      },
      {
       "output_type": "stream",
       "stream": "stdout",
       "text": [
        "\n",
        "Token qwePHAwSwRqpsEXaUpW7 activated and saved for later use.\n",
        "symbol WIKI/IWM is not found"
       ]
      },
      {
       "output_type": "stream",
       "stream": "stdout",
       "text": [
        "\n",
        "Token qwePHAwSwRqpsEXaUpW7 activated and saved for later use.\n",
        "symbol WIKI/IYR is not found"
       ]
      },
      {
       "output_type": "stream",
       "stream": "stdout",
       "text": [
        "\n",
        "Token qwePHAwSwRqpsEXaUpW7 activated and saved for later use.\n",
        "symbol WIKI/JNUG is not found"
       ]
      },
      {
       "output_type": "stream",
       "stream": "stdout",
       "text": [
        "\n",
        "Token qwePHAwSwRqpsEXaUpW7 activated and saved for later use.\n",
        "symbol WIKI/KRE is not found"
       ]
      },
      {
       "output_type": "stream",
       "stream": "stdout",
       "text": [
        "\n",
        "Token qwePHAwSwRqpsEXaUpW7 activated and saved for later use.\n",
        "symbol WIKI/MDY is not found"
       ]
      },
      {
       "output_type": "stream",
       "stream": "stdout",
       "text": [
        "\n",
        "Token qwePHAwSwRqpsEXaUpW7 activated and saved for later use.\n",
        "symbol WIKI/NUGT is not found"
       ]
      },
      {
       "output_type": "stream",
       "stream": "stdout",
       "text": [
        "\n",
        "Token qwePHAwSwRqpsEXaUpW7 activated and saved for later use.\n",
        "symbol WIKI/OIH is not found"
       ]
      },
      {
       "output_type": "stream",
       "stream": "stdout",
       "text": [
        "\n",
        "Token qwePHAwSwRqpsEXaUpW7 activated and saved for later use.\n",
        "symbol WIKI/QQQ is not found"
       ]
      },
      {
       "output_type": "stream",
       "stream": "stdout",
       "text": [
        "\n",
        "Token qwePHAwSwRqpsEXaUpW7 activated and saved for later use.\n",
        "symbol WIKI/RSX is not found"
       ]
      },
      {
       "output_type": "stream",
       "stream": "stdout",
       "text": [
        "\n",
        "Token qwePHAwSwRqpsEXaUpW7 activated and saved for later use.\n",
        "symbol WIKI/SCO is not found"
       ]
      },
      {
       "output_type": "stream",
       "stream": "stdout",
       "text": [
        "\n",
        "Token qwePHAwSwRqpsEXaUpW7 activated and saved for later use.\n",
        "symbol WIKI/SDS is not found"
       ]
      },
      {
       "output_type": "stream",
       "stream": "stdout",
       "text": [
        "\n",
        "Token qwePHAwSwRqpsEXaUpW7 activated and saved for later use.\n",
        "symbol WIKI/SLV is not found"
       ]
      },
      {
       "output_type": "stream",
       "stream": "stdout",
       "text": [
        "\n",
        "Token qwePHAwSwRqpsEXaUpW7 activated and saved for later use.\n",
        "symbol WIKI/SPY is not found"
       ]
      },
      {
       "output_type": "stream",
       "stream": "stdout",
       "text": [
        "\n",
        "Token qwePHAwSwRqpsEXaUpW7 activated and saved for later use.\n",
        "symbol WIKI/SSO is not found"
       ]
      },
      {
       "output_type": "stream",
       "stream": "stdout",
       "text": [
        "\n",
        "Token qwePHAwSwRqpsEXaUpW7 activated and saved for later use.\n",
        "symbol WIKI/SVXY is not found"
       ]
      },
      {
       "output_type": "stream",
       "stream": "stdout",
       "text": [
        "\n",
        "Token qwePHAwSwRqpsEXaUpW7 activated and saved for later use.\n",
        "symbol WIKI/TBT is not found"
       ]
      },
      {
       "output_type": "stream",
       "stream": "stdout",
       "text": [
        "\n",
        "Token qwePHAwSwRqpsEXaUpW7 activated and saved for later use.\n",
        "symbol WIKI/TLT is not found"
       ]
      },
      {
       "output_type": "stream",
       "stream": "stdout",
       "text": [
        "\n",
        "Token qwePHAwSwRqpsEXaUpW7 activated and saved for later use.\n",
        "symbol WIKI/TNA is not found"
       ]
      },
      {
       "output_type": "stream",
       "stream": "stdout",
       "text": [
        "\n",
        "Token qwePHAwSwRqpsEXaUpW7 activated and saved for later use.\n",
        "symbol WIKI/TQQQ is not found"
       ]
      },
      {
       "output_type": "stream",
       "stream": "stdout",
       "text": [
        "\n",
        "Token qwePHAwSwRqpsEXaUpW7 activated and saved for later use.\n",
        "symbol WIKI/TZA is not found"
       ]
      },
      {
       "output_type": "stream",
       "stream": "stdout",
       "text": [
        "\n",
        "Token qwePHAwSwRqpsEXaUpW7 activated and saved for later use.\n",
        "symbol WIKI/UCO is not found"
       ]
      },
      {
       "output_type": "stream",
       "stream": "stdout",
       "text": [
        "\n",
        "Token qwePHAwSwRqpsEXaUpW7 activated and saved for later use.\n",
        "symbol WIKI/UNG is not found"
       ]
      },
      {
       "output_type": "stream",
       "stream": "stdout",
       "text": [
        "\n",
        "Token qwePHAwSwRqpsEXaUpW7 activated and saved for later use.\n",
        "symbol WIKI/UPRO is not found"
       ]
      },
      {
       "output_type": "stream",
       "stream": "stdout",
       "text": [
        "\n",
        "Token qwePHAwSwRqpsEXaUpW7 activated and saved for later use.\n",
        "symbol WIKI/USO is not found"
       ]
      },
      {
       "output_type": "stream",
       "stream": "stdout",
       "text": [
        "\n",
        "Token qwePHAwSwRqpsEXaUpW7 activated and saved for later use.\n",
        "symbol WIKI/UUP is not found"
       ]
      },
      {
       "output_type": "stream",
       "stream": "stdout",
       "text": [
        "\n",
        "Token qwePHAwSwRqpsEXaUpW7 activated and saved for later use.\n",
        "symbol WIKI/UVXY is not found"
       ]
      },
      {
       "output_type": "stream",
       "stream": "stdout",
       "text": [
        "\n",
        "Token qwePHAwSwRqpsEXaUpW7 activated and saved for later use.\n",
        "symbol WIKI/VWO is not found"
       ]
      },
      {
       "output_type": "stream",
       "stream": "stdout",
       "text": [
        "\n",
        "Token qwePHAwSwRqpsEXaUpW7 activated and saved for later use.\n",
        "symbol WIKI/VXX is not found"
       ]
      },
      {
       "output_type": "stream",
       "stream": "stdout",
       "text": [
        "\n",
        "Token qwePHAwSwRqpsEXaUpW7 activated and saved for later use.\n",
        "symbol WIKI/XBI is not found"
       ]
      },
      {
       "output_type": "stream",
       "stream": "stdout",
       "text": [
        "\n",
        "Token qwePHAwSwRqpsEXaUpW7 activated and saved for later use.\n",
        "symbol WIKI/XHB is not found"
       ]
      },
      {
       "output_type": "stream",
       "stream": "stdout",
       "text": [
        "\n",
        "Token qwePHAwSwRqpsEXaUpW7 activated and saved for later use.\n",
        "symbol WIKI/XLB is not found"
       ]
      },
      {
       "output_type": "stream",
       "stream": "stdout",
       "text": [
        "\n",
        "Token qwePHAwSwRqpsEXaUpW7 activated and saved for later use.\n",
        "symbol WIKI/XLE is not found"
       ]
      },
      {
       "output_type": "stream",
       "stream": "stdout",
       "text": [
        "\n",
        "Token qwePHAwSwRqpsEXaUpW7 activated and saved for later use.\n",
        "symbol WIKI/XLF is not found"
       ]
      },
      {
       "output_type": "stream",
       "stream": "stdout",
       "text": [
        "\n",
        "Token qwePHAwSwRqpsEXaUpW7 activated and saved for later use.\n",
        "symbol WIKI/XLI is not found"
       ]
      },
      {
       "output_type": "stream",
       "stream": "stdout",
       "text": [
        "\n",
        "Token qwePHAwSwRqpsEXaUpW7 activated and saved for later use.\n",
        "symbol WIKI/XLK is not found"
       ]
      },
      {
       "output_type": "stream",
       "stream": "stdout",
       "text": [
        "\n",
        "Token qwePHAwSwRqpsEXaUpW7 activated and saved for later use.\n",
        "symbol WIKI/XLP is not found"
       ]
      },
      {
       "output_type": "stream",
       "stream": "stdout",
       "text": [
        "\n",
        "Token qwePHAwSwRqpsEXaUpW7 activated and saved for later use.\n",
        "symbol WIKI/XLU is not found"
       ]
      },
      {
       "output_type": "stream",
       "stream": "stdout",
       "text": [
        "\n",
        "Token qwePHAwSwRqpsEXaUpW7 activated and saved for later use.\n",
        "symbol WIKI/XLV is not found"
       ]
      },
      {
       "output_type": "stream",
       "stream": "stdout",
       "text": [
        "\n",
        "Token qwePHAwSwRqpsEXaUpW7 activated and saved for later use.\n",
        "symbol WIKI/XLY is not found"
       ]
      },
      {
       "output_type": "stream",
       "stream": "stdout",
       "text": [
        "\n",
        "Token qwePHAwSwRqpsEXaUpW7 activated and saved for later use.\n",
        "symbol WIKI/XME is not found"
       ]
      },
      {
       "output_type": "stream",
       "stream": "stdout",
       "text": [
        "\n",
        "Token qwePHAwSwRqpsEXaUpW7 activated and saved for later use.\n",
        "symbol WIKI/XOP is not found"
       ]
      },
      {
       "output_type": "stream",
       "stream": "stdout",
       "text": [
        "\n",
        "Token qwePHAwSwRqpsEXaUpW7 activated and saved for later use.\n",
        "symbol WIKI/XRT is not found"
       ]
      },
      {
       "output_type": "stream",
       "stream": "stdout",
       "text": [
        "\n",
        "Token qwePHAwSwRqpsEXaUpW7 activated and saved for later use.\n",
        "symbol WIKI/YANG is not found"
       ]
      },
      {
       "output_type": "stream",
       "stream": "stdout",
       "text": [
        "\n",
        "Token qwePHAwSwRqpsEXaUpW7 activated and saved for later use.\n",
        "Returning Dataframe for "
       ]
      },
      {
       "output_type": "stream",
       "stream": "stdout",
       "text": [
        " WIKI/AA\n",
        "Token qwePHAwSwRqpsEXaUpW7 activated and saved for later use."
       ]
      },
      {
       "output_type": "stream",
       "stream": "stdout",
       "text": [
        "\n",
        "Returning Dataframe for "
       ]
      },
      {
       "output_type": "stream",
       "stream": "stdout",
       "text": [
        " WIKI/AAL\n",
        "Token qwePHAwSwRqpsEXaUpW7 activated and saved for later use.\n",
        "Returning Dataframe for "
       ]
      },
      {
       "output_type": "stream",
       "stream": "stdout",
       "text": [
        " WIKI/AAPL\n",
        "Token qwePHAwSwRqpsEXaUpW7 activated and saved for later use."
       ]
      },
      {
       "output_type": "stream",
       "stream": "stdout",
       "text": [
        "\n",
        "Returning Dataframe for "
       ]
      },
      {
       "output_type": "stream",
       "stream": "stdout",
       "text": [
        " WIKI/ABBV\n",
        "Token qwePHAwSwRqpsEXaUpW7 activated and saved for later use.\n",
        "symbol WIKI/ABX is not found"
       ]
      },
      {
       "output_type": "stream",
       "stream": "stdout",
       "text": [
        "\n",
        "Token qwePHAwSwRqpsEXaUpW7 activated and saved for later use.\n",
        "Returning Dataframe for "
       ]
      },
      {
       "output_type": "stream",
       "stream": "stdout",
       "text": [
        " WIKI/ACHN\n",
        "Token qwePHAwSwRqpsEXaUpW7 activated and saved for later use.\n",
        "Returning Dataframe for "
       ]
      },
      {
       "output_type": "stream",
       "stream": "stdout",
       "text": [
        " WIKI/ACN\n",
        "Token qwePHAwSwRqpsEXaUpW7 activated and saved for later use."
       ]
      },
      {
       "output_type": "stream",
       "stream": "stdout",
       "text": [
        "\n",
        "symbol WIKI/ACT is not found"
       ]
      },
      {
       "output_type": "stream",
       "stream": "stdout",
       "text": [
        "\n",
        "Token qwePHAwSwRqpsEXaUpW7 activated and saved for later use.\n",
        "Returning Dataframe for "
       ]
      },
      {
       "output_type": "stream",
       "stream": "stdout",
       "text": [
        " WIKI/ADM\n",
        "Token qwePHAwSwRqpsEXaUpW7 activated and saved for later use."
       ]
      }
     ]
    },
    {
     "cell_type": "code",
     "collapsed": false,
     "input": [
      "scaner = pa.DataFrame(buy, columns = ['Symbol'])\n",
      "scaner.to_csv('/home/mad/Options/PaperTrade/scan.csv')"
     ],
     "language": "python",
     "metadata": {},
     "outputs": []
    },
    {
     "cell_type": "code",
     "collapsed": false,
     "input": [
      "notfound = pa.DataFrame(nf, columns = ['Symbol'])"
     ],
     "language": "python",
     "metadata": {},
     "outputs": []
    },
    {
     "cell_type": "code",
     "collapsed": false,
     "input": [
      "notfound.to_csv('/home/mad/Options/PaperTrade/notfound.csv')"
     ],
     "language": "python",
     "metadata": {},
     "outputs": []
    },
    {
     "cell_type": "code",
     "collapsed": false,
     "input": [
      "data = Quandl.get('WIKI/GMCR', authtoken='qwePHAwSwRqpsEXaUpW7', returns=\"pandas\")\n",
      "data = data.drop(['Open', 'High', 'Low', 'Close', 'Volume', 'Ex-Dividend', 'Split Ratio', 'Adj. Volume', 'Adj. Open'],1)\n",
      "data = data.rename(columns={'Adj. High': 'H', 'Adj. Low': 'L', 'Adj. Close': 'C'})\n",
      "data['Volat'] = (data.H - data.L)/data.C\n",
      "data['Decile'] = pa.rolling_apply(data.Volat, 50, fta)\n",
      "data['AvgDecile'] = pa.rolling_mean(data.Decile, 5)\n",
      "data['AvgHL'] = pa.rolling_mean(data.Volat, 5)\n",
      "data['Buy'] = (data.AvgDecile >= 0.7) & (data.AvgHL >= 0.03)"
     ],
     "language": "python",
     "metadata": {},
     "outputs": []
    },
    {
     "cell_type": "code",
     "collapsed": false,
     "input": [
      "data.to_csv(\"/home/mad/Options/PaperTrade/sample.csv\")"
     ],
     "language": "python",
     "metadata": {},
     "outputs": []
    },
    {
     "cell_type": "code",
     "collapsed": false,
     "input": [],
     "language": "python",
     "metadata": {},
     "outputs": []
    }
   ],
   "metadata": {}
  }
 ]
}