{
 "metadata": {
  "name": "",
  "signature": "sha256:1c20d0b7e597803243dd37685f634375823bd8a9b192e7d5e3761b8d39c7b20a"
 },
 "nbformat": 3,
 "nbformat_minor": 0,
 "worksheets": [
  {
   "cells": [
    {
     "cell_type": "code",
     "collapsed": false,
     "input": [
      "import pandas as pa\n",
      "from IPython.display import HTML\n",
      "import matplotlib.pyplot as plt\n",
      "import numpy as np\n",
      "from __future__ import division"
     ],
     "language": "python",
     "metadata": {},
     "outputs": [],
     "prompt_number": 1
    },
    {
     "cell_type": "code",
     "collapsed": false,
     "input": [
      "#Define symbol and path to data\n",
      "ba = (\n",
      "    pa.DataFrame.from_csv('/home/mad/Options/SPY_D.csv')\n",
      "    .sort_index()\n",
      "    .rename(columns=dict(Open='O', High='H', Low='L', Settle='C', Volume='V')))"
     ],
     "language": "python",
     "metadata": {},
     "outputs": [],
     "prompt_number": 2
    },
    {
     "cell_type": "code",
     "collapsed": false,
     "input": [
      "ba['volat'] = (ba.H - ba.L)/ba.C\n",
      "ba = ba[0:6000]"
     ],
     "language": "python",
     "metadata": {},
     "outputs": [],
     "prompt_number": 3
    },
    {
     "cell_type": "code",
     "collapsed": false,
     "input": [
      "\"\"\"\n",
      "Percent Range\n",
      "\"\"\"\n",
      "\n",
      "def decil(rang, val):\n",
      "    total = bigger = 0\n",
      "    for x in rang:\n",
      "        total += 1\n",
      "        if x <= val:\n",
      "            bigger += 1\n",
      "    decil = float(bigger)/total\n",
      "    return decil\n",
      "\n",
      "def fta(series):\n",
      "    return decil(series[:-1], series[-1])"
     ],
     "language": "python",
     "metadata": {},
     "outputs": [],
     "prompt_number": 4
    },
    {
     "cell_type": "code",
     "collapsed": false,
     "input": [
      "ba['Decile'] = pa.rolling_apply(ba.volat, 50, fta)"
     ],
     "language": "python",
     "metadata": {},
     "outputs": [],
     "prompt_number": 5
    },
    {
     "cell_type": "code",
     "collapsed": false,
     "input": [
      "ba['DecShift'] = ba.Decile.shift(-15)\n",
      "\n",
      "d = {}\n",
      "step = 0\n",
      "for i in range(0, 10, 1):\n",
      "    ba1 = ba.ix[(ba.Decile >= step) & (ba.Decile < step+0.1)]\n",
      "    ba1 = ba1.dropna()\n",
      "    counts, intervals = np.histogram(ba1.DecShift)\n",
      "    counts = counts.astype(float)\n",
      "    counts /= len(ba1)\n",
      "    counts *= 100\n",
      "    d[step] = counts\n",
      "    step += 0.1\n",
      "    \n",
      "df3 = pa.DataFrame.from_dict(data = d)"
     ],
     "language": "python",
     "metadata": {},
     "outputs": [],
     "prompt_number": 6
    },
    {
     "cell_type": "code",
     "collapsed": false,
     "input": [
      "#df3.to_html('/home/mad/Options/Results/SPY/volamap_15.htm')"
     ],
     "language": "python",
     "metadata": {},
     "outputs": [],
     "prompt_number": 9
    },
    {
     "cell_type": "code",
     "collapsed": false,
     "input": [
      "def volamaps(df, period):\n",
      "    ba['DecShift'] = ba.Decile.shift(-period)\n",
      "    d = {}\n",
      "    step = 0\n",
      "    for i in range(0, 10, 1):\n",
      "        ba1 = ba.ix[(ba.Decile >= step) & (ba.Decile < step+0.1)]\n",
      "        ba1 = ba1.dropna()\n",
      "        counts, intervals = np.histogram(ba1.DecShift)\n",
      "        counts = counts.astype(float)\n",
      "        counts /= len(ba1)\n",
      "        counts *= 100\n",
      "        d[step] = counts\n",
      "        step += 0.1\n",
      "\n",
      "    df = pa.DataFrame.from_dict(data = d)\n",
      "    return df"
     ],
     "language": "python",
     "metadata": {},
     "outputs": [],
     "prompt_number": 22
    },
    {
     "cell_type": "code",
     "collapsed": false,
     "input": [
      "from pandas.io.excel import ExcelWriter\n",
      "#Define range of periods and step in range(5, 20, 5)\n",
      "dfes = [(period, volamaps(ba, period)) for period in (range(5, 20, 5))]\n",
      "\n",
      "#define path to excel book\n",
      "with ExcelWriter('/home/mad/Options/Results/SPY/volamap_15.xlsx') as writer:\n",
      "    for name, res_df in dfes:\n",
      "        res_df.to_excel(writer, sheet_name=str(name))"
     ],
     "language": "python",
     "metadata": {},
     "outputs": [],
     "prompt_number": 29
    },
    {
     "cell_type": "code",
     "collapsed": false,
     "input": [],
     "language": "python",
     "metadata": {},
     "outputs": []
    }
   ],
   "metadata": {}
  }
 ]
}