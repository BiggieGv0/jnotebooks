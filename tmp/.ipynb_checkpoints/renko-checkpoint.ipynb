{
 "cells": [
  {
   "cell_type": "code",
   "execution_count": 11,
   "metadata": {},
   "outputs": [
    {
     "name": "stdout",
     "output_type": "stream",
     "text": [
      "Token qwePHAwSwRqpsEXaUpW7 activated and saved for later use.\n",
      "Returning Dataframe for  WIKI/AAPL\n"
     ]
    }
   ],
   "source": [
    "import Quandl\n",
    "import pandas.io.data as web\n",
    "import pandas as pd\n",
    "\n",
    "df = Quandl.get(\"WIKI/AAPL\", authtoken='qwePHAwSwRqpsEXaUpW7', returns=\"pandas\")\n",
    "df = df.drop(['Open', 'High', 'Low', 'Close', 'Volume', 'Ex-Dividend', 'Split Ratio', 'Adj. Volume'],1)\n",
    "df = df.rename(columns={'Adj. Open': 'O', 'Adj. High': 'H', 'Adj. Low': 'L', 'Adj. Close': 'C'})"
   ]
  },
  {
   "cell_type": "markdown",
   "metadata": {},
   "source": [
    "Вопросы:\n",
    "-сначала надо считать Н-вол\n",
    "-стратегия для бектеста?\n",
    "-тики или не тики?\n",
    "-что еще за стабильность дают ренко бары на обычных индикаторах и стратах? \n",
    "-когда надо брать в расчет Н волатильность? в какие моменты на рынке? (взрыв волатильности на тренде? гэп? сезонность торговой сесси? сентимент?)\n",
    "-не проще ли торговать по нему волатильностью а не БА?\n",
    "-есть какая то тема с предугадыванием ценового уровня входа от сигнала ренко бара"
   ]
  },
  {
   "cell_type": "code",
   "execution_count": 12,
   "metadata": {},
   "outputs": [],
   "source": [
    "d = []\n",
    "renkoSize = 3\n",
    "prevClose = df.ix[0].C\n",
    "prevCloseTime = df.index[0]\n",
    "\n",
    "for i in range (1, len(df)):\n",
    "    currentClose = df.iloc[i].C\n",
    "    currentCloseTime = df.index[i]\n",
    "    delta = ads(currentClose - prevClose)\n",
    "    if delta >= renkoSize:\n",
    "        delta\n",
    "        d.append({'currentClose':currentClose, 'currentCloseTime':currentCloseTime, 'prevClose':prevClose, 'prevCloseTime':prevCloseTime})\n",
    "        prevClose = currentClose\n",
    "        prevCloseTime = currentCloseTime\n",
    "\n",
    "def high(row):\n",
    "    return row.currentClose if (row.currentClose - row.prevClose) > 0 else row.prevClose\n",
    "\n",
    "def low(row):\n",
    "    return row.prevClose if (row.currentClose - row.prevClose) > 0 else row.currentClose\n",
    "        \n",
    "df1 = pd.DataFrame(d)\n",
    "df2 = pd.DataFrame()\n",
    "df1['open'] = df1.prevClose\n",
    "df1['high'] = df1.apply(high, axis=1)\n",
    "df1['low'] = df1.apply(low, axis=1)\n",
    "df1['close'] = df1.currentClose\n",
    "\n"
   ]
  },
  {
   "cell_type": "code",
   "execution_count": 14,
   "metadata": {},
   "outputs": [
    {
     "data": {
      "text/html": [
       "<div style=\"max-height:1000px;max-width:1500px;overflow:auto;\">\n",
       "<table border=\"1\" class=\"dataframe\">\n",
       "  <thead>\n",
       "    <tr style=\"text-align: right;\">\n",
       "      <th></th>\n",
       "      <th>currentClose</th>\n",
       "      <th>currentCloseTime</th>\n",
       "      <th>prevClose</th>\n",
       "      <th>prevCloseTime</th>\n",
       "      <th>open</th>\n",
       "      <th>high</th>\n",
       "      <th>low</th>\n",
       "      <th>close</th>\n",
       "    </tr>\n",
       "  </thead>\n",
       "  <tbody>\n",
       "    <tr>\n",
       "      <th>0</th>\n",
       "      <td> 3.584512</td>\n",
       "      <td>1999-12-02</td>\n",
       "      <td> 0.427992</td>\n",
       "      <td>1980-12-12</td>\n",
       "      <td> 0.427992</td>\n",
       "      <td> 3.584512</td>\n",
       "      <td> 0.427992</td>\n",
       "      <td> 3.584512</td>\n",
       "    </tr>\n",
       "    <tr>\n",
       "      <th>1</th>\n",
       "      <td> 6.676515</td>\n",
       "      <td>2005-09-09</td>\n",
       "      <td> 3.584512</td>\n",
       "      <td>1999-12-02</td>\n",
       "      <td> 3.584512</td>\n",
       "      <td> 6.676515</td>\n",
       "      <td> 3.584512</td>\n",
       "      <td> 6.676515</td>\n",
       "    </tr>\n",
       "    <tr>\n",
       "      <th>2</th>\n",
       "      <td> 9.747373</td>\n",
       "      <td>2005-12-12</td>\n",
       "      <td> 6.676515</td>\n",
       "      <td>2005-09-09</td>\n",
       "      <td> 6.676515</td>\n",
       "      <td> 9.747373</td>\n",
       "      <td> 6.676515</td>\n",
       "      <td> 9.747373</td>\n",
       "    </tr>\n",
       "    <tr>\n",
       "      <th>3</th>\n",
       "      <td> 6.593237</td>\n",
       "      <td>2006-07-14</td>\n",
       "      <td> 9.747373</td>\n",
       "      <td>2005-12-12</td>\n",
       "      <td> 9.747373</td>\n",
       "      <td> 9.747373</td>\n",
       "      <td> 6.593237</td>\n",
       "      <td> 6.593237</td>\n",
       "    </tr>\n",
       "    <tr>\n",
       "      <th>4</th>\n",
       "      <td> 9.654987</td>\n",
       "      <td>2006-09-13</td>\n",
       "      <td> 6.593237</td>\n",
       "      <td>2006-07-14</td>\n",
       "      <td> 6.593237</td>\n",
       "      <td> 9.654987</td>\n",
       "      <td> 6.593237</td>\n",
       "      <td> 9.654987</td>\n",
       "    </tr>\n",
       "  </tbody>\n",
       "</table>\n",
       "</div>"
      ],
      "text/plain": [
       "   currentClose currentCloseTime  prevClose prevCloseTime      open      high  \\\n",
       "0      3.584512       1999-12-02   0.427992    1980-12-12  0.427992  3.584512   \n",
       "1      6.676515       2005-09-09   3.584512    1999-12-02  3.584512  6.676515   \n",
       "2      9.747373       2005-12-12   6.676515    2005-09-09  6.676515  9.747373   \n",
       "3      6.593237       2006-07-14   9.747373    2005-12-12  9.747373  9.747373   \n",
       "4      9.654987       2006-09-13   6.593237    2006-07-14  6.593237  9.654987   \n",
       "\n",
       "        low     close  \n",
       "0  0.427992  3.584512  \n",
       "1  3.584512  6.676515  \n",
       "2  6.676515  9.747373  \n",
       "3  6.593237  6.593237  \n",
       "4  6.593237  9.654987  "
      ]
     },
     "execution_count": 14,
     "metadata": {},
     "output_type": "execute_result"
    }
   ],
   "source": [
    "df1.head()"
   ]
  },
  {
   "cell_type": "code",
   "execution_count": 15,
   "metadata": {},
   "outputs": [
    {
     "data": {
      "text/html": [
       "<iframe id=\"igraph\" scrolling=\"no\" style=\"border:none;\" seamless=\"seamless\" src=\"https://plot.ly/~fabio.stuff/1.embed\" height=\"525px\" width=\"100%\"></iframe>"
      ],
      "text/plain": [
       "<plotly.tools.PlotlyDisplay at 0x3879fd0>"
      ]
     },
     "execution_count": 15,
     "metadata": {},
     "output_type": "execute_result"
    }
   ],
   "source": [
    "import plotly.plotly as py\n",
    "plotly.tools.set_credentials_file(username='fabio.stuff', api_key='tXWl6AifmtDKpLaZKsb8')\n",
    "from plotly.tools import FigureFactory as FF\n",
    "from datetime import datetime\n",
    "fig = FF.create_candlestick(df1['open'], df1.high, df1.low, df1.close, dates=df1.currentCloseTime)\n",
    "py.iplot(fig, filename='simple-candlestick', validate=False)"
   ]
  },
  {
   "cell_type": "code",
   "execution_count": null,
   "metadata": {},
   "outputs": [],
   "source": []
  }
 ],
 "metadata": {
  "kernelspec": {
   "display_name": "Python 3",
   "language": "python",
   "name": "python3"
  },
  "language_info": {
   "codemirror_mode": {
    "name": "ipython",
    "version": 3
   },
   "file_extension": ".py",
   "mimetype": "text/x-python",
   "name": "python",
   "nbconvert_exporter": "python",
   "pygments_lexer": "ipython3",
   "version": "3.7.3"
  }
 },
 "nbformat": 4,
 "nbformat_minor": 1
}
