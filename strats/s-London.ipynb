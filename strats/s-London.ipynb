{
 "cells": [
  {
   "cell_type": "code",
   "execution_count": 2,
   "metadata": {},
   "outputs": [
    {
     "ename": "ModuleNotFoundError",
     "evalue": "No module named 'ipdb'",
     "output_type": "error",
     "traceback": [
      "\u001b[0;31m---------------------------------------------------------------------------\u001b[0m",
      "\u001b[0;31mModuleNotFoundError\u001b[0m                       Traceback (most recent call last)",
      "\u001b[0;32m<ipython-input-2-b95f7209e095>\u001b[0m in \u001b[0;36m<module>\u001b[0;34m\u001b[0m\n\u001b[1;32m      2\u001b[0m \u001b[0;31m#figsize(13, 8)\u001b[0m\u001b[0;34m\u001b[0m\u001b[0;34m\u001b[0m\u001b[0;34m\u001b[0m\u001b[0m\n\u001b[1;32m      3\u001b[0m \u001b[0;34m\u001b[0m\u001b[0m\n\u001b[0;32m----> 4\u001b[0;31m \u001b[0;32mimport\u001b[0m \u001b[0mpyquant\u001b[0m\u001b[0;34m\u001b[0m\u001b[0;34m\u001b[0m\u001b[0m\n\u001b[0m\u001b[1;32m      5\u001b[0m \u001b[0;32mimport\u001b[0m \u001b[0mpylab\u001b[0m\u001b[0;34m\u001b[0m\u001b[0;34m\u001b[0m\u001b[0m\n\u001b[1;32m      6\u001b[0m \u001b[0;32mimport\u001b[0m \u001b[0mpandas\u001b[0m \u001b[0;32mas\u001b[0m \u001b[0mpd\u001b[0m\u001b[0;34m\u001b[0m\u001b[0;34m\u001b[0m\u001b[0m\n",
      "\u001b[0;32m~/anaconda3/lib/python3.7/site-packages/pyquant-0.1-py3.7.egg/pyquant/__init__.py\u001b[0m in \u001b[0;36m<module>\u001b[0;34m\u001b[0m\n\u001b[1;32m      4\u001b[0m \u001b[0;32mexcept\u001b[0m \u001b[0mImportError\u001b[0m\u001b[0;34m:\u001b[0m\u001b[0;34m\u001b[0m\u001b[0;34m\u001b[0m\u001b[0m\n\u001b[1;32m      5\u001b[0m     \u001b[0;32mpass\u001b[0m\u001b[0;34m\u001b[0m\u001b[0;34m\u001b[0m\u001b[0m\n\u001b[0;32m----> 6\u001b[0;31m \u001b[0;32mfrom\u001b[0m \u001b[0;34m.\u001b[0m \u001b[0;32mimport\u001b[0m \u001b[0msimulation\u001b[0m\u001b[0;34m\u001b[0m\u001b[0;34m\u001b[0m\u001b[0m\n\u001b[0m\u001b[1;32m      7\u001b[0m \u001b[0;32mfrom\u001b[0m \u001b[0;34m.\u001b[0m \u001b[0;32mimport\u001b[0m \u001b[0mevents\u001b[0m\u001b[0;34m\u001b[0m\u001b[0;34m\u001b[0m\u001b[0m\n\u001b[1;32m      8\u001b[0m \u001b[0;32mfrom\u001b[0m \u001b[0;34m.\u001b[0m \u001b[0;32mimport\u001b[0m \u001b[0mdata\u001b[0m\u001b[0;34m\u001b[0m\u001b[0;34m\u001b[0m\u001b[0m\n",
      "\u001b[0;32m~/anaconda3/lib/python3.7/site-packages/pyquant-0.1-py3.7.egg/pyquant/simulation/__init__.py\u001b[0m in \u001b[0;36m<module>\u001b[0;34m\u001b[0m\n\u001b[0;32m----> 1\u001b[0;31m \u001b[0;32mfrom\u001b[0m \u001b[0;34m.\u001b[0m\u001b[0mengine\u001b[0m \u001b[0;32mimport\u001b[0m \u001b[0mLimitOrderMatchingEngine\u001b[0m\u001b[0;34m,\u001b[0m \u001b[0mProxyOrderBook\u001b[0m\u001b[0;34m,\u001b[0m \u001b[0mOrder\u001b[0m\u001b[0;34m,\u001b[0m \u001b[0mTrade\u001b[0m\u001b[0;34m\u001b[0m\u001b[0;34m\u001b[0m\u001b[0m\n\u001b[0m\u001b[1;32m      2\u001b[0m \u001b[0;32mfrom\u001b[0m \u001b[0;34m.\u001b[0m\u001b[0mforts_backtester\u001b[0m \u001b[0;32mimport\u001b[0m \u001b[0mFortsBacktester\u001b[0m\u001b[0;34m\u001b[0m\u001b[0;34m\u001b[0m\u001b[0m\n",
      "\u001b[0;32m~/anaconda3/lib/python3.7/site-packages/pyquant-0.1-py3.7.egg/pyquant/simulation/engine.py\u001b[0m in \u001b[0;36m<module>\u001b[0;34m\u001b[0m\n\u001b[1;32m     13\u001b[0m \u001b[0;31m#logging.basicConfig(log_level=logging.DEBUG)\u001b[0m\u001b[0;34m\u001b[0m\u001b[0;34m\u001b[0m\u001b[0;34m\u001b[0m\u001b[0m\n\u001b[1;32m     14\u001b[0m \u001b[0;34m\u001b[0m\u001b[0m\n\u001b[0;32m---> 15\u001b[0;31m \u001b[0;32mimport\u001b[0m \u001b[0mipdb\u001b[0m\u001b[0;34m\u001b[0m\u001b[0;34m\u001b[0m\u001b[0m\n\u001b[0m\u001b[1;32m     16\u001b[0m \u001b[0;34m\u001b[0m\u001b[0m\n\u001b[1;32m     17\u001b[0m \u001b[0;34m\u001b[0m\u001b[0m\n",
      "\u001b[0;31mModuleNotFoundError\u001b[0m: No module named 'ipdb'"
     ]
    }
   ],
   "source": [
    "contract = 'RI'\n",
    "#figsize(13, 8)\n",
    "\n",
    "import pyquant\n",
    "import pylab\n",
    "import pandas as pd\n",
    "import numpy\n",
    "import scipy\n",
    "from pyquant.transforms import ADX\n",
    "from marketdata import ccomb\n",
    "#ohlc = pyquant.prep_data_finam(update=0).sort_index()"
   ]
  },
  {
   "cell_type": "markdown",
   "metadata": {},
   "source": [
    "### London"
   ]
  },
  {
   "cell_type": "markdown",
   "metadata": {},
   "source": [
    "#### Описание стратегии\n",
    "Если в 11-00 (открытие лондона) относительно цены на 20-30 предыдущего дня (закрытие лондона вчера) цена выросла/упала на X пунктов (разный уровень для лонга и шорта) то входим в контртренд с выходом в 16-00."
   ]
  },
  {
   "cell_type": "code",
   "execution_count": null,
   "metadata": {},
   "outputs": [],
   "source": [
    "#a = ccomb.get_cc_bars('RTS', 'bar_timeframe_86400');\n",
    "#a = ([v.start, v.o, v.h, v.l, v.c] for v in a); a = list(a)\n",
    "#ohlc = pd.DataFrame(a, columns =['TimeStamp', 'O' , 'H', 'L', 'C'])"
   ]
  },
  {
   "cell_type": "code",
   "execution_count": null,
   "metadata": {},
   "outputs": [],
   "source": [
    "def runbt(buy_level=1000, short_level=666, set_globals=False):\n",
    "    \n",
    "    bars = ohlc.tz_localize('Europe/Moscow')\n",
    "    utcbars = bars.tz_convert('UTC')\n",
    "    c = bars.C\n",
    "    \n",
    "    Lc = utcbars.C.at_time('16:30').reindex(utcbars.index, method='ffill')\n",
    "    Lo = utcbars.O.at_time('8:00').reindex(utcbars.index, method='ffill')\n",
    "    sig = (Lo - Lc).at_time('8:00').tz_convert('Europe/Moscow')\n",
    "\n",
    "    buy = sig < -buy_level\n",
    "    short = sig > short_level\n",
    "    cover = sell = ohlc.C.at_time('16:00').astype(bool).tz_localize\\\n",
    "        ('Europe/Moscow')\n",
    "    \n",
    "    buyprice = shortprice = bars.O\n",
    "    sellprice = coverprice = bars.C\n",
    "    \n",
    "    if set_globals:\n",
    "        globals().update(locals())\n",
    "    \n",
    "    return pyquant.Backtest(locals(), set_globals=set_globals)\n",
    "\n",
    "\n",
    "eq = runbt(set_globals=True)\n",
    "eq.summary()\n",
    "eq.plot_equity()"
   ]
  },
  {
   "cell_type": "code",
   "execution_count": null,
   "metadata": {},
   "outputs": [],
   "source": [
    "s = slice('2013-03-18', '2013-03-25')\n",
    "eq.sigplot[s]\n",
    "Lc[s].plot(color='green', label='EOD close')\n",
    "Lo[s].plot(color='brown', label='Morning open')\n",
    "pylab.legend()"
   ]
  },
  {
   "cell_type": "markdown",
   "metadata": {},
   "source": [
    "Optimization code"
   ]
  },
  {
   "cell_type": "code",
   "execution_count": null,
   "metadata": {},
   "outputs": [],
   "source": [
    "do_opt = False\n",
    "\n",
    "\n",
    "if do_opt:\n",
    "    \n",
    "    def upi_cost(params):\n",
    "        eq = runbt(*params, set_globals=False).equity\n",
    "        upi = pyquant.equity.performance.UPI(eq)\n",
    "        if upi < 0:\n",
    "            return numpy.inf\n",
    "        cost = 1. / upi\n",
    "        print params, cost\n",
    "        return cost\n",
    "    def pnl_cost(params):\n",
    "        eq = runbt(*params).equity\n",
    "        pnl = eq.sum()\n",
    "        if pnl < 0:\n",
    "            return numpy.inf\n",
    "        cost = 1. / pnl\n",
    "        print params, cost\n",
    "        return cost\n",
    "    \n",
    "    from scipy.optimize import brute\n",
    "    x = brute(pnl_cost, [(50, 1000, 50), (50, 1000, 50)], full_output=True)\n",
    "    print x\n",
    "    params, score, grid, fgrid = x\n",
    "    pyquant.plot.show_grid(grid)"
   ]
  }
 ],
 "metadata": {
  "kernelspec": {
   "display_name": "Python 3",
   "language": "python",
   "name": "python3"
  },
  "language_info": {
   "codemirror_mode": {
    "name": "ipython",
    "version": 3
   },
   "file_extension": ".py",
   "mimetype": "text/x-python",
   "name": "python",
   "nbconvert_exporter": "python",
   "pygments_lexer": "ipython3",
   "version": "3.7.6"
  }
 },
 "nbformat": 4,
 "nbformat_minor": 1
}
