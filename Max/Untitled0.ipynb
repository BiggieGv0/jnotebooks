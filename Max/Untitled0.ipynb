{
 "metadata": {
  "name": "",
  "signature": "sha256:e69e2f4adb593baf9d46c881c0d769544876c065bf83317d3bca8994d3306e86"
 },
 "nbformat": 3,
 "nbformat_minor": 0,
 "worksheets": []
}