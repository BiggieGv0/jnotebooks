{
 "cells": [
  {
   "cell_type": "code",
   "execution_count": 1,
   "metadata": {},
   "outputs": [
    {
     "ename": "ModuleNotFoundError",
     "evalue": "No module named 'cdecimal'",
     "output_type": "error",
     "traceback": [
      "\u001b[0;31m---------------------------------------------------------------------------\u001b[0m",
      "\u001b[0;31mModuleNotFoundError\u001b[0m                       Traceback (most recent call last)",
      "\u001b[0;32m<ipython-input-1-313021c70677>\u001b[0m in \u001b[0;36m<module>\u001b[0;34m\u001b[0m\n\u001b[1;32m      1\u001b[0m \u001b[0;31m#import marketdata.ext\u001b[0m\u001b[0;34m\u001b[0m\u001b[0;34m\u001b[0m\u001b[0;34m\u001b[0m\u001b[0m\n\u001b[0;32m----> 2\u001b[0;31m \u001b[0;32mimport\u001b[0m \u001b[0mmarketdata\u001b[0m\u001b[0;34m\u001b[0m\u001b[0;34m\u001b[0m\u001b[0m\n\u001b[0m\u001b[1;32m      3\u001b[0m \u001b[0;32mimport\u001b[0m \u001b[0mpickle\u001b[0m\u001b[0;34m\u001b[0m\u001b[0;34m\u001b[0m\u001b[0m\n\u001b[1;32m      4\u001b[0m \u001b[0;32mimport\u001b[0m \u001b[0mmath\u001b[0m\u001b[0;34m\u001b[0m\u001b[0;34m\u001b[0m\u001b[0m\n\u001b[1;32m      5\u001b[0m \u001b[0;32mimport\u001b[0m \u001b[0mos\u001b[0m\u001b[0;34m\u001b[0m\u001b[0;34m\u001b[0m\u001b[0m\n",
      "\u001b[0;32m~/anaconda3/lib/python3.7/site-packages/marketdata-0.3-py3.7.egg/marketdata/__init__.py\u001b[0m in \u001b[0;36m<module>\u001b[0;34m\u001b[0m\n\u001b[1;32m      2\u001b[0m \u001b[0;34m\"\"\" Common marketdata-access library \"\"\"\u001b[0m\u001b[0;34m\u001b[0m\u001b[0;34m\u001b[0m\u001b[0m\n\u001b[1;32m      3\u001b[0m \u001b[0;34m\u001b[0m\u001b[0m\n\u001b[0;32m----> 4\u001b[0;31m \u001b[0;32mfrom\u001b[0m \u001b[0;34m.\u001b[0m \u001b[0;32mimport\u001b[0m \u001b[0mmdaux\u001b[0m\u001b[0;34m,\u001b[0m \u001b[0mmdlib\u001b[0m\u001b[0;34m,\u001b[0m \u001b[0mrts_ftp_lib\u001b[0m\u001b[0;34m,\u001b[0m \u001b[0mrtsmd\u001b[0m\u001b[0;34m\u001b[0m\u001b[0;34m\u001b[0m\u001b[0m\n\u001b[0m\u001b[1;32m      5\u001b[0m \u001b[0;32mfrom\u001b[0m \u001b[0;34m.\u001b[0m\u001b[0mmdlib\u001b[0m \u001b[0;32mimport\u001b[0m \u001b[0mBASEBASEPATH\u001b[0m\u001b[0;34m,\u001b[0m \u001b[0mBASEPATH\u001b[0m\u001b[0;34m\u001b[0m\u001b[0;34m\u001b[0m\u001b[0m\n\u001b[1;32m      6\u001b[0m from .rtsmd import (get_ticks, get_bars, list_contracts, list_bar_contracts,\n",
      "\u001b[0;32m~/anaconda3/lib/python3.7/site-packages/marketdata-0.3-py3.7.egg/marketdata/mdaux.py\u001b[0m in \u001b[0;36m<module>\u001b[0;34m\u001b[0m\n\u001b[1;32m     24\u001b[0m \u001b[0;32mimport\u001b[0m \u001b[0msimplejson\u001b[0m \u001b[0;32mas\u001b[0m \u001b[0mjson\u001b[0m\u001b[0;34m\u001b[0m\u001b[0;34m\u001b[0m\u001b[0m\n\u001b[1;32m     25\u001b[0m \u001b[0;32mimport\u001b[0m \u001b[0mtime\u001b[0m\u001b[0;34m\u001b[0m\u001b[0;34m\u001b[0m\u001b[0m\n\u001b[0;32m---> 26\u001b[0;31m \u001b[0;32mimport\u001b[0m \u001b[0mcdecimal\u001b[0m\u001b[0;34m\u001b[0m\u001b[0;34m\u001b[0m\u001b[0m\n\u001b[0m\u001b[1;32m     27\u001b[0m \u001b[0;32mfrom\u001b[0m \u001b[0matomicfile\u001b[0m \u001b[0;32mimport\u001b[0m \u001b[0mAtomicFile\u001b[0m\u001b[0;34m\u001b[0m\u001b[0;34m\u001b[0m\u001b[0m\n\u001b[1;32m     28\u001b[0m \u001b[0;32mimport\u001b[0m \u001b[0mpycurl\u001b[0m\u001b[0;34m\u001b[0m\u001b[0;34m\u001b[0m\u001b[0m\n",
      "\u001b[0;31mModuleNotFoundError\u001b[0m: No module named 'cdecimal'"
     ]
    }
   ],
   "source": [
    "#import marketdata.ext\n",
    "import marketdata\n",
    "import pickle\n",
    "import math\n",
    "import os\n",
    "import pandas as pa\n",
    "import numpy as np\n",
    "import sys\n",
    "import datetime as dt\n",
    "from IPython.display import HTML\n",
    "import pybacktest as pbt\n",
    "#from strat.pbpsbth import persistent_locals2\n",
    "from scipy import stats\n",
    "import statsmodels.formula.api as sm\n",
    "import patsy\n",
    "import matplotlib.pyplot as plt\n",
    "os.path.realpath('.')"
   ]
  },
  {
   "cell_type": "code",
   "execution_count": null,
   "metadata": {},
   "outputs": [],
   "source": [
    "sys.path"
   ]
  },
  {
   "cell_type": "code",
   "execution_count": null,
   "metadata": {},
   "outputs": [],
   "source": [
    "#Calculating symbol earnings vola and working with data errors\n",
    "def earnings_vola (symbol):\n",
    "    try:\n",
    "        price_b = marketdata.ext.load_metotron(symbol)\n",
    "        price = np.log(price_b.sort())\n",
    "    except:\n",
    "        print ('symbol %s not found'%(symbol))\n",
    "        return\n",
    "#filtering stocks that have not enought data depth or low volume or last price < 3\n",
    "    vol_check = (len(price_b) > 700) & (price_b['C'].tail(1) >= 3) & (pa.rolling_mean(price_b['V'], 20).tail(1) > 100000) & (pa.rolling_mean(price_b['V'], 20).tail(1) * price_b['C'].tail(1) >= 2000000)\n",
    "    if vol_check:\n",
    "        try:\n",
    "            d = pickle.load(open('/home/mad/Appr/data_%s.pickle'%(symbol), 'rb'))\n",
    "            df = h.to_df(d)\n",
    "        except ValueError:\n",
    "            print ('symbol %s foreign'%(symbol))\n",
    "            return\n",
    "        if len(df) > 0:\n",
    "            if df['timetype'][0]=='After Close':\n",
    "                price['VOLA'] = (price.shift(-1)['C']-price['C']).abs()\n",
    "            else:\n",
    "                price['VOLA'] = (price['C']-price.shift(+1)['C']).abs()\n",
    "            x1 = pa.Series(sorted(df['Date_p']))\n",
    "            px = price.reindex(x1, method='ffill')\n",
    "            avg_vola = np.mean(px['VOLA'])\n",
    "            return avg_vola\n",
    "        else:\n",
    "            print ('symbol %s have empty table'%(symbol))\n",
    "            return\n",
    "    else:    \n",
    "        print ('symbol %s have low liquidity'%(symbol))\n",
    "        return"
   ]
  },
  {
   "cell_type": "code",
   "execution_count": null,
   "metadata": {},
   "outputs": [],
   "source": [
    "#Preparing comlete symbol list\n",
    "l = os.listdir('/home/mad/Appr/'); symb_list = [v[5:-7] for v in l if v.startswith('data_') and v.endswith('.pickle')]"
   ]
  },
  {
   "cell_type": "code",
   "execution_count": null,
   "metadata": {},
   "outputs": [],
   "source": [
    "#Filtering complete list with all exceptions and saving final list like 'symbol : vola'\n",
    "#f2 = []\n",
    "#for i in symb_list:\n",
    "#    try:\n",
    "#        f2.append((i, earnings_vola(i)))\n",
    "#    except ValueError:\n",
    "#        continue"
   ]
  },
  {
   "cell_type": "code",
   "execution_count": null,
   "metadata": {},
   "outputs": [],
   "source": [
    "#Saving list to DF and then to csv\n",
    "#f3 = pa.DataFrame(f2, columns = ['Symbol', 'Volat']).dropna()\n",
    "#f3.to_csv('/home/mad/Appr/earnings_vola.csv')"
   ]
  },
  {
   "cell_type": "code",
   "execution_count": null,
   "metadata": {},
   "outputs": [],
   "source": [
    "#Defining time exit (n-bar exit)\n",
    "def nbarexit(ts, n):\n",
    "    posstate = 0    \n",
    "    count = 0\n",
    "    Exit = pa.TimeSeries(index = [ts.index], dtype = bool)\n",
    "    for i in xrange(len(ts)):\n",
    "        if ts[i] == True:\n",
    "            if posstate == 0:\n",
    "                posstate = 1\n",
    "                Exit[i] = False\n",
    "                count += 1\n",
    "            elif posstate == 1:\n",
    "                if count < n:\n",
    "                    Exit[i] = False\n",
    "                    count += 1\n",
    "                if count == n:\n",
    "                    Exit[i] = True\n",
    "                    count = 0\n",
    "                    posstate = 0\n",
    "        elif ts[i] == False:\n",
    "            if posstate == 1: \n",
    "                if count < n:\n",
    "                    Exit[i] = False\n",
    "                    count += 1\n",
    "                if count == n:            \n",
    "                    Exit[i] = True\n",
    "                    count = 0\n",
    "                    posstate = 0    \n",
    "            elif posstate == 0:\n",
    "                    Exit[i] = False\n",
    "    return Exit"
   ]
  },
  {
   "cell_type": "code",
   "execution_count": null,
   "metadata": {},
   "outputs": [],
   "source": [
    "price_b = marketdata.ext.load_metotron('AAPL')\n",
    "start = price_b.index.searchsorted(dt.datetime(1999, 12, 15))\n",
    "ohlc = price_b.ix[start:]\n",
    "O, H, L, C = ohlc.O, ohlc.H, ohlc.L, ohlc.C \n",
    "ohlc['HHV'] = pa.rolling_max(ohlc['H'].shift(1), 20)\n",
    "ohlc['LLV'] = pa.rolling_min(ohlc['L'].shift(1), 20)\n",
    "ohlc['buy_base'] = ohlc.C > ohlc.HHV\n",
    "ohlc['sell'] = nbarexit(ohlc.buy_base, 15)\n",
    "ohlc['buy'] = ohlc['buy_base'] & ~ ohlc['sell']\n",
    "#ohlc.ix[35:75]"
   ]
  },
  {
   "cell_type": "code",
   "execution_count": null,
   "metadata": {},
   "outputs": [],
   "source": [
    "def baseMOMO(ohlc):\n",
    "    O, H, L, C = ohlc.O, ohlc.H, ohlc.L, ohlc.C \n",
    "    HHV = pa.rolling_max(ohlc['H'].shift(1), 20)\n",
    "    LLV = pa.rolling_min(ohlc['L'].shift(1), 20)\n",
    "    buy_base = C > HHV\n",
    "    short = 0 #C < LLV\n",
    "    sell = nbarexit(buy_base, 15)\n",
    "    buy = buy_base & ~ sell\n",
    "    cover = 0 #nbarexit(short, 5)\n",
    "    res = dict(Buy=buy, Sell=sell, Short=short, Cover=cover)\n",
    "    return res"
   ]
  },
  {
   "cell_type": "code",
   "execution_count": null,
   "metadata": {},
   "outputs": [],
   "source": [
    "def MOMO(symbol):\n",
    "    #loading data\n",
    "    price_b = marketdata.ext.load_metotron(symbol)\n",
    "    start = price_b.index.searchsorted(dt.datetime(1999, 12, 15))\n",
    "    price_b = price_b.ix[start:]\n",
    "    \n",
    "    #getting buy, sell, short, cover signals vectors\n",
    "    res = baseMOMO(price_b)\n",
    "    \n",
    "    #specifying pure OHLC dataframe\n",
    "    ohlc = pa.DataFrame(price_b, columns=('O', 'H', 'L', 'C'))\n",
    "    \n",
    "    #specifying trade moment\n",
    "    #buyprice = shortprice = ohlc.O\n",
    "    #sellprice = coverprice = ohlc.C\n",
    "    \n",
    "    #getting backtest object\n",
    "    bct = pbt.Backtest(dict(ohlc=ohlc, buy=res['Buy'], sell=res['Sell'],short=res['Short'], cover=res['Cover']), name = 'Base MOMO str')\n",
    "    \n",
    "    #getting perfomance report and profit factor\n",
    "    perf = bct.report\n",
    "    pf = perf['performance']['PF']\n",
    "    \n",
    "    return pf, bct"
   ]
  },
  {
   "cell_type": "code",
   "execution_count": null,
   "metadata": {},
   "outputs": [],
   "source": [
    "#loading filtered list of stocks & reindexing\n",
    "slist = pa.DataFrame.from_csv('/home/mad/Appr/earnings_vola.csv')\n",
    "symblist = pa.DataFrame(slist.reset_index(drop=True))\n",
    "symblist.columns = ['Symbol', 'Volat']\n",
    "symblist['PF'] = ''\n",
    "symblist['Trades'] = ''\n",
    "resdf = symblist"
   ]
  },
  {
   "cell_type": "code",
   "execution_count": null,
   "metadata": {},
   "outputs": [],
   "source": [
    "#iterating all symbols and getting 'PF' statistic\n",
    "for i in xrange(len(symblist)):\n",
    "    try:\n",
    "        s = symblist.Symbol[i]\n",
    "        pf, bct = MOMO(s)\n",
    "        trades = bct.stats.trades\n",
    "        if trades > 50:\n",
    "            resdf['PF'][i] = pf\n",
    "            resdf['Trades'][i] = trades\n",
    "            print s\n",
    "        else:\n",
    "            print ('symbol %s have not enought trades'%(symblist.Symbol[i]))            \n",
    "    except ValueError:\n",
    "        print ('symbol %s have empty data'%(symblist.Symbol[i]))"
   ]
  },
  {
   "cell_type": "code",
   "execution_count": null,
   "metadata": {},
   "outputs": [],
   "source": [
    "#filtering empty 'string' PF\n",
    "#resd\n",
    "\n",
    "\n",
    "###\n",
    "#f = resdf.ix[resdf.PF != '']\n",
    "\n",
    "#converting dtypes of series from string to float\n",
    "resdf = resdf.convert_objects(convert_numeric=True)\n",
    "\n",
    "#Saving resulting DF to csv\n",
    "resdf.to_csv('/home/mad/Appr/vola_pf.csv')"
   ]
  },
  {
   "cell_type": "code",
   "execution_count": null,
   "metadata": {},
   "outputs": [],
   "source": [
    "resdf1 = pa.DataFrame.from_csv('/home/mad/Appr/vola_pf.csv')\n",
    "resdf1 = resdf1.dropna()\n"
   ]
  },
  {
   "cell_type": "code",
   "execution_count": null,
   "metadata": {},
   "outputs": [],
   "source": [
    "resdf_sorted = resdf1.sort(columns='Volat', ascending=True)\n",
    "top100 = resdf_sorted.head(300)\n",
    "top100.head(20)"
   ]
  },
  {
   "cell_type": "code",
   "execution_count": null,
   "metadata": {},
   "outputs": [],
   "source": [
    "f = 'PF ~ Volat'\n",
    "y,X = patsy.dmatrices(f, resdf1, return_type='dataframe')\n",
    "#print sm.OLS(y, X).fit().summary()\n",
    "model = sm.ols('PF ~ Volat', top100)\n",
    "fitted = model.fit()\n",
    "print fitted.summary()"
   ]
  },
  {
   "cell_type": "code",
   "execution_count": null,
   "metadata": {},
   "outputs": [],
   "source": [
    "plt.figure(figsize=(12,8))\n",
    "plt.plot(top100[\"Volat\"], top100[\"PF\"], 'ro')\n",
    "plt.plot(top100[\"Volat\"], fitted.fittedvalues, 'b')\n",
    "plt.legend(['Data', 'Fitted model'])\n",
    "#plt.ylim(0, 10)\n",
    "#plt.xlim(-2, 12)\n",
    "plt.xlabel('Earnings volatility')\n",
    "plt.ylabel('Profit Factor')\n",
    "plt.title('Volatility to Earnings Lin Regr')\n",
    "plt.show()"
   ]
  },
  {
   "cell_type": "code",
   "execution_count": null,
   "metadata": {},
   "outputs": [],
   "source": [
    "plt.figure(figsize=(12,8))\n",
    "plt.hist(fitted.norm_resid())\n",
    "plt.ylabel('Count')\n",
    "plt.xlabel('Normalized residuals')\n",
    "plt.title('Residuals histogramm')\n",
    "plt.show()"
   ]
  },
  {
   "cell_type": "code",
   "execution_count": null,
   "metadata": {},
   "outputs": [],
   "source": [
    "#from statsmodels.graphics.regressionplots import *\n",
    "#fig, ax = plt.subplots(figsize=(12,8))\n",
    "#influence_plot(fitted)\n",
    "#plot_leverage_resid2(fitted)"
   ]
  },
  {
   "cell_type": "code",
   "execution_count": null,
   "metadata": {},
   "outputs": [],
   "source": [
    "top100.ix[top100.Symbol == 'PGR']\n",
    "#resdf1.ix[resdf1.Symbol == 'GRPN']"
   ]
  },
  {
   "cell_type": "code",
   "execution_count": null,
   "metadata": {},
   "outputs": [],
   "source": [
    "pf, bct = MOMO('GRPN')\n",
    "pf"
   ]
  },
  {
   "cell_type": "code",
   "execution_count": null,
   "metadata": {},
   "outputs": [],
   "source": [
    "trades = bct.stats.trades\n",
    "trades"
   ]
  },
  {
   "cell_type": "code",
   "execution_count": null,
   "metadata": {},
   "outputs": [],
   "source": [
    "resdf_sorted.ix[resdf_sorted.Symbol == 'NVAX']"
   ]
  },
  {
   "cell_type": "code",
   "execution_count": null,
   "metadata": {},
   "outputs": [],
   "source": [
    " d = pickle.load(open('/home/mad/Appr/data_%s.pickle'%('MFC'), 'rb'))"
   ]
  },
  {
   "cell_type": "code",
   "execution_count": null,
   "metadata": {},
   "outputs": [],
   "source": [
    "bct.plot_equity()"
   ]
  },
  {
   "cell_type": "code",
   "execution_count": null,
   "metadata": {},
   "outputs": [],
   "source": []
  }
 ],
 "metadata": {
  "kernelspec": {
   "display_name": "Python 3",
   "language": "python",
   "name": "python3"
  },
  "language_info": {
   "codemirror_mode": {
    "name": "ipython",
    "version": 3
   },
   "file_extension": ".py",
   "mimetype": "text/x-python",
   "name": "python",
   "nbconvert_exporter": "python",
   "pygments_lexer": "ipython3",
   "version": "3.7.3"
  }
 },
 "nbformat": 4,
 "nbformat_minor": 1
}
