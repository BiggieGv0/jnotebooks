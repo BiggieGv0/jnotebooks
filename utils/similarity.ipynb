{
 "metadata": {
  "name": "similarity"
 },
 "nbformat": 3,
 "nbformat_minor": 0,
 "worksheets": [
  {
   "cells": [
    {
     "cell_type": "code",
     "collapsed": false,
     "input": [
      "import os\n",
      "import itertools\n",
      "import pandas as pd\n",
      "from IPython.display import HTML\n",
      "\n",
      "def similarity_metric(p1, p2, intersection=False):\n",
      "    p1 = p1.resample('1min').ffill()\n",
      "    p2 = p2.resample('1min').ffill()\n",
      "    pos = pd.DataFrame({'strategy1': p1, 'strategy2': p2})\n",
      "    # drop missing data\n",
      "    pos = pos.ix[pos.strategy1.notnull() & pos.strategy2.notnull()]\n",
      "    # drop zeros\n",
      "    if intersection:\n",
      "        pos = pos.ix[(pos.strategy1 != 0) & (pos.strategy2 != 0)]\n",
      "    else:\n",
      "        pos = pos.ix[(pos.strategy1 != 0) | (pos.strategy2 != 0)]\n",
      "    if len(pos) == 0: return float('nan')\n",
      "    # similarity statistic\n",
      "    return float((pos.strategy1 == pos.strategy2).sum()) / len(pos)\n",
      "\n",
      "def ami_trades_to_positions(tfn):\n",
      "    import pandas\n",
      "    data = pandas.read_csv(tfn, parse_dates=True)\n",
      "    #data = data.filter(['Date', 'Ex. date', 'Trade'])\n",
      "    t = []\n",
      "    p = []\n",
      "    for i, r in data.iterrows():\n",
      "        t.extend([r['Date'], r['Ex. date']])\n",
      "        p.extend([1, 0] if r['Trade'].startswith('Long') else [-1, 0])\n",
      "    data = pd.Series(p, index=t)\n",
      "    data.index = data.index.to_datetime()\n",
      "    return data\n",
      "\n",
      "def run_ami_similarity(fn1, fn2, intersection=False):\n",
      "    p1 = ami_trades_to_positions(fn1)\n",
      "    p2 = ami_trades_to_positions(fn2)\n",
      "    return similarity_metric(p1, p2, intersection=intersection)"
     ],
     "language": "python",
     "metadata": {},
     "outputs": [],
     "prompt_number": 10
    },
    {
     "cell_type": "code",
     "collapsed": false,
     "input": [
      "intersection = False\n",
      "    # False to use periods where at least one strat was in position\n",
      "    # True to use periods where both strats were in position\n",
      "\n",
      "\n",
      "tl_path = '/home/mad/ForFilters/'\n",
      "fns = {fn.split('.')[0]: os.path.join(tl_path, fn) for fn in os.listdir(tl_path) if fn.endswith('csv')}\n",
      "results = []\n",
      "for k1, k2 in itertools.combinations_with_replacement(fns.keys(), 2):\n",
      "    results.append({'s1': k1, 's2': k2, 'sim': run_ami_similarity(fns[k1], fns[k2], intersection)})"
     ],
     "language": "python",
     "metadata": {},
     "outputs": [],
     "prompt_number": 4
    },
    {
     "cell_type": "code",
     "collapsed": false,
     "input": [
      "refl = [{'s1': d['s2'], 's2': d['s1'], 'sim': d['sim']} for d in results if d['sim'] != 1]\n",
      "res = pd.DataFrame(results + refl)\n",
      "res = res.pivot(index='s1', columns='s2', values='sim')\n",
      "res.index.name = None\n",
      "res.columns.name = None"
     ],
     "language": "python",
     "metadata": {},
     "outputs": [],
     "prompt_number": 5
    },
    {
     "cell_type": "code",
     "collapsed": false,
     "input": [
      "sim = (res * 100).applymap(lambda x: round(x, 0))"
     ],
     "language": "python",
     "metadata": {},
     "outputs": [],
     "prompt_number": 7
    },
    {
     "cell_type": "code",
     "collapsed": false,
     "input": [
      "HTML(sim.head(20).to_html())"
     ],
     "language": "python",
     "metadata": {},
     "outputs": [
      {
       "html": [
        "<table border=\"1\" class=\"dataframe\">\n",
        "  <thead>\n",
        "    <tr style=\"text-align: right;\">\n",
        "      <th></th>\n",
        "      <th>Ohuennie istatki</th>\n",
        "      <th>gn_trds</th>\n",
        "      <th>hh_trds</th>\n",
        "      <th>london_trds</th>\n",
        "      <th>soup_trds</th>\n",
        "      <th>trendfollover</th>\n",
        "    </tr>\n",
        "  </thead>\n",
        "  <tbody>\n",
        "    <tr>\n",
        "      <th>Ohuennie istatki</th>\n",
        "      <td> 100</td>\n",
        "      <td>   1</td>\n",
        "      <td>   2</td>\n",
        "      <td>   1</td>\n",
        "      <td>   7</td>\n",
        "      <td>  21</td>\n",
        "    </tr>\n",
        "    <tr>\n",
        "      <th>gn_trds</th>\n",
        "      <td>   1</td>\n",
        "      <td> 100</td>\n",
        "      <td>   1</td>\n",
        "      <td>   0</td>\n",
        "      <td>   1</td>\n",
        "      <td>   1</td>\n",
        "    </tr>\n",
        "    <tr>\n",
        "      <th>hh_trds</th>\n",
        "      <td>   2</td>\n",
        "      <td>   1</td>\n",
        "      <td> 100</td>\n",
        "      <td>   1</td>\n",
        "      <td>   3</td>\n",
        "      <td>   3</td>\n",
        "    </tr>\n",
        "    <tr>\n",
        "      <th>london_trds</th>\n",
        "      <td>   1</td>\n",
        "      <td>   0</td>\n",
        "      <td>   1</td>\n",
        "      <td> 100</td>\n",
        "      <td>   4</td>\n",
        "      <td>   1</td>\n",
        "    </tr>\n",
        "    <tr>\n",
        "      <th>soup_trds</th>\n",
        "      <td>   7</td>\n",
        "      <td>   1</td>\n",
        "      <td>   3</td>\n",
        "      <td>   4</td>\n",
        "      <td> 100</td>\n",
        "      <td>   7</td>\n",
        "    </tr>\n",
        "    <tr>\n",
        "      <th>trendfollover</th>\n",
        "      <td>  21</td>\n",
        "      <td>   1</td>\n",
        "      <td>   3</td>\n",
        "      <td>   1</td>\n",
        "      <td>   7</td>\n",
        "      <td> 100</td>\n",
        "    </tr>\n",
        "  </tbody>\n",
        "</table>"
       ],
       "output_type": "pyout",
       "prompt_number": 11,
       "text": [
        "<IPython.core.display.HTML at 0x4657e10>"
       ]
      }
     ],
     "prompt_number": 11
    },
    {
     "cell_type": "code",
     "collapsed": false,
     "input": [],
     "language": "python",
     "metadata": {},
     "outputs": []
    }
   ],
   "metadata": {}
  }
 ]
}