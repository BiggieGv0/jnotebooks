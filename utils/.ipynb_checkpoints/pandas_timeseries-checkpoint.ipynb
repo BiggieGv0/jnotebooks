{
 "metadata": {
  "name": "",
  "signature": "sha256:fbd8ea69a13152f22ad8ce853748539594ef9f28aee77faf40c979dc612c3616"
 },
 "nbformat": 3,
 "nbformat_minor": 0,
 "worksheets": [
  {
   "cells": [
    {
     "cell_type": "heading",
     "level": 1,
     "metadata": {},
     "source": [
      "Timeseries with pandas"
     ]
    },
    {
     "cell_type": "markdown",
     "metadata": {},
     "source": [
      "Working with time-series data is an important part of data analysis.\n",
      "\n",
      "Starting with v0.8, the _pandas_ library has included a rich API for time-series manipulations.\n",
      "\n",
      "The _pandas_ time-series API includes:\n",
      "\n",
      "- Creating date ranges\n",
      "  - From files\n",
      "  - From scratch\n",
      "- Manipulations: Shift, resample, filter\n",
      "- Field accessors (e.g., hour of day)\n",
      "- Plotting\n",
      "- Time zones (localization and conversion)\n",
      "- Dual representations (point-in-time vs interval)"
     ]
    },
    {
     "cell_type": "code",
     "collapsed": false,
     "input": [
      "from datetime import datetime, date, time\n",
      "import sys\n",
      "sys.version"
     ],
     "language": "python",
     "metadata": {},
     "outputs": [
      {
       "metadata": {},
       "output_type": "pyout",
       "prompt_number": 1,
       "text": [
        "'2.7.3 (default, Sep  9 2012, 17:41:34) \\n[GCC 4.7.1]'"
       ]
      }
     ],
     "prompt_number": 1
    },
    {
     "cell_type": "code",
     "collapsed": false,
     "input": [
      "import pandas as pd\n",
      "from pandas import Series, DataFrame, Panel\n",
      "pd.__version__"
     ],
     "language": "python",
     "metadata": {},
     "outputs": [
      {
       "output_type": "stream",
       "stream": "stderr",
       "text": [
        "/home/mad/env/local/lib/python2.7/site-packages/pytz/__init__.py:29: UserWarning: Module numpy was already imported from /usr/lib/pymodules/python2.7/numpy/__init__.pyc, but /home/mad/env/lib/python2.7/site-packages is being added to sys.path\n",
        "  from pkg_resources import resource_stream\n"
       ]
      },
      {
       "metadata": {},
       "output_type": "pyout",
       "prompt_number": 2,
       "text": [
        "'0.14.1'"
       ]
      }
     ],
     "prompt_number": 2
    },
    {
     "cell_type": "code",
     "collapsed": false,
     "input": [
      "np.__version__"
     ],
     "language": "python",
     "metadata": {},
     "outputs": [
      {
       "metadata": {},
       "output_type": "pyout",
       "prompt_number": 3,
       "text": [
        "'1.6.2'"
       ]
      }
     ],
     "prompt_number": 3
    },
    {
     "cell_type": "code",
     "collapsed": false,
     "input": [
      "import matplotlib.pyplot as plt\n",
      "import matplotlib as mpl\n",
      "mpl.rc('figure', figsize=(10, 8))\n",
      "mpl.__version__"
     ],
     "language": "python",
     "metadata": {},
     "outputs": [
      {
       "metadata": {},
       "output_type": "pyout",
       "prompt_number": 4,
       "text": [
        "'1.1.1rc2'"
       ]
      }
     ],
     "prompt_number": 4
    },
    {
     "cell_type": "markdown",
     "metadata": {},
     "source": [
      "###Example using tick data"
     ]
    },
    {
     "cell_type": "raw",
     "metadata": {},
     "source": [
      "Sample trade ticks from 2011-11-01 to 2011-11-03 for a single security"
     ]
    },
    {
     "cell_type": "code",
     "collapsed": false,
     "input": [
      "with open('data.csv', 'r') as fh:\n",
      "    print fh.readline() # headers\n",
      "    print fh.readline() # first row"
     ],
     "language": "python",
     "metadata": {},
     "outputs": [
      {
       "output_type": "stream",
       "stream": "stdout",
       "text": [
        "Date,Time,Price,Volume,Exchange Code,Sales Condition,Correction Indicator,Sequence Number,Trade Stop Indicator,Source of Trade,MDS 127 / TRF (Trade Reporting Facility) (*),Exclude Record Flag,Filtered Price\r\n",
        "\n",
        "11/01/2011,08:04:56.364,104.55,100,P,T,00,196,N,C,,,\r\n",
        "\n"
       ]
      }
     ],
     "prompt_number": 5
    },
    {
     "cell_type": "markdown",
     "metadata": {},
     "source": [
      "`parse_dates`: use a list or dict for flexible (possibly multi-column) date parsing"
     ]
    },
    {
     "cell_type": "code",
     "collapsed": false,
     "input": [
      "data = pd.read_csv('/home/mad/madlabs/lab/data.csv', \n",
      "                    parse_dates={'Timestamp': ['Date', 'Time']},\n",
      "                    index_col='Timestamp')\n",
      "data"
     ],
     "language": "python",
     "metadata": {},
     "outputs": [
      {
       "html": [
        "<div style=\"max-height:1000px;max-width:1500px;overflow:auto;\">\n",
        "<table border=\"1\" class=\"dataframe\">\n",
        "  <thead>\n",
        "    <tr style=\"text-align: right;\">\n",
        "      <th></th>\n",
        "      <th>Price</th>\n",
        "      <th>Volume</th>\n",
        "      <th>Exchange Code</th>\n",
        "      <th>Sales Condition</th>\n",
        "      <th>Correction Indicator</th>\n",
        "      <th>Sequence Number</th>\n",
        "      <th>Trade Stop Indicator</th>\n",
        "      <th>Source of Trade</th>\n",
        "      <th>MDS 127 / TRF (Trade Reporting Facility) (*)</th>\n",
        "      <th>Exclude Record Flag</th>\n",
        "      <th>Filtered Price</th>\n",
        "    </tr>\n",
        "    <tr>\n",
        "      <th>Timestamp</th>\n",
        "      <th></th>\n",
        "      <th></th>\n",
        "      <th></th>\n",
        "      <th></th>\n",
        "      <th></th>\n",
        "      <th></th>\n",
        "      <th></th>\n",
        "      <th></th>\n",
        "      <th></th>\n",
        "      <th></th>\n",
        "      <th></th>\n",
        "    </tr>\n",
        "  </thead>\n",
        "  <tbody>\n",
        "    <tr>\n",
        "      <th>2011-11-01 08:04:56.364000</th>\n",
        "      <td> 104.5500</td>\n",
        "      <td>   100</td>\n",
        "      <td> P</td>\n",
        "      <td>   T</td>\n",
        "      <td> 0</td>\n",
        "      <td>   196</td>\n",
        "      <td> N</td>\n",
        "      <td> C</td>\n",
        "      <td> NaN</td>\n",
        "      <td> NaN</td>\n",
        "      <td>NaN</td>\n",
        "    </tr>\n",
        "    <tr>\n",
        "      <th>2011-11-01 08:53:07.459000</th>\n",
        "      <td> 104.4300</td>\n",
        "      <td>   150</td>\n",
        "      <td> T</td>\n",
        "      <td>  FT</td>\n",
        "      <td> 0</td>\n",
        "      <td>   316</td>\n",
        "      <td> N</td>\n",
        "      <td> C</td>\n",
        "      <td> NaN</td>\n",
        "      <td> NaN</td>\n",
        "      <td>NaN</td>\n",
        "    </tr>\n",
        "    <tr>\n",
        "      <th>2011-11-01 08:53:09.284000</th>\n",
        "      <td> 104.4300</td>\n",
        "      <td>   100</td>\n",
        "      <td> T</td>\n",
        "      <td>  FT</td>\n",
        "      <td> 0</td>\n",
        "      <td>   317</td>\n",
        "      <td> N</td>\n",
        "      <td> C</td>\n",
        "      <td> NaN</td>\n",
        "      <td> NaN</td>\n",
        "      <td>NaN</td>\n",
        "    </tr>\n",
        "    <tr>\n",
        "      <th>2011-11-01 08:54:03.921000</th>\n",
        "      <td> 104.5000</td>\n",
        "      <td>   100</td>\n",
        "      <td> P</td>\n",
        "      <td>  FT</td>\n",
        "      <td> 0</td>\n",
        "      <td>   318</td>\n",
        "      <td> N</td>\n",
        "      <td> C</td>\n",
        "      <td> NaN</td>\n",
        "      <td> NaN</td>\n",
        "      <td>NaN</td>\n",
        "    </tr>\n",
        "    <tr>\n",
        "      <th>2011-11-01 08:58:06.162000</th>\n",
        "      <td> 104.4600</td>\n",
        "      <td>  1000</td>\n",
        "      <td> Z</td>\n",
        "      <td>   T</td>\n",
        "      <td> 0</td>\n",
        "      <td>   322</td>\n",
        "      <td> N</td>\n",
        "      <td> C</td>\n",
        "      <td> NaN</td>\n",
        "      <td> NaN</td>\n",
        "      <td>NaN</td>\n",
        "    </tr>\n",
        "    <tr>\n",
        "      <th>2011-11-01 08:58:06.162000</th>\n",
        "      <td> 104.4600</td>\n",
        "      <td>  1000</td>\n",
        "      <td> T</td>\n",
        "      <td>   T</td>\n",
        "      <td> 0</td>\n",
        "      <td>   323</td>\n",
        "      <td> N</td>\n",
        "      <td> C</td>\n",
        "      <td> NaN</td>\n",
        "      <td> NaN</td>\n",
        "      <td>NaN</td>\n",
        "    </tr>\n",
        "    <tr>\n",
        "      <th>2011-11-01 08:58:06.162000</th>\n",
        "      <td> 104.4600</td>\n",
        "      <td>  1000</td>\n",
        "      <td> P</td>\n",
        "      <td>   T</td>\n",
        "      <td> 0</td>\n",
        "      <td>   324</td>\n",
        "      <td> N</td>\n",
        "      <td> C</td>\n",
        "      <td> NaN</td>\n",
        "      <td> NaN</td>\n",
        "      <td>NaN</td>\n",
        "    </tr>\n",
        "    <tr>\n",
        "      <th>2011-11-01 08:58:06.164000</th>\n",
        "      <td> 104.4600</td>\n",
        "      <td>  1000</td>\n",
        "      <td> J</td>\n",
        "      <td>   T</td>\n",
        "      <td> 0</td>\n",
        "      <td>   325</td>\n",
        "      <td> N</td>\n",
        "      <td> C</td>\n",
        "      <td> NaN</td>\n",
        "      <td> NaN</td>\n",
        "      <td>NaN</td>\n",
        "    </tr>\n",
        "    <tr>\n",
        "      <th>2011-11-01 08:58:06.164000</th>\n",
        "      <td> 104.4600</td>\n",
        "      <td>  1000</td>\n",
        "      <td> K</td>\n",
        "      <td>   T</td>\n",
        "      <td> 0</td>\n",
        "      <td>   326</td>\n",
        "      <td> N</td>\n",
        "      <td> C</td>\n",
        "      <td> NaN</td>\n",
        "      <td> NaN</td>\n",
        "      <td>NaN</td>\n",
        "    </tr>\n",
        "    <tr>\n",
        "      <th>2011-11-01 09:28:59.153000</th>\n",
        "      <td> 104.1700</td>\n",
        "      <td>   100</td>\n",
        "      <td> B</td>\n",
        "      <td>  FT</td>\n",
        "      <td> 0</td>\n",
        "      <td>   462</td>\n",
        "      <td> N</td>\n",
        "      <td> C</td>\n",
        "      <td> NaN</td>\n",
        "      <td> NaN</td>\n",
        "      <td>NaN</td>\n",
        "    </tr>\n",
        "    <tr>\n",
        "      <th>2011-11-01 09:29:53.651000</th>\n",
        "      <td> 103.3008</td>\n",
        "      <td>   426</td>\n",
        "      <td> D</td>\n",
        "      <td>   T</td>\n",
        "      <td> 0</td>\n",
        "      <td>   560</td>\n",
        "      <td> N</td>\n",
        "      <td> C</td>\n",
        "      <td>   T</td>\n",
        "      <td> NaN</td>\n",
        "      <td>NaN</td>\n",
        "    </tr>\n",
        "    <tr>\n",
        "      <th>2011-11-01 09:30:00.278000</th>\n",
        "      <td> 104.2300</td>\n",
        "      <td>   586</td>\n",
        "      <td> T</td>\n",
        "      <td> O X</td>\n",
        "      <td> 0</td>\n",
        "      <td>   674</td>\n",
        "      <td> N</td>\n",
        "      <td> C</td>\n",
        "      <td> NaN</td>\n",
        "      <td> NaN</td>\n",
        "      <td>NaN</td>\n",
        "    </tr>\n",
        "    <tr>\n",
        "      <th>2011-11-01 09:30:00.278000</th>\n",
        "      <td> 104.2300</td>\n",
        "      <td>   586</td>\n",
        "      <td> T</td>\n",
        "      <td>   Q</td>\n",
        "      <td> 0</td>\n",
        "      <td>   675</td>\n",
        "      <td> N</td>\n",
        "      <td> C</td>\n",
        "      <td> NaN</td>\n",
        "      <td>   X</td>\n",
        "      <td>NaN</td>\n",
        "    </tr>\n",
        "    <tr>\n",
        "      <th>2011-11-01 09:30:00.384000</th>\n",
        "      <td> 104.2300</td>\n",
        "      <td>   132</td>\n",
        "      <td> P</td>\n",
        "      <td>   O</td>\n",
        "      <td> 0</td>\n",
        "      <td>   703</td>\n",
        "      <td> N</td>\n",
        "      <td> C</td>\n",
        "      <td> NaN</td>\n",
        "      <td> NaN</td>\n",
        "      <td>NaN</td>\n",
        "    </tr>\n",
        "    <tr>\n",
        "      <th>2011-11-01 09:30:00.384000</th>\n",
        "      <td> 104.2300</td>\n",
        "      <td>   103</td>\n",
        "      <td> P</td>\n",
        "      <td>   O</td>\n",
        "      <td> 0</td>\n",
        "      <td>   704</td>\n",
        "      <td> N</td>\n",
        "      <td> C</td>\n",
        "      <td> NaN</td>\n",
        "      <td> NaN</td>\n",
        "      <td>NaN</td>\n",
        "    </tr>\n",
        "    <tr>\n",
        "      <th>2011-11-01 09:30:00.384000</th>\n",
        "      <td> 104.2300</td>\n",
        "      <td>   685</td>\n",
        "      <td> P</td>\n",
        "      <td>   O</td>\n",
        "      <td> 0</td>\n",
        "      <td>   705</td>\n",
        "      <td> N</td>\n",
        "      <td> C</td>\n",
        "      <td> NaN</td>\n",
        "      <td> NaN</td>\n",
        "      <td>NaN</td>\n",
        "    </tr>\n",
        "    <tr>\n",
        "      <th>2011-11-01 09:30:00.384000</th>\n",
        "      <td> 104.2300</td>\n",
        "      <td>   146</td>\n",
        "      <td> P</td>\n",
        "      <td>   O</td>\n",
        "      <td> 0</td>\n",
        "      <td>   706</td>\n",
        "      <td> N</td>\n",
        "      <td> C</td>\n",
        "      <td> NaN</td>\n",
        "      <td> NaN</td>\n",
        "      <td>NaN</td>\n",
        "    </tr>\n",
        "    <tr>\n",
        "      <th>2011-11-01 09:30:00.384000</th>\n",
        "      <td> 104.2300</td>\n",
        "      <td>   111</td>\n",
        "      <td> P</td>\n",
        "      <td>   O</td>\n",
        "      <td> 0</td>\n",
        "      <td>   707</td>\n",
        "      <td> N</td>\n",
        "      <td> C</td>\n",
        "      <td> NaN</td>\n",
        "      <td> NaN</td>\n",
        "      <td>NaN</td>\n",
        "    </tr>\n",
        "    <tr>\n",
        "      <th>2011-11-01 09:30:00.384000</th>\n",
        "      <td> 104.2300</td>\n",
        "      <td>   147</td>\n",
        "      <td> P</td>\n",
        "      <td>   O</td>\n",
        "      <td> 0</td>\n",
        "      <td>   708</td>\n",
        "      <td> N</td>\n",
        "      <td> C</td>\n",
        "      <td> NaN</td>\n",
        "      <td> NaN</td>\n",
        "      <td>NaN</td>\n",
        "    </tr>\n",
        "    <tr>\n",
        "      <th>2011-11-01 09:30:00.384000</th>\n",
        "      <td> 104.2300</td>\n",
        "      <td>   180</td>\n",
        "      <td> P</td>\n",
        "      <td>   O</td>\n",
        "      <td> 0</td>\n",
        "      <td>   709</td>\n",
        "      <td> N</td>\n",
        "      <td> C</td>\n",
        "      <td> NaN</td>\n",
        "      <td> NaN</td>\n",
        "      <td>NaN</td>\n",
        "    </tr>\n",
        "    <tr>\n",
        "      <th>2011-11-01 09:30:00.384000</th>\n",
        "      <td> 104.2300</td>\n",
        "      <td>   100</td>\n",
        "      <td> P</td>\n",
        "      <td>   O</td>\n",
        "      <td> 0</td>\n",
        "      <td>   710</td>\n",
        "      <td> N</td>\n",
        "      <td> C</td>\n",
        "      <td> NaN</td>\n",
        "      <td> NaN</td>\n",
        "      <td>NaN</td>\n",
        "    </tr>\n",
        "    <tr>\n",
        "      <th>2011-11-01 09:30:00.384000</th>\n",
        "      <td> 104.2300</td>\n",
        "      <td>   125</td>\n",
        "      <td> P</td>\n",
        "      <td>   O</td>\n",
        "      <td> 0</td>\n",
        "      <td>   711</td>\n",
        "      <td> N</td>\n",
        "      <td> C</td>\n",
        "      <td> NaN</td>\n",
        "      <td> NaN</td>\n",
        "      <td>NaN</td>\n",
        "    </tr>\n",
        "    <tr>\n",
        "      <th>2011-11-01 09:30:00.384000</th>\n",
        "      <td> 104.2300</td>\n",
        "      <td>   730</td>\n",
        "      <td> P</td>\n",
        "      <td>   O</td>\n",
        "      <td> 0</td>\n",
        "      <td>   712</td>\n",
        "      <td> N</td>\n",
        "      <td> C</td>\n",
        "      <td> NaN</td>\n",
        "      <td> NaN</td>\n",
        "      <td>NaN</td>\n",
        "    </tr>\n",
        "    <tr>\n",
        "      <th>2011-11-01 09:30:00.384000</th>\n",
        "      <td> 104.2300</td>\n",
        "      <td>  1263</td>\n",
        "      <td> P</td>\n",
        "      <td>   O</td>\n",
        "      <td> 0</td>\n",
        "      <td>   713</td>\n",
        "      <td> N</td>\n",
        "      <td> C</td>\n",
        "      <td> NaN</td>\n",
        "      <td> NaN</td>\n",
        "      <td>NaN</td>\n",
        "    </tr>\n",
        "    <tr>\n",
        "      <th>2011-11-01 09:30:00.386000</th>\n",
        "      <td> 104.2300</td>\n",
        "      <td>  1720</td>\n",
        "      <td> P</td>\n",
        "      <td>   O</td>\n",
        "      <td> 0</td>\n",
        "      <td>   714</td>\n",
        "      <td> N</td>\n",
        "      <td> C</td>\n",
        "      <td> NaN</td>\n",
        "      <td> NaN</td>\n",
        "      <td>NaN</td>\n",
        "    </tr>\n",
        "    <tr>\n",
        "      <th>2011-11-01 09:30:00.386000</th>\n",
        "      <td> 104.2300</td>\n",
        "      <td>   144</td>\n",
        "      <td> P</td>\n",
        "      <td>   O</td>\n",
        "      <td> 0</td>\n",
        "      <td>   715</td>\n",
        "      <td> N</td>\n",
        "      <td> C</td>\n",
        "      <td> NaN</td>\n",
        "      <td> NaN</td>\n",
        "      <td>NaN</td>\n",
        "    </tr>\n",
        "    <tr>\n",
        "      <th>2011-11-01 09:30:00.386000</th>\n",
        "      <td> 104.2300</td>\n",
        "      <td>   400</td>\n",
        "      <td> P</td>\n",
        "      <td>   O</td>\n",
        "      <td> 0</td>\n",
        "      <td>   716</td>\n",
        "      <td> N</td>\n",
        "      <td> C</td>\n",
        "      <td> NaN</td>\n",
        "      <td> NaN</td>\n",
        "      <td>NaN</td>\n",
        "    </tr>\n",
        "    <tr>\n",
        "      <th>2011-11-01 09:30:00.386000</th>\n",
        "      <td> 104.2300</td>\n",
        "      <td>   540</td>\n",
        "      <td> P</td>\n",
        "      <td>   O</td>\n",
        "      <td> 0</td>\n",
        "      <td>   717</td>\n",
        "      <td> N</td>\n",
        "      <td> C</td>\n",
        "      <td> NaN</td>\n",
        "      <td> NaN</td>\n",
        "      <td>NaN</td>\n",
        "    </tr>\n",
        "    <tr>\n",
        "      <th>2011-11-01 09:30:00.386000</th>\n",
        "      <td> 104.2300</td>\n",
        "      <td>   316</td>\n",
        "      <td> P</td>\n",
        "      <td>   O</td>\n",
        "      <td> 0</td>\n",
        "      <td>   718</td>\n",
        "      <td> N</td>\n",
        "      <td> C</td>\n",
        "      <td> NaN</td>\n",
        "      <td> NaN</td>\n",
        "      <td>NaN</td>\n",
        "    </tr>\n",
        "    <tr>\n",
        "      <th>2011-11-01 09:30:00.386000</th>\n",
        "      <td> 104.2300</td>\n",
        "      <td>   158</td>\n",
        "      <td> P</td>\n",
        "      <td>   O</td>\n",
        "      <td> 0</td>\n",
        "      <td>   719</td>\n",
        "      <td> N</td>\n",
        "      <td> C</td>\n",
        "      <td> NaN</td>\n",
        "      <td> NaN</td>\n",
        "      <td>NaN</td>\n",
        "    </tr>\n",
        "    <tr>\n",
        "      <th>...</th>\n",
        "      <td>...</td>\n",
        "      <td>...</td>\n",
        "      <td>...</td>\n",
        "      <td>...</td>\n",
        "      <td>...</td>\n",
        "      <td>...</td>\n",
        "      <td>...</td>\n",
        "      <td>...</td>\n",
        "      <td>...</td>\n",
        "      <td>...</td>\n",
        "      <td>...</td>\n",
        "    </tr>\n",
        "    <tr>\n",
        "      <th>2011-11-03 15:59:41.574000</th>\n",
        "      <td> 103.8300</td>\n",
        "      <td>   300</td>\n",
        "      <td> Z</td>\n",
        "      <td>   @</td>\n",
        "      <td> 0</td>\n",
        "      <td> 68540</td>\n",
        "      <td> N</td>\n",
        "      <td> C</td>\n",
        "      <td> NaN</td>\n",
        "      <td> NaN</td>\n",
        "      <td>NaN</td>\n",
        "    </tr>\n",
        "    <tr>\n",
        "      <th>2011-11-03 15:59:45.399000</th>\n",
        "      <td> 103.8287</td>\n",
        "      <td>   195</td>\n",
        "      <td> D</td>\n",
        "      <td>   @</td>\n",
        "      <td> 0</td>\n",
        "      <td> 68575</td>\n",
        "      <td> N</td>\n",
        "      <td> C</td>\n",
        "      <td>   T</td>\n",
        "      <td> NaN</td>\n",
        "      <td>NaN</td>\n",
        "    </tr>\n",
        "    <tr>\n",
        "      <th>2011-11-03 15:59:50.157000</th>\n",
        "      <td> 103.8300</td>\n",
        "      <td>   900</td>\n",
        "      <td> J</td>\n",
        "      <td>   F</td>\n",
        "      <td> 0</td>\n",
        "      <td> 68623</td>\n",
        "      <td> N</td>\n",
        "      <td> C</td>\n",
        "      <td> NaN</td>\n",
        "      <td> NaN</td>\n",
        "      <td>NaN</td>\n",
        "    </tr>\n",
        "    <tr>\n",
        "      <th>2011-11-03 15:59:50.161000</th>\n",
        "      <td> 103.8200</td>\n",
        "      <td>   500</td>\n",
        "      <td> T</td>\n",
        "      <td>   F</td>\n",
        "      <td> 0</td>\n",
        "      <td> 68626</td>\n",
        "      <td> N</td>\n",
        "      <td> C</td>\n",
        "      <td> NaN</td>\n",
        "      <td> NaN</td>\n",
        "      <td>NaN</td>\n",
        "    </tr>\n",
        "    <tr>\n",
        "      <th>2011-11-03 15:59:50.161000</th>\n",
        "      <td> 103.8200</td>\n",
        "      <td>   300</td>\n",
        "      <td> Z</td>\n",
        "      <td>   @</td>\n",
        "      <td> 0</td>\n",
        "      <td> 68627</td>\n",
        "      <td> N</td>\n",
        "      <td> C</td>\n",
        "      <td> NaN</td>\n",
        "      <td> NaN</td>\n",
        "      <td>NaN</td>\n",
        "    </tr>\n",
        "    <tr>\n",
        "      <th>2011-11-03 15:59:50.163000</th>\n",
        "      <td> 103.8200</td>\n",
        "      <td>   400</td>\n",
        "      <td> P</td>\n",
        "      <td>   F</td>\n",
        "      <td> 0</td>\n",
        "      <td> 68628</td>\n",
        "      <td> N</td>\n",
        "      <td> C</td>\n",
        "      <td> NaN</td>\n",
        "      <td> NaN</td>\n",
        "      <td>NaN</td>\n",
        "    </tr>\n",
        "    <tr>\n",
        "      <th>2011-11-03 15:59:50.163000</th>\n",
        "      <td> 103.8200</td>\n",
        "      <td>   402</td>\n",
        "      <td> K</td>\n",
        "      <td>   F</td>\n",
        "      <td> 0</td>\n",
        "      <td> 68629</td>\n",
        "      <td> N</td>\n",
        "      <td> C</td>\n",
        "      <td> NaN</td>\n",
        "      <td> NaN</td>\n",
        "      <td>NaN</td>\n",
        "    </tr>\n",
        "    <tr>\n",
        "      <th>2011-11-03 15:59:59.229000</th>\n",
        "      <td> 103.8200</td>\n",
        "      <td>   100</td>\n",
        "      <td> D</td>\n",
        "      <td>   @</td>\n",
        "      <td> 0</td>\n",
        "      <td> 68854</td>\n",
        "      <td> N</td>\n",
        "      <td> C</td>\n",
        "      <td>   T</td>\n",
        "      <td> NaN</td>\n",
        "      <td>NaN</td>\n",
        "    </tr>\n",
        "    <tr>\n",
        "      <th>2011-11-03 16:00:00.413000</th>\n",
        "      <td> 103.8000</td>\n",
        "      <td>   500</td>\n",
        "      <td> P</td>\n",
        "      <td>   6</td>\n",
        "      <td> 0</td>\n",
        "      <td> 68903</td>\n",
        "      <td> N</td>\n",
        "      <td> C</td>\n",
        "      <td> NaN</td>\n",
        "      <td> NaN</td>\n",
        "      <td>NaN</td>\n",
        "    </tr>\n",
        "    <tr>\n",
        "      <th>2011-11-03 16:00:00.413000</th>\n",
        "      <td> 103.8000</td>\n",
        "      <td>   144</td>\n",
        "      <td> P</td>\n",
        "      <td>   6</td>\n",
        "      <td> 0</td>\n",
        "      <td> 68904</td>\n",
        "      <td> N</td>\n",
        "      <td> C</td>\n",
        "      <td> NaN</td>\n",
        "      <td> NaN</td>\n",
        "      <td>NaN</td>\n",
        "    </tr>\n",
        "    <tr>\n",
        "      <th>2011-11-03 16:00:00.413000</th>\n",
        "      <td> 103.8000</td>\n",
        "      <td>  1755</td>\n",
        "      <td> P</td>\n",
        "      <td>   6</td>\n",
        "      <td> 0</td>\n",
        "      <td> 68905</td>\n",
        "      <td> N</td>\n",
        "      <td> C</td>\n",
        "      <td> NaN</td>\n",
        "      <td> NaN</td>\n",
        "      <td>NaN</td>\n",
        "    </tr>\n",
        "    <tr>\n",
        "      <th>2011-11-03 16:00:00.413000</th>\n",
        "      <td> 103.8000</td>\n",
        "      <td>   256</td>\n",
        "      <td> P</td>\n",
        "      <td>   6</td>\n",
        "      <td> 0</td>\n",
        "      <td> 68906</td>\n",
        "      <td> N</td>\n",
        "      <td> C</td>\n",
        "      <td> NaN</td>\n",
        "      <td> NaN</td>\n",
        "      <td>NaN</td>\n",
        "    </tr>\n",
        "    <tr>\n",
        "      <th>2011-11-03 16:00:00.413000</th>\n",
        "      <td> 103.8000</td>\n",
        "      <td> 11224</td>\n",
        "      <td> P</td>\n",
        "      <td>   6</td>\n",
        "      <td> 0</td>\n",
        "      <td> 68907</td>\n",
        "      <td> N</td>\n",
        "      <td> C</td>\n",
        "      <td> NaN</td>\n",
        "      <td> NaN</td>\n",
        "      <td>NaN</td>\n",
        "    </tr>\n",
        "    <tr>\n",
        "      <th>2011-11-03 16:00:00.413000</th>\n",
        "      <td> 103.8000</td>\n",
        "      <td>   900</td>\n",
        "      <td> P</td>\n",
        "      <td>   6</td>\n",
        "      <td> 0</td>\n",
        "      <td> 68908</td>\n",
        "      <td> N</td>\n",
        "      <td> C</td>\n",
        "      <td> NaN</td>\n",
        "      <td> NaN</td>\n",
        "      <td>NaN</td>\n",
        "    </tr>\n",
        "    <tr>\n",
        "      <th>2011-11-03 16:00:00.413000</th>\n",
        "      <td> 103.8000</td>\n",
        "      <td>  1400</td>\n",
        "      <td> P</td>\n",
        "      <td>   6</td>\n",
        "      <td> 0</td>\n",
        "      <td> 68909</td>\n",
        "      <td> N</td>\n",
        "      <td> C</td>\n",
        "      <td> NaN</td>\n",
        "      <td> NaN</td>\n",
        "      <td>NaN</td>\n",
        "    </tr>\n",
        "    <tr>\n",
        "      <th>2011-11-03 16:00:00.413000</th>\n",
        "      <td> 103.8000</td>\n",
        "      <td>   300</td>\n",
        "      <td> P</td>\n",
        "      <td>   6</td>\n",
        "      <td> 0</td>\n",
        "      <td> 68910</td>\n",
        "      <td> N</td>\n",
        "      <td> C</td>\n",
        "      <td> NaN</td>\n",
        "      <td> NaN</td>\n",
        "      <td>NaN</td>\n",
        "    </tr>\n",
        "    <tr>\n",
        "      <th>2011-11-03 16:00:00.413000</th>\n",
        "      <td> 103.8000</td>\n",
        "      <td>  2023</td>\n",
        "      <td> P</td>\n",
        "      <td>   6</td>\n",
        "      <td> 0</td>\n",
        "      <td> 68911</td>\n",
        "      <td> N</td>\n",
        "      <td> C</td>\n",
        "      <td> NaN</td>\n",
        "      <td> NaN</td>\n",
        "      <td>NaN</td>\n",
        "    </tr>\n",
        "    <tr>\n",
        "      <th>2011-11-03 16:00:00.413000</th>\n",
        "      <td> 103.8000</td>\n",
        "      <td>  2000</td>\n",
        "      <td> P</td>\n",
        "      <td>   6</td>\n",
        "      <td> 0</td>\n",
        "      <td> 68912</td>\n",
        "      <td> N</td>\n",
        "      <td> C</td>\n",
        "      <td> NaN</td>\n",
        "      <td> NaN</td>\n",
        "      <td>NaN</td>\n",
        "    </tr>\n",
        "    <tr>\n",
        "      <th>2011-11-03 16:00:00.413000</th>\n",
        "      <td> 103.8000</td>\n",
        "      <td>  2000</td>\n",
        "      <td> P</td>\n",
        "      <td>   6</td>\n",
        "      <td> 0</td>\n",
        "      <td> 68913</td>\n",
        "      <td> N</td>\n",
        "      <td> C</td>\n",
        "      <td> NaN</td>\n",
        "      <td> NaN</td>\n",
        "      <td>NaN</td>\n",
        "    </tr>\n",
        "    <tr>\n",
        "      <th>2011-11-03 16:00:00.413000</th>\n",
        "      <td> 103.8000</td>\n",
        "      <td>  1000</td>\n",
        "      <td> P</td>\n",
        "      <td>   6</td>\n",
        "      <td> 0</td>\n",
        "      <td> 68914</td>\n",
        "      <td> N</td>\n",
        "      <td> C</td>\n",
        "      <td> NaN</td>\n",
        "      <td> NaN</td>\n",
        "      <td>NaN</td>\n",
        "    </tr>\n",
        "    <tr>\n",
        "      <th>2011-11-03 16:00:00.413000</th>\n",
        "      <td> 103.8000</td>\n",
        "      <td>  1500</td>\n",
        "      <td> P</td>\n",
        "      <td>   6</td>\n",
        "      <td> 0</td>\n",
        "      <td> 68915</td>\n",
        "      <td> N</td>\n",
        "      <td> C</td>\n",
        "      <td> NaN</td>\n",
        "      <td> NaN</td>\n",
        "      <td>NaN</td>\n",
        "    </tr>\n",
        "    <tr>\n",
        "      <th>2011-11-03 16:00:00.413000</th>\n",
        "      <td> 103.8000</td>\n",
        "      <td>  8653</td>\n",
        "      <td> P</td>\n",
        "      <td>   6</td>\n",
        "      <td> 0</td>\n",
        "      <td> 68916</td>\n",
        "      <td> N</td>\n",
        "      <td> C</td>\n",
        "      <td> NaN</td>\n",
        "      <td> NaN</td>\n",
        "      <td>NaN</td>\n",
        "    </tr>\n",
        "    <tr>\n",
        "      <th>2011-11-03 16:00:00.413000</th>\n",
        "      <td> 103.8000</td>\n",
        "      <td> 33721</td>\n",
        "      <td> P</td>\n",
        "      <td>   M</td>\n",
        "      <td> 0</td>\n",
        "      <td> 68917</td>\n",
        "      <td> N</td>\n",
        "      <td> C</td>\n",
        "      <td> NaN</td>\n",
        "      <td>   X</td>\n",
        "      <td>NaN</td>\n",
        "    </tr>\n",
        "    <tr>\n",
        "      <th>2011-11-03 16:00:02.899000</th>\n",
        "      <td> 103.8200</td>\n",
        "      <td>   500</td>\n",
        "      <td> T</td>\n",
        "      <td>   M</td>\n",
        "      <td> 0</td>\n",
        "      <td> 69236</td>\n",
        "      <td> N</td>\n",
        "      <td> C</td>\n",
        "      <td> NaN</td>\n",
        "      <td>   X</td>\n",
        "      <td>NaN</td>\n",
        "    </tr>\n",
        "    <tr>\n",
        "      <th>2011-11-03 16:00:03.355000</th>\n",
        "      <td> 103.8600</td>\n",
        "      <td>   100</td>\n",
        "      <td> T</td>\n",
        "      <td>  FT</td>\n",
        "      <td> 0</td>\n",
        "      <td> 69247</td>\n",
        "      <td> N</td>\n",
        "      <td> C</td>\n",
        "      <td> NaN</td>\n",
        "      <td> NaN</td>\n",
        "      <td>NaN</td>\n",
        "    </tr>\n",
        "    <tr>\n",
        "      <th>2011-11-03 16:06:40.064000</th>\n",
        "      <td> 103.8000</td>\n",
        "      <td> 35457</td>\n",
        "      <td> D</td>\n",
        "      <td>  TB</td>\n",
        "      <td> 0</td>\n",
        "      <td> 69290</td>\n",
        "      <td> N</td>\n",
        "      <td> C</td>\n",
        "      <td>   T</td>\n",
        "      <td>   X</td>\n",
        "      <td>NaN</td>\n",
        "    </tr>\n",
        "    <tr>\n",
        "      <th>2011-11-03 16:09:45.824000</th>\n",
        "      <td> 103.8100</td>\n",
        "      <td>   200</td>\n",
        "      <td> T</td>\n",
        "      <td>  FT</td>\n",
        "      <td> 0</td>\n",
        "      <td> 69292</td>\n",
        "      <td> N</td>\n",
        "      <td> C</td>\n",
        "      <td> NaN</td>\n",
        "      <td> NaN</td>\n",
        "      <td>NaN</td>\n",
        "    </tr>\n",
        "    <tr>\n",
        "      <th>2011-11-03 16:09:45.826000</th>\n",
        "      <td> 103.8100</td>\n",
        "      <td>  2000</td>\n",
        "      <td> P</td>\n",
        "      <td>  FT</td>\n",
        "      <td> 0</td>\n",
        "      <td> 69293</td>\n",
        "      <td> N</td>\n",
        "      <td> C</td>\n",
        "      <td> NaN</td>\n",
        "      <td> NaN</td>\n",
        "      <td>NaN</td>\n",
        "    </tr>\n",
        "    <tr>\n",
        "      <th>2011-11-03 16:09:47.832000</th>\n",
        "      <td> 103.8100</td>\n",
        "      <td>   200</td>\n",
        "      <td> T</td>\n",
        "      <td>  FT</td>\n",
        "      <td> 0</td>\n",
        "      <td> 69294</td>\n",
        "      <td> N</td>\n",
        "      <td> C</td>\n",
        "      <td> NaN</td>\n",
        "      <td> NaN</td>\n",
        "      <td>NaN</td>\n",
        "    </tr>\n",
        "    <tr>\n",
        "      <th>2011-11-03 16:09:47.834000</th>\n",
        "      <td> 103.8100</td>\n",
        "      <td>  2057</td>\n",
        "      <td> P</td>\n",
        "      <td>  FT</td>\n",
        "      <td> 0</td>\n",
        "      <td> 69295</td>\n",
        "      <td> N</td>\n",
        "      <td> C</td>\n",
        "      <td> NaN</td>\n",
        "      <td> NaN</td>\n",
        "      <td>NaN</td>\n",
        "    </tr>\n",
        "  </tbody>\n",
        "</table>\n",
        "<p>14632 rows \u00d7 11 columns</p>\n",
        "</div>"
       ],
       "metadata": {},
       "output_type": "pyout",
       "prompt_number": 6,
       "text": [
        "                               Price  Volume Exchange Code Sales Condition  \\\n",
        "Timestamp                                                                    \n",
        "2011-11-01 08:04:56.364000  104.5500     100             P               T   \n",
        "2011-11-01 08:53:07.459000  104.4300     150             T              FT   \n",
        "2011-11-01 08:53:09.284000  104.4300     100             T              FT   \n",
        "2011-11-01 08:54:03.921000  104.5000     100             P              FT   \n",
        "2011-11-01 08:58:06.162000  104.4600    1000             Z               T   \n",
        "2011-11-01 08:58:06.162000  104.4600    1000             T               T   \n",
        "2011-11-01 08:58:06.162000  104.4600    1000             P               T   \n",
        "2011-11-01 08:58:06.164000  104.4600    1000             J               T   \n",
        "2011-11-01 08:58:06.164000  104.4600    1000             K               T   \n",
        "2011-11-01 09:28:59.153000  104.1700     100             B              FT   \n",
        "2011-11-01 09:29:53.651000  103.3008     426             D               T   \n",
        "2011-11-01 09:30:00.278000  104.2300     586             T             O X   \n",
        "2011-11-01 09:30:00.278000  104.2300     586             T               Q   \n",
        "2011-11-01 09:30:00.384000  104.2300     132             P               O   \n",
        "2011-11-01 09:30:00.384000  104.2300     103             P               O   \n",
        "2011-11-01 09:30:00.384000  104.2300     685             P               O   \n",
        "2011-11-01 09:30:00.384000  104.2300     146             P               O   \n",
        "2011-11-01 09:30:00.384000  104.2300     111             P               O   \n",
        "2011-11-01 09:30:00.384000  104.2300     147             P               O   \n",
        "2011-11-01 09:30:00.384000  104.2300     180             P               O   \n",
        "2011-11-01 09:30:00.384000  104.2300     100             P               O   \n",
        "2011-11-01 09:30:00.384000  104.2300     125             P               O   \n",
        "2011-11-01 09:30:00.384000  104.2300     730             P               O   \n",
        "2011-11-01 09:30:00.384000  104.2300    1263             P               O   \n",
        "2011-11-01 09:30:00.386000  104.2300    1720             P               O   \n",
        "2011-11-01 09:30:00.386000  104.2300     144             P               O   \n",
        "2011-11-01 09:30:00.386000  104.2300     400             P               O   \n",
        "2011-11-01 09:30:00.386000  104.2300     540             P               O   \n",
        "2011-11-01 09:30:00.386000  104.2300     316             P               O   \n",
        "2011-11-01 09:30:00.386000  104.2300     158             P               O   \n",
        "...                              ...     ...           ...             ...   \n",
        "2011-11-03 15:59:41.574000  103.8300     300             Z               @   \n",
        "2011-11-03 15:59:45.399000  103.8287     195             D               @   \n",
        "2011-11-03 15:59:50.157000  103.8300     900             J               F   \n",
        "2011-11-03 15:59:50.161000  103.8200     500             T               F   \n",
        "2011-11-03 15:59:50.161000  103.8200     300             Z               @   \n",
        "2011-11-03 15:59:50.163000  103.8200     400             P               F   \n",
        "2011-11-03 15:59:50.163000  103.8200     402             K               F   \n",
        "2011-11-03 15:59:59.229000  103.8200     100             D               @   \n",
        "2011-11-03 16:00:00.413000  103.8000     500             P               6   \n",
        "2011-11-03 16:00:00.413000  103.8000     144             P               6   \n",
        "2011-11-03 16:00:00.413000  103.8000    1755             P               6   \n",
        "2011-11-03 16:00:00.413000  103.8000     256             P               6   \n",
        "2011-11-03 16:00:00.413000  103.8000   11224             P               6   \n",
        "2011-11-03 16:00:00.413000  103.8000     900             P               6   \n",
        "2011-11-03 16:00:00.413000  103.8000    1400             P               6   \n",
        "2011-11-03 16:00:00.413000  103.8000     300             P               6   \n",
        "2011-11-03 16:00:00.413000  103.8000    2023             P               6   \n",
        "2011-11-03 16:00:00.413000  103.8000    2000             P               6   \n",
        "2011-11-03 16:00:00.413000  103.8000    2000             P               6   \n",
        "2011-11-03 16:00:00.413000  103.8000    1000             P               6   \n",
        "2011-11-03 16:00:00.413000  103.8000    1500             P               6   \n",
        "2011-11-03 16:00:00.413000  103.8000    8653             P               6   \n",
        "2011-11-03 16:00:00.413000  103.8000   33721             P               M   \n",
        "2011-11-03 16:00:02.899000  103.8200     500             T               M   \n",
        "2011-11-03 16:00:03.355000  103.8600     100             T              FT   \n",
        "2011-11-03 16:06:40.064000  103.8000   35457             D              TB   \n",
        "2011-11-03 16:09:45.824000  103.8100     200             T              FT   \n",
        "2011-11-03 16:09:45.826000  103.8100    2000             P              FT   \n",
        "2011-11-03 16:09:47.832000  103.8100     200             T              FT   \n",
        "2011-11-03 16:09:47.834000  103.8100    2057             P              FT   \n",
        "\n",
        "                            Correction Indicator  Sequence Number  \\\n",
        "Timestamp                                                           \n",
        "2011-11-01 08:04:56.364000                     0              196   \n",
        "2011-11-01 08:53:07.459000                     0              316   \n",
        "2011-11-01 08:53:09.284000                     0              317   \n",
        "2011-11-01 08:54:03.921000                     0              318   \n",
        "2011-11-01 08:58:06.162000                     0              322   \n",
        "2011-11-01 08:58:06.162000                     0              323   \n",
        "2011-11-01 08:58:06.162000                     0              324   \n",
        "2011-11-01 08:58:06.164000                     0              325   \n",
        "2011-11-01 08:58:06.164000                     0              326   \n",
        "2011-11-01 09:28:59.153000                     0              462   \n",
        "2011-11-01 09:29:53.651000                     0              560   \n",
        "2011-11-01 09:30:00.278000                     0              674   \n",
        "2011-11-01 09:30:00.278000                     0              675   \n",
        "2011-11-01 09:30:00.384000                     0              703   \n",
        "2011-11-01 09:30:00.384000                     0              704   \n",
        "2011-11-01 09:30:00.384000                     0              705   \n",
        "2011-11-01 09:30:00.384000                     0              706   \n",
        "2011-11-01 09:30:00.384000                     0              707   \n",
        "2011-11-01 09:30:00.384000                     0              708   \n",
        "2011-11-01 09:30:00.384000                     0              709   \n",
        "2011-11-01 09:30:00.384000                     0              710   \n",
        "2011-11-01 09:30:00.384000                     0              711   \n",
        "2011-11-01 09:30:00.384000                     0              712   \n",
        "2011-11-01 09:30:00.384000                     0              713   \n",
        "2011-11-01 09:30:00.386000                     0              714   \n",
        "2011-11-01 09:30:00.386000                     0              715   \n",
        "2011-11-01 09:30:00.386000                     0              716   \n",
        "2011-11-01 09:30:00.386000                     0              717   \n",
        "2011-11-01 09:30:00.386000                     0              718   \n",
        "2011-11-01 09:30:00.386000                     0              719   \n",
        "...                                          ...              ...   \n",
        "2011-11-03 15:59:41.574000                     0            68540   \n",
        "2011-11-03 15:59:45.399000                     0            68575   \n",
        "2011-11-03 15:59:50.157000                     0            68623   \n",
        "2011-11-03 15:59:50.161000                     0            68626   \n",
        "2011-11-03 15:59:50.161000                     0            68627   \n",
        "2011-11-03 15:59:50.163000                     0            68628   \n",
        "2011-11-03 15:59:50.163000                     0            68629   \n",
        "2011-11-03 15:59:59.229000                     0            68854   \n",
        "2011-11-03 16:00:00.413000                     0            68903   \n",
        "2011-11-03 16:00:00.413000                     0            68904   \n",
        "2011-11-03 16:00:00.413000                     0            68905   \n",
        "2011-11-03 16:00:00.413000                     0            68906   \n",
        "2011-11-03 16:00:00.413000                     0            68907   \n",
        "2011-11-03 16:00:00.413000                     0            68908   \n",
        "2011-11-03 16:00:00.413000                     0            68909   \n",
        "2011-11-03 16:00:00.413000                     0            68910   \n",
        "2011-11-03 16:00:00.413000                     0            68911   \n",
        "2011-11-03 16:00:00.413000                     0            68912   \n",
        "2011-11-03 16:00:00.413000                     0            68913   \n",
        "2011-11-03 16:00:00.413000                     0            68914   \n",
        "2011-11-03 16:00:00.413000                     0            68915   \n",
        "2011-11-03 16:00:00.413000                     0            68916   \n",
        "2011-11-03 16:00:00.413000                     0            68917   \n",
        "2011-11-03 16:00:02.899000                     0            69236   \n",
        "2011-11-03 16:00:03.355000                     0            69247   \n",
        "2011-11-03 16:06:40.064000                     0            69290   \n",
        "2011-11-03 16:09:45.824000                     0            69292   \n",
        "2011-11-03 16:09:45.826000                     0            69293   \n",
        "2011-11-03 16:09:47.832000                     0            69294   \n",
        "2011-11-03 16:09:47.834000                     0            69295   \n",
        "\n",
        "                           Trade Stop Indicator Source of Trade  \\\n",
        "Timestamp                                                         \n",
        "2011-11-01 08:04:56.364000                    N               C   \n",
        "2011-11-01 08:53:07.459000                    N               C   \n",
        "2011-11-01 08:53:09.284000                    N               C   \n",
        "2011-11-01 08:54:03.921000                    N               C   \n",
        "2011-11-01 08:58:06.162000                    N               C   \n",
        "2011-11-01 08:58:06.162000                    N               C   \n",
        "2011-11-01 08:58:06.162000                    N               C   \n",
        "2011-11-01 08:58:06.164000                    N               C   \n",
        "2011-11-01 08:58:06.164000                    N               C   \n",
        "2011-11-01 09:28:59.153000                    N               C   \n",
        "2011-11-01 09:29:53.651000                    N               C   \n",
        "2011-11-01 09:30:00.278000                    N               C   \n",
        "2011-11-01 09:30:00.278000                    N               C   \n",
        "2011-11-01 09:30:00.384000                    N               C   \n",
        "2011-11-01 09:30:00.384000                    N               C   \n",
        "2011-11-01 09:30:00.384000                    N               C   \n",
        "2011-11-01 09:30:00.384000                    N               C   \n",
        "2011-11-01 09:30:00.384000                    N               C   \n",
        "2011-11-01 09:30:00.384000                    N               C   \n",
        "2011-11-01 09:30:00.384000                    N               C   \n",
        "2011-11-01 09:30:00.384000                    N               C   \n",
        "2011-11-01 09:30:00.384000                    N               C   \n",
        "2011-11-01 09:30:00.384000                    N               C   \n",
        "2011-11-01 09:30:00.384000                    N               C   \n",
        "2011-11-01 09:30:00.386000                    N               C   \n",
        "2011-11-01 09:30:00.386000                    N               C   \n",
        "2011-11-01 09:30:00.386000                    N               C   \n",
        "2011-11-01 09:30:00.386000                    N               C   \n",
        "2011-11-01 09:30:00.386000                    N               C   \n",
        "2011-11-01 09:30:00.386000                    N               C   \n",
        "...                                         ...             ...   \n",
        "2011-11-03 15:59:41.574000                    N               C   \n",
        "2011-11-03 15:59:45.399000                    N               C   \n",
        "2011-11-03 15:59:50.157000                    N               C   \n",
        "2011-11-03 15:59:50.161000                    N               C   \n",
        "2011-11-03 15:59:50.161000                    N               C   \n",
        "2011-11-03 15:59:50.163000                    N               C   \n",
        "2011-11-03 15:59:50.163000                    N               C   \n",
        "2011-11-03 15:59:59.229000                    N               C   \n",
        "2011-11-03 16:00:00.413000                    N               C   \n",
        "2011-11-03 16:00:00.413000                    N               C   \n",
        "2011-11-03 16:00:00.413000                    N               C   \n",
        "2011-11-03 16:00:00.413000                    N               C   \n",
        "2011-11-03 16:00:00.413000                    N               C   \n",
        "2011-11-03 16:00:00.413000                    N               C   \n",
        "2011-11-03 16:00:00.413000                    N               C   \n",
        "2011-11-03 16:00:00.413000                    N               C   \n",
        "2011-11-03 16:00:00.413000                    N               C   \n",
        "2011-11-03 16:00:00.413000                    N               C   \n",
        "2011-11-03 16:00:00.413000                    N               C   \n",
        "2011-11-03 16:00:00.413000                    N               C   \n",
        "2011-11-03 16:00:00.413000                    N               C   \n",
        "2011-11-03 16:00:00.413000                    N               C   \n",
        "2011-11-03 16:00:00.413000                    N               C   \n",
        "2011-11-03 16:00:02.899000                    N               C   \n",
        "2011-11-03 16:00:03.355000                    N               C   \n",
        "2011-11-03 16:06:40.064000                    N               C   \n",
        "2011-11-03 16:09:45.824000                    N               C   \n",
        "2011-11-03 16:09:45.826000                    N               C   \n",
        "2011-11-03 16:09:47.832000                    N               C   \n",
        "2011-11-03 16:09:47.834000                    N               C   \n",
        "\n",
        "                           MDS 127 / TRF (Trade Reporting Facility) (*)  \\\n",
        "Timestamp                                                                 \n",
        "2011-11-01 08:04:56.364000                                          NaN   \n",
        "2011-11-01 08:53:07.459000                                          NaN   \n",
        "2011-11-01 08:53:09.284000                                          NaN   \n",
        "2011-11-01 08:54:03.921000                                          NaN   \n",
        "2011-11-01 08:58:06.162000                                          NaN   \n",
        "2011-11-01 08:58:06.162000                                          NaN   \n",
        "2011-11-01 08:58:06.162000                                          NaN   \n",
        "2011-11-01 08:58:06.164000                                          NaN   \n",
        "2011-11-01 08:58:06.164000                                          NaN   \n",
        "2011-11-01 09:28:59.153000                                          NaN   \n",
        "2011-11-01 09:29:53.651000                                            T   \n",
        "2011-11-01 09:30:00.278000                                          NaN   \n",
        "2011-11-01 09:30:00.278000                                          NaN   \n",
        "2011-11-01 09:30:00.384000                                          NaN   \n",
        "2011-11-01 09:30:00.384000                                          NaN   \n",
        "2011-11-01 09:30:00.384000                                          NaN   \n",
        "2011-11-01 09:30:00.384000                                          NaN   \n",
        "2011-11-01 09:30:00.384000                                          NaN   \n",
        "2011-11-01 09:30:00.384000                                          NaN   \n",
        "2011-11-01 09:30:00.384000                                          NaN   \n",
        "2011-11-01 09:30:00.384000                                          NaN   \n",
        "2011-11-01 09:30:00.384000                                          NaN   \n",
        "2011-11-01 09:30:00.384000                                          NaN   \n",
        "2011-11-01 09:30:00.384000                                          NaN   \n",
        "2011-11-01 09:30:00.386000                                          NaN   \n",
        "2011-11-01 09:30:00.386000                                          NaN   \n",
        "2011-11-01 09:30:00.386000                                          NaN   \n",
        "2011-11-01 09:30:00.386000                                          NaN   \n",
        "2011-11-01 09:30:00.386000                                          NaN   \n",
        "2011-11-01 09:30:00.386000                                          NaN   \n",
        "...                                                                 ...   \n",
        "2011-11-03 15:59:41.574000                                          NaN   \n",
        "2011-11-03 15:59:45.399000                                            T   \n",
        "2011-11-03 15:59:50.157000                                          NaN   \n",
        "2011-11-03 15:59:50.161000                                          NaN   \n",
        "2011-11-03 15:59:50.161000                                          NaN   \n",
        "2011-11-03 15:59:50.163000                                          NaN   \n",
        "2011-11-03 15:59:50.163000                                          NaN   \n",
        "2011-11-03 15:59:59.229000                                            T   \n",
        "2011-11-03 16:00:00.413000                                          NaN   \n",
        "2011-11-03 16:00:00.413000                                          NaN   \n",
        "2011-11-03 16:00:00.413000                                          NaN   \n",
        "2011-11-03 16:00:00.413000                                          NaN   \n",
        "2011-11-03 16:00:00.413000                                          NaN   \n",
        "2011-11-03 16:00:00.413000                                          NaN   \n",
        "2011-11-03 16:00:00.413000                                          NaN   \n",
        "2011-11-03 16:00:00.413000                                          NaN   \n",
        "2011-11-03 16:00:00.413000                                          NaN   \n",
        "2011-11-03 16:00:00.413000                                          NaN   \n",
        "2011-11-03 16:00:00.413000                                          NaN   \n",
        "2011-11-03 16:00:00.413000                                          NaN   \n",
        "2011-11-03 16:00:00.413000                                          NaN   \n",
        "2011-11-03 16:00:00.413000                                          NaN   \n",
        "2011-11-03 16:00:00.413000                                          NaN   \n",
        "2011-11-03 16:00:02.899000                                          NaN   \n",
        "2011-11-03 16:00:03.355000                                          NaN   \n",
        "2011-11-03 16:06:40.064000                                            T   \n",
        "2011-11-03 16:09:45.824000                                          NaN   \n",
        "2011-11-03 16:09:45.826000                                          NaN   \n",
        "2011-11-03 16:09:47.832000                                          NaN   \n",
        "2011-11-03 16:09:47.834000                                          NaN   \n",
        "\n",
        "                           Exclude Record Flag  Filtered Price  \n",
        "Timestamp                                                       \n",
        "2011-11-01 08:04:56.364000                 NaN             NaN  \n",
        "2011-11-01 08:53:07.459000                 NaN             NaN  \n",
        "2011-11-01 08:53:09.284000                 NaN             NaN  \n",
        "2011-11-01 08:54:03.921000                 NaN             NaN  \n",
        "2011-11-01 08:58:06.162000                 NaN             NaN  \n",
        "2011-11-01 08:58:06.162000                 NaN             NaN  \n",
        "2011-11-01 08:58:06.162000                 NaN             NaN  \n",
        "2011-11-01 08:58:06.164000                 NaN             NaN  \n",
        "2011-11-01 08:58:06.164000                 NaN             NaN  \n",
        "2011-11-01 09:28:59.153000                 NaN             NaN  \n",
        "2011-11-01 09:29:53.651000                 NaN             NaN  \n",
        "2011-11-01 09:30:00.278000                 NaN             NaN  \n",
        "2011-11-01 09:30:00.278000                   X             NaN  \n",
        "2011-11-01 09:30:00.384000                 NaN             NaN  \n",
        "2011-11-01 09:30:00.384000                 NaN             NaN  \n",
        "2011-11-01 09:30:00.384000                 NaN             NaN  \n",
        "2011-11-01 09:30:00.384000                 NaN             NaN  \n",
        "2011-11-01 09:30:00.384000                 NaN             NaN  \n",
        "2011-11-01 09:30:00.384000                 NaN             NaN  \n",
        "2011-11-01 09:30:00.384000                 NaN             NaN  \n",
        "2011-11-01 09:30:00.384000                 NaN             NaN  \n",
        "2011-11-01 09:30:00.384000                 NaN             NaN  \n",
        "2011-11-01 09:30:00.384000                 NaN             NaN  \n",
        "2011-11-01 09:30:00.384000                 NaN             NaN  \n",
        "2011-11-01 09:30:00.386000                 NaN             NaN  \n",
        "2011-11-01 09:30:00.386000                 NaN             NaN  \n",
        "2011-11-01 09:30:00.386000                 NaN             NaN  \n",
        "2011-11-01 09:30:00.386000                 NaN             NaN  \n",
        "2011-11-01 09:30:00.386000                 NaN             NaN  \n",
        "2011-11-01 09:30:00.386000                 NaN             NaN  \n",
        "...                                        ...             ...  \n",
        "2011-11-03 15:59:41.574000                 NaN             NaN  \n",
        "2011-11-03 15:59:45.399000                 NaN             NaN  \n",
        "2011-11-03 15:59:50.157000                 NaN             NaN  \n",
        "2011-11-03 15:59:50.161000                 NaN             NaN  \n",
        "2011-11-03 15:59:50.161000                 NaN             NaN  \n",
        "2011-11-03 15:59:50.163000                 NaN             NaN  \n",
        "2011-11-03 15:59:50.163000                 NaN             NaN  \n",
        "2011-11-03 15:59:59.229000                 NaN             NaN  \n",
        "2011-11-03 16:00:00.413000                 NaN             NaN  \n",
        "2011-11-03 16:00:00.413000                 NaN             NaN  \n",
        "2011-11-03 16:00:00.413000                 NaN             NaN  \n",
        "2011-11-03 16:00:00.413000                 NaN             NaN  \n",
        "2011-11-03 16:00:00.413000                 NaN             NaN  \n",
        "2011-11-03 16:00:00.413000                 NaN             NaN  \n",
        "2011-11-03 16:00:00.413000                 NaN             NaN  \n",
        "2011-11-03 16:00:00.413000                 NaN             NaN  \n",
        "2011-11-03 16:00:00.413000                 NaN             NaN  \n",
        "2011-11-03 16:00:00.413000                 NaN             NaN  \n",
        "2011-11-03 16:00:00.413000                 NaN             NaN  \n",
        "2011-11-03 16:00:00.413000                 NaN             NaN  \n",
        "2011-11-03 16:00:00.413000                 NaN             NaN  \n",
        "2011-11-03 16:00:00.413000                 NaN             NaN  \n",
        "2011-11-03 16:00:00.413000                   X             NaN  \n",
        "2011-11-03 16:00:02.899000                   X             NaN  \n",
        "2011-11-03 16:00:03.355000                 NaN             NaN  \n",
        "2011-11-03 16:06:40.064000                   X             NaN  \n",
        "2011-11-03 16:09:45.824000                 NaN             NaN  \n",
        "2011-11-03 16:09:45.826000                 NaN             NaN  \n",
        "2011-11-03 16:09:47.832000                 NaN             NaN  \n",
        "2011-11-03 16:09:47.834000                 NaN             NaN  \n",
        "\n",
        "[14632 rows x 11 columns]"
       ]
      }
     ],
     "prompt_number": 6
    },
    {
     "cell_type": "code",
     "collapsed": false,
     "input": [
      "data.index"
     ],
     "language": "python",
     "metadata": {},
     "outputs": [
      {
       "metadata": {},
       "output_type": "pyout",
       "prompt_number": 7,
       "text": [
        "<class 'pandas.tseries.index.DatetimeIndex'>\n",
        "[2011-11-01 08:04:56.364000, ..., 2011-11-03 16:09:47.834000]\n",
        "Length: 14632, Freq: None, Timezone: None"
       ]
      }
     ],
     "prompt_number": 7
    },
    {
     "cell_type": "code",
     "collapsed": false,
     "input": [
      "ticks = data.ix[:, ['Price', 'Volume']]\n",
      "ticks.head()"
     ],
     "language": "python",
     "metadata": {},
     "outputs": [
      {
       "html": [
        "<div style=\"max-height:1000px;max-width:1500px;overflow:auto;\">\n",
        "<table border=\"1\" class=\"dataframe\">\n",
        "  <thead>\n",
        "    <tr style=\"text-align: right;\">\n",
        "      <th></th>\n",
        "      <th>Price</th>\n",
        "      <th>Volume</th>\n",
        "    </tr>\n",
        "    <tr>\n",
        "      <th>Timestamp</th>\n",
        "      <th></th>\n",
        "      <th></th>\n",
        "    </tr>\n",
        "  </thead>\n",
        "  <tbody>\n",
        "    <tr>\n",
        "      <th>2011-11-01 08:04:56.364000</th>\n",
        "      <td> 104.55</td>\n",
        "      <td>  100</td>\n",
        "    </tr>\n",
        "    <tr>\n",
        "      <th>2011-11-01 08:53:07.459000</th>\n",
        "      <td> 104.43</td>\n",
        "      <td>  150</td>\n",
        "    </tr>\n",
        "    <tr>\n",
        "      <th>2011-11-01 08:53:09.284000</th>\n",
        "      <td> 104.43</td>\n",
        "      <td>  100</td>\n",
        "    </tr>\n",
        "    <tr>\n",
        "      <th>2011-11-01 08:54:03.921000</th>\n",
        "      <td> 104.50</td>\n",
        "      <td>  100</td>\n",
        "    </tr>\n",
        "    <tr>\n",
        "      <th>2011-11-01 08:58:06.162000</th>\n",
        "      <td> 104.46</td>\n",
        "      <td> 1000</td>\n",
        "    </tr>\n",
        "  </tbody>\n",
        "</table>\n",
        "</div>"
       ],
       "metadata": {},
       "output_type": "pyout",
       "prompt_number": 8,
       "text": [
        "                             Price  Volume\n",
        "Timestamp                                 \n",
        "2011-11-01 08:04:56.364000  104.55     100\n",
        "2011-11-01 08:53:07.459000  104.43     150\n",
        "2011-11-01 08:53:09.284000  104.43     100\n",
        "2011-11-01 08:54:03.921000  104.50     100\n",
        "2011-11-01 08:58:06.162000  104.46    1000"
       ]
      }
     ],
     "prompt_number": 8
    },
    {
     "cell_type": "markdown",
     "metadata": {},
     "source": [
      "####`resample`: regularization and frequency conversion"
     ]
    },
    {
     "cell_type": "code",
     "collapsed": false,
     "input": [
      "bars = ticks.Price.resample('1min', how='ohlc')\n",
      "bars"
     ],
     "language": "python",
     "metadata": {},
     "outputs": [
      {
       "html": [
        "<div style=\"max-height:1000px;max-width:1500px;overflow:auto;\">\n",
        "<table border=\"1\" class=\"dataframe\">\n",
        "  <thead>\n",
        "    <tr style=\"text-align: right;\">\n",
        "      <th></th>\n",
        "      <th>open</th>\n",
        "      <th>high</th>\n",
        "      <th>low</th>\n",
        "      <th>close</th>\n",
        "    </tr>\n",
        "    <tr>\n",
        "      <th>Timestamp</th>\n",
        "      <th></th>\n",
        "      <th></th>\n",
        "      <th></th>\n",
        "      <th></th>\n",
        "    </tr>\n",
        "  </thead>\n",
        "  <tbody>\n",
        "    <tr>\n",
        "      <th>2011-11-01 08:04:00</th>\n",
        "      <td> 104.5500</td>\n",
        "      <td> 104.5500</td>\n",
        "      <td> 104.5500</td>\n",
        "      <td> 104.5500</td>\n",
        "    </tr>\n",
        "    <tr>\n",
        "      <th>2011-11-01 08:05:00</th>\n",
        "      <td>      NaN</td>\n",
        "      <td>      NaN</td>\n",
        "      <td>      NaN</td>\n",
        "      <td>      NaN</td>\n",
        "    </tr>\n",
        "    <tr>\n",
        "      <th>2011-11-01 08:06:00</th>\n",
        "      <td>      NaN</td>\n",
        "      <td>      NaN</td>\n",
        "      <td>      NaN</td>\n",
        "      <td>      NaN</td>\n",
        "    </tr>\n",
        "    <tr>\n",
        "      <th>2011-11-01 08:07:00</th>\n",
        "      <td>      NaN</td>\n",
        "      <td>      NaN</td>\n",
        "      <td>      NaN</td>\n",
        "      <td>      NaN</td>\n",
        "    </tr>\n",
        "    <tr>\n",
        "      <th>2011-11-01 08:08:00</th>\n",
        "      <td>      NaN</td>\n",
        "      <td>      NaN</td>\n",
        "      <td>      NaN</td>\n",
        "      <td>      NaN</td>\n",
        "    </tr>\n",
        "    <tr>\n",
        "      <th>2011-11-01 08:09:00</th>\n",
        "      <td>      NaN</td>\n",
        "      <td>      NaN</td>\n",
        "      <td>      NaN</td>\n",
        "      <td>      NaN</td>\n",
        "    </tr>\n",
        "    <tr>\n",
        "      <th>2011-11-01 08:10:00</th>\n",
        "      <td>      NaN</td>\n",
        "      <td>      NaN</td>\n",
        "      <td>      NaN</td>\n",
        "      <td>      NaN</td>\n",
        "    </tr>\n",
        "    <tr>\n",
        "      <th>2011-11-01 08:11:00</th>\n",
        "      <td>      NaN</td>\n",
        "      <td>      NaN</td>\n",
        "      <td>      NaN</td>\n",
        "      <td>      NaN</td>\n",
        "    </tr>\n",
        "    <tr>\n",
        "      <th>2011-11-01 08:12:00</th>\n",
        "      <td>      NaN</td>\n",
        "      <td>      NaN</td>\n",
        "      <td>      NaN</td>\n",
        "      <td>      NaN</td>\n",
        "    </tr>\n",
        "    <tr>\n",
        "      <th>2011-11-01 08:13:00</th>\n",
        "      <td>      NaN</td>\n",
        "      <td>      NaN</td>\n",
        "      <td>      NaN</td>\n",
        "      <td>      NaN</td>\n",
        "    </tr>\n",
        "    <tr>\n",
        "      <th>2011-11-01 08:14:00</th>\n",
        "      <td>      NaN</td>\n",
        "      <td>      NaN</td>\n",
        "      <td>      NaN</td>\n",
        "      <td>      NaN</td>\n",
        "    </tr>\n",
        "    <tr>\n",
        "      <th>2011-11-01 08:15:00</th>\n",
        "      <td>      NaN</td>\n",
        "      <td>      NaN</td>\n",
        "      <td>      NaN</td>\n",
        "      <td>      NaN</td>\n",
        "    </tr>\n",
        "    <tr>\n",
        "      <th>2011-11-01 08:16:00</th>\n",
        "      <td>      NaN</td>\n",
        "      <td>      NaN</td>\n",
        "      <td>      NaN</td>\n",
        "      <td>      NaN</td>\n",
        "    </tr>\n",
        "    <tr>\n",
        "      <th>2011-11-01 08:17:00</th>\n",
        "      <td>      NaN</td>\n",
        "      <td>      NaN</td>\n",
        "      <td>      NaN</td>\n",
        "      <td>      NaN</td>\n",
        "    </tr>\n",
        "    <tr>\n",
        "      <th>2011-11-01 08:18:00</th>\n",
        "      <td>      NaN</td>\n",
        "      <td>      NaN</td>\n",
        "      <td>      NaN</td>\n",
        "      <td>      NaN</td>\n",
        "    </tr>\n",
        "    <tr>\n",
        "      <th>2011-11-01 08:19:00</th>\n",
        "      <td>      NaN</td>\n",
        "      <td>      NaN</td>\n",
        "      <td>      NaN</td>\n",
        "      <td>      NaN</td>\n",
        "    </tr>\n",
        "    <tr>\n",
        "      <th>2011-11-01 08:20:00</th>\n",
        "      <td>      NaN</td>\n",
        "      <td>      NaN</td>\n",
        "      <td>      NaN</td>\n",
        "      <td>      NaN</td>\n",
        "    </tr>\n",
        "    <tr>\n",
        "      <th>2011-11-01 08:21:00</th>\n",
        "      <td>      NaN</td>\n",
        "      <td>      NaN</td>\n",
        "      <td>      NaN</td>\n",
        "      <td>      NaN</td>\n",
        "    </tr>\n",
        "    <tr>\n",
        "      <th>2011-11-01 08:22:00</th>\n",
        "      <td>      NaN</td>\n",
        "      <td>      NaN</td>\n",
        "      <td>      NaN</td>\n",
        "      <td>      NaN</td>\n",
        "    </tr>\n",
        "    <tr>\n",
        "      <th>2011-11-01 08:23:00</th>\n",
        "      <td>      NaN</td>\n",
        "      <td>      NaN</td>\n",
        "      <td>      NaN</td>\n",
        "      <td>      NaN</td>\n",
        "    </tr>\n",
        "    <tr>\n",
        "      <th>2011-11-01 08:24:00</th>\n",
        "      <td>      NaN</td>\n",
        "      <td>      NaN</td>\n",
        "      <td>      NaN</td>\n",
        "      <td>      NaN</td>\n",
        "    </tr>\n",
        "    <tr>\n",
        "      <th>2011-11-01 08:25:00</th>\n",
        "      <td>      NaN</td>\n",
        "      <td>      NaN</td>\n",
        "      <td>      NaN</td>\n",
        "      <td>      NaN</td>\n",
        "    </tr>\n",
        "    <tr>\n",
        "      <th>2011-11-01 08:26:00</th>\n",
        "      <td>      NaN</td>\n",
        "      <td>      NaN</td>\n",
        "      <td>      NaN</td>\n",
        "      <td>      NaN</td>\n",
        "    </tr>\n",
        "    <tr>\n",
        "      <th>2011-11-01 08:27:00</th>\n",
        "      <td>      NaN</td>\n",
        "      <td>      NaN</td>\n",
        "      <td>      NaN</td>\n",
        "      <td>      NaN</td>\n",
        "    </tr>\n",
        "    <tr>\n",
        "      <th>2011-11-01 08:28:00</th>\n",
        "      <td>      NaN</td>\n",
        "      <td>      NaN</td>\n",
        "      <td>      NaN</td>\n",
        "      <td>      NaN</td>\n",
        "    </tr>\n",
        "    <tr>\n",
        "      <th>2011-11-01 08:29:00</th>\n",
        "      <td>      NaN</td>\n",
        "      <td>      NaN</td>\n",
        "      <td>      NaN</td>\n",
        "      <td>      NaN</td>\n",
        "    </tr>\n",
        "    <tr>\n",
        "      <th>2011-11-01 08:30:00</th>\n",
        "      <td>      NaN</td>\n",
        "      <td>      NaN</td>\n",
        "      <td>      NaN</td>\n",
        "      <td>      NaN</td>\n",
        "    </tr>\n",
        "    <tr>\n",
        "      <th>2011-11-01 08:31:00</th>\n",
        "      <td>      NaN</td>\n",
        "      <td>      NaN</td>\n",
        "      <td>      NaN</td>\n",
        "      <td>      NaN</td>\n",
        "    </tr>\n",
        "    <tr>\n",
        "      <th>2011-11-01 08:32:00</th>\n",
        "      <td>      NaN</td>\n",
        "      <td>      NaN</td>\n",
        "      <td>      NaN</td>\n",
        "      <td>      NaN</td>\n",
        "    </tr>\n",
        "    <tr>\n",
        "      <th>2011-11-01 08:33:00</th>\n",
        "      <td>      NaN</td>\n",
        "      <td>      NaN</td>\n",
        "      <td>      NaN</td>\n",
        "      <td>      NaN</td>\n",
        "    </tr>\n",
        "    <tr>\n",
        "      <th>...</th>\n",
        "      <td>...</td>\n",
        "      <td>...</td>\n",
        "      <td>...</td>\n",
        "      <td>...</td>\n",
        "    </tr>\n",
        "    <tr>\n",
        "      <th>2011-11-03 15:40:00</th>\n",
        "      <td> 103.8320</td>\n",
        "      <td> 103.8400</td>\n",
        "      <td> 103.8300</td>\n",
        "      <td> 103.8390</td>\n",
        "    </tr>\n",
        "    <tr>\n",
        "      <th>2011-11-03 15:41:00</th>\n",
        "      <td> 103.8599</td>\n",
        "      <td> 103.8700</td>\n",
        "      <td> 103.8510</td>\n",
        "      <td> 103.8510</td>\n",
        "    </tr>\n",
        "    <tr>\n",
        "      <th>2011-11-03 15:42:00</th>\n",
        "      <td> 103.8795</td>\n",
        "      <td> 103.8795</td>\n",
        "      <td> 103.8795</td>\n",
        "      <td> 103.8795</td>\n",
        "    </tr>\n",
        "    <tr>\n",
        "      <th>2011-11-03 15:43:00</th>\n",
        "      <td> 103.8790</td>\n",
        "      <td> 103.8790</td>\n",
        "      <td> 103.8630</td>\n",
        "      <td> 103.8630</td>\n",
        "    </tr>\n",
        "    <tr>\n",
        "      <th>2011-11-03 15:44:00</th>\n",
        "      <td> 103.8400</td>\n",
        "      <td> 103.8400</td>\n",
        "      <td> 103.8400</td>\n",
        "      <td> 103.8400</td>\n",
        "    </tr>\n",
        "    <tr>\n",
        "      <th>2011-11-03 15:45:00</th>\n",
        "      <td> 103.8301</td>\n",
        "      <td> 103.8432</td>\n",
        "      <td> 103.8301</td>\n",
        "      <td> 103.8400</td>\n",
        "    </tr>\n",
        "    <tr>\n",
        "      <th>2011-11-03 15:46:00</th>\n",
        "      <td> 103.8500</td>\n",
        "      <td> 103.8600</td>\n",
        "      <td> 103.8500</td>\n",
        "      <td> 103.8600</td>\n",
        "    </tr>\n",
        "    <tr>\n",
        "      <th>2011-11-03 15:47:00</th>\n",
        "      <td> 103.8600</td>\n",
        "      <td> 103.8600</td>\n",
        "      <td> 103.8600</td>\n",
        "      <td> 103.8600</td>\n",
        "    </tr>\n",
        "    <tr>\n",
        "      <th>2011-11-03 15:48:00</th>\n",
        "      <td> 103.8500</td>\n",
        "      <td> 103.8600</td>\n",
        "      <td> 103.8500</td>\n",
        "      <td> 103.8600</td>\n",
        "    </tr>\n",
        "    <tr>\n",
        "      <th>2011-11-03 15:49:00</th>\n",
        "      <td>      NaN</td>\n",
        "      <td>      NaN</td>\n",
        "      <td>      NaN</td>\n",
        "      <td>      NaN</td>\n",
        "    </tr>\n",
        "    <tr>\n",
        "      <th>2011-11-03 15:50:00</th>\n",
        "      <td> 103.8500</td>\n",
        "      <td> 103.8500</td>\n",
        "      <td> 103.8400</td>\n",
        "      <td> 103.8500</td>\n",
        "    </tr>\n",
        "    <tr>\n",
        "      <th>2011-11-03 15:51:00</th>\n",
        "      <td> 103.8501</td>\n",
        "      <td> 103.8501</td>\n",
        "      <td> 103.8501</td>\n",
        "      <td> 103.8501</td>\n",
        "    </tr>\n",
        "    <tr>\n",
        "      <th>2011-11-03 15:52:00</th>\n",
        "      <td> 103.8600</td>\n",
        "      <td> 103.8600</td>\n",
        "      <td> 103.8600</td>\n",
        "      <td> 103.8600</td>\n",
        "    </tr>\n",
        "    <tr>\n",
        "      <th>2011-11-03 15:53:00</th>\n",
        "      <td> 103.8700</td>\n",
        "      <td> 103.8700</td>\n",
        "      <td> 103.8700</td>\n",
        "      <td> 103.8700</td>\n",
        "    </tr>\n",
        "    <tr>\n",
        "      <th>2011-11-03 15:54:00</th>\n",
        "      <td> 103.8628</td>\n",
        "      <td> 103.8690</td>\n",
        "      <td> 103.8628</td>\n",
        "      <td> 103.8690</td>\n",
        "    </tr>\n",
        "    <tr>\n",
        "      <th>2011-11-03 15:55:00</th>\n",
        "      <td> 103.8700</td>\n",
        "      <td> 103.8700</td>\n",
        "      <td> 103.8300</td>\n",
        "      <td> 103.8300</td>\n",
        "    </tr>\n",
        "    <tr>\n",
        "      <th>2011-11-03 15:56:00</th>\n",
        "      <td> 103.8300</td>\n",
        "      <td> 103.8300</td>\n",
        "      <td> 103.8300</td>\n",
        "      <td> 103.8300</td>\n",
        "    </tr>\n",
        "    <tr>\n",
        "      <th>2011-11-03 15:57:00</th>\n",
        "      <td> 103.8400</td>\n",
        "      <td> 103.8400</td>\n",
        "      <td> 103.8300</td>\n",
        "      <td> 103.8300</td>\n",
        "    </tr>\n",
        "    <tr>\n",
        "      <th>2011-11-03 15:58:00</th>\n",
        "      <td> 103.8201</td>\n",
        "      <td> 103.8500</td>\n",
        "      <td> 103.8200</td>\n",
        "      <td> 103.8500</td>\n",
        "    </tr>\n",
        "    <tr>\n",
        "      <th>2011-11-03 15:59:00</th>\n",
        "      <td> 103.8400</td>\n",
        "      <td> 103.8500</td>\n",
        "      <td> 103.8200</td>\n",
        "      <td> 103.8200</td>\n",
        "    </tr>\n",
        "    <tr>\n",
        "      <th>2011-11-03 16:00:00</th>\n",
        "      <td> 103.8000</td>\n",
        "      <td> 103.8600</td>\n",
        "      <td> 103.8000</td>\n",
        "      <td> 103.8600</td>\n",
        "    </tr>\n",
        "    <tr>\n",
        "      <th>2011-11-03 16:01:00</th>\n",
        "      <td>      NaN</td>\n",
        "      <td>      NaN</td>\n",
        "      <td>      NaN</td>\n",
        "      <td>      NaN</td>\n",
        "    </tr>\n",
        "    <tr>\n",
        "      <th>2011-11-03 16:02:00</th>\n",
        "      <td>      NaN</td>\n",
        "      <td>      NaN</td>\n",
        "      <td>      NaN</td>\n",
        "      <td>      NaN</td>\n",
        "    </tr>\n",
        "    <tr>\n",
        "      <th>2011-11-03 16:03:00</th>\n",
        "      <td>      NaN</td>\n",
        "      <td>      NaN</td>\n",
        "      <td>      NaN</td>\n",
        "      <td>      NaN</td>\n",
        "    </tr>\n",
        "    <tr>\n",
        "      <th>2011-11-03 16:04:00</th>\n",
        "      <td>      NaN</td>\n",
        "      <td>      NaN</td>\n",
        "      <td>      NaN</td>\n",
        "      <td>      NaN</td>\n",
        "    </tr>\n",
        "    <tr>\n",
        "      <th>2011-11-03 16:05:00</th>\n",
        "      <td>      NaN</td>\n",
        "      <td>      NaN</td>\n",
        "      <td>      NaN</td>\n",
        "      <td>      NaN</td>\n",
        "    </tr>\n",
        "    <tr>\n",
        "      <th>2011-11-03 16:06:00</th>\n",
        "      <td> 103.8000</td>\n",
        "      <td> 103.8000</td>\n",
        "      <td> 103.8000</td>\n",
        "      <td> 103.8000</td>\n",
        "    </tr>\n",
        "    <tr>\n",
        "      <th>2011-11-03 16:07:00</th>\n",
        "      <td>      NaN</td>\n",
        "      <td>      NaN</td>\n",
        "      <td>      NaN</td>\n",
        "      <td>      NaN</td>\n",
        "    </tr>\n",
        "    <tr>\n",
        "      <th>2011-11-03 16:08:00</th>\n",
        "      <td>      NaN</td>\n",
        "      <td>      NaN</td>\n",
        "      <td>      NaN</td>\n",
        "      <td>      NaN</td>\n",
        "    </tr>\n",
        "    <tr>\n",
        "      <th>2011-11-03 16:09:00</th>\n",
        "      <td> 103.8100</td>\n",
        "      <td> 103.8100</td>\n",
        "      <td> 103.8100</td>\n",
        "      <td> 103.8100</td>\n",
        "    </tr>\n",
        "  </tbody>\n",
        "</table>\n",
        "<p>3366 rows \u00d7 4 columns</p>\n",
        "</div>"
       ],
       "metadata": {},
       "output_type": "pyout",
       "prompt_number": 9,
       "text": [
        "                         open      high       low     close\n",
        "Timestamp                                                  \n",
        "2011-11-01 08:04:00  104.5500  104.5500  104.5500  104.5500\n",
        "2011-11-01 08:05:00       NaN       NaN       NaN       NaN\n",
        "2011-11-01 08:06:00       NaN       NaN       NaN       NaN\n",
        "2011-11-01 08:07:00       NaN       NaN       NaN       NaN\n",
        "2011-11-01 08:08:00       NaN       NaN       NaN       NaN\n",
        "2011-11-01 08:09:00       NaN       NaN       NaN       NaN\n",
        "2011-11-01 08:10:00       NaN       NaN       NaN       NaN\n",
        "2011-11-01 08:11:00       NaN       NaN       NaN       NaN\n",
        "2011-11-01 08:12:00       NaN       NaN       NaN       NaN\n",
        "2011-11-01 08:13:00       NaN       NaN       NaN       NaN\n",
        "2011-11-01 08:14:00       NaN       NaN       NaN       NaN\n",
        "2011-11-01 08:15:00       NaN       NaN       NaN       NaN\n",
        "2011-11-01 08:16:00       NaN       NaN       NaN       NaN\n",
        "2011-11-01 08:17:00       NaN       NaN       NaN       NaN\n",
        "2011-11-01 08:18:00       NaN       NaN       NaN       NaN\n",
        "2011-11-01 08:19:00       NaN       NaN       NaN       NaN\n",
        "2011-11-01 08:20:00       NaN       NaN       NaN       NaN\n",
        "2011-11-01 08:21:00       NaN       NaN       NaN       NaN\n",
        "2011-11-01 08:22:00       NaN       NaN       NaN       NaN\n",
        "2011-11-01 08:23:00       NaN       NaN       NaN       NaN\n",
        "2011-11-01 08:24:00       NaN       NaN       NaN       NaN\n",
        "2011-11-01 08:25:00       NaN       NaN       NaN       NaN\n",
        "2011-11-01 08:26:00       NaN       NaN       NaN       NaN\n",
        "2011-11-01 08:27:00       NaN       NaN       NaN       NaN\n",
        "2011-11-01 08:28:00       NaN       NaN       NaN       NaN\n",
        "2011-11-01 08:29:00       NaN       NaN       NaN       NaN\n",
        "2011-11-01 08:30:00       NaN       NaN       NaN       NaN\n",
        "2011-11-01 08:31:00       NaN       NaN       NaN       NaN\n",
        "2011-11-01 08:32:00       NaN       NaN       NaN       NaN\n",
        "2011-11-01 08:33:00       NaN       NaN       NaN       NaN\n",
        "...                       ...       ...       ...       ...\n",
        "2011-11-03 15:40:00  103.8320  103.8400  103.8300  103.8390\n",
        "2011-11-03 15:41:00  103.8599  103.8700  103.8510  103.8510\n",
        "2011-11-03 15:42:00  103.8795  103.8795  103.8795  103.8795\n",
        "2011-11-03 15:43:00  103.8790  103.8790  103.8630  103.8630\n",
        "2011-11-03 15:44:00  103.8400  103.8400  103.8400  103.8400\n",
        "2011-11-03 15:45:00  103.8301  103.8432  103.8301  103.8400\n",
        "2011-11-03 15:46:00  103.8500  103.8600  103.8500  103.8600\n",
        "2011-11-03 15:47:00  103.8600  103.8600  103.8600  103.8600\n",
        "2011-11-03 15:48:00  103.8500  103.8600  103.8500  103.8600\n",
        "2011-11-03 15:49:00       NaN       NaN       NaN       NaN\n",
        "2011-11-03 15:50:00  103.8500  103.8500  103.8400  103.8500\n",
        "2011-11-03 15:51:00  103.8501  103.8501  103.8501  103.8501\n",
        "2011-11-03 15:52:00  103.8600  103.8600  103.8600  103.8600\n",
        "2011-11-03 15:53:00  103.8700  103.8700  103.8700  103.8700\n",
        "2011-11-03 15:54:00  103.8628  103.8690  103.8628  103.8690\n",
        "2011-11-03 15:55:00  103.8700  103.8700  103.8300  103.8300\n",
        "2011-11-03 15:56:00  103.8300  103.8300  103.8300  103.8300\n",
        "2011-11-03 15:57:00  103.8400  103.8400  103.8300  103.8300\n",
        "2011-11-03 15:58:00  103.8201  103.8500  103.8200  103.8500\n",
        "2011-11-03 15:59:00  103.8400  103.8500  103.8200  103.8200\n",
        "2011-11-03 16:00:00  103.8000  103.8600  103.8000  103.8600\n",
        "2011-11-03 16:01:00       NaN       NaN       NaN       NaN\n",
        "2011-11-03 16:02:00       NaN       NaN       NaN       NaN\n",
        "2011-11-03 16:03:00       NaN       NaN       NaN       NaN\n",
        "2011-11-03 16:04:00       NaN       NaN       NaN       NaN\n",
        "2011-11-03 16:05:00       NaN       NaN       NaN       NaN\n",
        "2011-11-03 16:06:00  103.8000  103.8000  103.8000  103.8000\n",
        "2011-11-03 16:07:00       NaN       NaN       NaN       NaN\n",
        "2011-11-03 16:08:00       NaN       NaN       NaN       NaN\n",
        "2011-11-03 16:09:00  103.8100  103.8100  103.8100  103.8100\n",
        "\n",
        "[3366 rows x 4 columns]"
       ]
      }
     ],
     "prompt_number": 9
    },
    {
     "cell_type": "code",
     "collapsed": false,
     "input": [
      "minute_range = bars.high - bars.low\n",
      "minute_range.describe()"
     ],
     "language": "python",
     "metadata": {},
     "outputs": [
      {
       "metadata": {},
       "output_type": "pyout",
       "prompt_number": 10,
       "text": [
        "count    1104.000000\n",
        "mean        0.017898\n",
        "std         0.018568\n",
        "min         0.000000\n",
        "25%         0.000875\n",
        "50%         0.013900\n",
        "75%         0.029000\n",
        "max         0.150000\n",
        "dtype: float64"
       ]
      }
     ],
     "prompt_number": 10
    },
    {
     "cell_type": "code",
     "collapsed": false,
     "input": [
      "minute_return = bars.close / bars.open - 1\n",
      "minute_return.describe()"
     ],
     "language": "python",
     "metadata": {},
     "outputs": [
      {
       "metadata": {},
       "output_type": "pyout",
       "prompt_number": 11,
       "text": [
        "count    1104.000000\n",
        "mean        0.000003\n",
        "std         0.000191\n",
        "min        -0.001442\n",
        "25%        -0.000096\n",
        "50%         0.000000\n",
        "75%         0.000096\n",
        "max         0.000962\n",
        "dtype: float64"
       ]
      }
     ],
     "prompt_number": 11
    },
    {
     "cell_type": "markdown",
     "metadata": {},
     "source": [
      "Compute a VWAP using resample"
     ]
    },
    {
     "cell_type": "code",
     "collapsed": false,
     "input": [
      "volume = ticks.Volume.resample('1min', how='sum')\n",
      "value = ticks.prod(axis=1).resample('1min', how='sum')\n",
      "vwap = value / volume"
     ],
     "language": "python",
     "metadata": {},
     "outputs": [],
     "prompt_number": 12
    },
    {
     "cell_type": "markdown",
     "metadata": {},
     "source": [
      "####Convenient indexing for time series data"
     ]
    },
    {
     "cell_type": "code",
     "collapsed": false,
     "input": [
      "vwap.ix['2011-11-01 09:27':'2011-11-01 09:32']"
     ],
     "language": "python",
     "metadata": {},
     "outputs": [
      {
       "metadata": {},
       "output_type": "pyout",
       "prompt_number": 13,
       "text": [
        "Timestamp\n",
        "2011-11-01 09:27:00           NaN\n",
        "2011-11-01 09:28:00    104.170000\n",
        "2011-11-01 09:29:00    103.300800\n",
        "2011-11-01 09:30:00    104.231368\n",
        "2011-11-01 09:31:00    104.236679\n",
        "2011-11-01 09:32:00    104.210000\n",
        "Freq: T, dtype: float64"
       ]
      }
     ],
     "prompt_number": 13
    },
    {
     "cell_type": "markdown",
     "metadata": {},
     "source": [
      "####`at_time`: same (b)at_time (same bat channel)"
     ]
    },
    {
     "cell_type": "code",
     "collapsed": false,
     "input": [
      "bars.open.at_time('9:30')"
     ],
     "language": "python",
     "metadata": {},
     "outputs": [
      {
       "metadata": {},
       "output_type": "pyout",
       "prompt_number": 14,
       "text": [
        "Timestamp\n",
        "2011-11-01 09:30:00    104.23\n",
        "2011-11-02 09:30:00    103.90\n",
        "2011-11-03 09:30:00    103.80\n",
        "Name: open, dtype: float64"
       ]
      }
     ],
     "prompt_number": 14
    },
    {
     "cell_type": "code",
     "collapsed": false,
     "input": [
      "bars.close.at_time('16:00')"
     ],
     "language": "python",
     "metadata": {},
     "outputs": [
      {
       "metadata": {},
       "output_type": "pyout",
       "prompt_number": 15,
       "text": [
        "Timestamp\n",
        "2011-11-01 16:00:00    104.57\n",
        "2011-11-02 16:00:00    104.29\n",
        "2011-11-03 16:00:00    103.86\n",
        "Name: close, dtype: float64"
       ]
      }
     ],
     "prompt_number": 15
    },
    {
     "cell_type": "markdown",
     "metadata": {},
     "source": [
      "####`between_time`: intraday time range"
     ]
    },
    {
     "cell_type": "code",
     "collapsed": false,
     "input": [
      "filtered = vwap.between_time('10:00', '16:00')\n",
      "filtered.head(20)"
     ],
     "language": "python",
     "metadata": {},
     "outputs": [
      {
       "metadata": {},
       "output_type": "pyout",
       "prompt_number": 16,
       "text": [
        "Timestamp\n",
        "2011-11-01 10:00:00    104.245387\n",
        "2011-11-01 10:01:00    104.170771\n",
        "2011-11-01 10:02:00    104.170000\n",
        "2011-11-01 10:03:00    104.160952\n",
        "2011-11-01 10:04:00    104.110870\n",
        "2011-11-01 10:05:00    104.093576\n",
        "2011-11-01 10:06:00    104.145132\n",
        "2011-11-01 10:07:00    104.157924\n",
        "2011-11-01 10:08:00    104.154646\n",
        "2011-11-01 10:09:00    104.150756\n",
        "2011-11-01 10:10:00    104.182591\n",
        "2011-11-01 10:11:00    104.116803\n",
        "2011-11-01 10:12:00    104.092174\n",
        "2011-11-01 10:13:00    104.067768\n",
        "2011-11-01 10:14:00    104.070000\n",
        "2011-11-01 10:15:00    104.073333\n",
        "2011-11-01 10:16:00    104.080906\n",
        "2011-11-01 10:17:00    104.082566\n",
        "2011-11-01 10:18:00    104.085140\n",
        "2011-11-01 10:19:00    104.084613\n",
        "dtype: float64"
       ]
      }
     ],
     "prompt_number": 16
    },
    {
     "cell_type": "code",
     "collapsed": false,
     "input": [
      "vol = volume.between_time('10:00', '16:00')\n",
      "vol.head(20)"
     ],
     "language": "python",
     "metadata": {},
     "outputs": [
      {
       "metadata": {},
       "output_type": "pyout",
       "prompt_number": 17,
       "text": [
        "Timestamp\n",
        "2011-11-01 10:00:00    18767\n",
        "2011-11-01 10:01:00    67287\n",
        "2011-11-01 10:02:00     2000\n",
        "2011-11-01 10:03:00     2100\n",
        "2011-11-01 10:04:00     2300\n",
        "2011-11-01 10:05:00    11509\n",
        "2011-11-01 10:06:00     3526\n",
        "2011-11-01 10:07:00      734\n",
        "2011-11-01 10:08:00     1106\n",
        "2011-11-01 10:09:00     1800\n",
        "2011-11-01 10:10:00     1760\n",
        "2011-11-01 10:11:00     2961\n",
        "2011-11-01 10:12:00     2300\n",
        "2011-11-01 10:13:00     5818\n",
        "2011-11-01 10:14:00      200\n",
        "2011-11-01 10:15:00      600\n",
        "2011-11-01 10:16:00     1040\n",
        "2011-11-01 10:17:00     1576\n",
        "2011-11-01 10:18:00     2813\n",
        "2011-11-01 10:19:00      640\n",
        "Name: Volume, dtype: float64"
       ]
      }
     ],
     "prompt_number": 17
    },
    {
     "cell_type": "markdown",
     "metadata": {},
     "source": [
      "####`fillna`: handling missing data"
     ]
    },
    {
     "cell_type": "code",
     "collapsed": false,
     "input": [
      "filtered.ix['2011-11-03':'2011-11-04'].head(20)"
     ],
     "language": "python",
     "metadata": {},
     "outputs": [
      {
       "metadata": {},
       "output_type": "pyout",
       "prompt_number": 18,
       "text": [
        "Timestamp\n",
        "2011-11-03 10:00:00    103.968667\n",
        "2011-11-03 10:01:00           NaN\n",
        "2011-11-03 10:02:00    103.997500\n",
        "2011-11-03 10:03:00    104.044295\n",
        "2011-11-03 10:04:00           NaN\n",
        "2011-11-03 10:05:00    104.135118\n",
        "2011-11-03 10:06:00    104.130000\n",
        "2011-11-03 10:07:00    104.120000\n",
        "2011-11-03 10:08:00    104.101250\n",
        "2011-11-03 10:09:00           NaN\n",
        "2011-11-03 10:10:00           NaN\n",
        "2011-11-03 10:11:00           NaN\n",
        "2011-11-03 10:12:00           NaN\n",
        "2011-11-03 10:13:00    104.086667\n",
        "2011-11-03 10:14:00    104.049200\n",
        "2011-11-03 10:15:00    104.028333\n",
        "2011-11-03 10:16:00    103.976438\n",
        "2011-11-03 10:17:00    103.912492\n",
        "2011-11-03 10:18:00           NaN\n",
        "2011-11-03 10:19:00    103.870000\n",
        "dtype: float64"
       ]
      }
     ],
     "prompt_number": 18
    },
    {
     "cell_type": "code",
     "collapsed": false,
     "input": [
      "filled = filtered.fillna(method='pad', limit=1)\n",
      "filled.ix['2011-11-03':'2011-11-04'].head(20)"
     ],
     "language": "python",
     "metadata": {},
     "outputs": [
      {
       "metadata": {},
       "output_type": "pyout",
       "prompt_number": 19,
       "text": [
        "Timestamp\n",
        "2011-11-03 10:00:00    103.968667\n",
        "2011-11-03 10:01:00    103.968667\n",
        "2011-11-03 10:02:00    103.997500\n",
        "2011-11-03 10:03:00    104.044295\n",
        "2011-11-03 10:04:00    104.044295\n",
        "2011-11-03 10:05:00    104.135118\n",
        "2011-11-03 10:06:00    104.130000\n",
        "2011-11-03 10:07:00    104.120000\n",
        "2011-11-03 10:08:00    104.101250\n",
        "2011-11-03 10:09:00    104.101250\n",
        "2011-11-03 10:10:00           NaN\n",
        "2011-11-03 10:11:00           NaN\n",
        "2011-11-03 10:12:00           NaN\n",
        "2011-11-03 10:13:00    104.086667\n",
        "2011-11-03 10:14:00    104.049200\n",
        "2011-11-03 10:15:00    104.028333\n",
        "2011-11-03 10:16:00    103.976438\n",
        "2011-11-03 10:17:00    103.912492\n",
        "2011-11-03 10:18:00    103.912492\n",
        "2011-11-03 10:19:00    103.870000\n",
        "dtype: float64"
       ]
      }
     ],
     "prompt_number": 19
    },
    {
     "cell_type": "code",
     "collapsed": false,
     "input": [
      "vol = vol.fillna(0.)\n",
      "vol.head(20)"
     ],
     "language": "python",
     "metadata": {},
     "outputs": [
      {
       "metadata": {},
       "output_type": "pyout",
       "prompt_number": 20,
       "text": [
        "Timestamp\n",
        "2011-11-01 10:00:00    18767\n",
        "2011-11-01 10:01:00    67287\n",
        "2011-11-01 10:02:00     2000\n",
        "2011-11-01 10:03:00     2100\n",
        "2011-11-01 10:04:00     2300\n",
        "2011-11-01 10:05:00    11509\n",
        "2011-11-01 10:06:00     3526\n",
        "2011-11-01 10:07:00      734\n",
        "2011-11-01 10:08:00     1106\n",
        "2011-11-01 10:09:00     1800\n",
        "2011-11-01 10:10:00     1760\n",
        "2011-11-01 10:11:00     2961\n",
        "2011-11-01 10:12:00     2300\n",
        "2011-11-01 10:13:00     5818\n",
        "2011-11-01 10:14:00      200\n",
        "2011-11-01 10:15:00      600\n",
        "2011-11-01 10:16:00     1040\n",
        "2011-11-01 10:17:00     1576\n",
        "2011-11-01 10:18:00     2813\n",
        "2011-11-01 10:19:00      640\n",
        "Name: Volume, dtype: float64"
       ]
      }
     ],
     "prompt_number": 20
    },
    {
     "cell_type": "markdown",
     "metadata": {},
     "source": [
      "####Simple plotting"
     ]
    },
    {
     "cell_type": "code",
     "collapsed": false,
     "input": [
      "filled.ix['2011-11-03':'2011-11-04'].plot()\n",
      "plt.ylim(103.5, 104.5)"
     ],
     "language": "python",
     "metadata": {},
     "outputs": [
      {
       "metadata": {},
       "output_type": "pyout",
       "prompt_number": 21,
       "text": [
        "(103.5, 104.5)"
       ]
      },
      {
       "metadata": {},
       "output_type": "display_data",
       "png": "[encoded data removed]",
       "text": [
        "<matplotlib.figure.Figure at 0x39243d0>"
       ]
      }
     ],
     "prompt_number": 21
    },
    {
     "cell_type": "code",
     "collapsed": true,
     "input": [
      "vwap.ix['2011-11-03':'2011-11-04'].plot()\n",
      "plt.ylim(103.5, 104.5)\n",
      "vol.ix['2011-11-03':'2011-11-04'].plot(secondary_y=True, style='r')"
     ],
     "language": "python",
     "metadata": {},
     "outputs": [
      {
       "metadata": {},
       "output_type": "pyout",
       "prompt_number": 22,
       "text": [
        "<matplotlib.axes.Axes at 0x7fda5c47e510>"
       ]
      },
      {
       "metadata": {},
       "output_type": "display_data",
       "png": "[encoded data removed]",
       "text": [
        "<matplotlib.figure.Figure at 0x7fda5c13ea90>"
       ]
      }
     ],
     "prompt_number": 22
    },
    {
     "cell_type": "markdown",
     "metadata": {},
     "source": [
      "####Lead/lag"
     ]
    },
    {
     "cell_type": "code",
     "collapsed": false,
     "input": [
      "ticks.head()"
     ],
     "language": "python",
     "metadata": {},
     "outputs": [
      {
       "html": [
        "<div style=\"max-height:1000px;max-width:1500px;overflow:auto;\">\n",
        "<table border=\"1\" class=\"dataframe\">\n",
        "  <thead>\n",
        "    <tr style=\"text-align: right;\">\n",
        "      <th></th>\n",
        "      <th>Price</th>\n",
        "      <th>Volume</th>\n",
        "    </tr>\n",
        "    <tr>\n",
        "      <th>Timestamp</th>\n",
        "      <th></th>\n",
        "      <th></th>\n",
        "    </tr>\n",
        "  </thead>\n",
        "  <tbody>\n",
        "    <tr>\n",
        "      <th>2011-11-01 08:04:56.364000</th>\n",
        "      <td> 104.55</td>\n",
        "      <td>  100</td>\n",
        "    </tr>\n",
        "    <tr>\n",
        "      <th>2011-11-01 08:53:07.459000</th>\n",
        "      <td> 104.43</td>\n",
        "      <td>  150</td>\n",
        "    </tr>\n",
        "    <tr>\n",
        "      <th>2011-11-01 08:53:09.284000</th>\n",
        "      <td> 104.43</td>\n",
        "      <td>  100</td>\n",
        "    </tr>\n",
        "    <tr>\n",
        "      <th>2011-11-01 08:54:03.921000</th>\n",
        "      <td> 104.50</td>\n",
        "      <td>  100</td>\n",
        "    </tr>\n",
        "    <tr>\n",
        "      <th>2011-11-01 08:58:06.162000</th>\n",
        "      <td> 104.46</td>\n",
        "      <td> 1000</td>\n",
        "    </tr>\n",
        "  </tbody>\n",
        "</table>\n",
        "</div>"
       ],
       "metadata": {},
       "output_type": "pyout",
       "prompt_number": 23,
       "text": [
        "                             Price  Volume\n",
        "Timestamp                                 \n",
        "2011-11-01 08:04:56.364000  104.55     100\n",
        "2011-11-01 08:53:07.459000  104.43     150\n",
        "2011-11-01 08:53:09.284000  104.43     100\n",
        "2011-11-01 08:54:03.921000  104.50     100\n",
        "2011-11-01 08:58:06.162000  104.46    1000"
       ]
      }
     ],
     "prompt_number": 23
    },
    {
     "cell_type": "markdown",
     "metadata": {},
     "source": [
      "**`shift`** realigns values"
     ]
    },
    {
     "cell_type": "code",
     "collapsed": false,
     "input": [
      "ticks.shift(1).head()"
     ],
     "language": "python",
     "metadata": {},
     "outputs": [
      {
       "html": [
        "<div style=\"max-height:1000px;max-width:1500px;overflow:auto;\">\n",
        "<table border=\"1\" class=\"dataframe\">\n",
        "  <thead>\n",
        "    <tr style=\"text-align: right;\">\n",
        "      <th></th>\n",
        "      <th>Price</th>\n",
        "      <th>Volume</th>\n",
        "    </tr>\n",
        "    <tr>\n",
        "      <th>Timestamp</th>\n",
        "      <th></th>\n",
        "      <th></th>\n",
        "    </tr>\n",
        "  </thead>\n",
        "  <tbody>\n",
        "    <tr>\n",
        "      <th>2011-11-01 08:04:56.364000</th>\n",
        "      <td>    NaN</td>\n",
        "      <td> NaN</td>\n",
        "    </tr>\n",
        "    <tr>\n",
        "      <th>2011-11-01 08:53:07.459000</th>\n",
        "      <td> 104.55</td>\n",
        "      <td> 100</td>\n",
        "    </tr>\n",
        "    <tr>\n",
        "      <th>2011-11-01 08:53:09.284000</th>\n",
        "      <td> 104.43</td>\n",
        "      <td> 150</td>\n",
        "    </tr>\n",
        "    <tr>\n",
        "      <th>2011-11-01 08:54:03.921000</th>\n",
        "      <td> 104.43</td>\n",
        "      <td> 100</td>\n",
        "    </tr>\n",
        "    <tr>\n",
        "      <th>2011-11-01 08:58:06.162000</th>\n",
        "      <td> 104.50</td>\n",
        "      <td> 100</td>\n",
        "    </tr>\n",
        "  </tbody>\n",
        "</table>\n",
        "</div>"
       ],
       "metadata": {},
       "output_type": "pyout",
       "prompt_number": 24,
       "text": [
        "                             Price  Volume\n",
        "Timestamp                                 \n",
        "2011-11-01 08:04:56.364000     NaN     NaN\n",
        "2011-11-01 08:53:07.459000  104.55     100\n",
        "2011-11-01 08:53:09.284000  104.43     150\n",
        "2011-11-01 08:54:03.921000  104.43     100\n",
        "2011-11-01 08:58:06.162000  104.50     100"
       ]
      }
     ],
     "prompt_number": 24
    },
    {
     "cell_type": "code",
     "collapsed": false,
     "input": [
      "ticks.shift(-1).head()"
     ],
     "language": "python",
     "metadata": {},
     "outputs": [
      {
       "html": [
        "<div style=\"max-height:1000px;max-width:1500px;overflow:auto;\">\n",
        "<table border=\"1\" class=\"dataframe\">\n",
        "  <thead>\n",
        "    <tr style=\"text-align: right;\">\n",
        "      <th></th>\n",
        "      <th>Price</th>\n",
        "      <th>Volume</th>\n",
        "    </tr>\n",
        "    <tr>\n",
        "      <th>Timestamp</th>\n",
        "      <th></th>\n",
        "      <th></th>\n",
        "    </tr>\n",
        "  </thead>\n",
        "  <tbody>\n",
        "    <tr>\n",
        "      <th>2011-11-01 08:04:56.364000</th>\n",
        "      <td> 104.43</td>\n",
        "      <td>  150</td>\n",
        "    </tr>\n",
        "    <tr>\n",
        "      <th>2011-11-01 08:53:07.459000</th>\n",
        "      <td> 104.43</td>\n",
        "      <td>  100</td>\n",
        "    </tr>\n",
        "    <tr>\n",
        "      <th>2011-11-01 08:53:09.284000</th>\n",
        "      <td> 104.50</td>\n",
        "      <td>  100</td>\n",
        "    </tr>\n",
        "    <tr>\n",
        "      <th>2011-11-01 08:54:03.921000</th>\n",
        "      <td> 104.46</td>\n",
        "      <td> 1000</td>\n",
        "    </tr>\n",
        "    <tr>\n",
        "      <th>2011-11-01 08:58:06.162000</th>\n",
        "      <td> 104.46</td>\n",
        "      <td> 1000</td>\n",
        "    </tr>\n",
        "  </tbody>\n",
        "</table>\n",
        "</div>"
       ],
       "metadata": {},
       "output_type": "pyout",
       "prompt_number": 25,
       "text": [
        "                             Price  Volume\n",
        "Timestamp                                 \n",
        "2011-11-01 08:04:56.364000  104.43     150\n",
        "2011-11-01 08:53:07.459000  104.43     100\n",
        "2011-11-01 08:53:09.284000  104.50     100\n",
        "2011-11-01 08:54:03.921000  104.46    1000\n",
        "2011-11-01 08:58:06.162000  104.46    1000"
       ]
      }
     ],
     "prompt_number": 25
    },
    {
     "cell_type": "markdown",
     "metadata": {},
     "source": [
      "**`tshift`** manipulates index values"
     ]
    },
    {
     "cell_type": "code",
     "collapsed": false,
     "input": [
      "ticks.tshift(1, 'min').head()"
     ],
     "language": "python",
     "metadata": {},
     "outputs": [
      {
       "html": [
        "<div style=\"max-height:1000px;max-width:1500px;overflow:auto;\">\n",
        "<table border=\"1\" class=\"dataframe\">\n",
        "  <thead>\n",
        "    <tr style=\"text-align: right;\">\n",
        "      <th></th>\n",
        "      <th>Price</th>\n",
        "      <th>Volume</th>\n",
        "    </tr>\n",
        "    <tr>\n",
        "      <th>Timestamp</th>\n",
        "      <th></th>\n",
        "      <th></th>\n",
        "    </tr>\n",
        "  </thead>\n",
        "  <tbody>\n",
        "    <tr>\n",
        "      <th>2011-11-01 08:05:56.364000</th>\n",
        "      <td> 104.55</td>\n",
        "      <td>  100</td>\n",
        "    </tr>\n",
        "    <tr>\n",
        "      <th>2011-11-01 08:54:07.459000</th>\n",
        "      <td> 104.43</td>\n",
        "      <td>  150</td>\n",
        "    </tr>\n",
        "    <tr>\n",
        "      <th>2011-11-01 08:54:09.284000</th>\n",
        "      <td> 104.43</td>\n",
        "      <td>  100</td>\n",
        "    </tr>\n",
        "    <tr>\n",
        "      <th>2011-11-01 08:55:03.921000</th>\n",
        "      <td> 104.50</td>\n",
        "      <td>  100</td>\n",
        "    </tr>\n",
        "    <tr>\n",
        "      <th>2011-11-01 08:59:06.162000</th>\n",
        "      <td> 104.46</td>\n",
        "      <td> 1000</td>\n",
        "    </tr>\n",
        "  </tbody>\n",
        "</table>\n",
        "</div>"
       ],
       "metadata": {},
       "output_type": "pyout",
       "prompt_number": 26,
       "text": [
        "                             Price  Volume\n",
        "Timestamp                                 \n",
        "2011-11-01 08:05:56.364000  104.55     100\n",
        "2011-11-01 08:54:07.459000  104.43     150\n",
        "2011-11-01 08:54:09.284000  104.43     100\n",
        "2011-11-01 08:55:03.921000  104.50     100\n",
        "2011-11-01 08:59:06.162000  104.46    1000"
       ]
      }
     ],
     "prompt_number": 26
    },
    {
     "cell_type": "markdown",
     "metadata": {},
     "source": [
      "####SSS: stupidly simple strategy"
     ]
    },
    {
     "cell_type": "code",
     "collapsed": false,
     "input": [
      "minute_return.head()"
     ],
     "language": "python",
     "metadata": {},
     "outputs": [
      {
       "metadata": {},
       "output_type": "pyout",
       "prompt_number": 27,
       "text": [
        "Timestamp\n",
        "2011-11-01 08:04:00     0\n",
        "2011-11-01 08:05:00   NaN\n",
        "2011-11-01 08:06:00   NaN\n",
        "2011-11-01 08:07:00   NaN\n",
        "2011-11-01 08:08:00   NaN\n",
        "Freq: T, dtype: float64"
       ]
      }
     ],
     "prompt_number": 27
    },
    {
     "cell_type": "code",
     "collapsed": false,
     "input": [
      "mr = minute_return.between_time('9:30', '16:00')\n",
      "mr.head()"
     ],
     "language": "python",
     "metadata": {},
     "outputs": [
      {
       "metadata": {},
       "output_type": "pyout",
       "prompt_number": 28,
       "text": [
        "Timestamp\n",
        "2011-11-01 09:30:00    0.000192\n",
        "2011-11-01 09:31:00   -0.000192\n",
        "2011-11-01 09:32:00    0.000000\n",
        "2011-11-01 09:33:00   -0.000096\n",
        "2011-11-01 09:34:00    0.000000\n",
        "dtype: float64"
       ]
      }
     ],
     "prompt_number": 28
    },
    {
     "cell_type": "code",
     "collapsed": false,
     "input": [
      "lagged = mr.shift(1)\n",
      "lagged.head()"
     ],
     "language": "python",
     "metadata": {},
     "outputs": [
      {
       "metadata": {},
       "output_type": "pyout",
       "prompt_number": 29,
       "text": [
        "Timestamp\n",
        "2011-11-01 09:30:00         NaN\n",
        "2011-11-01 09:31:00    0.000192\n",
        "2011-11-01 09:32:00   -0.000192\n",
        "2011-11-01 09:33:00    0.000000\n",
        "2011-11-01 09:34:00   -0.000096\n",
        "dtype: float64"
       ]
      }
     ],
     "prompt_number": 29
    },
    {
     "cell_type": "markdown",
     "metadata": {},
     "source": [
      "We shouldn't use shift here because:"
     ]
    },
    {
     "cell_type": "code",
     "collapsed": false,
     "input": [
      "lagged.at_time('9:30')"
     ],
     "language": "python",
     "metadata": {},
     "outputs": [
      {
       "metadata": {},
       "output_type": "pyout",
       "prompt_number": 30,
       "text": [
        "Timestamp\n",
        "2011-11-01 09:30:00        NaN\n",
        "2011-11-02 09:30:00    0.00067\n",
        "2011-11-03 09:30:00    0.00000\n",
        "dtype: float64"
       ]
      }
     ],
     "prompt_number": 30
    },
    {
     "cell_type": "code",
     "collapsed": false,
     "input": [
      "mr.at_time('16:00')"
     ],
     "language": "python",
     "metadata": {},
     "outputs": [
      {
       "metadata": {},
       "output_type": "pyout",
       "prompt_number": 31,
       "text": [
        "Timestamp\n",
        "2011-11-01 16:00:00    0.000670\n",
        "2011-11-02 16:00:00    0.000000\n",
        "2011-11-03 16:00:00    0.000578\n",
        "dtype: float64"
       ]
      }
     ],
     "prompt_number": 31
    },
    {
     "cell_type": "code",
     "collapsed": false,
     "input": [
      "lagged = minute_return.tshift(1, 'min').between_time('9:30', '16:00')\n",
      "lagged.at_time('9:30')"
     ],
     "language": "python",
     "metadata": {},
     "outputs": [
      {
       "metadata": {},
       "output_type": "pyout",
       "prompt_number": 32,
       "text": [
        "Timestamp\n",
        "2011-11-01 09:30:00     0\n",
        "2011-11-02 09:30:00     0\n",
        "2011-11-03 09:30:00   NaN\n",
        "dtype: float64"
       ]
      }
     ],
     "prompt_number": 32
    },
    {
     "cell_type": "markdown",
     "metadata": {},
     "source": [
      "Let's play"
     ]
    },
    {
     "cell_type": "code",
     "collapsed": false,
     "input": [
      "pd.ols(y=mr, x=lagged)"
     ],
     "language": "python",
     "metadata": {},
     "outputs": [
      {
       "metadata": {},
       "output_type": "pyout",
       "prompt_number": 33,
       "text": [
        "\n",
        "-------------------------Summary of Regression Analysis-------------------------\n",
        "\n",
        "Formula: Y ~ <x> + <intercept>\n",
        "\n",
        "Number of Observations:         1010\n",
        "Number of Degrees of Freedom:   2\n",
        "\n",
        "R-squared:         0.0011\n",
        "Adj R-squared:     0.0001\n",
        "\n",
        "Rmse:              0.0002\n",
        "\n",
        "F-stat (1, 1008):     1.0983, p-value:     0.2949\n",
        "\n",
        "Degrees of Freedom: model 1, resid 1008\n",
        "\n",
        "-----------------------Summary of Estimated Coefficients------------------------\n",
        "      Variable       Coef    Std Err     t-stat    p-value    CI 2.5%   CI 97.5%\n",
        "--------------------------------------------------------------------------------\n",
        "             x     0.0340     0.0325       1.05     0.2949    -0.0296     0.0977\n",
        "     intercept     0.0000     0.0000       0.70     0.4845    -0.0000     0.0000\n",
        "---------------------------------End of Summary---------------------------------"
       ]
      }
     ],
     "prompt_number": 33
    },
    {
     "cell_type": "code",
     "collapsed": false,
     "input": [
      "mr = vwap / bars.open - 1\n",
      "mr = mr.between_time('9:30', '16:00')\n",
      "lagged = mr.tshift(1, 'min').between_time('9:30', '16:00')\n",
      "pd.ols(y=mr, x=lagged)"
     ],
     "language": "python",
     "metadata": {},
     "outputs": [
      {
       "metadata": {},
       "output_type": "pyout",
       "prompt_number": 34,
       "text": [
        "\n",
        "-------------------------Summary of Regression Analysis-------------------------\n",
        "\n",
        "Formula: Y ~ <x> + <intercept>\n",
        "\n",
        "Number of Observations:         1008\n",
        "Number of Degrees of Freedom:   2\n",
        "\n",
        "R-squared:         0.0024\n",
        "Adj R-squared:     0.0014\n",
        "\n",
        "Rmse:              0.0001\n",
        "\n",
        "F-stat (1, 1006):     2.4289, p-value:     0.1194\n",
        "\n",
        "Degrees of Freedom: model 1, resid 1006\n",
        "\n",
        "-----------------------Summary of Estimated Coefficients------------------------\n",
        "      Variable       Coef    Std Err     t-stat    p-value    CI 2.5%   CI 97.5%\n",
        "--------------------------------------------------------------------------------\n",
        "             x     0.0503     0.0323       1.56     0.1194    -0.0129     0.1135\n",
        "     intercept     0.0000     0.0000       0.67     0.5050    -0.0000     0.0000\n",
        "---------------------------------End of Summary---------------------------------"
       ]
      }
     ],
     "prompt_number": 34
    },
    {
     "cell_type": "code",
     "collapsed": false,
     "input": [
      "inter = mr * vol\n",
      "inter = inter.between_time('9:30', '16:00')\n",
      "lagged_inter = inter.tshift(1, 'min').between_time('9:30', '16:00')\n",
      "pd.ols(y=mr, x=lagged_inter)"
     ],
     "language": "python",
     "metadata": {},
     "outputs": [
      {
       "metadata": {},
       "output_type": "pyout",
       "prompt_number": 35,
       "text": [
        "\n",
        "-------------------------Summary of Regression Analysis-------------------------\n",
        "\n",
        "Formula: Y ~ <x> + <intercept>\n",
        "\n",
        "Number of Observations:         920\n",
        "Number of Degrees of Freedom:   2\n",
        "\n",
        "R-squared:         0.0057\n",
        "Adj R-squared:     0.0046\n",
        "\n",
        "Rmse:              0.0001\n",
        "\n",
        "F-stat (1, 918):     5.2677, p-value:     0.0219\n",
        "\n",
        "Degrees of Freedom: model 1, resid 918\n",
        "\n",
        "-----------------------Summary of Estimated Coefficients------------------------\n",
        "      Variable       Coef    Std Err     t-stat    p-value    CI 2.5%   CI 97.5%\n",
        "--------------------------------------------------------------------------------\n",
        "             x    -0.0000     0.0000      -2.30     0.0219    -0.0000    -0.0000\n",
        "     intercept     0.0000     0.0000       0.91     0.3629    -0.0000     0.0000\n",
        "---------------------------------End of Summary---------------------------------"
       ]
      }
     ],
     "prompt_number": 35
    },
    {
     "cell_type": "markdown",
     "metadata": {},
     "source": [
      "Convert to percentage volume"
     ]
    },
    {
     "cell_type": "code",
     "collapsed": false,
     "input": [
      "vol = vol.groupby(vol.index.day).transform(lambda x: x/x.sum())\n",
      "vol.head()"
     ],
     "language": "python",
     "metadata": {},
     "outputs": [
      {
       "metadata": {},
       "output_type": "pyout",
       "prompt_number": 36,
       "text": [
        "Timestamp\n",
        "2011-11-01 10:00:00    0.009464\n",
        "2011-11-01 10:01:00    0.033932\n",
        "2011-11-01 10:02:00    0.001009\n",
        "2011-11-01 10:03:00    0.001059\n",
        "2011-11-01 10:04:00    0.001160\n",
        "Name: Volume, dtype: float64"
       ]
      }
     ],
     "prompt_number": 36
    },
    {
     "cell_type": "markdown",
     "metadata": {},
     "source": [
      "Verify"
     ]
    },
    {
     "cell_type": "code",
     "collapsed": false,
     "input": [
      "vol.resample('D', how='sum')"
     ],
     "language": "python",
     "metadata": {},
     "outputs": [
      {
       "metadata": {},
       "output_type": "pyout",
       "prompt_number": 37,
       "text": [
        "Timestamp\n",
        "2011-11-01    1\n",
        "2011-11-02    1\n",
        "2011-11-03    1\n",
        "Freq: D, Name: Volume, dtype: float64"
       ]
      }
     ],
     "prompt_number": 37
    },
    {
     "cell_type": "code",
     "collapsed": false,
     "input": [
      "inter = mr * vol\n",
      "inter = inter.between_time('9:30', '16:00')\n",
      "lagged_inter = inter.tshift(1, 'min').between_time('9:30', '16:00')\n",
      "pd.ols(y=mr, x=lagged_inter)"
     ],
     "language": "python",
     "metadata": {},
     "outputs": [
      {
       "metadata": {},
       "output_type": "pyout",
       "prompt_number": 38,
       "text": [
        "\n",
        "-------------------------Summary of Regression Analysis-------------------------\n",
        "\n",
        "Formula: Y ~ <x> + <intercept>\n",
        "\n",
        "Number of Observations:         920\n",
        "Number of Degrees of Freedom:   2\n",
        "\n",
        "R-squared:         0.0051\n",
        "Adj R-squared:     0.0040\n",
        "\n",
        "Rmse:              0.0001\n",
        "\n",
        "F-stat (1, 918):     4.7359, p-value:     0.0298\n",
        "\n",
        "Degrees of Freedom: model 1, resid 918\n",
        "\n",
        "-----------------------Summary of Estimated Coefficients------------------------\n",
        "      Variable       Coef    Std Err     t-stat    p-value    CI 2.5%   CI 97.5%\n",
        "--------------------------------------------------------------------------------\n",
        "             x    -4.5833     2.1061      -2.18     0.0298    -8.7112    -0.4554\n",
        "     intercept     0.0000     0.0000       0.90     0.3687    -0.0000     0.0000\n",
        "---------------------------------End of Summary---------------------------------"
       ]
      }
     ],
     "prompt_number": 38
    },
    {
     "cell_type": "markdown",
     "metadata": {},
     "source": [
      "Vivaldi FTW"
     ]
    },
    {
     "cell_type": "code",
     "collapsed": false,
     "input": [
      "hour = vol.index.hour\n",
      "hourly_volume = vol.groupby(hour).mean()"
     ],
     "language": "python",
     "metadata": {},
     "outputs": [],
     "prompt_number": 39
    },
    {
     "cell_type": "code",
     "collapsed": true,
     "input": [
      "hourly_volume.plot(kind='bar')"
     ],
     "language": "python",
     "metadata": {},
     "outputs": [
      {
       "metadata": {},
       "output_type": "pyout",
       "prompt_number": 40,
       "text": [
        "<matplotlib.axes.AxesSubplot at 0x465e8d0>"
       ]
      },
      {
       "metadata": {},
       "output_type": "display_data",
       "png": "[encoded data removed]",
       "text": [
        "<matplotlib.figure.Figure at 0x45ba250>"
       ]
      }
     ],
     "prompt_number": 40
    },
    {
     "cell_type": "markdown",
     "metadata": {},
     "source": [
      "Expanding window of hourly means for volume"
     ]
    },
    {
     "cell_type": "code",
     "collapsed": false,
     "input": [
      "hourly = vol.resample('H')\n",
      "\n",
      "def calc_mean(hr):\n",
      "    hr = time(hour=hr)\n",
      "    data = hourly.at_time(hr)\n",
      "    return pd.expanding_mean(data)\n",
      "\n",
      "df = pd.concat([calc_mean(hr) for hr in range(10, 16)])\n",
      "df = df.sort_index()\n",
      "df"
     ],
     "language": "python",
     "metadata": {},
     "outputs": [
      {
       "metadata": {},
       "output_type": "pyout",
       "prompt_number": 41,
       "text": [
        "Timestamp\n",
        "2011-11-01 10:00:00    0.002205\n",
        "2011-11-01 11:00:00    0.001101\n",
        "2011-11-01 12:00:00    0.000552\n",
        "2011-11-01 13:00:00    0.002647\n",
        "2011-11-01 14:00:00    0.003882\n",
        "2011-11-01 15:00:00    0.004253\n",
        "2011-11-02 10:00:00    0.002785\n",
        "2011-11-02 11:00:00    0.002160\n",
        "2011-11-02 12:00:00    0.001028\n",
        "2011-11-02 13:00:00    0.002021\n",
        "2011-11-02 14:00:00    0.003661\n",
        "2011-11-02 15:00:00    0.003752\n",
        "2011-11-03 10:00:00    0.002346\n",
        "2011-11-03 11:00:00    0.001959\n",
        "2011-11-03 12:00:00    0.001998\n",
        "2011-11-03 13:00:00    0.002913\n",
        "2011-11-03 14:00:00    0.002955\n",
        "2011-11-03 15:00:00    0.003071\n",
        "dtype: float64"
       ]
      }
     ],
     "prompt_number": 41
    },
    {
     "cell_type": "markdown",
     "metadata": {},
     "source": [
      "Compute deviations from the hourly means"
     ]
    },
    {
     "cell_type": "code",
     "collapsed": false,
     "input": [
      "clean_vol = vol.between_time('10:00', '15:59')\n",
      "dev = clean_vol - df.reindex(clean_vol.index, method='pad') # be careful over day boundaries\n",
      "dev"
     ],
     "language": "python",
     "metadata": {},
     "outputs": [
      {
       "metadata": {},
       "output_type": "pyout",
       "prompt_number": 42,
       "text": [
        "Timestamp\n",
        "2011-11-01 10:00:00    0.007259\n",
        "2011-11-01 10:01:00    0.031727\n",
        "2011-11-01 10:02:00   -0.001197\n",
        "2011-11-01 10:03:00   -0.001146\n",
        "2011-11-01 10:04:00   -0.001046\n",
        "2011-11-01 10:05:00    0.003598\n",
        "2011-11-01 10:06:00   -0.000427\n",
        "2011-11-01 10:07:00   -0.001835\n",
        "2011-11-01 10:08:00   -0.001648\n",
        "2011-11-01 10:09:00   -0.001298\n",
        "2011-11-01 10:10:00   -0.001318\n",
        "2011-11-01 10:11:00   -0.000712\n",
        "2011-11-01 10:12:00   -0.001046\n",
        "2011-11-01 10:13:00    0.000729\n",
        "2011-11-01 10:14:00   -0.002105\n",
        "...\n",
        "2011-11-03 15:45:00   -0.002340\n",
        "2011-11-03 15:46:00   -0.002607\n",
        "2011-11-03 15:47:00   -0.002761\n",
        "2011-11-03 15:48:00   -0.001152\n",
        "2011-11-03 15:49:00   -0.003071\n",
        "2011-11-03 15:50:00   -0.001498\n",
        "2011-11-03 15:51:00   -0.002916\n",
        "2011-11-03 15:52:00   -0.002916\n",
        "2011-11-03 15:53:00   -0.002916\n",
        "2011-11-03 15:54:00   -0.002244\n",
        "2011-11-03 15:55:00    0.011257\n",
        "2011-11-03 15:56:00   -0.002916\n",
        "2011-11-03 15:57:00   -0.002439\n",
        "2011-11-03 15:58:00   -0.000380\n",
        "2011-11-03 15:59:00    0.008660\n",
        "Length: 1080"
       ]
      }
     ],
     "prompt_number": 42
    },
    {
     "cell_type": "code",
     "collapsed": false,
     "input": [
      "inter = mr * dev\n",
      "inter = inter.between_time('10:00', '15:59')\n",
      "pd.ols(y=mr, x=inter.tshift(1, 'min'))"
     ],
     "language": "python",
     "metadata": {},
     "outputs": [
      {
       "metadata": {},
       "output_type": "pyout",
       "prompt_number": 43,
       "text": [
        "\n",
        "-------------------------Summary of Regression Analysis-------------------------\n",
        "\n",
        "Formula: Y ~ <x> + <intercept>\n",
        "\n",
        "Number of Observations:         920\n",
        "Number of Degrees of Freedom:   2\n",
        "\n",
        "R-squared:         0.0062\n",
        "Adj R-squared:     0.0051\n",
        "\n",
        "Rmse:              0.0001\n",
        "\n",
        "F-stat (1, 918):     5.7488, p-value:     0.0167\n",
        "\n",
        "Degrees of Freedom: model 1, resid 918\n",
        "\n",
        "-----------------------Summary of Estimated Coefficients------------------------\n",
        "      Variable       Coef    Std Err     t-stat    p-value    CI 2.5%   CI 97.5%\n",
        "--------------------------------------------------------------------------------\n",
        "             x    -5.3743     2.2415      -2.40     0.0167    -9.7676    -0.9810\n",
        "     intercept     0.0000     0.0000       0.90     0.3670    -0.0000     0.0000\n",
        "---------------------------------End of Summary---------------------------------"
       ]
      }
     ],
     "prompt_number": 43
    },
    {
     "cell_type": "markdown",
     "metadata": {},
     "source": [
      "###Date range creation"
     ]
    },
    {
     "cell_type": "markdown",
     "metadata": {},
     "source": [
      "`pd.date_range`"
     ]
    },
    {
     "cell_type": "code",
     "collapsed": false,
     "input": [
      "rng = pd.date_range('2005', '2012', freq='M')\n",
      "rng"
     ],
     "language": "python",
     "metadata": {},
     "outputs": [
      {
       "metadata": {},
       "output_type": "pyout",
       "prompt_number": 44,
       "text": [
        "<class 'pandas.tseries.index.DatetimeIndex'>\n",
        "[2005-01-31, ..., 2011-12-31]\n",
        "Length: 84, Freq: M, Timezone: None"
       ]
      }
     ],
     "prompt_number": 44
    },
    {
     "cell_type": "code",
     "collapsed": false,
     "input": [
      "pd.date_range('2005', periods=7*12, freq='M')"
     ],
     "language": "python",
     "metadata": {},
     "outputs": [
      {
       "metadata": {},
       "output_type": "pyout",
       "prompt_number": 45,
       "text": [
        "<class 'pandas.tseries.index.DatetimeIndex'>\n",
        "[2005-01-31, ..., 2011-12-31]\n",
        "Length: 84, Freq: M, Timezone: None"
       ]
      }
     ],
     "prompt_number": 45
    },
    {
     "cell_type": "code",
     "collapsed": false,
     "input": [
      "pd.date_range(end='2012', periods=7*12, freq='M')"
     ],
     "language": "python",
     "metadata": {},
     "outputs": [
      {
       "metadata": {},
       "output_type": "pyout",
       "prompt_number": 46,
       "text": [
        "<class 'pandas.tseries.index.DatetimeIndex'>\n",
        "[2005-01-31, ..., 2011-12-31]\n",
        "Length: 84, Freq: M, Timezone: None"
       ]
      }
     ],
     "prompt_number": 46
    },
    {
     "cell_type": "markdown",
     "metadata": {},
     "source": [
      "#### Frequency constants\n",
      "\n",
      "<table>\n",
      "    <tr><td>Name</td><td>Description</td></tr>\n",
      "    <tr><td>D</td><td>Calendar day</td></tr>\n",
      "    <tr><td>B</td><td>Business day</td></tr>\n",
      "    <tr><td>M</td><td>Calendar end of month</td></tr>\n",
      "    <tr><td>MS</td><td>Calendar start of month</td></tr>\n",
      "    <tr><td>BM</td><td>Business end of month</td></tr>\n",
      "    <tr><td>BMS</td><td>Business start of month</td></tr>\n",
      "    <tr><td>W-{MON, TUE,...}</td><td>Week ending on Monday, Tuesday, ...</td></tr>\n",
      "    <tr><td>Q-{JAN, FEB,...}</td><td>Quarter end with year ending January, February...</td></tr>\n",
      "    <tr><td>QS-{JAN, FEB,...}</td><td>Quarter start with year ending January, February...</td></tr>\n",
      "    <tr><td>BQ-{JAN, FEB,...}</td><td>Business quarter end with year ending January, February...</td></tr>\n",
      "    <tr><td>BQS-{JAN, FEB,...}</td><td>Business quarter start with year ending January, February...</td></tr>\n",
      "    <tr><td>A-{JAN, FEB, ...}</td><td>Year end (December)</td></tr>\n",
      "    <tr><td>AS-{JAN, FEB, ...}</td><td>Year start (December)</td></tr>    \n",
      "    <tr><td>BA-{JAN, FEB, ...}</td><td>Business year end (December)</td></tr>  \n",
      "    <tr><td>BAS-{JAN, FEB, ...}</td><td>Business year start (December)</td></tr>  \n",
      "    <tr><td>H</td><td>Hour</td></tr>\n",
      "    <tr><td>T</td><td>Minute</td></tr>\n",
      "    <tr><td>s</td><td>Second</td></tr>\n",
      "    <tr><td>L, ms</td><td>Millisecond</td></tr>\n",
      "    <tr><td>U</td><td>Microsecond</td></tr>\n",
      "</table>"
     ]
    },
    {
     "cell_type": "markdown",
     "metadata": {},
     "source": [
      "Anchored offsets"
     ]
    },
    {
     "cell_type": "code",
     "collapsed": false,
     "input": [
      "pd.date_range('2005', periods=4, freq='Q')"
     ],
     "language": "python",
     "metadata": {},
     "outputs": [
      {
       "metadata": {},
       "output_type": "pyout",
       "prompt_number": 47,
       "text": [
        "<class 'pandas.tseries.index.DatetimeIndex'>\n",
        "[2005-03-31, ..., 2005-12-31]\n",
        "Length: 4, Freq: Q-DEC, Timezone: None"
       ]
      }
     ],
     "prompt_number": 47
    },
    {
     "cell_type": "code",
     "collapsed": false,
     "input": [
      "pd.date_range('2005', periods=4, freq='Q-NOV')"
     ],
     "language": "python",
     "metadata": {},
     "outputs": [
      {
       "metadata": {},
       "output_type": "pyout",
       "prompt_number": 48,
       "text": [
        "<class 'pandas.tseries.index.DatetimeIndex'>\n",
        "[2005-02-28, ..., 2005-11-30]\n",
        "Length: 4, Freq: Q-NOV, Timezone: None"
       ]
      }
     ],
     "prompt_number": 48
    },
    {
     "cell_type": "markdown",
     "metadata": {},
     "source": [
      "Week anchor indicates end of week"
     ]
    },
    {
     "cell_type": "code",
     "collapsed": false,
     "input": [
      "wkrng = pd.date_range('2012-10-25', periods=3, freq='W')\n",
      "wkrng"
     ],
     "language": "python",
     "metadata": {},
     "outputs": [
      {
       "metadata": {},
       "output_type": "pyout",
       "prompt_number": 49,
       "text": [
        "<class 'pandas.tseries.index.DatetimeIndex'>\n",
        "[2012-10-28, ..., 2012-11-11]\n",
        "Length: 3, Freq: W-SUN, Timezone: None"
       ]
      }
     ],
     "prompt_number": 49
    },
    {
     "cell_type": "code",
     "collapsed": false,
     "input": [
      "wkrng[0].dayofweek"
     ],
     "language": "python",
     "metadata": {},
     "outputs": [
      {
       "metadata": {},
       "output_type": "pyout",
       "prompt_number": 50,
       "text": [
        "6"
       ]
      }
     ],
     "prompt_number": 50
    },
    {
     "cell_type": "markdown",
     "metadata": {},
     "source": [
      "Year anchor indicates year ending month"
     ]
    },
    {
     "cell_type": "code",
     "collapsed": false,
     "input": [
      "pd.date_range('2005', periods=3, freq='A-JUN')"
     ],
     "language": "python",
     "metadata": {},
     "outputs": [
      {
       "metadata": {},
       "output_type": "pyout",
       "prompt_number": 51,
       "text": [
        "<class 'pandas.tseries.index.DatetimeIndex'>\n",
        "[2005-06-30, ..., 2007-06-30]\n",
        "Length: 3, Freq: A-JUN, Timezone: None"
       ]
      }
     ],
     "prompt_number": 51
    },
    {
     "cell_type": "markdown",
     "metadata": {},
     "source": [
      "`DatetimeIndex` is a subclass of Index"
     ]
    },
    {
     "cell_type": "code",
     "collapsed": false,
     "input": [
      "isinstance(rng, pd.Index)"
     ],
     "language": "python",
     "metadata": {},
     "outputs": [
      {
       "metadata": {},
       "output_type": "pyout",
       "prompt_number": 52,
       "text": [
        "True"
       ]
      }
     ],
     "prompt_number": 52
    },
    {
     "cell_type": "code",
     "collapsed": false,
     "input": [
      "rng[2:4]"
     ],
     "language": "python",
     "metadata": {},
     "outputs": [
      {
       "metadata": {},
       "output_type": "pyout",
       "prompt_number": 53,
       "text": [
        "<class 'pandas.tseries.index.DatetimeIndex'>\n",
        "[2005-03-31, 2005-04-30]\n",
        "Length: 2, Freq: M, Timezone: None"
       ]
      }
     ],
     "prompt_number": 53
    },
    {
     "cell_type": "markdown",
     "metadata": {},
     "source": [
      "Use it for `Series/DataFrame` labelling"
     ]
    },
    {
     "cell_type": "code",
     "collapsed": false,
     "input": [
      "s = Series(randn(len(rng)), rng)\n",
      "s.head()"
     ],
     "language": "python",
     "metadata": {},
     "outputs": [
      {
       "metadata": {},
       "output_type": "pyout",
       "prompt_number": 54,
       "text": [
        "2005-01-31    0.832802\n",
        "2005-02-28    1.095348\n",
        "2005-03-31    0.043233\n",
        "2005-04-30    1.155143\n",
        "2005-05-31   -0.869846\n",
        "Freq: M, dtype: float64"
       ]
      }
     ],
     "prompt_number": 54
    },
    {
     "cell_type": "code",
     "collapsed": false,
     "input": [
      "df = DataFrame(randn(len(rng), 3), rng, ['X', 'Y', 'Z'])\n",
      "df.head()"
     ],
     "language": "python",
     "metadata": {},
     "outputs": [
      {
       "html": [
        "<div style=\"max-height:1000px;max-width:1500px;overflow:auto;\">\n",
        "<table border=\"1\" class=\"dataframe\">\n",
        "  <thead>\n",
        "    <tr style=\"text-align: right;\">\n",
        "      <th></th>\n",
        "      <th>X</th>\n",
        "      <th>Y</th>\n",
        "      <th>Z</th>\n",
        "    </tr>\n",
        "  </thead>\n",
        "  <tbody>\n",
        "    <tr>\n",
        "      <th>2005-01-31</th>\n",
        "      <td>-0.901923</td>\n",
        "      <td>-0.580329</td>\n",
        "      <td>-0.515685</td>\n",
        "    </tr>\n",
        "    <tr>\n",
        "      <th>2005-02-28</th>\n",
        "      <td> 0.200815</td>\n",
        "      <td>-0.303774</td>\n",
        "      <td> 0.638053</td>\n",
        "    </tr>\n",
        "    <tr>\n",
        "      <th>2005-03-31</th>\n",
        "      <td>-0.495275</td>\n",
        "      <td>-0.031845</td>\n",
        "      <td> 0.276960</td>\n",
        "    </tr>\n",
        "    <tr>\n",
        "      <th>2005-04-30</th>\n",
        "      <td>-1.754307</td>\n",
        "      <td>-1.453620</td>\n",
        "      <td> 1.735999</td>\n",
        "    </tr>\n",
        "    <tr>\n",
        "      <th>2005-05-31</th>\n",
        "      <td> 0.644314</td>\n",
        "      <td>-0.389677</td>\n",
        "      <td> 0.996630</td>\n",
        "    </tr>\n",
        "  </tbody>\n",
        "</table>\n",
        "</div>"
       ],
       "metadata": {},
       "output_type": "pyout",
       "prompt_number": 55,
       "text": [
        "                   X         Y         Z\n",
        "2005-01-31 -0.901923 -0.580329 -0.515685\n",
        "2005-02-28  0.200815 -0.303774  0.638053\n",
        "2005-03-31 -0.495275 -0.031845  0.276960\n",
        "2005-04-30 -1.754307 -1.453620  1.735999\n",
        "2005-05-31  0.644314 -0.389677  0.996630"
       ]
      }
     ],
     "prompt_number": 55
    },
    {
     "cell_type": "markdown",
     "metadata": {},
     "source": [
      "####Label indexing"
     ]
    },
    {
     "cell_type": "code",
     "collapsed": false,
     "input": [
      "s[datetime(2005, 1, 31) : datetime(2006, 12, 31)] #slice end inclusive"
     ],
     "language": "python",
     "metadata": {},
     "outputs": [
      {
       "metadata": {},
       "output_type": "pyout",
       "prompt_number": 56,
       "text": [
        "2005-01-31    0.832802\n",
        "2005-02-28    1.095348\n",
        "2005-03-31    0.043233\n",
        "2005-04-30    1.155143\n",
        "2005-05-31   -0.869846\n",
        "2005-06-30    1.879860\n",
        "2005-07-31    0.862532\n",
        "2005-08-31    0.097151\n",
        "2005-09-30   -0.310215\n",
        "2005-10-31    1.637660\n",
        "2005-11-30   -0.928597\n",
        "2005-12-31    1.986732\n",
        "2006-01-31   -0.801300\n",
        "2006-02-28   -0.960486\n",
        "2006-03-31   -0.043106\n",
        "2006-04-30    0.831490\n",
        "2006-05-31    0.010411\n",
        "2006-06-30    0.181934\n",
        "2006-07-31    0.427575\n",
        "2006-08-31    1.344481\n",
        "2006-09-30    0.230816\n",
        "2006-10-31    0.183458\n",
        "2006-11-30    0.645733\n",
        "2006-12-31    0.109394\n",
        "Freq: M, dtype: float64"
       ]
      }
     ],
     "prompt_number": 56
    },
    {
     "cell_type": "code",
     "collapsed": false,
     "input": [
      "df['2005-1-31':'2006-12-31']"
     ],
     "language": "python",
     "metadata": {},
     "outputs": [
      {
       "html": [
        "<div style=\"max-height:1000px;max-width:1500px;overflow:auto;\">\n",
        "<table border=\"1\" class=\"dataframe\">\n",
        "  <thead>\n",
        "    <tr style=\"text-align: right;\">\n",
        "      <th></th>\n",
        "      <th>X</th>\n",
        "      <th>Y</th>\n",
        "      <th>Z</th>\n",
        "    </tr>\n",
        "  </thead>\n",
        "  <tbody>\n",
        "    <tr>\n",
        "      <th>2005-01-31</th>\n",
        "      <td>-0.901923</td>\n",
        "      <td>-0.580329</td>\n",
        "      <td>-0.515685</td>\n",
        "    </tr>\n",
        "    <tr>\n",
        "      <th>2005-02-28</th>\n",
        "      <td> 0.200815</td>\n",
        "      <td>-0.303774</td>\n",
        "      <td> 0.638053</td>\n",
        "    </tr>\n",
        "    <tr>\n",
        "      <th>2005-03-31</th>\n",
        "      <td>-0.495275</td>\n",
        "      <td>-0.031845</td>\n",
        "      <td> 0.276960</td>\n",
        "    </tr>\n",
        "    <tr>\n",
        "      <th>2005-04-30</th>\n",
        "      <td>-1.754307</td>\n",
        "      <td>-1.453620</td>\n",
        "      <td> 1.735999</td>\n",
        "    </tr>\n",
        "    <tr>\n",
        "      <th>2005-05-31</th>\n",
        "      <td> 0.644314</td>\n",
        "      <td>-0.389677</td>\n",
        "      <td> 0.996630</td>\n",
        "    </tr>\n",
        "    <tr>\n",
        "      <th>2005-06-30</th>\n",
        "      <td> 0.650979</td>\n",
        "      <td> 0.814197</td>\n",
        "      <td> 0.799833</td>\n",
        "    </tr>\n",
        "    <tr>\n",
        "      <th>2005-07-31</th>\n",
        "      <td>-0.375461</td>\n",
        "      <td>-1.521196</td>\n",
        "      <td> 0.753638</td>\n",
        "    </tr>\n",
        "    <tr>\n",
        "      <th>2005-08-31</th>\n",
        "      <td>-0.221715</td>\n",
        "      <td>-0.353512</td>\n",
        "      <td> 0.560411</td>\n",
        "    </tr>\n",
        "    <tr>\n",
        "      <th>2005-09-30</th>\n",
        "      <td> 0.271001</td>\n",
        "      <td>-0.435799</td>\n",
        "      <td> 1.037757</td>\n",
        "    </tr>\n",
        "    <tr>\n",
        "      <th>2005-10-31</th>\n",
        "      <td>-0.617745</td>\n",
        "      <td>-0.804678</td>\n",
        "      <td>-0.919854</td>\n",
        "    </tr>\n",
        "    <tr>\n",
        "      <th>2005-11-30</th>\n",
        "      <td>-0.198010</td>\n",
        "      <td>-1.913304</td>\n",
        "      <td>-0.788480</td>\n",
        "    </tr>\n",
        "    <tr>\n",
        "      <th>2005-12-31</th>\n",
        "      <td>-1.343528</td>\n",
        "      <td> 0.439293</td>\n",
        "      <td> 0.262277</td>\n",
        "    </tr>\n",
        "    <tr>\n",
        "      <th>2006-01-31</th>\n",
        "      <td>-0.677696</td>\n",
        "      <td> 0.907572</td>\n",
        "      <td> 0.735890</td>\n",
        "    </tr>\n",
        "    <tr>\n",
        "      <th>2006-02-28</th>\n",
        "      <td> 1.213373</td>\n",
        "      <td> 0.543321</td>\n",
        "      <td>-0.027066</td>\n",
        "    </tr>\n",
        "    <tr>\n",
        "      <th>2006-03-31</th>\n",
        "      <td>-0.358904</td>\n",
        "      <td>-1.075954</td>\n",
        "      <td> 0.777522</td>\n",
        "    </tr>\n",
        "    <tr>\n",
        "      <th>2006-04-30</th>\n",
        "      <td> 0.020659</td>\n",
        "      <td>-1.741195</td>\n",
        "      <td> 0.677024</td>\n",
        "    </tr>\n",
        "    <tr>\n",
        "      <th>2006-05-31</th>\n",
        "      <td>-0.218120</td>\n",
        "      <td>-0.502301</td>\n",
        "      <td>-1.312164</td>\n",
        "    </tr>\n",
        "    <tr>\n",
        "      <th>2006-06-30</th>\n",
        "      <td> 0.216873</td>\n",
        "      <td> 0.912517</td>\n",
        "      <td>-1.340566</td>\n",
        "    </tr>\n",
        "    <tr>\n",
        "      <th>2006-07-31</th>\n",
        "      <td>-0.720205</td>\n",
        "      <td>-0.707198</td>\n",
        "      <td> 0.512090</td>\n",
        "    </tr>\n",
        "    <tr>\n",
        "      <th>2006-08-31</th>\n",
        "      <td>-1.927735</td>\n",
        "      <td> 0.691961</td>\n",
        "      <td> 0.436788</td>\n",
        "    </tr>\n",
        "    <tr>\n",
        "      <th>2006-09-30</th>\n",
        "      <td> 0.641756</td>\n",
        "      <td>-0.183248</td>\n",
        "      <td> 1.291639</td>\n",
        "    </tr>\n",
        "    <tr>\n",
        "      <th>2006-10-31</th>\n",
        "      <td> 0.195743</td>\n",
        "      <td>-2.325246</td>\n",
        "      <td> 1.217863</td>\n",
        "    </tr>\n",
        "    <tr>\n",
        "      <th>2006-11-30</th>\n",
        "      <td>-0.172563</td>\n",
        "      <td> 0.624474</td>\n",
        "      <td> 0.347515</td>\n",
        "    </tr>\n",
        "    <tr>\n",
        "      <th>2006-12-31</th>\n",
        "      <td>-0.167383</td>\n",
        "      <td>-0.562689</td>\n",
        "      <td> 1.393883</td>\n",
        "    </tr>\n",
        "  </tbody>\n",
        "</table>\n",
        "</div>"
       ],
       "metadata": {},
       "output_type": "pyout",
       "prompt_number": 57,
       "text": [
        "                   X         Y         Z\n",
        "2005-01-31 -0.901923 -0.580329 -0.515685\n",
        "2005-02-28  0.200815 -0.303774  0.638053\n",
        "2005-03-31 -0.495275 -0.031845  0.276960\n",
        "2005-04-30 -1.754307 -1.453620  1.735999\n",
        "2005-05-31  0.644314 -0.389677  0.996630\n",
        "2005-06-30  0.650979  0.814197  0.799833\n",
        "2005-07-31 -0.375461 -1.521196  0.753638\n",
        "2005-08-31 -0.221715 -0.353512  0.560411\n",
        "2005-09-30  0.271001 -0.435799  1.037757\n",
        "2005-10-31 -0.617745 -0.804678 -0.919854\n",
        "2005-11-30 -0.198010 -1.913304 -0.788480\n",
        "2005-12-31 -1.343528  0.439293  0.262277\n",
        "2006-01-31 -0.677696  0.907572  0.735890\n",
        "2006-02-28  1.213373  0.543321 -0.027066\n",
        "2006-03-31 -0.358904 -1.075954  0.777522\n",
        "2006-04-30  0.020659 -1.741195  0.677024\n",
        "2006-05-31 -0.218120 -0.502301 -1.312164\n",
        "2006-06-30  0.216873  0.912517 -1.340566\n",
        "2006-07-31 -0.720205 -0.707198  0.512090\n",
        "2006-08-31 -1.927735  0.691961  0.436788\n",
        "2006-09-30  0.641756 -0.183248  1.291639\n",
        "2006-10-31  0.195743 -2.325246  1.217863\n",
        "2006-11-30 -0.172563  0.624474  0.347515\n",
        "2006-12-31 -0.167383 -0.562689  1.393883"
       ]
      }
     ],
     "prompt_number": 57
    },
    {
     "cell_type": "markdown",
     "metadata": {},
     "source": [
      "**Partial indexing**"
     ]
    },
    {
     "cell_type": "code",
     "collapsed": false,
     "input": [
      "s['2005':'2006']"
     ],
     "language": "python",
     "metadata": {},
     "outputs": [
      {
       "metadata": {},
       "output_type": "pyout",
       "prompt_number": 58,
       "text": [
        "2005-01-31    0.832802\n",
        "2005-02-28    1.095348\n",
        "2005-03-31    0.043233\n",
        "2005-04-30    1.155143\n",
        "2005-05-31   -0.869846\n",
        "2005-06-30    1.879860\n",
        "2005-07-31    0.862532\n",
        "2005-08-31    0.097151\n",
        "2005-09-30   -0.310215\n",
        "2005-10-31    1.637660\n",
        "2005-11-30   -0.928597\n",
        "2005-12-31    1.986732\n",
        "2006-01-31   -0.801300\n",
        "2006-02-28   -0.960486\n",
        "2006-03-31   -0.043106\n",
        "2006-04-30    0.831490\n",
        "2006-05-31    0.010411\n",
        "2006-06-30    0.181934\n",
        "2006-07-31    0.427575\n",
        "2006-08-31    1.344481\n",
        "2006-09-30    0.230816\n",
        "2006-10-31    0.183458\n",
        "2006-11-30    0.645733\n",
        "2006-12-31    0.109394\n",
        "Freq: M, dtype: float64"
       ]
      }
     ],
     "prompt_number": 58
    },
    {
     "cell_type": "markdown",
     "metadata": {},
     "source": [
      "positional indexing still works"
     ]
    },
    {
     "cell_type": "code",
     "collapsed": false,
     "input": [
      "df[:2] # slice end exclusive"
     ],
     "language": "python",
     "metadata": {},
     "outputs": [
      {
       "html": [
        "<div style=\"max-height:1000px;max-width:1500px;overflow:auto;\">\n",
        "<table border=\"1\" class=\"dataframe\">\n",
        "  <thead>\n",
        "    <tr style=\"text-align: right;\">\n",
        "      <th></th>\n",
        "      <th>X</th>\n",
        "      <th>Y</th>\n",
        "      <th>Z</th>\n",
        "    </tr>\n",
        "  </thead>\n",
        "  <tbody>\n",
        "    <tr>\n",
        "      <th>2005-01-31</th>\n",
        "      <td>-0.901923</td>\n",
        "      <td>-0.580329</td>\n",
        "      <td>-0.515685</td>\n",
        "    </tr>\n",
        "    <tr>\n",
        "      <th>2005-02-28</th>\n",
        "      <td> 0.200815</td>\n",
        "      <td>-0.303774</td>\n",
        "      <td> 0.638053</td>\n",
        "    </tr>\n",
        "  </tbody>\n",
        "</table>\n",
        "</div>"
       ],
       "metadata": {},
       "output_type": "pyout",
       "prompt_number": 59,
       "text": [
        "                   X         Y         Z\n",
        "2005-01-31 -0.901923 -0.580329 -0.515685\n",
        "2005-02-28  0.200815 -0.303774  0.638053"
       ]
      }
     ],
     "prompt_number": 59
    },
    {
     "cell_type": "markdown",
     "metadata": {},
     "source": [
      "####Elements of DatetimeIndex"
     ]
    },
    {
     "cell_type": "markdown",
     "metadata": {},
     "source": [
      "Elements boxed as `Timestamp` (subclass of `datetime.datetime`)"
     ]
    },
    {
     "cell_type": "code",
     "collapsed": false,
     "input": [
      "elm = rng[0]\n",
      "elm"
     ],
     "language": "python",
     "metadata": {},
     "outputs": [
      {
       "metadata": {},
       "output_type": "pyout",
       "prompt_number": 60,
       "text": [
        "Timestamp('2005-01-31 00:00:00', offset='M')"
       ]
      }
     ],
     "prompt_number": 60
    },
    {
     "cell_type": "code",
     "collapsed": false,
     "input": [
      "isinstance(elm, datetime)"
     ],
     "language": "python",
     "metadata": {},
     "outputs": [
      {
       "metadata": {},
       "output_type": "pyout",
       "prompt_number": 61,
       "text": [
        "True"
       ]
      }
     ],
     "prompt_number": 61
    },
    {
     "cell_type": "markdown",
     "metadata": {},
     "source": [
      "Why do we need this subclass?"
     ]
    },
    {
     "cell_type": "code",
     "collapsed": false,
     "input": [
      "elm.nanosecond"
     ],
     "language": "python",
     "metadata": {},
     "outputs": [
      {
       "metadata": {},
       "output_type": "pyout",
       "prompt_number": 62,
       "text": [
        "0"
       ]
      }
     ],
     "prompt_number": 62
    },
    {
     "cell_type": "markdown",
     "metadata": {},
     "source": [
      "Implemented internally using numpy.datetime64 (dtype='M8[ns]')"
     ]
    },
    {
     "cell_type": "code",
     "collapsed": false,
     "input": [
      "val = rng.values"
     ],
     "language": "python",
     "metadata": {},
     "outputs": [],
     "prompt_number": 63
    },
    {
     "cell_type": "code",
     "collapsed": false,
     "input": [
      "type(val)"
     ],
     "language": "python",
     "metadata": {},
     "outputs": [
      {
       "metadata": {},
       "output_type": "pyout",
       "prompt_number": 64,
       "text": [
        "numpy.ndarray"
       ]
      }
     ],
     "prompt_number": 64
    },
    {
     "cell_type": "code",
     "collapsed": false,
     "input": [
      "val.dtype"
     ],
     "language": "python",
     "metadata": {},
     "outputs": [
      {
       "metadata": {},
       "output_type": "pyout",
       "prompt_number": 65,
       "text": [
        "dtype('datetime64[ns]')"
       ]
      }
     ],
     "prompt_number": 65
    },
    {
     "cell_type": "markdown",
     "metadata": {},
     "source": [
      "Upgrade Numpy to 1.7b to fix repr issue"
     ]
    },
    {
     "cell_type": "code",
     "collapsed": false,
     "input": [
      "val[0]"
     ],
     "language": "python",
     "metadata": {},
     "outputs": [
      {
       "metadata": {},
       "output_type": "pyout",
       "prompt_number": 66,
       "text": [
        "1970-01-13 80:00:00"
       ]
      }
     ],
     "prompt_number": 66
    },
    {
     "cell_type": "markdown",
     "metadata": {},
     "source": [
      "Or use DatetimeIndex.asobject for workaround"
     ]
    },
    {
     "cell_type": "code",
     "collapsed": false,
     "input": [
      "rng.asobject.values[0]"
     ],
     "language": "python",
     "metadata": {},
     "outputs": [
      {
       "metadata": {},
       "output_type": "pyout",
       "prompt_number": 67,
       "text": [
        "Timestamp('2005-01-31 00:00:00', offset='M')"
       ]
      }
     ],
     "prompt_number": 67
    },
    {
     "cell_type": "markdown",
     "metadata": {},
     "source": [
      "#### Other views"
     ]
    },
    {
     "cell_type": "code",
     "collapsed": false,
     "input": [
      "rng.asobject"
     ],
     "language": "python",
     "metadata": {},
     "outputs": [
      {
       "metadata": {},
       "output_type": "pyout",
       "prompt_number": 68,
       "text": [
        "Index([2005-01-31 00:00:00, 2005-02-28 00:00:00, 2005-03-31 00:00:00, 2005-04-30 00:00:00, 2005-05-31 00:00:00, 2005-06-30 00:00:00, 2005-07-31 00:00:00, 2005-08-31 00:00:00, 2005-09-30 00:00:00, 2005-10-31 00:00:00, 2005-11-30 00:00:00, 2005-12-31 00:00:00, 2006-01-31 00:00:00, 2006-02-28 00:00:00, 2006-03-31 00:00:00, 2006-04-30 00:00:00, 2006-05-31 00:00:00, 2006-06-30 00:00:00, 2006-07-31 00:00:00, 2006-08-31 00:00:00, 2006-09-30 00:00:00, 2006-10-31 00:00:00, 2006-11-30 00:00:00, 2006-12-31 00:00:00, 2007-01-31 00:00:00, 2007-02-28 00:00:00, 2007-03-31 00:00:00, 2007-04-30 00:00:00, 2007-05-31 00:00:00, 2007-06-30 00:00:00, 2007-07-31 00:00:00, 2007-08-31 00:00:00, 2007-09-30 00:00:00, 2007-10-31 00:00:00, 2007-11-30 00:00:00, 2007-12-31 00:00:00, 2008-01-31 00:00:00, 2008-02-29 00:00:00, 2008-03-31 00:00:00, 2008-04-30 00:00:00, 2008-05-31 00:00:00, 2008-06-30 00:00:00, 2008-07-31 00:00:00, 2008-08-31 00:00:00, 2008-09-30 00:00:00, 2008-10-31 00:00:00, 2008-11-30 00:00:00, 2008-12-31 00:00:00, 2009-01-31 00:00:00, 2009-02-28 00:00:00, 2009-03-31 00:00:00, 2009-04-30 00:00:00, 2009-05-31 00:00:00, 2009-06-30 00:00:00, 2009-07-31 00:00:00, 2009-08-31 00:00:00, 2009-09-30 00:00:00, 2009-10-31 00:00:00, 2009-11-30 00:00:00, 2009-12-31 00:00:00, 2010-01-31 00:00:00, 2010-02-28 00:00:00, 2010-03-31 00:00:00, 2010-04-30 00:00:00, 2010-05-31 00:00:00, 2010-06-30 00:00:00, 2010-07-31 00:00:00, 2010-08-31 00:00:00, 2010-09-30 00:00:00, 2010-10-31 00:00:00, 2010-11-30 00:00:00, 2010-12-31 00:00:00, 2011-01-31 00:00:00, 2011-02-28 00:00:00, 2011-03-31 00:00:00, 2011-04-30 00:00:00, 2011-05-31 00:00:00, 2011-06-30 00:00:00, 2011-07-31 00:00:00, 2011-08-31 00:00:00, 2011-09-30 00:00:00, 2011-10-31 00:00:00, 2011-11-30 00:00:00, 2011-12-31 00:00:00], dtype='object')"
       ]
      }
     ],
     "prompt_number": 68
    },
    {
     "cell_type": "code",
     "collapsed": false,
     "input": [
      "rng.to_pydatetime()"
     ],
     "language": "python",
     "metadata": {},
     "outputs": [
      {
       "metadata": {},
       "output_type": "pyout",
       "prompt_number": 69,
       "text": [
        "array([2005-01-31 00:00:00, 2005-02-28 00:00:00, 2005-03-31 00:00:00,\n",
        "       2005-04-30 00:00:00, 2005-05-31 00:00:00, 2005-06-30 00:00:00,\n",
        "       2005-07-31 00:00:00, 2005-08-31 00:00:00, 2005-09-30 00:00:00,\n",
        "       2005-10-31 00:00:00, 2005-11-30 00:00:00, 2005-12-31 00:00:00,\n",
        "       2006-01-31 00:00:00, 2006-02-28 00:00:00, 2006-03-31 00:00:00,\n",
        "       2006-04-30 00:00:00, 2006-05-31 00:00:00, 2006-06-30 00:00:00,\n",
        "       2006-07-31 00:00:00, 2006-08-31 00:00:00, 2006-09-30 00:00:00,\n",
        "       2006-10-31 00:00:00, 2006-11-30 00:00:00, 2006-12-31 00:00:00,\n",
        "       2007-01-31 00:00:00, 2007-02-28 00:00:00, 2007-03-31 00:00:00,\n",
        "       2007-04-30 00:00:00, 2007-05-31 00:00:00, 2007-06-30 00:00:00,\n",
        "       2007-07-31 00:00:00, 2007-08-31 00:00:00, 2007-09-30 00:00:00,\n",
        "       2007-10-31 00:00:00, 2007-11-30 00:00:00, 2007-12-31 00:00:00,\n",
        "       2008-01-31 00:00:00, 2008-02-29 00:00:00, 2008-03-31 00:00:00,\n",
        "       2008-04-30 00:00:00, 2008-05-31 00:00:00, 2008-06-30 00:00:00,\n",
        "       2008-07-31 00:00:00, 2008-08-31 00:00:00, 2008-09-30 00:00:00,\n",
        "       2008-10-31 00:00:00, 2008-11-30 00:00:00, 2008-12-31 00:00:00,\n",
        "       2009-01-31 00:00:00, 2009-02-28 00:00:00, 2009-03-31 00:00:00,\n",
        "       2009-04-30 00:00:00, 2009-05-31 00:00:00, 2009-06-30 00:00:00,\n",
        "       2009-07-31 00:00:00, 2009-08-31 00:00:00, 2009-09-30 00:00:00,\n",
        "       2009-10-31 00:00:00, 2009-11-30 00:00:00, 2009-12-31 00:00:00,\n",
        "       2010-01-31 00:00:00, 2010-02-28 00:00:00, 2010-03-31 00:00:00,\n",
        "       2010-04-30 00:00:00, 2010-05-31 00:00:00, 2010-06-30 00:00:00,\n",
        "       2010-07-31 00:00:00, 2010-08-31 00:00:00, 2010-09-30 00:00:00,\n",
        "       2010-10-31 00:00:00, 2010-11-30 00:00:00, 2010-12-31 00:00:00,\n",
        "       2011-01-31 00:00:00, 2011-02-28 00:00:00, 2011-03-31 00:00:00,\n",
        "       2011-04-30 00:00:00, 2011-05-31 00:00:00, 2011-06-30 00:00:00,\n",
        "       2011-07-31 00:00:00, 2011-08-31 00:00:00, 2011-09-30 00:00:00,\n",
        "       2011-10-31 00:00:00, 2011-11-30 00:00:00, 2011-12-31 00:00:00], dtype=object)"
       ]
      }
     ],
     "prompt_number": 69
    },
    {
     "cell_type": "code",
     "collapsed": false,
     "input": [
      "rng.to_pydatetime()[0]"
     ],
     "language": "python",
     "metadata": {},
     "outputs": [
      {
       "metadata": {},
       "output_type": "pyout",
       "prompt_number": 70,
       "text": [
        "datetime.datetime(2005, 1, 31, 0, 0)"
       ]
      }
     ],
     "prompt_number": 70
    },
    {
     "cell_type": "markdown",
     "metadata": {},
     "source": [
      "Integer representation"
     ]
    },
    {
     "cell_type": "code",
     "collapsed": false,
     "input": [
      "type(rng.asi8)"
     ],
     "language": "python",
     "metadata": {},
     "outputs": [
      {
       "metadata": {},
       "output_type": "pyout",
       "prompt_number": 71,
       "text": [
        "numpy.ndarray"
       ]
      }
     ],
     "prompt_number": 71
    },
    {
     "cell_type": "code",
     "collapsed": false,
     "input": [
      "rng.asi8.dtype"
     ],
     "language": "python",
     "metadata": {},
     "outputs": [
      {
       "metadata": {},
       "output_type": "pyout",
       "prompt_number": 72,
       "text": [
        "dtype('int64')"
       ]
      }
     ],
     "prompt_number": 72
    },
    {
     "cell_type": "code",
     "collapsed": false,
     "input": [
      "rng.asi8[0]"
     ],
     "language": "python",
     "metadata": {},
     "outputs": [
      {
       "metadata": {},
       "output_type": "pyout",
       "prompt_number": 73,
       "text": [
        "1107129600000000000"
       ]
      }
     ],
     "prompt_number": 73
    },
    {
     "cell_type": "markdown",
     "metadata": {},
     "source": [
      "###More fun with resampling and asfreq"
     ]
    },
    {
     "cell_type": "code",
     "collapsed": false,
     "input": [
      "s.index.freqstr"
     ],
     "language": "python",
     "metadata": {},
     "outputs": [
      {
       "metadata": {},
       "output_type": "pyout",
       "prompt_number": 74,
       "text": [
        "'M'"
       ]
      }
     ],
     "prompt_number": 74
    },
    {
     "cell_type": "code",
     "collapsed": false,
     "input": [
      "s.resample('30D').head(10)"
     ],
     "language": "python",
     "metadata": {},
     "outputs": [
      {
       "metadata": {},
       "output_type": "pyout",
       "prompt_number": 75,
       "text": [
        "2005-01-31    0.832802\n",
        "2005-03-02         NaN\n",
        "2005-04-01         NaN\n",
        "2005-05-01         NaN\n",
        "2005-05-31   -0.869846\n",
        "2005-06-30    1.879860\n",
        "2005-07-30         NaN\n",
        "2005-08-29         NaN\n",
        "2005-09-28         NaN\n",
        "2005-10-28         NaN\n",
        "Freq: 30D, dtype: float64"
       ]
      }
     ],
     "prompt_number": 75
    },
    {
     "cell_type": "code",
     "collapsed": false,
     "input": [
      "s.resample('30D', fill_method='ffill').head(10)"
     ],
     "language": "python",
     "metadata": {},
     "outputs": [
      {
       "metadata": {},
       "output_type": "pyout",
       "prompt_number": 76,
       "text": [
        "2005-01-31    0.832802\n",
        "2005-03-02    1.095348\n",
        "2005-04-01    0.043233\n",
        "2005-05-01    1.155143\n",
        "2005-05-31   -0.869846\n",
        "2005-06-30    1.879860\n",
        "2005-07-30    1.879860\n",
        "2005-08-29    0.862532\n",
        "2005-09-28    0.097151\n",
        "2005-10-28   -0.310215\n",
        "Freq: 30D, dtype: float64"
       ]
      }
     ],
     "prompt_number": 76
    },
    {
     "cell_type": "markdown",
     "metadata": {},
     "source": [
      "Upsampling"
     ]
    },
    {
     "cell_type": "code",
     "collapsed": false,
     "input": [
      "s.ix[:3].resample('W')"
     ],
     "language": "python",
     "metadata": {},
     "outputs": [
      {
       "metadata": {},
       "output_type": "pyout",
       "prompt_number": 77,
       "text": [
        "2005-02-06   NaN\n",
        "2005-02-13   NaN\n",
        "2005-02-20   NaN\n",
        "2005-02-27   NaN\n",
        "2005-03-06   NaN\n",
        "2005-03-13   NaN\n",
        "2005-03-20   NaN\n",
        "2005-03-27   NaN\n",
        "2005-04-03   NaN\n",
        "Freq: W-SUN, dtype: float64"
       ]
      }
     ],
     "prompt_number": 77
    },
    {
     "cell_type": "code",
     "collapsed": false,
     "input": [
      "s.ix[:3].resample('W', fill_method='ffill')"
     ],
     "language": "python",
     "metadata": {},
     "outputs": [
      {
       "metadata": {},
       "output_type": "pyout",
       "prompt_number": 78,
       "text": [
        "2005-02-06    0.832802\n",
        "2005-02-13    0.832802\n",
        "2005-02-20    0.832802\n",
        "2005-02-27    0.832802\n",
        "2005-03-06    1.095348\n",
        "2005-03-13    1.095348\n",
        "2005-03-20    1.095348\n",
        "2005-03-27    1.095348\n",
        "2005-04-03    0.043233\n",
        "Freq: W-SUN, dtype: float64"
       ]
      }
     ],
     "prompt_number": 78
    },
    {
     "cell_type": "markdown",
     "metadata": {},
     "source": [
      "asfreq"
     ]
    },
    {
     "cell_type": "code",
     "collapsed": false,
     "input": [
      "s.asfreq('Q').head()"
     ],
     "language": "python",
     "metadata": {},
     "outputs": [
      {
       "metadata": {},
       "output_type": "pyout",
       "prompt_number": 79,
       "text": [
        "2005-03-31    0.043233\n",
        "2005-06-30    1.879860\n",
        "2005-09-30   -0.310215\n",
        "2005-12-31    1.986732\n",
        "2006-03-31   -0.043106\n",
        "Freq: Q-DEC, dtype: float64"
       ]
      }
     ],
     "prompt_number": 79
    },
    {
     "cell_type": "code",
     "collapsed": false,
     "input": [
      "s.resample('Q', 'last').head()"
     ],
     "language": "python",
     "metadata": {},
     "outputs": [
      {
       "metadata": {},
       "output_type": "pyout",
       "prompt_number": 80,
       "text": [
        "2005-03-31    0.043233\n",
        "2005-06-30    1.879860\n",
        "2005-09-30   -0.310215\n",
        "2005-12-31    1.986732\n",
        "2006-03-31   -0.043106\n",
        "Freq: Q-DEC, dtype: float64"
       ]
      }
     ],
     "prompt_number": 80
    },
    {
     "cell_type": "markdown",
     "metadata": {},
     "source": [
      "closed: 'left' or 'right' bin edge is closed (default is 'right')"
     ]
    },
    {
     "cell_type": "code",
     "collapsed": false,
     "input": [
      "s.resample('Q').head()"
     ],
     "language": "python",
     "metadata": {},
     "outputs": [
      {
       "metadata": {},
       "output_type": "pyout",
       "prompt_number": 81,
       "text": [
        "2005-03-31    0.657128\n",
        "2005-06-30    0.721719\n",
        "2005-09-30    0.216489\n",
        "2005-12-31    0.898598\n",
        "2006-03-31   -0.601631\n",
        "Freq: Q-DEC, dtype: float64"
       ]
      }
     ],
     "prompt_number": 81
    },
    {
     "cell_type": "code",
     "collapsed": false,
     "input": [
      "s.ix[3:6].mean()"
     ],
     "language": "python",
     "metadata": {},
     "outputs": [
      {
       "metadata": {},
       "output_type": "pyout",
       "prompt_number": 82,
       "text": [
        "0.72171879839280673"
       ]
      }
     ],
     "prompt_number": 82
    },
    {
     "cell_type": "code",
     "collapsed": false,
     "input": [
      "s.resample('Q', closed='left').head()"
     ],
     "language": "python",
     "metadata": {},
     "outputs": [
      {
       "metadata": {},
       "output_type": "pyout",
       "prompt_number": 83,
       "text": [
        "2005-03-31    0.964075\n",
        "2005-06-30    0.109510\n",
        "2005-09-30    0.946514\n",
        "2005-12-31    0.132949\n",
        "2006-03-31    0.074982\n",
        "Freq: Q-DEC, dtype: float64"
       ]
      }
     ],
     "prompt_number": 83
    },
    {
     "cell_type": "code",
     "collapsed": false,
     "input": [
      "s.ix[2:5].mean()"
     ],
     "language": "python",
     "metadata": {},
     "outputs": [
      {
       "metadata": {},
       "output_type": "pyout",
       "prompt_number": 84,
       "text": [
        "0.10950976636958765"
       ]
      }
     ],
     "prompt_number": 84
    },
    {
     "cell_type": "markdown",
     "metadata": {},
     "source": [
      "label: label the bin with 'left' or 'right' edge (default is 'right')"
     ]
    },
    {
     "cell_type": "code",
     "collapsed": false,
     "input": [
      "s.resample('Q').head()"
     ],
     "language": "python",
     "metadata": {},
     "outputs": [
      {
       "metadata": {},
       "output_type": "pyout",
       "prompt_number": 85,
       "text": [
        "2005-03-31    0.657128\n",
        "2005-06-30    0.721719\n",
        "2005-09-30    0.216489\n",
        "2005-12-31    0.898598\n",
        "2006-03-31   -0.601631\n",
        "Freq: Q-DEC, dtype: float64"
       ]
      }
     ],
     "prompt_number": 85
    },
    {
     "cell_type": "code",
     "collapsed": false,
     "input": [
      "s.resample('Q', label='left').head()"
     ],
     "language": "python",
     "metadata": {},
     "outputs": [
      {
       "metadata": {},
       "output_type": "pyout",
       "prompt_number": 86,
       "text": [
        "2004-12-31    0.657128\n",
        "2005-03-31    0.721719\n",
        "2005-06-30    0.216489\n",
        "2005-09-30    0.898598\n",
        "2005-12-31   -0.601631\n",
        "Freq: Q-DEC, dtype: float64"
       ]
      }
     ],
     "prompt_number": 86
    },
    {
     "cell_type": "markdown",
     "metadata": {},
     "source": [
      "loffset: shift the result index"
     ]
    },
    {
     "cell_type": "code",
     "collapsed": false,
     "input": [
      "s.resample('Q', label='left', loffset='-1D').head()"
     ],
     "language": "python",
     "metadata": {},
     "outputs": [
      {
       "metadata": {},
       "output_type": "pyout",
       "prompt_number": 87,
       "text": [
        "2004-12-30    0.657128\n",
        "2005-03-30    0.721719\n",
        "2005-06-29    0.216489\n",
        "2005-09-29    0.898598\n",
        "2005-12-30   -0.601631\n",
        "dtype: float64"
       ]
      }
     ],
     "prompt_number": 87
    },
    {
     "cell_type": "markdown",
     "metadata": {},
     "source": [
      "###Time zones"
     ]
    },
    {
     "cell_type": "markdown",
     "metadata": {},
     "source": [
      "####Localization"
     ]
    },
    {
     "cell_type": "code",
     "collapsed": false,
     "input": [
      "rng.tz"
     ],
     "language": "python",
     "metadata": {},
     "outputs": [],
     "prompt_number": 88
    },
    {
     "cell_type": "code",
     "collapsed": false,
     "input": [
      "d = rng[0]\n",
      "d"
     ],
     "language": "python",
     "metadata": {},
     "outputs": [
      {
       "metadata": {},
       "output_type": "pyout",
       "prompt_number": 89,
       "text": [
        "Timestamp('2005-01-31 00:00:00', offset='M')"
       ]
      }
     ],
     "prompt_number": 89
    },
    {
     "cell_type": "code",
     "collapsed": false,
     "input": [
      "d.tz"
     ],
     "language": "python",
     "metadata": {},
     "outputs": [],
     "prompt_number": 90
    },
    {
     "cell_type": "code",
     "collapsed": false,
     "input": [
      "localized = rng.tz_localize('US/Eastern')"
     ],
     "language": "python",
     "metadata": {},
     "outputs": [],
     "prompt_number": 91
    },
    {
     "cell_type": "markdown",
     "metadata": {},
     "source": [
      "Localization assumes naive time is local (and not UTC)"
     ]
    },
    {
     "cell_type": "code",
     "collapsed": false,
     "input": [
      "localized[0]"
     ],
     "language": "python",
     "metadata": {},
     "outputs": [
      {
       "metadata": {},
       "output_type": "pyout",
       "prompt_number": 92,
       "text": [
        "Timestamp('2005-01-31 00:00:00-0500', tz='US/Eastern', offset='M')"
       ]
      }
     ],
     "prompt_number": 92
    },
    {
     "cell_type": "code",
     "collapsed": false,
     "input": [
      "localized.asi8[0]"
     ],
     "language": "python",
     "metadata": {},
     "outputs": [
      {
       "metadata": {},
       "output_type": "pyout",
       "prompt_number": 93,
       "text": [
        "1107147600000000000"
       ]
      }
     ],
     "prompt_number": 93
    },
    {
     "cell_type": "code",
     "collapsed": false,
     "input": [
      "rng.asi8[0]"
     ],
     "language": "python",
     "metadata": {},
     "outputs": [
      {
       "metadata": {},
       "output_type": "pyout",
       "prompt_number": 94,
       "text": [
        "1107129600000000000"
       ]
      }
     ],
     "prompt_number": 94
    },
    {
     "cell_type": "code",
     "collapsed": false,
     "input": [
      "d_utc = d.tz_localize('UTC')\n",
      "d_utc"
     ],
     "language": "python",
     "metadata": {},
     "outputs": [
      {
       "metadata": {},
       "output_type": "pyout",
       "prompt_number": 95,
       "text": [
        "Timestamp('2005-01-31 00:00:00+0000', tz='UTC')"
       ]
      }
     ],
     "prompt_number": 95
    },
    {
     "cell_type": "code",
     "collapsed": false,
     "input": [
      "d_utc.tz_localize('US/Eastern')"
     ],
     "language": "python",
     "metadata": {},
     "outputs": [
      {
       "ename": "Exception",
       "evalue": "Cannot localize tz-aware Timestamp, use tz_convert for conversions",
       "output_type": "pyerr",
       "traceback": [
        "\u001b[1;31m---------------------------------------------------------------------------\u001b[0m\n\u001b[1;31mException\u001b[0m                                 Traceback (most recent call last)",
        "\u001b[1;32m<ipython-input-96-5747806c09b7>\u001b[0m in \u001b[0;36m<module>\u001b[1;34m()\u001b[0m\n\u001b[1;32m----> 1\u001b[1;33m \u001b[0md_utc\u001b[0m\u001b[1;33m.\u001b[0m\u001b[0mtz_localize\u001b[0m\u001b[1;33m(\u001b[0m\u001b[1;34m'US/Eastern'\u001b[0m\u001b[1;33m)\u001b[0m\u001b[1;33m\u001b[0m\u001b[0m\n\u001b[0m",
        "\u001b[1;32m/home/mad/env/local/lib/python2.7/site-packages/pandas/tslib.so\u001b[0m in \u001b[0;36mpandas.tslib.Timestamp.tz_localize (pandas/tslib.c:8198)\u001b[1;34m()\u001b[0m\n",
        "\u001b[1;31mException\u001b[0m: Cannot localize tz-aware Timestamp, use tz_convert for conversions"
       ]
      }
     ],
     "prompt_number": 96
    },
    {
     "cell_type": "markdown",
     "metadata": {},
     "source": [
      "####TZ conversions"
     ]
    },
    {
     "cell_type": "code",
     "collapsed": false,
     "input": [
      "localized.tz_convert('UTC')"
     ],
     "language": "python",
     "metadata": {},
     "outputs": []
    },
    {
     "cell_type": "code",
     "collapsed": false,
     "input": [
      "d_ny = d_utc.tz_convert('US/Eastern')\n",
      "d_ny"
     ],
     "language": "python",
     "metadata": {},
     "outputs": []
    },
    {
     "cell_type": "code",
     "collapsed": false,
     "input": [
      "rng.tz_convert('US/Eastern')"
     ],
     "language": "python",
     "metadata": {},
     "outputs": []
    },
    {
     "cell_type": "markdown",
     "metadata": {},
     "source": [
      "### Period representation"
     ]
    },
    {
     "cell_type": "markdown",
     "metadata": {},
     "source": [
      "A lot of time series data is better represented as intervals of time rather than points in time.\n",
      "\n",
      "This is represented in _pandas_ as Period and PeriodIndex"
     ]
    },
    {
     "cell_type": "markdown",
     "metadata": {},
     "source": [
      "####Creating periods"
     ]
    },
    {
     "cell_type": "code",
     "collapsed": false,
     "input": [
      "p = pd.Period('2005', 'A')\n",
      "p"
     ],
     "language": "python",
     "metadata": {},
     "outputs": []
    },
    {
     "cell_type": "code",
     "collapsed": false,
     "input": [
      "pd.Period('2006Q1', 'Q-MAR')"
     ],
     "language": "python",
     "metadata": {},
     "outputs": []
    },
    {
     "cell_type": "code",
     "collapsed": false,
     "input": [
      "pd.Period('2007-1-1', 'B')"
     ],
     "language": "python",
     "metadata": {},
     "outputs": []
    },
    {
     "cell_type": "markdown",
     "metadata": {},
     "source": [
      "No xxx-start frequencies"
     ]
    },
    {
     "cell_type": "code",
     "collapsed": false,
     "input": [
      "pd.Period('2005', 'AS')"
     ],
     "language": "python",
     "metadata": {},
     "outputs": []
    },
    {
     "cell_type": "markdown",
     "metadata": {},
     "source": [
      "####PeriodRange"
     ]
    },
    {
     "cell_type": "code",
     "collapsed": false,
     "input": [
      "pd.period_range('2005', '2012', freq='A')"
     ],
     "language": "python",
     "metadata": {},
     "outputs": []
    },
    {
     "cell_type": "code",
     "collapsed": false,
     "input": [
      "prng = pd.period_range('2005', periods=7, freq='A')\n",
      "prng"
     ],
     "language": "python",
     "metadata": {},
     "outputs": []
    },
    {
     "cell_type": "markdown",
     "metadata": {},
     "source": [
      "####Converting between representations"
     ]
    },
    {
     "cell_type": "code",
     "collapsed": false,
     "input": [
      "p"
     ],
     "language": "python",
     "metadata": {},
     "outputs": []
    },
    {
     "cell_type": "code",
     "collapsed": false,
     "input": [
      "p.to_timestamp()"
     ],
     "language": "python",
     "metadata": {},
     "outputs": []
    },
    {
     "cell_type": "code",
     "collapsed": false,
     "input": [
      "p.to_timestamp('M', 's')"
     ],
     "language": "python",
     "metadata": {},
     "outputs": []
    },
    {
     "cell_type": "code",
     "collapsed": false,
     "input": [
      "p.to_timestamp('M', 'e')"
     ],
     "language": "python",
     "metadata": {},
     "outputs": []
    },
    {
     "cell_type": "code",
     "collapsed": false,
     "input": [
      "prng.to_timestamp(how='e')"
     ],
     "language": "python",
     "metadata": {},
     "outputs": []
    },
    {
     "cell_type": "code",
     "collapsed": false,
     "input": [
      "prng.to_timestamp('M', 'e')"
     ],
     "language": "python",
     "metadata": {},
     "outputs": []
    },
    {
     "cell_type": "code",
     "collapsed": false,
     "input": [
      "rng"
     ],
     "language": "python",
     "metadata": {},
     "outputs": []
    },
    {
     "cell_type": "code",
     "collapsed": false,
     "input": [
      "rng.to_period()"
     ],
     "language": "python",
     "metadata": {},
     "outputs": []
    },
    {
     "cell_type": "code",
     "collapsed": false,
     "input": [
      "rng.to_period('D')"
     ],
     "language": "python",
     "metadata": {},
     "outputs": []
    },
    {
     "cell_type": "markdown",
     "metadata": {},
     "source": [
      "####Bugggg"
     ]
    },
    {
     "cell_type": "code",
     "collapsed": false,
     "input": [
      "p"
     ],
     "language": "python",
     "metadata": {},
     "outputs": []
    },
    {
     "cell_type": "code",
     "collapsed": false,
     "input": [
      "p.end_time"
     ],
     "language": "python",
     "metadata": {},
     "outputs": []
    },
    {
     "cell_type": "code",
     "collapsed": false,
     "input": [
      "datetime(2005, 12, 31, 10, 0, 0) < p.end_time # WAT?!"
     ],
     "language": "python",
     "metadata": {},
     "outputs": []
    },
    {
     "cell_type": "markdown",
     "metadata": {},
     "source": [
      "Look for a 0.9.1 bugfix release next week"
     ]
    },
    {
     "cell_type": "code",
     "collapsed": false,
     "input": [],
     "language": "python",
     "metadata": {},
     "outputs": []
    }
   ],
   "metadata": {}
  }
 ]
}