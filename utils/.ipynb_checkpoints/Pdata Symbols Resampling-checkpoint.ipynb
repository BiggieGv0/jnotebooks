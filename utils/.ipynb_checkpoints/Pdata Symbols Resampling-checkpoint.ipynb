{
 "cells": [
  {
   "cell_type": "code",
   "execution_count": 3,
   "metadata": {},
   "outputs": [
    {
     "ename": "ModuleNotFoundError",
     "evalue": "No module named 'marketdata.ext'",
     "output_type": "error",
     "traceback": [
      "\u001b[0;31m---------------------------------------------------------------------------\u001b[0m",
      "\u001b[0;31mModuleNotFoundError\u001b[0m                       Traceback (most recent call last)",
      "\u001b[0;32m<ipython-input-3-ca0f5ef9f784>\u001b[0m in \u001b[0;36m<module>\u001b[0;34m\u001b[0m\n\u001b[0;32m----> 1\u001b[0;31m \u001b[0;32mimport\u001b[0m \u001b[0mmarketdata\u001b[0m\u001b[0;34m.\u001b[0m\u001b[0mext\u001b[0m\u001b[0;34m\u001b[0m\u001b[0;34m\u001b[0m\u001b[0m\n\u001b[0m\u001b[1;32m      2\u001b[0m \u001b[0;32mimport\u001b[0m \u001b[0mmarketdata\u001b[0m\u001b[0;34m\u001b[0m\u001b[0;34m\u001b[0m\u001b[0m\n\u001b[1;32m      3\u001b[0m \u001b[0;32mimport\u001b[0m \u001b[0mcsv\u001b[0m\u001b[0;34m\u001b[0m\u001b[0;34m\u001b[0m\u001b[0m\n\u001b[1;32m      4\u001b[0m \u001b[0;32mfrom\u001b[0m \u001b[0mpyquant\u001b[0m\u001b[0;34m.\u001b[0m\u001b[0mdata\u001b[0m\u001b[0;34m.\u001b[0m\u001b[0mpandastools\u001b[0m \u001b[0;32mimport\u001b[0m \u001b[0mohlcv_resample\u001b[0m\u001b[0;34m\u001b[0m\u001b[0;34m\u001b[0m\u001b[0m\n\u001b[1;32m      5\u001b[0m \u001b[0;32mimport\u001b[0m \u001b[0mpandas\u001b[0m \u001b[0;32mas\u001b[0m \u001b[0mpd\u001b[0m\u001b[0;34m\u001b[0m\u001b[0;34m\u001b[0m\u001b[0m\n",
      "\u001b[0;31mModuleNotFoundError\u001b[0m: No module named 'marketdata.ext'"
     ]
    }
   ],
   "source": [
    "import marketdata.ext\n",
    "import marketdata\n",
    "import csv\n",
    "from pyquant.data.pandastools import ohlcv_resample\n",
    "import pandas as pd"
   ]
  },
  {
   "cell_type": "code",
   "execution_count": 67,
   "metadata": {},
   "outputs": [],
   "source": [
    "def get_symbol(symbol):\n",
    "    try:\n",
    "        price_b = marketdata.ext.load_mtiqf_f('/home/data/tmp/metotron/IQFEED/1MIN/STK/{s}_1.csv'.format(s=symbol))\n",
    "        price_b = price_b.between_time('9:30', '16:00').drop(['X'], axis = 1)\n",
    "        price_b = ohlcv_resample(price_b, '15min', fields=['O', 'H', 'L', 'C', 'V']).ix['2014-01-01':'2015.04.01']\n",
    "        price_b.to_csv(\"/home/mad/gaps/valid/{s}.csv\".format(s=symbol))\n",
    "    except Exception as exc:\n",
    "        print ('symbol %s error: %r' % (symbol, exc))\n",
    "        return\n",
    "\n",
    "with open('/home/mad/gaps/valid/symb.csv', 'rb') as f:\n",
    "    reader = csv.reader(f)\n",
    "    f2 = list(reader)\n",
    "\n",
    "for (i,) in f2:\n",
    "    get_symbol(\"{i}\".format(i=i))"
   ]
  },
  {
   "cell_type": "code",
   "execution_count": 65,
   "metadata": {},
   "outputs": [],
   "source": [
    "sym = 'FNFG'\n",
    "price_b = marketdata.ext.load_mtiqf_f('/home/data/tmp/metotron/IQFEED/1MIN/STK/%s_1.csv' % (sym,))\n",
    "price_b = price_b.drop('X', axis=1)\n",
    "price_b = price_b.between_time('9:30', '16:00')\n",
    "price_b = ohlcv_resample(price_b, '15min', fields=['O', 'H', 'L', 'C', 'V']).ix['2014-01-01':'2015.04.01']"
   ]
  },
  {
   "cell_type": "code",
   "execution_count": 66,
   "metadata": {},
   "outputs": [],
   "source": [
    "price_b.to_csv(\"/home/mad/gaps/valid/FNFG.csv\")"
   ]
  },
  {
   "cell_type": "code",
   "execution_count": 64,
   "metadata": {},
   "outputs": [],
   "source": [
    "#price_b = price_b.drop('X', axis=1)\n",
    "#price_b = price_b.between_time('9:30', '16:00')\n",
    "#ohlcv_resample?"
   ]
  },
  {
   "cell_type": "code",
   "execution_count": null,
   "metadata": {},
   "outputs": [],
   "source": []
  }
 ],
 "metadata": {
  "kernelspec": {
   "display_name": "Python 3",
   "language": "python",
   "name": "python3"
  },
  "language_info": {
   "codemirror_mode": {
    "name": "ipython",
    "version": 3
   },
   "file_extension": ".py",
   "mimetype": "text/x-python",
   "name": "python",
   "nbconvert_exporter": "python",
   "pygments_lexer": "ipython3",
   "version": "3.7.3"
  }
 },
 "nbformat": 4,
 "nbformat_minor": 1
}
