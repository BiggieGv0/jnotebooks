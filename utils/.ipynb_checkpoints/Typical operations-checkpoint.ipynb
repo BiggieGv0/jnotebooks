{
 "cells": [
  {
   "cell_type": "code",
   "execution_count": 1,
   "metadata": {},
   "outputs": [
    {
     "name": "stderr",
     "output_type": "stream",
     "text": [
      "/home/mad/env/local/lib/python2.7/site-packages/pytz/__init__.py:29: UserWarning: Module numpy was already imported from /usr/lib/pymodules/python2.7/numpy/__init__.pyc, but /home/mad/env/lib/python2.7/site-packages is being added to sys.path\n",
      "  from pkg_resources import resource_stream\n"
     ]
    }
   ],
   "source": [
    "import pandas as pd\n",
    "from pandas.io.data import DataReader\n",
    "import math\n",
    "from marketdata import ccomb"
   ]
  },
  {
   "cell_type": "code",
   "execution_count": 2,
   "metadata": {},
   "outputs": [],
   "source": [
    "#Yahoo data loading\n",
    "spy = DataReader('SPY', data_source='yahoo', start='2000')\n",
    "\n",
    "#Powerbase data loading\n",
    "a = ccomb.get_cc_bars('RTS', 'bar_timeframe_900'); \n",
    "a = ([v.start, v.o, v.h, v.l, v.c] for v in a); a = list(a)\n",
    "df = pd.DataFrame(a, columns =['TimeStamp', 'Open' , 'High', 'Low', 'Close'])\n",
    "#df = df.set_index(['TimeStamp'])\n",
    "\n",
    "#Quandl data loading\n",
    "#import Quandl\n",
    "#data = Quandl.get(\"GOOG/NYSE_IBM\", authtoken='qwePHAwSwRqpsEXaUpW7', returns=\"pandas\", collapse=\"weekly\")\n",
    "\n",
    "#Load PremiumData\n",
    "#import marketdata.ext\n",
    "#price_b = marketdata.ext.load_metotron(symbol)\n",
    "\n",
    "#Load minute PremiumData\n",
    "#marketdata.ext.load_mtiqf\n",
    "#tmp/mtdata.ipynb: \"data = ext.load_mtiqf('USDRUB')\""
   ]
  },
  {
   "cell_type": "code",
   "execution_count": 3,
   "metadata": {},
   "outputs": [],
   "source": [
    "#New vector and arifmetics operations\n",
    "spy['Typical'] = (spy.Open + spy.High + spy.Close) / 3"
   ]
  },
  {
   "cell_type": "code",
   "execution_count": 1,
   "metadata": {},
   "outputs": [],
   "source": [
    "#Deleting columns\n",
    "df = df.drop(['ColName1','ColName2'], axis =1)"
   ]
  },
  {
   "cell_type": "code",
   "execution_count": 5,
   "metadata": {},
   "outputs": [],
   "source": [
    "#Sorting\n",
    "sort = spy.sort(columns='Close')"
   ]
  },
  {
   "cell_type": "code",
   "execution_count": null,
   "metadata": {},
   "outputs": [],
   "source": [
    "#Filtering\n",
    "filt = spy.ix[spy.Volume > spy.Volume.quantile(0.7)].tail()"
   ]
  },
  {
   "cell_type": "code",
   "execution_count": null,
   "metadata": {},
   "outputs": [],
   "source": [
    "#Multy filter\n",
    "filt2 = spy.ix[(spy.Volume > spy.Volume.quantile(0.7)) & (spy.Volume < spy.Volume.quantile(0.9))]"
   ]
  },
  {
   "cell_type": "code",
   "execution_count": null,
   "metadata": {},
   "outputs": [],
   "source": [
    "#Shifting\n",
    "c = spy.Close\n",
    "first_diff = c - c.shift(1)\n",
    "first_diff_log = (c / c.shift(1)).apply(math.log)"
   ]
  },
  {
   "cell_type": "code",
   "execution_count": null,
   "metadata": {},
   "outputs": [],
   "source": [
    "#Slicing\n",
    "a = c[3000:]"
   ]
  },
  {
   "cell_type": "code",
   "execution_count": null,
   "metadata": {},
   "outputs": [],
   "source": [
    "#concat 2 pandas series\n",
    "pd.concat([s1, s2], axis=1)"
   ]
  },
  {
   "cell_type": "code",
   "execution_count": null,
   "metadata": {},
   "outputs": [],
   "source": [
    "#Resampling from days to monthses\n",
    "#print c.resample('M').tail()  ## mean\n",
    "#print c.resample('M', how='last').tail()  ## mean\n",
    "#print c.resample('M', how='ohlc').tail()  ## mean"
   ]
  },
  {
   "cell_type": "code",
   "execution_count": null,
   "metadata": {},
   "outputs": [],
   "source": [
    "#Samples of dayfiltering\n",
    "#day = spy.index.day\n",
    "#print spy.index.dayofweek\n",
    "#print spy.index.month"
   ]
  },
  {
   "cell_type": "code",
   "execution_count": null,
   "metadata": {},
   "outputs": [],
   "source": [
    "#Day of week filter\n",
    "dow = spy.ix[spy.index.dayofweek == 4].tail()"
   ]
  },
  {
   "cell_type": "code",
   "execution_count": 6,
   "metadata": {},
   "outputs": [
    {
     "data": {
      "text/html": [
       "<pre>\n",
       "&lt;class 'pandas.core.frame.DataFrame'&gt;\n",
       "DatetimeIndex: 3524 entries, 2009-03-09 00:00:00 to 2013-12-31 00:00:00\n",
       "Data columns (total 7 columns):\n",
       "Open         3524  non-null values\n",
       "High         3524  non-null values\n",
       "Low          3524  non-null values\n",
       "Close        3524  non-null values\n",
       "Volume       3524  non-null values\n",
       "Adj Close    3524  non-null values\n",
       "Typical      3524  non-null values\n",
       "dtypes: float64(6), int64(1)\n",
       "</pre>"
      ],
      "text/plain": [
       "<class 'pandas.core.frame.DataFrame'>\n",
       "DatetimeIndex: 3524 entries, 2009-03-09 00:00:00 to 2013-12-31 00:00:00\n",
       "Data columns (total 7 columns):\n",
       "Open         3524  non-null values\n",
       "High         3524  non-null values\n",
       "Low          3524  non-null values\n",
       "Close        3524  non-null values\n",
       "Volume       3524  non-null values\n",
       "Adj Close    3524  non-null values\n",
       "Typical      3524  non-null values\n",
       "dtypes: float64(6), int64(1)"
      ]
     },
     "execution_count": 6,
     "metadata": {},
     "output_type": "execute_result"
    }
   ],
   "source": [
    "#View in HTML table\n",
    "from IPython.display import HTML\n",
    "H = lambda df: HTML(price_b.head(100).to_html())\n",
    "tt = H(price_b)"
   ]
  },
  {
   "cell_type": "code",
   "execution_count": null,
   "metadata": {},
   "outputs": [],
   "source": [
    "#Filter with boolean vector using mask\n",
    "mask = (price_b['C'] > HHV)\n",
    "filtered = df.ix[mask]"
   ]
  },
  {
   "cell_type": "code",
   "execution_count": null,
   "metadata": {},
   "outputs": [],
   "source": [
    "#Check if any value in a series is true\n",
    "series.any()"
   ]
  },
  {
   "cell_type": "code",
   "execution_count": null,
   "metadata": {},
   "outputs": [],
   "source": [
    "#Selecting by datetime index\n",
    "import datetime as dt\n",
    "start = dx.index.searchsorted(dt.datetime(2000, 1, 3))\n",
    "df1 = df.ix[start:]\n",
    "\n",
    "#ИЛИ \n",
    "ddf1 = price_b.ix[dt.datetime(2009, 2, 1)]"
   ]
  },
  {
   "cell_type": "code",
   "execution_count": null,
   "metadata": {},
   "outputs": [],
   "source": [
    "#Example of creating empty dataframe without specifying index\n",
    "tempDF = pa.DataFrame(columns=(\"OpenDate\", \"CloseDate\", \"PriceOpen\", \"PriceClose\", \"PNL\"))\n",
    "initialdata = {\"OpenDate\":0, \"CloseDate\":0, \"PriceOpen\":0, \"PriceClose\":0, \"PNL\":0}\n",
    "tempDF = tempDF.append(initialdata, ignore_index=True)"
   ]
  },
  {
   "cell_type": "code",
   "execution_count": null,
   "metadata": {},
   "outputs": [],
   "source": [
    "#Using apply() to run function across all values in the column (or row)\n",
    "data.date = data.date.apply(lambda d: datetime.strptime(d, \"%Y-%m-%d\"))\n",
    "data.date.head()"
   ]
  },
  {
   "cell_type": "code",
   "execution_count": null,
   "metadata": {},
   "outputs": [],
   "source": [
    "#filter true values in ts\n",
    "ts[ts]"
   ]
  },
  {
   "cell_type": "code",
   "execution_count": null,
   "metadata": {},
   "outputs": [],
   "source": [
    "#reindexing from 0 to ...\n",
    "symblist = slist.reset_index(drop=True)"
   ]
  },
  {
   "cell_type": "code",
   "execution_count": null,
   "metadata": {},
   "outputs": [],
   "source": [
    "#adding formats to strings with old and new ways\n",
    "#old\n",
    "df.to_csv(\"/home/mad/gaps/valid/%s.csv\" % (s))\n",
    "#new\n",
    "df.to_csv(\"/home/mad/gaps/valid/{s}.csv\".format(s = s))"
   ]
  },
  {
   "cell_type": "code",
   "execution_count": null,
   "metadata": {},
   "outputs": [],
   "source": [
    "#delaet raschet kolichestva vhozhdeniy elementa v viborku, dlya vseh elementov\n",
    "from collections import Counter\n",
    "c = Counter(ba1.DecShift)"
   ]
  },
  {
   "cell_type": "code",
   "execution_count": 2,
   "metadata": {},
   "outputs": [
    {
     "ename": "NameError",
     "evalue": "name 'pa' is not defined",
     "output_type": "error",
     "traceback": [
      "\u001b[1;31m---------------------------------------------------------------------------\u001b[0m\n\u001b[1;31mNameError\u001b[0m                                 Traceback (most recent call last)",
      "\u001b[1;32m<ipython-input-2-f6252a984787>\u001b[0m in \u001b[0;36m<module>\u001b[1;34m()\u001b[0m\n\u001b[0;32m      3\u001b[0m     \u001b[1;32mreturn\u001b[0m \u001b[0mdecil\u001b[0m\u001b[1;33m(\u001b[0m\u001b[0mseries\u001b[0m\u001b[1;33m[\u001b[0m\u001b[1;33m:\u001b[0m\u001b[1;33m-\u001b[0m\u001b[1;36m1\u001b[0m\u001b[1;33m]\u001b[0m\u001b[1;33m,\u001b[0m \u001b[0mseries\u001b[0m\u001b[1;33m[\u001b[0m\u001b[1;33m-\u001b[0m\u001b[1;36m1\u001b[0m\u001b[1;33m]\u001b[0m\u001b[1;33m)\u001b[0m\u001b[1;33m\u001b[0m\u001b[0m\n\u001b[0;32m      4\u001b[0m \u001b[1;33m\u001b[0m\u001b[0m\n\u001b[1;32m----> 5\u001b[1;33m \u001b[0mba\u001b[0m\u001b[1;33m[\u001b[0m\u001b[1;34m'Decile'\u001b[0m\u001b[1;33m]\u001b[0m \u001b[1;33m=\u001b[0m \u001b[0mpa\u001b[0m\u001b[1;33m.\u001b[0m\u001b[0mrolling_apply\u001b[0m\u001b[1;33m(\u001b[0m\u001b[0mba\u001b[0m\u001b[1;33m.\u001b[0m\u001b[0mvolat\u001b[0m\u001b[1;33m,\u001b[0m \u001b[1;36m50\u001b[0m\u001b[1;33m,\u001b[0m \u001b[0mfta\u001b[0m\u001b[1;33m)\u001b[0m\u001b[1;33m\u001b[0m\u001b[0m\n\u001b[0m",
      "\u001b[1;31mNameError\u001b[0m: name 'pa' is not defined"
     ]
    }
   ],
   "source": [
    "#example of using rolling_apply() with custom function\n",
    "def fta(series):\n",
    "    return decil(series[:-1], series[-1])\n",
    "\n",
    "ba['Decile'] = pa.rolling_apply(ba.volat, 50, fta)"
   ]
  },
  {
   "cell_type": "code",
   "execution_count": null,
   "metadata": {},
   "outputs": [],
   "source": [
    "#write to excel file\n",
    "df.to_excel('path_to_file.xlsx', sheet_name='Sheet1')\n",
    "\n",
    "#to separates sheets\n",
    "with ExcelWriter('path_to_file.xlsx') as writer:\n",
    "    df1.to_excel(writer, sheet_name='Sheet1')\n",
    "    df2.to_excel(writer, sheet_name='Sheet2')"
   ]
  },
  {
   "cell_type": "code",
   "execution_count": null,
   "metadata": {},
   "outputs": [],
   "source": [
    "#iterating through rows\n",
    "for idx in pd2.index:\n",
    "    row = pd2.ix[idx]"
   ]
  },
  {
   "cell_type": "code",
   "execution_count": null,
   "metadata": {},
   "outputs": [],
   "source": [
    "#iterating trough list\n",
    "a = [i.isoweekday() for i in holidays_list]"
   ]
  },
  {
   "cell_type": "code",
   "execution_count": null,
   "metadata": {},
   "outputs": [],
   "source": [
    "#Сопоставление двух списков поэлементно\n",
    "zip(holidays_list, [i.isoweekday() for i in holidays_list])\n",
    "#or another example\n",
    "zip([1, 2, 3], ['a', 'b', 'c']) == [(1, 'a'), (2, 'b'), (3, 'c')]"
   ]
  },
  {
   "cell_type": "code",
   "execution_count": null,
   "metadata": {},
   "outputs": [],
   "source": [
    "#найти в датафрейме значение по индексу (используя дату) и без использования ix\n",
    "df.C.get(1996-01-05)"
   ]
  }
 ],
 "metadata": {
  "kernelspec": {
   "display_name": "Python 3",
   "language": "python",
   "name": "python3"
  },
  "language_info": {
   "codemirror_mode": {
    "name": "ipython",
    "version": 3
   },
   "file_extension": ".py",
   "mimetype": "text/x-python",
   "name": "python",
   "nbconvert_exporter": "python",
   "pygments_lexer": "ipython3",
   "version": "3.7.3"
  }
 },
 "nbformat": 4,
 "nbformat_minor": 1
}
