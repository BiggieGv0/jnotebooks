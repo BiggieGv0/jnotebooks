{
 "cells": [
  {
   "cell_type": "code",
   "execution_count": 1,
   "metadata": {},
   "outputs": [
    {
     "ename": "ModuleNotFoundError",
     "evalue": "No module named 'marketdata.ext'",
     "output_type": "error",
     "traceback": [
      "\u001b[0;31m---------------------------------------------------------------------------\u001b[0m",
      "\u001b[0;31mModuleNotFoundError\u001b[0m                       Traceback (most recent call last)",
      "\u001b[0;32m<ipython-input-1-e695e52584e5>\u001b[0m in \u001b[0;36m<module>\u001b[0;34m\u001b[0m\n\u001b[0;32m----> 1\u001b[0;31m \u001b[0;32mimport\u001b[0m \u001b[0mmarketdata\u001b[0m\u001b[0;34m.\u001b[0m\u001b[0mext\u001b[0m\u001b[0;34m\u001b[0m\u001b[0;34m\u001b[0m\u001b[0m\n\u001b[0m\u001b[1;32m      2\u001b[0m \u001b[0;32mimport\u001b[0m \u001b[0mmarketdata\u001b[0m\u001b[0;34m\u001b[0m\u001b[0;34m\u001b[0m\u001b[0m\n\u001b[1;32m      3\u001b[0m \u001b[0;32mimport\u001b[0m \u001b[0mcsv\u001b[0m\u001b[0;34m\u001b[0m\u001b[0;34m\u001b[0m\u001b[0m\n",
      "\u001b[0;31mModuleNotFoundError\u001b[0m: No module named 'marketdata.ext'"
     ]
    }
   ],
   "source": [
    "import marketdata.ext\n",
    "import marketdata\n",
    "import csv"
   ]
  },
  {
   "cell_type": "code",
   "execution_count": 12,
   "metadata": {},
   "outputs": [],
   "source": [
    "def get_symbol(symbol):\n",
    "    try:\n",
    "        price_b = marketdata.ext.load_metotron(symbol)\n",
    "        #price_b.to_csv(\"/home/mad/gaps/valid/%s.csv\" % (symbol))\n",
    "        price_b.to_csv(\"/home/mad/gaps/valid/{s}.csv\".format(s=symbol))\n",
    "    except Exception as exc:\n",
    "        print ('symbol %s error: %r' % (symbol, exc))\n",
    "        return\n",
    "\n",
    "with open('/home/mad/gaps/valid/symb.csv', 'rb') as f:\n",
    "    reader = csv.reader(f)\n",
    "    f2 = list(reader)\n",
    "\n",
    "for (i,) in f2:\n",
    "    get_symbol(\"{i}\".format(i=i))"
   ]
  }
 ],
 "metadata": {
  "kernelspec": {
   "display_name": "Python 3",
   "language": "python",
   "name": "python3"
  },
  "language_info": {
   "codemirror_mode": {
    "name": "ipython",
    "version": 3
   },
   "file_extension": ".py",
   "mimetype": "text/x-python",
   "name": "python",
   "nbconvert_exporter": "python",
   "pygments_lexer": "ipython3",
   "version": "3.7.3"
  }
 },
 "nbformat": 4,
 "nbformat_minor": 1
}
