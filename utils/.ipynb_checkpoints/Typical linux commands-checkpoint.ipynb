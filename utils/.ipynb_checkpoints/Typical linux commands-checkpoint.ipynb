{
 "metadata": {
  "name": "",
  "signature": "sha256:b85d83e03733891122ea8f0cba9a7013cfaffc849a8af50b740c2eda90058d41"
 },
 "nbformat": 3,
 "nbformat_minor": 0,
 "worksheets": [
  {
   "cells": [
    {
     "cell_type": "code",
     "collapsed": false,
     "input": [
      "#\u043f\u043e\u0438\u0441\u043a \u0444\u0430\u0439\u043b\u043e\u0432 \u043f\u043e \u043c\u0430\u0441\u043a\u0435\n",
      "find . -name '*V13*'"
     ],
     "language": "python",
     "metadata": {},
     "outputs": []
    }
   ],
   "metadata": {}
  }
 ]
}