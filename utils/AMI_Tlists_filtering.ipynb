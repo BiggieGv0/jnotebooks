{
 "metadata": {
  "name": ""
 },
 "nbformat": 3,
 "nbformat_minor": 0,
 "worksheets": [
  {
   "cells": [
    {
     "cell_type": "code",
     "collapsed": false,
     "input": [
      "\n",
      "import marketdata.ext as ext\n",
      "\n",
      "_iqcache = {}\n",
      "def _iqfload(sym):\n",
      "    res = _iqcache.get(sym)\n",
      "    if res is None:\n",
      "        res = ext.load_iqfdl1(sym)\n",
      "        #_iqcache[sym] = res  ## ... caching them *all* takes too much memory though.\n",
      "    return res\n"
     ],
     "language": "python",
     "metadata": {},
     "outputs": [
      {
       "output_type": "stream",
       "stream": "stderr",
       "text": [
        "/usr/local/lib/python2.7/dist-packages/pytz/__init__.py:29: UserWarning: Module numpy was already imported from /usr/lib/pymodules/python2.7/numpy/__init__.pyc, but /usr/local/lib/python2.7/dist-packages is being added to sys.path\n",
        "  from pkg_resources import resource_stream\n"
       ]
      }
     ],
     "prompt_number": 1
    },
    {
     "cell_type": "code",
     "collapsed": false,
     "input": [
      "import pandas\n",
      "import pybacktest as pbt\n",
      "from IPython.display import HTML\n",
      "\n",
      "name = '141.csv'\n",
      "df1 = pandas.read_csv('/home/mad/gaps/' + name, parse_dates=['Date'])\n",
      "\n",
      "x = df1\n",
      "\n",
      "df1 = df1.set_index('Date').drop('Unnamed: 4', axis=1)\n",
      "df1['vol'] = [1 if l['Trade'] in ('Buy', 'Cover') else -1 if l['Trade'] in ('Sell', 'Short') else float('nan') for idx, l in df1.iterrows()]\n",
      "#fdf = lambda df: pandas.DataFrame(df, columns='Close vol'.split()).rename_axis(mapper=dict(Close='price'))\n",
      "\n",
      "\n",
      "def _fdf(df):\n",
      "    sym = df['Symbol'][0]\n",
      "    assert all([v == sym for v in list(df['Symbol'])])\n",
      "\n",
      "    df = df.drop(['Symbol', 'Trade'], axis=1).rename(columns={'Close': 'price'})\n",
      "\n",
      "    ### Price from the external data\n",
      "    ## NOTE: assuming symbol is in format 'dump_XXX_300' and the data exists\n",
      "    ohlc = _iqfload(sym)\n",
      "    prices = ohlc.O\n",
      "    df['price'] = prices.ix[df.index]\n",
      "\n",
      "    df['pos'] = df.vol.cumsum()\n",
      "    return df\n",
      "\n",
      "\n",
      "def _trades_to_stats(df):\n",
      "\n",
      "    df = _fdf(df)\n",
      "    eq = pbt.parts.trades_to_equity(df)\n",
      "    eq = eq[eq != 0]\n",
      "    s = {'av': pbt.performance.average(eq),\n",
      "        'winrate': pbt.performance.winrate(eq),\n",
      "        'pf': pbt.performance.pf(eq),\n",
      "        'maxdd': pbt.performance.maxdd(eq),\n",
      "        'net': eq.sum(),\n",
      "        'trades': pbt.performance.trades(eq),\n",
      "        'sharpe': pbt.performance.sharpe(eq),\n",
      "        'sortino': pbt.performance.sortino(eq),\n",
      "        'rf': pbt.performance.RF(eq)}\n",
      "    return s\n",
      "\n",
      "show = lambda d: HTML(d.to_html())\n",
      "from IPython.display import display, HTML\n",
      "H = lambda df: display(HTML(df.tail(500).to_html()))\n"
     ],
     "language": "python",
     "metadata": {},
     "outputs": [],
     "prompt_number": 12
    },
    {
     "cell_type": "code",
     "collapsed": false,
     "input": [
      "stats = {}\n",
      "def _run():\n",
      "    for sym, df in df1.groupby('Symbol'):\n",
      "        try:\n",
      "            print \"D: sym\", sym\n",
      "            stats[sym] = _trades_to_stats(df)\n",
      "        except Exception as e:\n",
      "            print \"t2s error:\", sym, \" | \", e\n",
      "            pass\n",
      "\n",
      "_run()\n"
     ],
     "language": "python",
     "metadata": {},
     "outputs": [
      {
       "output_type": "stream",
       "stream": "stdout",
       "text": [
        "D: sym dump_AA_300\n",
        "D: sym"
       ]
      },
      {
       "output_type": "stream",
       "stream": "stdout",
       "text": [
        " dump_AA_900\n",
        "D: sym"
       ]
      },
      {
       "output_type": "stream",
       "stream": "stdout",
       "text": [
        " dump_ABBV_300\n",
        "D: sym dump_ABB_300\n",
        "D: sym"
       ]
      },
      {
       "output_type": "stream",
       "stream": "stdout",
       "text": [
        " dump_ABT_300\n",
        "D: sym"
       ]
      },
      {
       "output_type": "stream",
       "stream": "stdout",
       "text": [
        " dump_ABV_300\n",
        "D: sym"
       ]
      },
      {
       "output_type": "stream",
       "stream": "stdout",
       "text": [
        " dump_ABX_300\n",
        "D: sym"
       ]
      },
      {
       "output_type": "stream",
       "stream": "stdout",
       "text": [
        " dump_ACAD_300\n",
        "D: sym"
       ]
      },
      {
       "output_type": "stream",
       "stream": "stdout",
       "text": [
        " dump_ACAS_300\n",
        "D: sym"
       ]
      },
      {
       "output_type": "stream",
       "stream": "stdout",
       "text": [
        " dump_ACCO_300\n",
        "D: sym"
       ]
      },
      {
       "output_type": "stream",
       "stream": "stdout",
       "text": [
        " dump_ACHN_300\n",
        "D: sym"
       ]
      },
      {
       "output_type": "stream",
       "stream": "stdout",
       "text": [
        " dump_ACI_300\n",
        "D: sym"
       ]
      },
      {
       "output_type": "stream",
       "stream": "stdout",
       "text": [
        " dump_ADBE_300\n",
        "D: sym"
       ]
      },
      {
       "output_type": "stream",
       "stream": "stdout",
       "text": [
        " dump_ADI_300\n",
        "D: sym"
       ]
      },
      {
       "output_type": "stream",
       "stream": "stdout",
       "text": [
        " dump_ADM_300\n",
        "D: sym"
       ]
      },
      {
       "output_type": "stream",
       "stream": "stdout",
       "text": [
        " dump_ADSK_300\n",
        "D: sym"
       ]
      },
      {
       "output_type": "stream",
       "stream": "stdout",
       "text": [
        " dump_ADT_300\n",
        "D: sym dump_AEE_300\n",
        "D: sym"
       ]
      },
      {
       "output_type": "stream",
       "stream": "stdout",
       "text": [
        " dump_AEG_300\n",
        "D: sym"
       ]
      },
      {
       "output_type": "stream",
       "stream": "stdout",
       "text": [
        " dump_AEM_300\n",
        "D: sym"
       ]
      },
      {
       "output_type": "stream",
       "stream": "stdout",
       "text": [
        " dump_AEO_300\n",
        "D: sym"
       ]
      },
      {
       "output_type": "stream",
       "stream": "stdout",
       "text": [
        " dump_AEP_300\n",
        "D: sym"
       ]
      },
      {
       "output_type": "stream",
       "stream": "stdout",
       "text": [
        " dump_AES_300\n",
        "D: sym"
       ]
      },
      {
       "output_type": "stream",
       "stream": "stdout",
       "text": [
        " dump_AFFY_300\n",
        "D: sym"
       ]
      },
      {
       "output_type": "stream",
       "stream": "stdout",
       "text": [
        " dump_AGNC_300\n",
        "D: sym"
       ]
      },
      {
       "output_type": "stream",
       "stream": "stdout",
       "text": [
        " dump_AGO_300\n",
        "D: sym"
       ]
      },
      {
       "output_type": "stream",
       "stream": "stdout",
       "text": [
        " dump_AGQ_300\n",
        "D: sym"
       ]
      },
      {
       "output_type": "stream",
       "stream": "stdout",
       "text": [
        " dump_AG_300\n",
        "D: sym"
       ]
      },
      {
       "output_type": "stream",
       "stream": "stdout",
       "text": [
        " dump_AIG_300\n",
        "D: sym"
       ]
      },
      {
       "output_type": "stream",
       "stream": "stdout",
       "text": [
        " dump_AINV_300\n",
        "D: sym"
       ]
      },
      {
       "output_type": "stream",
       "stream": "stdout",
       "text": [
        " dump_AIV_300\n",
        "D: sym"
       ]
      },
      {
       "output_type": "stream",
       "stream": "stdout",
       "text": [
        " dump_AKAM_300\n",
        "D: sym"
       ]
      },
      {
       "output_type": "stream",
       "stream": "stdout",
       "text": [
        " dump_AKS_300\n",
        "D: sym"
       ]
      },
      {
       "output_type": "stream",
       "stream": "stdout",
       "text": [
        " dump_ALKS_300\n",
        "D: sym"
       ]
      },
      {
       "output_type": "stream",
       "stream": "stdout",
       "text": [
        " dump_ALTR_300\n",
        "D: sym"
       ]
      },
      {
       "output_type": "stream",
       "stream": "stdout",
       "text": [
        " dump_ALU_300\n",
        "D: sym"
       ]
      },
      {
       "output_type": "stream",
       "stream": "stdout",
       "text": [
        " dump_AMAT_300\n",
        "D: sym"
       ]
      },
      {
       "output_type": "stream",
       "stream": "stdout",
       "text": [
        " dump_AMD_300\n",
        "D: sym"
       ]
      },
      {
       "output_type": "stream",
       "stream": "stdout",
       "text": [
        " dump_AMKR_300\n",
        "D: sym"
       ]
      },
      {
       "output_type": "stream",
       "stream": "stdout",
       "text": [
        " dump_AMLP_300\n",
        "D: sym"
       ]
      },
      {
       "output_type": "stream",
       "stream": "stdout",
       "text": [
        " dump_AMRN_300\n",
        "D: sym"
       ]
      },
      {
       "output_type": "stream",
       "stream": "stdout",
       "text": [
        " dump_AMTD_300\n",
        "D: sym"
       ]
      },
      {
       "output_type": "stream",
       "stream": "stdout",
       "text": [
        " dump_AMX_300\n",
        "D: sym"
       ]
      },
      {
       "output_type": "stream",
       "stream": "stdout",
       "text": [
        " dump_ANGI_300\n",
        "D: sym"
       ]
      },
      {
       "output_type": "stream",
       "stream": "stdout",
       "text": [
        " dump_ANH_300\n",
        "D: sym"
       ]
      },
      {
       "output_type": "stream",
       "stream": "stdout",
       "text": [
        " dump_ANN_300\n",
        "D: sym"
       ]
      },
      {
       "output_type": "stream",
       "stream": "stdout",
       "text": [
        " dump_ANR_300\n",
        "D: sym"
       ]
      },
      {
       "output_type": "stream",
       "stream": "stdout",
       "text": [
        " dump_ANV_300\n",
        "D: sym"
       ]
      },
      {
       "output_type": "stream",
       "stream": "stdout",
       "text": [
        " dump_AOD_300\n",
        "D: sym"
       ]
      },
      {
       "output_type": "stream",
       "stream": "stdout",
       "text": [
        " dump_AOL_300\n",
        "D: sym"
       ]
      },
      {
       "output_type": "stream",
       "stream": "stdout",
       "text": [
        " dump_APOL_300\n",
        "D: sym"
       ]
      },
      {
       "output_type": "stream",
       "stream": "stdout",
       "text": [
        " dump_APO_300\n",
        "D: sym"
       ]
      },
      {
       "output_type": "stream",
       "stream": "stdout",
       "text": [
        " dump_APPA_300\n",
        "D: sym"
       ]
      },
      {
       "output_type": "stream",
       "stream": "stdout",
       "text": [
        " dump_ARAY_300\n",
        "D: sym"
       ]
      },
      {
       "output_type": "stream",
       "stream": "stdout",
       "text": [
        " dump_ARCC_300\n",
        "D: sym"
       ]
      },
      {
       "output_type": "stream",
       "stream": "stdout",
       "text": [
        " dump_ARCP_300\n",
        "D: sym dump_ARIA_300\n",
        "D: sym"
       ]
      },
      {
       "output_type": "stream",
       "stream": "stdout",
       "text": [
        " dump_ARMH_300\n",
        "D: sym"
       ]
      },
      {
       "output_type": "stream",
       "stream": "stdout",
       "text": [
        " dump_ARNA_300\n",
        "D: sym"
       ]
      },
      {
       "output_type": "stream",
       "stream": "stdout",
       "text": [
        " dump_ARO_300\n",
        "D: sym"
       ]
      },
      {
       "output_type": "stream",
       "stream": "stdout",
       "text": [
        " dump_ARRS_300\n",
        "D: sym"
       ]
      },
      {
       "output_type": "stream",
       "stream": "stdout",
       "text": [
        " dump_ARRY_300\n",
        "D: sym"
       ]
      },
      {
       "output_type": "stream",
       "stream": "stdout",
       "text": [
        " dump_ARR_300\n",
        "D: sym"
       ]
      },
      {
       "output_type": "stream",
       "stream": "stdout",
       "text": [
        " dump_ARUN_300\n",
        "D: sym"
       ]
      },
      {
       "output_type": "stream",
       "stream": "stdout",
       "text": [
        " dump_ASNA_300\n",
        "D: sym"
       ]
      },
      {
       "output_type": "stream",
       "stream": "stdout",
       "text": [
        " dump_ASTX_300\n",
        "D: sym"
       ]
      },
      {
       "output_type": "stream",
       "stream": "stdout",
       "text": [
        " dump_ATI_300\n",
        "D: sym"
       ]
      },
      {
       "output_type": "stream",
       "stream": "stdout",
       "text": [
        " dump_ATML_300\n",
        "D: sym"
       ]
      },
      {
       "output_type": "stream",
       "stream": "stdout",
       "text": [
        " dump_ATVI_300\n",
        "D: sym"
       ]
      },
      {
       "output_type": "stream",
       "stream": "stdout",
       "text": [
        " dump_AT_300\n",
        "D: sym"
       ]
      },
      {
       "output_type": "stream",
       "stream": "stdout",
       "text": [
        " dump_AUO_300\n",
        "D: sym"
       ]
      },
      {
       "output_type": "stream",
       "stream": "stdout",
       "text": [
        " dump_AUQ_300\n",
        "D: sym"
       ]
      },
      {
       "output_type": "stream",
       "stream": "stdout",
       "text": [
        " dump_AUY_300\n",
        "D: sym"
       ]
      },
      {
       "output_type": "stream",
       "stream": "stdout",
       "text": [
        " dump_AU_300\n",
        "D: sym"
       ]
      },
      {
       "output_type": "stream",
       "stream": "stdout",
       "text": [
        " dump_AVEO_300\n",
        "D: sym"
       ]
      },
      {
       "output_type": "stream",
       "stream": "stdout",
       "text": [
        " dump_AVGO_300\n",
        "D: sym"
       ]
      },
      {
       "output_type": "stream",
       "stream": "stdout",
       "text": [
        " dump_AVNR_300\n",
        "D: sym"
       ]
      },
      {
       "output_type": "stream",
       "stream": "stdout",
       "text": [
        " dump_AVP_300\n",
        "D: sym"
       ]
      },
      {
       "output_type": "stream",
       "stream": "stdout",
       "text": [
        " dump_AWAY_300\n",
        "D: sym"
       ]
      },
      {
       "output_type": "stream",
       "stream": "stdout",
       "text": [
        " dump_AXLL_300\n",
        "D: sym"
       ]
      },
      {
       "output_type": "stream",
       "stream": "stdout",
       "text": [
        " dump_AXL_300\n",
        "D: sym"
       ]
      },
      {
       "output_type": "stream",
       "stream": "stdout",
       "text": [
        " dump_A_300\n",
        "D: sym"
       ]
      },
      {
       "output_type": "stream",
       "stream": "stdout",
       "text": [
        " dump_BAC_300\n",
        "D: sym"
       ]
      },
      {
       "output_type": "stream",
       "stream": "stdout",
       "text": [
        " dump_BAM_300\n",
        "D: sym"
       ]
      },
      {
       "output_type": "stream",
       "stream": "stdout",
       "text": [
        " dump_BAS_300\n",
        "D: sym"
       ]
      },
      {
       "output_type": "stream",
       "stream": "stdout",
       "text": [
        " dump_BBD_300\n",
        "D: sym"
       ]
      },
      {
       "output_type": "stream",
       "stream": "stdout",
       "text": [
        " dump_BBG_300\n",
        "D: sym"
       ]
      },
      {
       "output_type": "stream",
       "stream": "stdout",
       "text": [
        " dump_BBRY_300\n",
        "D: sym"
       ]
      },
      {
       "output_type": "stream",
       "stream": "stdout",
       "text": [
        " dump_BBT_300\n",
        "D: sym"
       ]
      },
      {
       "output_type": "stream",
       "stream": "stdout",
       "text": [
        " dump_BBVA_300\n",
        "D: sym"
       ]
      },
      {
       "output_type": "stream",
       "stream": "stdout",
       "text": [
        " dump_BBY_300\n",
        "D: sym"
       ]
      },
      {
       "output_type": "stream",
       "stream": "stdout",
       "text": [
        " dump_BCRX_300\n",
        "D: sym"
       ]
      },
      {
       "output_type": "stream",
       "stream": "stdout",
       "text": [
        " dump_BCS_300\n",
        "D: sym"
       ]
      },
      {
       "output_type": "stream",
       "stream": "stdout",
       "text": [
        " dump_BDBD_300\n",
        "D: sym"
       ]
      },
      {
       "output_type": "stream",
       "stream": "stdout",
       "text": [
        " dump_BDN_300\n",
        "D: sym"
       ]
      },
      {
       "output_type": "stream",
       "stream": "stdout",
       "text": [
        " dump_BEE_300\n",
        "D: sym"
       ]
      },
      {
       "output_type": "stream",
       "stream": "stdout",
       "text": [
        " dump_BGCP_300\n",
        "D: sym"
       ]
      },
      {
       "output_type": "stream",
       "stream": "stdout",
       "text": [
        " dump_BHI_300\n",
        "D: sym"
       ]
      },
      {
       "output_type": "stream",
       "stream": "stdout",
       "text": [
        " dump_BID_300\n",
        "D: sym"
       ]
      },
      {
       "output_type": "stream",
       "stream": "stdout",
       "text": [
        " dump_BKD_300\n",
        "D: sym"
       ]
      },
      {
       "output_type": "stream",
       "stream": "stdout",
       "text": [
        " dump_BKLN_300\n",
        "D: sym"
       ]
      },
      {
       "output_type": "stream",
       "stream": "stdout",
       "text": [
        " dump_BKS_300\n",
        "D: sym"
       ]
      },
      {
       "output_type": "stream",
       "stream": "stdout",
       "text": [
        " dump_BK_300\n",
        "D: sym"
       ]
      },
      {
       "output_type": "stream",
       "stream": "stdout",
       "text": [
        " dump_BMC_300\n",
        "D: sym"
       ]
      },
      {
       "output_type": "stream",
       "stream": "stdout",
       "text": [
        " dump_BMR_300\n",
        "D: sym"
       ]
      },
      {
       "output_type": "stream",
       "stream": "stdout",
       "text": [
        " dump_BMY_300\n",
        "D: sym"
       ]
      },
      {
       "output_type": "stream",
       "stream": "stdout",
       "text": [
        " dump_BPO_300\n",
        "D: sym"
       ]
      },
      {
       "output_type": "stream",
       "stream": "stdout",
       "text": [
        " dump_BP_300\n",
        "D: sym"
       ]
      },
      {
       "output_type": "stream",
       "stream": "stdout",
       "text": [
        " dump_BRCD_300\n",
        "D: sym"
       ]
      },
      {
       "output_type": "stream",
       "stream": "stdout",
       "text": [
        " dump_BRCM_300\n",
        "D: sym"
       ]
      },
      {
       "output_type": "stream",
       "stream": "stdout",
       "text": [
        " dump_BRFS_300\n",
        "D: sym"
       ]
      },
      {
       "output_type": "stream",
       "stream": "stdout",
       "text": [
        " dump_BSBR_300\n",
        "D: sym"
       ]
      },
      {
       "output_type": "stream",
       "stream": "stdout",
       "text": [
        " dump_BSFT_300\n",
        "D: sym"
       ]
      },
      {
       "output_type": "stream",
       "stream": "stdout",
       "text": [
        " dump_BSMX_300\n",
        "D: sym dump_BSX_300\n",
        "D: sym"
       ]
      },
      {
       "output_type": "stream",
       "stream": "stdout",
       "text": [
        " dump_BTU_300\n",
        "D: sym"
       ]
      },
      {
       "output_type": "stream",
       "stream": "stdout",
       "text": [
        " dump_BVN_300\n",
        "D: sym"
       ]
      },
      {
       "output_type": "stream",
       "stream": "stdout",
       "text": [
        " dump_BX_300\n",
        "D: sym"
       ]
      },
      {
       "output_type": "stream",
       "stream": "stdout",
       "text": [
        " dump_BYD_300\n",
        "D: sym"
       ]
      },
      {
       "output_type": "stream",
       "stream": "stdout",
       "text": [
        " dump_BZH_300\n",
        "D: sym"
       ]
      },
      {
       "output_type": "stream",
       "stream": "stdout",
       "text": [
        " dump_CAG_300\n",
        "D: sym"
       ]
      },
      {
       "output_type": "stream",
       "stream": "stdout",
       "text": [
        " dump_CAH_300\n",
        "D: sym"
       ]
      },
      {
       "output_type": "stream",
       "stream": "stdout",
       "text": [
        " dump_CAR_300\n",
        "D: sym"
       ]
      },
      {
       "output_type": "stream",
       "stream": "stdout",
       "text": [
        " dump_CA_300\n",
        "D: sym"
       ]
      },
      {
       "output_type": "stream",
       "stream": "stdout",
       "text": [
        " dump_CBB_300\n",
        "D: sym"
       ]
      },
      {
       "output_type": "stream",
       "stream": "stdout",
       "text": [
        " dump_CBG_300\n",
        "D: sym"
       ]
      },
      {
       "output_type": "stream",
       "stream": "stdout",
       "text": [
        " dump_CBL_300\n",
        "D: sym"
       ]
      },
      {
       "output_type": "stream",
       "stream": "stdout",
       "text": [
        " dump_CCE_300\n",
        "D: sym"
       ]
      },
      {
       "output_type": "stream",
       "stream": "stdout",
       "text": [
        " dump_CCJ_300\n",
        "D: sym"
       ]
      },
      {
       "output_type": "stream",
       "stream": "stdout",
       "text": [
        " dump_CCL_300\n",
        "D: sym"
       ]
      },
      {
       "output_type": "stream",
       "stream": "stdout",
       "text": [
        " dump_CDE_300\n",
        "D: sym"
       ]
      },
      {
       "output_type": "stream",
       "stream": "stdout",
       "text": [
        " dump_CDNS_300\n",
        "D: sym"
       ]
      },
      {
       "output_type": "stream",
       "stream": "stdout",
       "text": [
        " dump_CEF_300\n",
        "D: sym"
       ]
      },
      {
       "output_type": "stream",
       "stream": "stdout",
       "text": [
        " dump_CENX_300\n",
        "D: sym"
       ]
      },
      {
       "output_type": "stream",
       "stream": "stdout",
       "text": [
        " dump_CERP_300\n",
        "D: sym"
       ]
      },
      {
       "output_type": "stream",
       "stream": "stdout",
       "text": [
        " dump_CE_300\n",
        "D: sym"
       ]
      },
      {
       "output_type": "stream",
       "stream": "stdout",
       "text": [
        " dump_CFN_300\n",
        "D: sym"
       ]
      },
      {
       "output_type": "stream",
       "stream": "stdout",
       "text": [
        " dump_CHK_300\n",
        "D: sym"
       ]
      },
      {
       "output_type": "stream",
       "stream": "stdout",
       "text": [
        " dump_CHS_300\n",
        "D: sym"
       ]
      },
      {
       "output_type": "stream",
       "stream": "stdout",
       "text": [
        " dump_CHTP_300\n",
        "D: sym"
       ]
      },
      {
       "output_type": "stream",
       "stream": "stdout",
       "text": [
        " dump_CIEN_300\n",
        "D: sym"
       ]
      },
      {
       "output_type": "stream",
       "stream": "stdout",
       "text": [
        " dump_CIE_300\n",
        "D: sym"
       ]
      },
      {
       "output_type": "stream",
       "stream": "stdout",
       "text": [
        " dump_CIG_300\n",
        "D: sym"
       ]
      },
      {
       "output_type": "stream",
       "stream": "stdout",
       "text": [
        " dump_CIM_300\n",
        "D: sym"
       ]
      },
      {
       "output_type": "stream",
       "stream": "stdout",
       "text": [
        " dump_CIT_300\n",
        "D: sym"
       ]
      },
      {
       "output_type": "stream",
       "stream": "stdout",
       "text": [
        " dump_CLDX_300\n",
        "D: sym"
       ]
      },
      {
       "output_type": "stream",
       "stream": "stdout",
       "text": [
        " dump_CLGX_300\n",
        "D: sym"
       ]
      },
      {
       "output_type": "stream",
       "stream": "stdout",
       "text": [
        " dump_CLNE_300\n",
        "D: sym"
       ]
      },
      {
       "output_type": "stream",
       "stream": "stdout",
       "text": [
        " dump_CLSN_300\n",
        "D: sym"
       ]
      },
      {
       "output_type": "stream",
       "stream": "stdout",
       "text": [
        " dump_CLWR_300\n",
        "D: sym"
       ]
      },
      {
       "output_type": "stream",
       "stream": "stdout",
       "text": [
        " dump_CMA_300\n",
        "D: sym"
       ]
      },
      {
       "output_type": "stream",
       "stream": "stdout",
       "text": [
        " dump_CMCSA_300\n",
        "D: sym"
       ]
      },
      {
       "output_type": "stream",
       "stream": "stdout",
       "text": [
        " dump_CMC_300\n",
        "D: sym"
       ]
      },
      {
       "output_type": "stream",
       "stream": "stdout",
       "text": [
        " dump_CMS_300\n",
        "D: sym"
       ]
      },
      {
       "output_type": "stream",
       "stream": "stdout",
       "text": [
        " dump_CNO_300\n",
        "D: sym"
       ]
      },
      {
       "output_type": "stream",
       "stream": "stdout",
       "text": [
        " dump_CNP_300\n",
        "D: sym"
       ]
      },
      {
       "output_type": "stream",
       "stream": "stdout",
       "text": [
        " dump_CNQ_300\n",
        "D: sym"
       ]
      },
      {
       "output_type": "stream",
       "stream": "stdout",
       "text": [
        " dump_CNX_300\n",
        "D: sym"
       ]
      },
      {
       "output_type": "stream",
       "stream": "stdout",
       "text": [
        " dump_COCO_300\n",
        "D: sym"
       ]
      },
      {
       "output_type": "stream",
       "stream": "stdout",
       "text": [
        " dump_CPB_300\n",
        "D: sym"
       ]
      },
      {
       "output_type": "stream",
       "stream": "stdout",
       "text": [
        " dump_CPN_300\n",
        "D: sym"
       ]
      },
      {
       "output_type": "stream",
       "stream": "stdout",
       "text": [
        " dump_CPST_300\n",
        "D: sym"
       ]
      },
      {
       "output_type": "stream",
       "stream": "stdout",
       "text": [
        " dump_CPWR_300\n",
        "D: sym"
       ]
      },
      {
       "output_type": "stream",
       "stream": "stdout",
       "text": [
        " dump_CRK_300\n",
        "D: sym"
       ]
      },
      {
       "output_type": "stream",
       "stream": "stdout",
       "text": [
        " dump_CRM_300\n",
        "D: sym"
       ]
      },
      {
       "output_type": "stream",
       "stream": "stdout",
       "text": [
        " dump_CROX_300\n",
        "D: sym"
       ]
      },
      {
       "output_type": "stream",
       "stream": "stdout",
       "text": [
        " dump_CRUS_300\n",
        "D: sym"
       ]
      },
      {
       "output_type": "stream",
       "stream": "stdout",
       "text": [
        " dump_CSCO_300\n",
        "D: sym"
       ]
      },
      {
       "output_type": "stream",
       "stream": "stdout",
       "text": [
        " dump_CSC_300\n",
        "D: sym"
       ]
      },
      {
       "output_type": "stream",
       "stream": "stdout",
       "text": [
        " dump_CSE_300\n",
        "D: sym"
       ]
      },
      {
       "output_type": "stream",
       "stream": "stdout",
       "text": [
        " dump_CSX_300\n",
        "D: sym"
       ]
      },
      {
       "output_type": "stream",
       "stream": "stdout",
       "text": [
        " dump_CS_300\n",
        "D: sym"
       ]
      },
      {
       "output_type": "stream",
       "stream": "stdout",
       "text": [
        " dump_CTL_300\n",
        "D: sym"
       ]
      },
      {
       "output_type": "stream",
       "stream": "stdout",
       "text": [
        " dump_CTRP_300\n",
        "D: sym"
       ]
      },
      {
       "output_type": "stream",
       "stream": "stdout",
       "text": [
        " dump_CUBE_300\n",
        "D: sym"
       ]
      },
      {
       "output_type": "stream",
       "stream": "stdout",
       "text": [
        " dump_CUZ_300\n",
        "D: sym"
       ]
      },
      {
       "output_type": "stream",
       "stream": "stdout",
       "text": [
        " dump_CVC_300\n",
        "D: sym"
       ]
      },
      {
       "output_type": "stream",
       "stream": "stdout",
       "text": [
        " dump_CVE_300\n",
        "D: sym"
       ]
      },
      {
       "output_type": "stream",
       "stream": "stdout",
       "text": [
        " dump_CVM_300\n",
        "D: sym"
       ]
      },
      {
       "output_type": "stream",
       "stream": "stdout",
       "text": [
        " dump_CWH_300\n",
        "D: sym"
       ]
      },
      {
       "output_type": "stream",
       "stream": "stdout",
       "text": [
        " dump_CXW_300\n",
        "D: sym"
       ]
      },
      {
       "output_type": "stream",
       "stream": "stdout",
       "text": [
        " dump_CX_300\n",
        "D: sym"
       ]
      },
      {
       "output_type": "stream",
       "stream": "stdout",
       "text": [
        " dump_CYH_300\n",
        "D: sym"
       ]
      },
      {
       "output_type": "stream",
       "stream": "stdout",
       "text": [
        " dump_CYS_300\n",
        "D: sym"
       ]
      },
      {
       "output_type": "stream",
       "stream": "stdout",
       "text": [
        " dump_CYTK_300\n",
        "D: sym"
       ]
      },
      {
       "output_type": "stream",
       "stream": "stdout",
       "text": [
        " dump_CY_300\n",
        "D: sym"
       ]
      },
      {
       "output_type": "stream",
       "stream": "stdout",
       "text": [
        " dump_CZR_300\n",
        "D: sym dump_CZZ_300\n",
        "D: sym"
       ]
      },
      {
       "output_type": "stream",
       "stream": "stdout",
       "text": [
        " dump_DAL_300\n",
        "D: sym"
       ]
      },
      {
       "output_type": "stream",
       "stream": "stdout",
       "text": [
        " dump_DAN_300\n",
        "D: sym"
       ]
      },
      {
       "output_type": "stream",
       "stream": "stdout",
       "text": [
        " dump_DBC_300\n",
        "D: sym"
       ]
      },
      {
       "output_type": "stream",
       "stream": "stdout",
       "text": [
        " dump_DB_300\n",
        "D: sym"
       ]
      },
      {
       "output_type": "stream",
       "stream": "stdout",
       "text": [
        " dump_DCTH_300\n",
        "D: sym"
       ]
      },
      {
       "output_type": "stream",
       "stream": "stdout",
       "text": [
        " dump_DCT_300\n",
        "D: sym"
       ]
      },
      {
       "output_type": "stream",
       "stream": "stdout",
       "text": [
        " dump_DDD_300\n",
        "D: sym"
       ]
      },
      {
       "output_type": "stream",
       "stream": "stdout",
       "text": [
        " dump_DDR_300\n",
        "D: sym"
       ]
      },
      {
       "output_type": "stream",
       "stream": "stdout",
       "text": [
        " dump_DELL_300\n",
        "D: sym"
       ]
      },
      {
       "output_type": "stream",
       "stream": "stdout",
       "text": [
        " dump_DFS_300\n",
        "D: sym"
       ]
      },
      {
       "output_type": "stream",
       "stream": "stdout",
       "text": [
        " dump_DF_300\n",
        "D: sym"
       ]
      },
      {
       "output_type": "stream",
       "stream": "stdout",
       "text": [
        " dump_DGAZ_300\n",
        "D: sym dump_DHI_300\n",
        "D: sym"
       ]
      },
      {
       "output_type": "stream",
       "stream": "stdout",
       "text": [
        " dump_DISH_300\n",
        "D: sym"
       ]
      },
      {
       "output_type": "stream",
       "stream": "stdout",
       "text": [
        " dump_DLPH_300\n",
        "D: sym"
       ]
      },
      {
       "output_type": "stream",
       "stream": "stdout",
       "text": [
        " dump_DLTR_300\n",
        "D: sym"
       ]
      },
      {
       "output_type": "stream",
       "stream": "stdout",
       "text": [
        " dump_DNDN_300\n",
        "D: sym"
       ]
      },
      {
       "output_type": "stream",
       "stream": "stdout",
       "text": [
        " dump_DNKN_300\n",
        "D: sym"
       ]
      },
      {
       "output_type": "stream",
       "stream": "stdout",
       "text": [
        " dump_DNR_300\n",
        "D: sym"
       ]
      },
      {
       "output_type": "stream",
       "stream": "stdout",
       "text": [
        " dump_DOW_300\n",
        "D: sym"
       ]
      },
      {
       "output_type": "stream",
       "stream": "stdout",
       "text": [
        " dump_DPS_300\n",
        "D: sym"
       ]
      },
      {
       "output_type": "stream",
       "stream": "stdout",
       "text": [
        " dump_DRE_300\n",
        "D: sym"
       ]
      },
      {
       "output_type": "stream",
       "stream": "stdout",
       "text": [
        " dump_DRH_300\n",
        "D: sym"
       ]
      },
      {
       "output_type": "stream",
       "stream": "stdout",
       "text": [
        " dump_DRYS_300\n",
        "D: sym"
       ]
      },
      {
       "output_type": "stream",
       "stream": "stdout",
       "text": [
        " dump_DSX_300\n",
        "D: sym"
       ]
      },
      {
       "output_type": "stream",
       "stream": "stdout",
       "text": [
        " dump_DVAX_300\n",
        "D: sym"
       ]
      },
      {
       "output_type": "stream",
       "stream": "stdout",
       "text": [
        " dump_DVR_300\n",
        "D: sym"
       ]
      },
      {
       "output_type": "stream",
       "stream": "stdout",
       "text": [
        " dump_DWA_300\n",
        "D: sym"
       ]
      },
      {
       "output_type": "stream",
       "stream": "stdout",
       "text": [
        " dump_EAT_300\n",
        "D: sym"
       ]
      },
      {
       "output_type": "stream",
       "stream": "stdout",
       "text": [
        " dump_EA_300\n",
        "D: sym"
       ]
      },
      {
       "output_type": "stream",
       "stream": "stdout",
       "text": [
        " dump_EBR_300\n",
        "D: sym"
       ]
      },
      {
       "output_type": "stream",
       "stream": "stdout",
       "text": [
        " dump_ECA_300\n",
        "D: sym"
       ]
      },
      {
       "output_type": "stream",
       "stream": "stdout",
       "text": [
        " dump_EDR_300\n",
        "D: sym"
       ]
      },
      {
       "output_type": "stream",
       "stream": "stdout",
       "text": [
        " dump_EDU_300\n",
        "D: sym"
       ]
      },
      {
       "output_type": "stream",
       "stream": "stdout",
       "text": [
        " dump_EEM_300\n",
        "D: sym"
       ]
      },
      {
       "output_type": "stream",
       "stream": "stdout",
       "text": [
        " dump_EGO_300\n",
        "D: sym"
       ]
      },
      {
       "output_type": "stream",
       "stream": "stdout",
       "text": [
        " dump_EIX_300\n",
        "D: sym"
       ]
      },
      {
       "output_type": "stream",
       "stream": "stdout",
       "text": [
        " dump_ELN_300\n",
        "D: sym"
       ]
      },
      {
       "output_type": "stream",
       "stream": "stdout",
       "text": [
        " dump_EMC_300\n",
        "D: sym"
       ]
      },
      {
       "output_type": "stream",
       "stream": "stdout",
       "text": [
        " dump_ENDP_300\n",
        "D: sym"
       ]
      },
      {
       "output_type": "stream",
       "stream": "stdout",
       "text": [
        " dump_EPI_300\n",
        "D: sym"
       ]
      },
      {
       "output_type": "stream",
       "stream": "stdout",
       "text": [
        " dump_ERF_300\n",
        "D: sym"
       ]
      },
      {
       "output_type": "stream",
       "stream": "stdout",
       "text": [
        " dump_ERIC_300\n",
        "D: sym"
       ]
      },
      {
       "output_type": "stream",
       "stream": "stdout",
       "text": [
        " dump_ERJ_300\n",
        "D: sym"
       ]
      },
      {
       "output_type": "stream",
       "stream": "stdout",
       "text": [
        " dump_ES_300\n",
        "D: sym"
       ]
      },
      {
       "output_type": "stream",
       "stream": "stdout",
       "text": [
        " dump_ETFC_300\n",
        "D: sym"
       ]
      },
      {
       "output_type": "stream",
       "stream": "stdout",
       "text": [
        " dump_EVC_300\n",
        "D: sym"
       ]
      },
      {
       "output_type": "stream",
       "stream": "stdout",
       "text": [
        " dump_EWA_300\n",
        "D: sym"
       ]
      },
      {
       "output_type": "stream",
       "stream": "stdout",
       "text": [
        " dump_EWC_300\n",
        "D: sym"
       ]
      },
      {
       "output_type": "stream",
       "stream": "stdout",
       "text": [
        " dump_EWG_300\n",
        "D: sym"
       ]
      },
      {
       "output_type": "stream",
       "stream": "stdout",
       "text": [
        " dump_EWH_300\n",
        "D: sym"
       ]
      },
      {
       "output_type": "stream",
       "stream": "stdout",
       "text": [
        " dump_EWI_300\n",
        "D: sym"
       ]
      },
      {
       "output_type": "stream",
       "stream": "stdout",
       "text": [
        " dump_EWJ_300\n",
        "D: sym"
       ]
      },
      {
       "output_type": "stream",
       "stream": "stdout",
       "text": [
        " dump_EWM_300\n",
        "D: sym"
       ]
      },
      {
       "output_type": "stream",
       "stream": "stdout",
       "text": [
        " dump_EWQ_300\n",
        "D: sym"
       ]
      },
      {
       "output_type": "stream",
       "stream": "stdout",
       "text": [
        " dump_EWS_300\n",
        "D: sym"
       ]
      },
      {
       "output_type": "stream",
       "stream": "stdout",
       "text": [
        " dump_EWT_300\n",
        "D: sym"
       ]
      },
      {
       "output_type": "stream",
       "stream": "stdout",
       "text": [
        " dump_EWU_300\n",
        "D: sym"
       ]
      },
      {
       "output_type": "stream",
       "stream": "stdout",
       "text": [
        " dump_EXAS_300\n",
        "D: sym"
       ]
      },
      {
       "output_type": "stream",
       "stream": "stdout",
       "text": [
        " dump_EXC_300\n",
        "D: sym"
       ]
      },
      {
       "output_type": "stream",
       "stream": "stdout",
       "text": [
        " dump_EXEL_300\n",
        "D: sym"
       ]
      },
      {
       "output_type": "stream",
       "stream": "stdout",
       "text": [
        " dump_EXG_300\n",
        "D: sym"
       ]
      },
      {
       "output_type": "stream",
       "stream": "stdout",
       "text": [
        " dump_EXK_300\n",
        "D: sym"
       ]
      },
      {
       "output_type": "stream",
       "stream": "stdout",
       "text": [
        " dump_EXM_300\n",
        "D: sym"
       ]
      },
      {
       "output_type": "stream",
       "stream": "stdout",
       "text": [
        " dump_EXPD_300\n",
        "D: sym"
       ]
      },
      {
       "output_type": "stream",
       "stream": "stdout",
       "text": [
        " dump_EXPR_300\n",
        "D: sym"
       ]
      },
      {
       "output_type": "stream",
       "stream": "stdout",
       "text": [
        " dump_EXXI_300\n",
        "D: sym"
       ]
      },
      {
       "output_type": "stream",
       "stream": "stdout",
       "text": [
        " dump_EZU_300\n",
        "D: sym"
       ]
      },
      {
       "output_type": "stream",
       "stream": "stdout",
       "text": [
        " dump_FAZ_300\n",
        "D: sym"
       ]
      },
      {
       "output_type": "stream",
       "stream": "stdout",
       "text": [
        " dump_FBHS_300\n",
        "D: sym"
       ]
      },
      {
       "output_type": "stream",
       "stream": "stdout",
       "text": [
        " dump_FBR_300\n",
        "D: sym"
       ]
      },
      {
       "output_type": "stream",
       "stream": "stdout",
       "text": [
        " dump_FB_300\n",
        "D: sym"
       ]
      },
      {
       "output_type": "stream",
       "stream": "stdout",
       "text": [
        " dump_FCEL_300\n",
        "D: sym"
       ]
      },
      {
       "output_type": "stream",
       "stream": "stdout",
       "text": [
        " dump_FCS_300\n",
        "D: sym"
       ]
      },
      {
       "output_type": "stream",
       "stream": "stdout",
       "text": [
        " dump_FCX_300\n",
        "D: sym"
       ]
      },
      {
       "output_type": "stream",
       "stream": "stdout",
       "text": [
        " dump_FE_300\n",
        "D: sym"
       ]
      },
      {
       "output_type": "stream",
       "stream": "stdout",
       "text": [
        " dump_FHN_300\n",
        "D: sym"
       ]
      },
      {
       "output_type": "stream",
       "stream": "stdout",
       "text": [
        " dump_FIG_300\n",
        "D: sym"
       ]
      },
      {
       "output_type": "stream",
       "stream": "stdout",
       "text": [
        " dump_FII_300\n",
        "D: sym"
       ]
      },
      {
       "output_type": "stream",
       "stream": "stdout",
       "text": [
        " dump_FIO_300\n",
        "D: sym"
       ]
      },
      {
       "output_type": "stream",
       "stream": "stdout",
       "text": [
        " dump_FIS_300\n",
        "D: sym"
       ]
      },
      {
       "output_type": "stream",
       "stream": "stdout",
       "text": [
        " dump_FITB_300\n",
        "D: sym"
       ]
      },
      {
       "output_type": "stream",
       "stream": "stdout",
       "text": [
        " dump_FLEX_300\n",
        "D: sym"
       ]
      },
      {
       "output_type": "stream",
       "stream": "stdout",
       "text": [
        " dump_FLIR_300\n",
        "D: sym"
       ]
      },
      {
       "output_type": "stream",
       "stream": "stdout",
       "text": [
        " dump_FL_300\n",
        "D: sym"
       ]
      },
      {
       "output_type": "stream",
       "stream": "stdout",
       "text": [
        " dump_FMCN_300\n",
        "D: sym"
       ]
      },
      {
       "output_type": "stream",
       "stream": "stdout",
       "text": [
        " dump_FMER_300\n",
        "D: sym"
       ]
      },
      {
       "output_type": "stream",
       "stream": "stdout",
       "text": [
        " dump_FNFG_300\n",
        "D: sym"
       ]
      },
      {
       "output_type": "stream",
       "stream": "stdout",
       "text": [
        " dump_FNF_300\n",
        "D: sym"
       ]
      },
      {
       "output_type": "stream",
       "stream": "stdout",
       "text": [
        " dump_FNP_300\n",
        "D: sym"
       ]
      },
      {
       "output_type": "stream",
       "stream": "stdout",
       "text": [
        " dump_FNSR_300\n",
        "D: sym"
       ]
      },
      {
       "output_type": "stream",
       "stream": "stdout",
       "text": [
        " dump_FOE_300\n",
        "D: sym"
       ]
      },
      {
       "output_type": "stream",
       "stream": "stdout",
       "text": [
        " dump_FRAN_300\n",
        "D: sym"
       ]
      },
      {
       "output_type": "stream",
       "stream": "stdout",
       "text": [
        " dump_FRO_300\n",
        "D: sym"
       ]
      },
      {
       "output_type": "stream",
       "stream": "stdout",
       "text": [
        " dump_FRX_300\n",
        "D: sym"
       ]
      },
      {
       "output_type": "stream",
       "stream": "stdout",
       "text": [
        " dump_FSC_300\n",
        "D: sym"
       ]
      },
      {
       "output_type": "stream",
       "stream": "stdout",
       "text": [
        " dump_FSLR_300\n",
        "D: sym"
       ]
      },
      {
       "output_type": "stream",
       "stream": "stdout",
       "text": [
        " dump_FSL_300\n",
        "D: sym"
       ]
      },
      {
       "output_type": "stream",
       "stream": "stdout",
       "text": [
        " dump_FST_300\n",
        "D: sym"
       ]
      },
      {
       "output_type": "stream",
       "stream": "stdout",
       "text": [
        " dump_FTE_300\n",
        "D: sym"
       ]
      },
      {
       "output_type": "stream",
       "stream": "stdout",
       "text": [
        " dump_FTNT_300\n",
        "D: sym"
       ]
      },
      {
       "output_type": "stream",
       "stream": "stdout",
       "text": [
        " dump_FTR_300\n",
        "D: sym"
       ]
      },
      {
       "output_type": "stream",
       "stream": "stdout",
       "text": [
        " dump_FWLT_300\n",
        "D: sym"
       ]
      },
      {
       "output_type": "stream",
       "stream": "stdout",
       "text": [
        " dump_FXI_300\n",
        "D: sym"
       ]
      },
      {
       "output_type": "stream",
       "stream": "stdout",
       "text": [
        " dump_F_300\n",
        "D: sym"
       ]
      },
      {
       "output_type": "stream",
       "stream": "stdout",
       "text": [
        " dump_GALE_300\n",
        "D: sym"
       ]
      },
      {
       "output_type": "stream",
       "stream": "stdout",
       "text": [
        " dump_GCI_300\n",
        "D: sym"
       ]
      },
      {
       "output_type": "stream",
       "stream": "stdout",
       "text": [
        " dump_GDP_300\n",
        "D: sym"
       ]
      },
      {
       "output_type": "stream",
       "stream": "stdout",
       "text": [
        " dump_GDXJ_300\n",
        "D: sym"
       ]
      },
      {
       "output_type": "stream",
       "stream": "stdout",
       "text": [
        " dump_GDX_300\n",
        "D: sym"
       ]
      },
      {
       "output_type": "stream",
       "stream": "stdout",
       "text": [
        " dump_GES_300\n",
        "D: sym"
       ]
      },
      {
       "output_type": "stream",
       "stream": "stdout",
       "text": [
        " dump_GEVO_300\n",
        "D: sym"
       ]
      },
      {
       "output_type": "stream",
       "stream": "stdout",
       "text": [
        " dump_GE_300\n",
        "D: sym"
       ]
      },
      {
       "output_type": "stream",
       "stream": "stdout",
       "text": [
        " dump_GFA_300\n",
        "D: sym"
       ]
      },
      {
       "output_type": "stream",
       "stream": "stdout",
       "text": [
        " dump_GFI_300\n",
        "D: sym"
       ]
      },
      {
       "output_type": "stream",
       "stream": "stdout",
       "text": [
        " dump_GGB_300\n",
        "D: sym"
       ]
      },
      {
       "output_type": "stream",
       "stream": "stdout",
       "text": [
        " dump_GGP_300\n",
        "D: sym"
       ]
      },
      {
       "output_type": "stream",
       "stream": "stdout",
       "text": [
        " dump_GG_300\n",
        "D: sym"
       ]
      },
      {
       "output_type": "stream",
       "stream": "stdout",
       "text": [
        " dump_GLUU_300\n",
        "D: sym"
       ]
      },
      {
       "output_type": "stream",
       "stream": "stdout",
       "text": [
        " dump_GLW_300\n",
        "D: sym"
       ]
      },
      {
       "output_type": "stream",
       "stream": "stdout",
       "text": [
        " dump_GME_300\n",
        "D: sym"
       ]
      },
      {
       "output_type": "stream",
       "stream": "stdout",
       "text": [
        " dump_GM_300\n",
        "D: sym"
       ]
      },
      {
       "output_type": "stream",
       "stream": "stdout",
       "text": [
        " dump_GNBT_300\n",
        "D: sym"
       ]
      },
      {
       "output_type": "stream",
       "stream": "stdout",
       "text": [
        " dump_GNC_300\n",
        "D: sym"
       ]
      },
      {
       "output_type": "stream",
       "stream": "stdout",
       "text": [
        " dump_GNK_300\n",
        "D: sym"
       ]
      },
      {
       "output_type": "stream",
       "stream": "stdout",
       "text": [
        " dump_GNW_300\n",
        "D: sym"
       ]
      },
      {
       "output_type": "stream",
       "stream": "stdout",
       "text": [
        " dump_GOL_300\n",
        "D: sym"
       ]
      },
      {
       "output_type": "stream",
       "stream": "stdout",
       "text": [
        " dump_GPK_300\n",
        "D: sym"
       ]
      },
      {
       "output_type": "stream",
       "stream": "stdout",
       "text": [
        " dump_GPOR_300\n",
        "D: sym"
       ]
      },
      {
       "output_type": "stream",
       "stream": "stdout",
       "text": [
        " dump_GPS_300\n",
        "D: sym"
       ]
      },
      {
       "output_type": "stream",
       "stream": "stdout",
       "text": [
        " dump_GRMN_300\n",
        "D: sym"
       ]
      },
      {
       "output_type": "stream",
       "stream": "stdout",
       "text": [
        " dump_GRPN_300\n",
        "D: sym"
       ]
      },
      {
       "output_type": "stream",
       "stream": "stdout",
       "text": [
        " dump_GSS_300\n",
        "D: sym"
       ]
      },
      {
       "output_type": "stream",
       "stream": "stdout",
       "text": [
        " dump_GTAT_300\n",
        "D: sym"
       ]
      },
      {
       "output_type": "stream",
       "stream": "stdout",
       "text": [
        " dump_GTE_300\n",
        "D: sym"
       ]
      },
      {
       "output_type": "stream",
       "stream": "stdout",
       "text": [
        " dump_GTI_300\n",
        "D: sym"
       ]
      },
      {
       "output_type": "stream",
       "stream": "stdout",
       "text": [
        " dump_GT_300\n",
        "D: sym"
       ]
      },
      {
       "output_type": "stream",
       "stream": "stdout",
       "text": [
        " dump_GV_300\n",
        "D: sym"
       ]
      },
      {
       "output_type": "stream",
       "stream": "stdout",
       "text": [
        " dump_GXP_300\n",
        "D: sym"
       ]
      },
      {
       "output_type": "stream",
       "stream": "stdout",
       "text": [
        " dump_HALO_300\n",
        "D: sym"
       ]
      },
      {
       "output_type": "stream",
       "stream": "stdout",
       "text": [
        " dump_HAL_300\n",
        "D: sym"
       ]
      },
      {
       "output_type": "stream",
       "stream": "stdout",
       "text": [
        " dump_HAS_300\n",
        "D: sym"
       ]
      },
      {
       "output_type": "stream",
       "stream": "stdout",
       "text": [
        " dump_HA_300\n",
        "D: sym"
       ]
      },
      {
       "output_type": "stream",
       "stream": "stdout",
       "text": [
        " dump_HBAN_300\n",
        "D: sym"
       ]
      },
      {
       "output_type": "stream",
       "stream": "stdout",
       "text": [
        " dump_HCA_300\n",
        "D: sym"
       ]
      },
      {
       "output_type": "stream",
       "stream": "stdout",
       "text": [
        " dump_HCBK_300\n",
        "D: sym"
       ]
      },
      {
       "output_type": "stream",
       "stream": "stdout",
       "text": [
        " dump_HEK_300\n",
        "D: sym"
       ]
      },
      {
       "output_type": "stream",
       "stream": "stdout",
       "text": [
        " dump_HERO_300\n",
        "D: sym"
       ]
      },
      {
       "output_type": "stream",
       "stream": "stdout",
       "text": [
        " dump_HFC_300\n",
        "D: sym"
       ]
      },
      {
       "output_type": "stream",
       "stream": "stdout",
       "text": [
        " dump_HIG_300\n",
        "D: sym"
       ]
      },
      {
       "output_type": "stream",
       "stream": "stdout",
       "text": [
        " dump_HIMX_300\n",
        "D: sym"
       ]
      },
      {
       "output_type": "stream",
       "stream": "stdout",
       "text": [
        " dump_HK_300\n",
        "D: sym"
       ]
      },
      {
       "output_type": "stream",
       "stream": "stdout",
       "text": [
        " dump_HLF_300\n",
        "D: sym"
       ]
      },
      {
       "output_type": "stream",
       "stream": "stdout",
       "text": [
        " dump_HLX_300\n",
        "D: sym"
       ]
      },
      {
       "output_type": "stream",
       "stream": "stdout",
       "text": [
        " dump_HL_300\n",
        "D: sym"
       ]
      },
      {
       "output_type": "stream",
       "stream": "stdout",
       "text": [
        " dump_HMA_300\n",
        "D: sym"
       ]
      },
      {
       "output_type": "stream",
       "stream": "stdout",
       "text": [
        " dump_HMY_300\n",
        "D: sym"
       ]
      },
      {
       "output_type": "stream",
       "stream": "stdout",
       "text": [
        " dump_HOLX_300\n",
        "D: sym"
       ]
      },
      {
       "output_type": "stream",
       "stream": "stdout",
       "text": [
        " dump_HOTT_300\n",
        "D: sym"
       ]
      },
      {
       "output_type": "stream",
       "stream": "stdout",
       "text": [
        " dump_HOV_300\n",
        "D: sym"
       ]
      },
      {
       "output_type": "stream",
       "stream": "stdout",
       "text": [
        " dump_HPQ_300\n",
        "D: sym"
       ]
      },
      {
       "output_type": "stream",
       "stream": "stdout",
       "text": [
        " dump_HPT_300\n",
        "D: sym"
       ]
      },
      {
       "output_type": "stream",
       "stream": "stdout",
       "text": [
        " dump_HRB_300\n",
        "D: sym"
       ]
      },
      {
       "output_type": "stream",
       "stream": "stdout",
       "text": [
        " dump_HSH_300\n",
        "D: sym dump_HSP_300\n",
        "D: sym"
       ]
      },
      {
       "output_type": "stream",
       "stream": "stdout",
       "text": [
        " dump_HST_300\n",
        "D: sym"
       ]
      },
      {
       "output_type": "stream",
       "stream": "stdout",
       "text": [
        " dump_HTA_300\n",
        "D: sym dump_HTZ_300\n",
        "D: sym"
       ]
      },
      {
       "output_type": "stream",
       "stream": "stdout",
       "text": [
        " dump_HT_300\n",
        "D: sym"
       ]
      },
      {
       "output_type": "stream",
       "stream": "stdout",
       "text": [
        " dump_HUN_300\n",
        "D: sym"
       ]
      },
      {
       "output_type": "stream",
       "stream": "stdout",
       "text": [
        " dump_HXM_300\n",
        "D: sym"
       ]
      },
      {
       "output_type": "stream",
       "stream": "stdout",
       "text": [
        " dump_IAG_300\n",
        "D: sym"
       ]
      },
      {
       "output_type": "stream",
       "stream": "stdout",
       "text": [
        " dump_IAU_300\n",
        "D: sym"
       ]
      },
      {
       "output_type": "stream",
       "stream": "stdout",
       "text": [
        " dump_IBN_300\n",
        "D: sym"
       ]
      },
      {
       "output_type": "stream",
       "stream": "stdout",
       "text": [
        " dump_ICON_300\n",
        "D: sym"
       ]
      },
      {
       "output_type": "stream",
       "stream": "stdout",
       "text": [
        " dump_IDTI_300\n",
        "D: sym"
       ]
      },
      {
       "output_type": "stream",
       "stream": "stdout",
       "text": [
        " dump_IGT_300\n",
        "D: sym"
       ]
      },
      {
       "output_type": "stream",
       "stream": "stdout",
       "text": [
        " dump_INCY_300\n",
        "D: sym"
       ]
      },
      {
       "output_type": "stream",
       "stream": "stdout",
       "text": [
        " dump_INFA_300\n",
        "D: sym"
       ]
      },
      {
       "output_type": "stream",
       "stream": "stdout",
       "text": [
        " dump_INFI_300\n",
        "D: sym"
       ]
      },
      {
       "output_type": "stream",
       "stream": "stdout",
       "text": [
        " dump_INFN_300\n",
        "D: sym"
       ]
      },
      {
       "output_type": "stream",
       "stream": "stdout",
       "text": [
        " dump_INFY_300\n",
        "D: sym"
       ]
      },
      {
       "output_type": "stream",
       "stream": "stdout",
       "text": [
        " dump_ING_300\n",
        "D: sym"
       ]
      },
      {
       "output_type": "stream",
       "stream": "stdout",
       "text": [
        " dump_INO_300\n",
        "D: sym"
       ]
      },
      {
       "output_type": "stream",
       "stream": "stdout",
       "text": [
        " dump_INTC_300\n",
        "D: sym"
       ]
      },
      {
       "output_type": "stream",
       "stream": "stdout",
       "text": [
        " dump_INVN_300\n",
        "D: sym"
       ]
      },
      {
       "output_type": "stream",
       "stream": "stdout",
       "text": [
        " dump_IPG_300\n",
        "D: sym"
       ]
      },
      {
       "output_type": "stream",
       "stream": "stdout",
       "text": [
        " dump_IPXL_300\n",
        "D: sym"
       ]
      },
      {
       "output_type": "stream",
       "stream": "stdout",
       "text": [
        " dump_IP_300\n",
        "D: sym"
       ]
      },
      {
       "output_type": "stream",
       "stream": "stdout",
       "text": [
        " dump_IRM_300\n",
        "D: sym"
       ]
      },
      {
       "output_type": "stream",
       "stream": "stdout",
       "text": [
        " dump_ISIS_300\n",
        "D: sym"
       ]
      },
      {
       "output_type": "stream",
       "stream": "stdout",
       "text": [
        " dump_ITB_300\n",
        "D: sym"
       ]
      },
      {
       "output_type": "stream",
       "stream": "stdout",
       "text": [
        " dump_ITMN_300\n",
        "D: sym"
       ]
      },
      {
       "output_type": "stream",
       "stream": "stdout",
       "text": [
        " dump_ITUB_300\n",
        "D: sym"
       ]
      },
      {
       "output_type": "stream",
       "stream": "stdout",
       "text": [
        " dump_IVR_300\n",
        "D: sym"
       ]
      },
      {
       "output_type": "stream",
       "stream": "stdout",
       "text": [
        " dump_IVZ_300\n",
        "D: sym"
       ]
      },
      {
       "output_type": "stream",
       "stream": "stdout",
       "text": [
        " dump_JBLU_300\n",
        "D: sym"
       ]
      },
      {
       "output_type": "stream",
       "stream": "stdout",
       "text": [
        " dump_JBL_300\n",
        "D: sym"
       ]
      },
      {
       "output_type": "stream",
       "stream": "stdout",
       "text": [
        " dump_JCI_300\n",
        "D: sym"
       ]
      },
      {
       "output_type": "stream",
       "stream": "stdout",
       "text": [
        " dump_JCP_300\n",
        "D: sym"
       ]
      },
      {
       "output_type": "stream",
       "stream": "stdout",
       "text": [
        " dump_JDSU_300\n",
        "D: sym"
       ]
      },
      {
       "output_type": "stream",
       "stream": "stdout",
       "text": [
        " dump_JNK_300\n",
        "D: sym"
       ]
      },
      {
       "output_type": "stream",
       "stream": "stdout",
       "text": [
        " dump_JNPR_300\n",
        "D: sym"
       ]
      },
      {
       "output_type": "stream",
       "stream": "stdout",
       "text": [
        " dump_JNS_300\n",
        "D: sym"
       ]
      },
      {
       "output_type": "stream",
       "stream": "stdout",
       "text": [
        " dump_JRCC_300\n",
        "D: sym"
       ]
      },
      {
       "output_type": "stream",
       "stream": "stdout",
       "text": [
        " dump_KBE_300\n",
        "D: sym"
       ]
      },
      {
       "output_type": "stream",
       "stream": "stdout",
       "text": [
        " dump_KBH_300\n",
        "D: sym"
       ]
      },
      {
       "output_type": "stream",
       "stream": "stdout",
       "text": [
        " dump_KBR_300\n",
        "D: sym"
       ]
      },
      {
       "output_type": "stream",
       "stream": "stdout",
       "text": [
        " dump_KCG_300\n",
        "D: sym"
       ]
      },
      {
       "output_type": "stream",
       "stream": "stdout",
       "text": [
        " dump_KEG_300\n",
        "D: sym"
       ]
      },
      {
       "output_type": "stream",
       "stream": "stdout",
       "text": [
        " dump_KERX_300\n",
        "D: sym"
       ]
      },
      {
       "output_type": "stream",
       "stream": "stdout",
       "text": [
        " dump_KEY_300\n",
        "D: sym"
       ]
      },
      {
       "output_type": "stream",
       "stream": "stdout",
       "text": [
        " dump_KGC_300\n",
        "D: sym"
       ]
      },
      {
       "output_type": "stream",
       "stream": "stdout",
       "text": [
        " dump_KIM_300\n",
        "D: sym"
       ]
      },
      {
       "output_type": "stream",
       "stream": "stdout",
       "text": [
        " dump_KKD_300\n",
        "D: sym"
       ]
      },
      {
       "output_type": "stream",
       "stream": "stdout",
       "text": [
        " dump_KKR_300\n",
        "D: sym"
       ]
      },
      {
       "output_type": "stream",
       "stream": "stdout",
       "text": [
        " dump_KMI_300\n",
        "D: sym"
       ]
      },
      {
       "output_type": "stream",
       "stream": "stdout",
       "text": [
        " dump_KMX_300\n",
        "D: sym"
       ]
      },
      {
       "output_type": "stream",
       "stream": "stdout",
       "text": [
        " dump_KOG_300\n",
        "D: sym"
       ]
      },
      {
       "output_type": "stream",
       "stream": "stdout",
       "text": [
        " dump_KO_300\n",
        "D: sym"
       ]
      },
      {
       "output_type": "stream",
       "stream": "stdout",
       "text": [
        " dump_KRE_300\n",
        "D: sym"
       ]
      },
      {
       "output_type": "stream",
       "stream": "stdout",
       "text": [
        " dump_KR_300\n",
        "D: sym"
       ]
      },
      {
       "output_type": "stream",
       "stream": "stdout",
       "text": [
        " dump_KWK_300\n",
        "D: sym"
       ]
      },
      {
       "output_type": "stream",
       "stream": "stdout",
       "text": [
        " dump_LCC_300\n",
        "D: sym"
       ]
      },
      {
       "output_type": "stream",
       "stream": "stdout",
       "text": [
        " dump_LDK_300\n",
        "D: sym"
       ]
      },
      {
       "output_type": "stream",
       "stream": "stdout",
       "text": [
        " dump_LEAP_300\n",
        "D: sym"
       ]
      },
      {
       "output_type": "stream",
       "stream": "stdout",
       "text": [
        " dump_LEG_300\n",
        "D: sym"
       ]
      },
      {
       "output_type": "stream",
       "stream": "stdout",
       "text": [
        " dump_LEN_300\n",
        "D: sym"
       ]
      },
      {
       "output_type": "stream",
       "stream": "stdout",
       "text": [
        " dump_LF_300\n",
        "D: sym"
       ]
      },
      {
       "output_type": "stream",
       "stream": "stdout",
       "text": [
        " dump_LGF_300\n",
        "D: sym"
       ]
      },
      {
       "output_type": "stream",
       "stream": "stdout",
       "text": [
        " dump_LINE_300\n",
        "D: sym"
       ]
      },
      {
       "output_type": "stream",
       "stream": "stdout",
       "text": [
        " dump_LINTA_300\n",
        "D: sym"
       ]
      },
      {
       "output_type": "stream",
       "stream": "stdout",
       "text": [
        " dump_LKQ_300\n",
        "D: sym"
       ]
      },
      {
       "output_type": "stream",
       "stream": "stdout",
       "text": [
        " dump_LLTC_300\n",
        "D: sym"
       ]
      },
      {
       "output_type": "stream",
       "stream": "stdout",
       "text": [
        " dump_LM_300\n",
        "D: sym"
       ]
      },
      {
       "output_type": "stream",
       "stream": "stdout",
       "text": [
        " dump_LNC_300\n",
        "D: sym"
       ]
      },
      {
       "output_type": "stream",
       "stream": "stdout",
       "text": [
        " dump_LNG_300\n",
        "D: sym"
       ]
      },
      {
       "output_type": "stream",
       "stream": "stdout",
       "text": [
        " dump_LOW_300\n",
        "D: sym"
       ]
      },
      {
       "output_type": "stream",
       "stream": "stdout",
       "text": [
        " dump_LO_300\n",
        "D: sym"
       ]
      },
      {
       "output_type": "stream",
       "stream": "stdout",
       "text": [
        " dump_LPX_300\n",
        "D: sym"
       ]
      },
      {
       "output_type": "stream",
       "stream": "stdout",
       "text": [
        " dump_LRCX_300\n",
        "D: sym"
       ]
      },
      {
       "output_type": "stream",
       "stream": "stdout",
       "text": [
        " dump_LSCC_300\n",
        "D: sym"
       ]
      },
      {
       "output_type": "stream",
       "stream": "stdout",
       "text": [
        " dump_LSI_300\n",
        "D: sym"
       ]
      },
      {
       "output_type": "stream",
       "stream": "stdout",
       "text": [
        " dump_LUK_300\n",
        "D: sym"
       ]
      },
      {
       "output_type": "stream",
       "stream": "stdout",
       "text": [
        " dump_LUV_300\n",
        "D: sym"
       ]
      },
      {
       "output_type": "stream",
       "stream": "stdout",
       "text": [
        " dump_LVLT_300\n",
        "D: sym"
       ]
      },
      {
       "output_type": "stream",
       "stream": "stdout",
       "text": [
        " dump_LXK_300\n",
        "D: sym"
       ]
      },
      {
       "output_type": "stream",
       "stream": "stdout",
       "text": [
        " dump_LXP_300\n",
        "D: sym"
       ]
      },
      {
       "output_type": "stream",
       "stream": "stdout",
       "text": [
        " dump_LYG_300\n",
        "D: sym"
       ]
      },
      {
       "output_type": "stream",
       "stream": "stdout",
       "text": [
        " dump_LYV_300\n",
        "D: sym"
       ]
      },
      {
       "output_type": "stream",
       "stream": "stdout",
       "text": [
        " dump_L_300\n",
        "D: sym"
       ]
      },
      {
       "output_type": "stream",
       "stream": "stdout",
       "text": [
        " dump_MAKO_300\n",
        "D: sym"
       ]
      },
      {
       "output_type": "stream",
       "stream": "stdout",
       "text": [
        " dump_MAR_300\n",
        "D: sym"
       ]
      },
      {
       "output_type": "stream",
       "stream": "stdout",
       "text": [
        " dump_MAS_300\n",
        "D: sym"
       ]
      },
      {
       "output_type": "stream",
       "stream": "stdout",
       "text": [
        " dump_MAT_300\n",
        "D: sym"
       ]
      },
      {
       "output_type": "stream",
       "stream": "stdout",
       "text": [
        " dump_MBI_300\n",
        "D: sym"
       ]
      },
      {
       "output_type": "stream",
       "stream": "stdout",
       "text": [
        " dump_MBT_300\n",
        "D: sym"
       ]
      },
      {
       "output_type": "stream",
       "stream": "stdout",
       "text": [
        " dump_MCHP_300\n",
        "D: sym"
       ]
      },
      {
       "output_type": "stream",
       "stream": "stdout",
       "text": [
        " dump_MCP_300\n",
        "D: sym"
       ]
      },
      {
       "output_type": "stream",
       "stream": "stdout",
       "text": [
        " dump_MCRS_300\n",
        "D: sym"
       ]
      },
      {
       "output_type": "stream",
       "stream": "stdout",
       "text": [
        " dump_MDLZ_300\n",
        "D: sym"
       ]
      },
      {
       "output_type": "stream",
       "stream": "stdout",
       "text": [
        " dump_MDRX_300\n",
        "D: sym"
       ]
      },
      {
       "output_type": "stream",
       "stream": "stdout",
       "text": [
        " dump_MDR_300\n",
        "D: sym"
       ]
      },
      {
       "output_type": "stream",
       "stream": "stdout",
       "text": [
        " dump_MDT_300\n",
        "D: sym"
       ]
      },
      {
       "output_type": "stream",
       "stream": "stdout",
       "text": [
        " dump_MDVN_300\n",
        "D: sym"
       ]
      },
      {
       "output_type": "stream",
       "stream": "stdout",
       "text": [
        " dump_MET_300\n",
        "D: sym"
       ]
      },
      {
       "output_type": "stream",
       "stream": "stdout",
       "text": [
        " dump_MFA_300\n",
        "D: sym"
       ]
      },
      {
       "output_type": "stream",
       "stream": "stdout",
       "text": [
        " dump_MFC_300\n",
        "D: sym"
       ]
      },
      {
       "output_type": "stream",
       "stream": "stdout",
       "text": [
        " dump_MFG_300\n",
        "D: sym"
       ]
      },
      {
       "output_type": "stream",
       "stream": "stdout",
       "text": [
        " dump_MGM_300\n",
        "D: sym"
       ]
      },
      {
       "output_type": "stream",
       "stream": "stdout",
       "text": [
        " dump_MHR_300\n",
        "D: sym"
       ]
      },
      {
       "output_type": "stream",
       "stream": "stdout",
       "text": [
        " dump_MMC_300\n",
        "D: sym"
       ]
      },
      {
       "output_type": "stream",
       "stream": "stdout",
       "text": [
        " dump_MMR_300\n",
        "D: sym"
       ]
      },
      {
       "output_type": "stream",
       "stream": "stdout",
       "text": [
        " dump_MM_300\n",
        "D: sym dump_MNKD_300\n",
        "D: sym"
       ]
      },
      {
       "output_type": "stream",
       "stream": "stdout",
       "text": [
        " dump_MO_300\n",
        "D: sym"
       ]
      },
      {
       "output_type": "stream",
       "stream": "stdout",
       "text": [
        " dump_MPEL_300\n",
        "D: sym"
       ]
      },
      {
       "output_type": "stream",
       "stream": "stdout",
       "text": [
        " dump_MPG_300\n",
        "D: sym"
       ]
      },
      {
       "output_type": "stream",
       "stream": "stdout",
       "text": [
        " dump_MPW_300\n",
        "D: sym"
       ]
      },
      {
       "output_type": "stream",
       "stream": "stdout",
       "text": [
        " dump_MRK_300\n",
        "D: sym"
       ]
      },
      {
       "output_type": "stream",
       "stream": "stdout",
       "text": [
        " dump_MRO_300\n",
        "D: sym"
       ]
      },
      {
       "output_type": "stream",
       "stream": "stdout",
       "text": [
        " dump_MRVL_300\n",
        "D: sym"
       ]
      },
      {
       "output_type": "stream",
       "stream": "stdout",
       "text": [
        " dump_MSFT_300\n",
        "D: sym"
       ]
      },
      {
       "output_type": "stream",
       "stream": "stdout",
       "text": [
        " dump_MS_300\n",
        "D: sym"
       ]
      },
      {
       "output_type": "stream",
       "stream": "stdout",
       "text": [
        " dump_MTGE_300\n",
        "D: sym"
       ]
      },
      {
       "output_type": "stream",
       "stream": "stdout",
       "text": [
        " dump_MTG_300\n",
        "D: sym"
       ]
      },
      {
       "output_type": "stream",
       "stream": "stdout",
       "text": [
        " dump_MTL_300\n",
        "D: sym"
       ]
      },
      {
       "output_type": "stream",
       "stream": "stdout",
       "text": [
        " dump_MTOR_300\n",
        "D: sym"
       ]
      },
      {
       "output_type": "stream",
       "stream": "stdout",
       "text": [
        " dump_MTU_300\n",
        "D: sym"
       ]
      },
      {
       "output_type": "stream",
       "stream": "stdout",
       "text": [
        " dump_MTW_300\n",
        "D: sym"
       ]
      },
      {
       "output_type": "stream",
       "stream": "stdout",
       "text": [
        " dump_MT_300\n",
        "D: sym"
       ]
      },
      {
       "output_type": "stream",
       "stream": "stdout",
       "text": [
        " dump_MUX_300\n",
        "D: sym"
       ]
      },
      {
       "output_type": "stream",
       "stream": "stdout",
       "text": [
        " dump_MU_300\n",
        "D: sym"
       ]
      },
      {
       "output_type": "stream",
       "stream": "stdout",
       "text": [
        " dump_MWA_300\n",
        "D: sym"
       ]
      },
      {
       "output_type": "stream",
       "stream": "stdout",
       "text": [
        " dump_MWV_300\n",
        "D: sym"
       ]
      },
      {
       "output_type": "stream",
       "stream": "stdout",
       "text": [
        " dump_MWW_300\n",
        "D: sym"
       ]
      },
      {
       "output_type": "stream",
       "stream": "stdout",
       "text": [
        " dump_MXIM_300\n",
        "D: sym"
       ]
      },
      {
       "output_type": "stream",
       "stream": "stdout",
       "text": [
        " dump_MYGN_300\n",
        "D: sym"
       ]
      },
      {
       "output_type": "stream",
       "stream": "stdout",
       "text": [
        " dump_MYL_300\n",
        "D: sym"
       ]
      },
      {
       "output_type": "stream",
       "stream": "stdout",
       "text": [
        " dump_M_300\n",
        "D: sym"
       ]
      },
      {
       "output_type": "stream",
       "stream": "stdout",
       "text": [
        " dump_NAT_300\n",
        "D: sym"
       ]
      },
      {
       "output_type": "stream",
       "stream": "stdout",
       "text": [
        " dump_NAVB_300\n",
        "D: sym"
       ]
      },
      {
       "output_type": "stream",
       "stream": "stdout",
       "text": [
        " dump_NAV_300\n",
        "D: sym"
       ]
      },
      {
       "output_type": "stream",
       "stream": "stdout",
       "text": [
        " dump_NBG_300\n",
        "D: sym"
       ]
      },
      {
       "output_type": "stream",
       "stream": "stdout",
       "text": [
        " dump_NBR_300\n",
        "D: sym"
       ]
      },
      {
       "output_type": "stream",
       "stream": "stdout",
       "text": [
        " dump_NBS_300\n",
        "D: sym"
       ]
      },
      {
       "output_type": "stream",
       "stream": "stdout",
       "text": [
        " dump_NCR_300\n",
        "D: sym"
       ]
      },
      {
       "output_type": "stream",
       "stream": "stdout",
       "text": [
        " dump_NCT_300\n",
        "D: sym"
       ]
      },
      {
       "output_type": "stream",
       "stream": "stdout",
       "text": [
        " dump_NDAQ_300\n",
        "D: sym"
       ]
      },
      {
       "output_type": "stream",
       "stream": "stdout",
       "text": [
        " dump_NEM_300\n",
        "D: sym"
       ]
      },
      {
       "output_type": "stream",
       "stream": "stdout",
       "text": [
        " dump_NE_300\n",
        "D: sym"
       ]
      },
      {
       "output_type": "stream",
       "stream": "stdout",
       "text": [
        " dump_NFX_300\n",
        "D: sym"
       ]
      },
      {
       "output_type": "stream",
       "stream": "stdout",
       "text": [
        " dump_NGD_300\n",
        "D: sym"
       ]
      },
      {
       "output_type": "stream",
       "stream": "stdout",
       "text": [
        " dump_NG_300\n",
        "D: sym"
       ]
      },
      {
       "output_type": "stream",
       "stream": "stdout",
       "text": [
        " dump_NIHD_300\n",
        "D: sym"
       ]
      },
      {
       "output_type": "stream",
       "stream": "stdout",
       "text": [
        " dump_NI_300\n",
        "D: sym"
       ]
      },
      {
       "output_type": "stream",
       "stream": "stdout",
       "text": [
        " dump_NLSN_300\n",
        "D: sym"
       ]
      },
      {
       "output_type": "stream",
       "stream": "stdout",
       "text": [
        " dump_NLY_300\n",
        "D: sym"
       ]
      },
      {
       "output_type": "stream",
       "stream": "stdout",
       "text": [
        " dump_NMR_300\n",
        "D: sym"
       ]
      },
      {
       "output_type": "stream",
       "stream": "stdout",
       "text": [
        " dump_NNN_300\n",
        "D: sym"
       ]
      },
      {
       "output_type": "stream",
       "stream": "stdout",
       "text": [
        " dump_NOK_300\n",
        "D: sym"
       ]
      },
      {
       "output_type": "stream",
       "stream": "stdout",
       "text": [
        " dump_NOW_300\n",
        "D: sym dump_NPSP_300\n",
        "D: sym"
       ]
      },
      {
       "output_type": "stream",
       "stream": "stdout",
       "text": [
        " dump_NRF_300\n",
        "D: sym"
       ]
      },
      {
       "output_type": "stream",
       "stream": "stdout",
       "text": [
        " dump_NRG_300\n",
        "D: sym"
       ]
      },
      {
       "output_type": "stream",
       "stream": "stdout",
       "text": [
        " dump_NSM_300\n",
        "D: sym"
       ]
      },
      {
       "output_type": "stream",
       "stream": "stdout",
       "text": [
        " dump_NSU_300\n",
        "D: sym"
       ]
      },
      {
       "output_type": "stream",
       "stream": "stdout",
       "text": [
        " dump_NTAP_300\n",
        "D: sym"
       ]
      },
      {
       "output_type": "stream",
       "stream": "stdout",
       "text": [
        " dump_NTI_300\n",
        "D: sym dump_NTSP_300\n",
        "D: sym"
       ]
      },
      {
       "output_type": "stream",
       "stream": "stdout",
       "text": [
        " dump_NUAN_300\n",
        "D: sym"
       ]
      },
      {
       "output_type": "stream",
       "stream": "stdout",
       "text": [
        " dump_NUE_300\n",
        "D: sym"
       ]
      },
      {
       "output_type": "stream",
       "stream": "stdout",
       "text": [
        " dump_NUGT_300\n",
        "D: sym"
       ]
      },
      {
       "output_type": "stream",
       "stream": "stdout",
       "text": [
        " dump_NU_300\n",
        "D: sym"
       ]
      },
      {
       "output_type": "stream",
       "stream": "stdout",
       "text": [
        " dump_NVAX_300\n",
        "D: sym"
       ]
      },
      {
       "output_type": "stream",
       "stream": "stdout",
       "text": [
        " dump_NVDA_300\n",
        "D: sym"
       ]
      },
      {
       "output_type": "stream",
       "stream": "stdout",
       "text": [
        " dump_NVE_300\n",
        "D: sym"
       ]
      },
      {
       "output_type": "stream",
       "stream": "stdout",
       "text": [
        " dump_NWL_300\n",
        "D: sym"
       ]
      },
      {
       "output_type": "stream",
       "stream": "stdout",
       "text": [
        " dump_NWSA_300\n",
        "D: sym"
       ]
      },
      {
       "output_type": "stream",
       "stream": "stdout",
       "text": [
        " dump_NXPI_300\n",
        "D: sym"
       ]
      },
      {
       "output_type": "stream",
       "stream": "stdout",
       "text": [
        " dump_NYCB_300\n",
        "D: sym"
       ]
      },
      {
       "output_type": "stream",
       "stream": "stdout",
       "text": [
        " dump_NYMT_300\n",
        "D: sym"
       ]
      },
      {
       "output_type": "stream",
       "stream": "stdout",
       "text": [
        " dump_NYT_300\n",
        "D: sym"
       ]
      },
      {
       "output_type": "stream",
       "stream": "stdout",
       "text": [
        " dump_NYX_300\n",
        "D: sym"
       ]
      },
      {
       "output_type": "stream",
       "stream": "stdout",
       "text": [
        " dump_OAS_300\n",
        "D: sym"
       ]
      },
      {
       "output_type": "stream",
       "stream": "stdout",
       "text": [
        " dump_OCN_300\n",
        "D: sym"
       ]
      },
      {
       "output_type": "stream",
       "stream": "stdout",
       "text": [
        " dump_OCR_300\n",
        "D: sym"
       ]
      },
      {
       "output_type": "stream",
       "stream": "stdout",
       "text": [
        " dump_OCZ_300\n",
        "D: sym"
       ]
      },
      {
       "output_type": "stream",
       "stream": "stdout",
       "text": [
        " dump_OC_300\n",
        "D: sym"
       ]
      },
      {
       "output_type": "stream",
       "stream": "stdout",
       "text": [
        " dump_ODP_300\n",
        "D: sym"
       ]
      },
      {
       "output_type": "stream",
       "stream": "stdout",
       "text": [
        " dump_OHI_300\n",
        "D: sym"
       ]
      },
      {
       "output_type": "stream",
       "stream": "stdout",
       "text": [
        " dump_OIBR_300\n",
        "D: sym"
       ]
      },
      {
       "output_type": "stream",
       "stream": "stdout",
       "text": [
        " dump_OIH_300\n",
        "D: sym"
       ]
      },
      {
       "output_type": "stream",
       "stream": "stdout",
       "text": [
        " dump_OI_300\n",
        "D: sym"
       ]
      },
      {
       "output_type": "stream",
       "stream": "stdout",
       "text": [
        " dump_OKE_300\n",
        "D: sym"
       ]
      },
      {
       "output_type": "stream",
       "stream": "stdout",
       "text": [
        " dump_OMX_300\n",
        "D: sym"
       ]
      },
      {
       "output_type": "stream",
       "stream": "stdout",
       "text": [
        " dump_ONNN_300\n",
        "D: sym"
       ]
      },
      {
       "output_type": "stream",
       "stream": "stdout",
       "text": [
        " dump_OPK_300\n",
        "D: sym"
       ]
      },
      {
       "output_type": "stream",
       "stream": "stdout",
       "text": [
        " dump_OPTR_300\n",
        "D: sym"
       ]
      },
      {
       "output_type": "stream",
       "stream": "stdout",
       "text": [
        " dump_ORCL_300\n",
        "D: sym"
       ]
      },
      {
       "output_type": "stream",
       "stream": "stdout",
       "text": [
        " dump_OREX_300\n",
        "D: sym"
       ]
      },
      {
       "output_type": "stream",
       "stream": "stdout",
       "text": [
        " dump_ORI_300\n",
        "D: sym"
       ]
      },
      {
       "output_type": "stream",
       "stream": "stdout",
       "text": [
        " dump_OZM_300\n",
        "D: sym"
       ]
      },
      {
       "output_type": "stream",
       "stream": "stdout",
       "text": [
        " dump_PAAS_300\n",
        "D: sym"
       ]
      },
      {
       "output_type": "stream",
       "stream": "stdout",
       "text": [
        " dump_PAL_300\n",
        "D: sym"
       ]
      },
      {
       "output_type": "stream",
       "stream": "stdout",
       "text": [
        " dump_PANL_300\n",
        "D: sym"
       ]
      },
      {
       "output_type": "stream",
       "stream": "stdout",
       "text": [
        " dump_PAYX_300\n",
        "D: sym"
       ]
      },
      {
       "output_type": "stream",
       "stream": "stdout",
       "text": [
        " dump_PAY_300\n",
        "D: sym"
       ]
      },
      {
       "output_type": "stream",
       "stream": "stdout",
       "text": [
        " dump_PBCT_300\n",
        "D: sym"
       ]
      },
      {
       "output_type": "stream",
       "stream": "stdout",
       "text": [
        " dump_PBF_300\n",
        "D: sym dump_PBI_300\n",
        "D: sym"
       ]
      },
      {
       "output_type": "stream",
       "stream": "stdout",
       "text": [
        " dump_PBR_300\n",
        "D: sym"
       ]
      },
      {
       "output_type": "stream",
       "stream": "stdout",
       "text": [
        " dump_PCG_300\n",
        "D: sym"
       ]
      },
      {
       "output_type": "stream",
       "stream": "stdout",
       "text": [
        " dump_PDLI_300\n",
        "D: sym"
       ]
      },
      {
       "output_type": "stream",
       "stream": "stdout",
       "text": [
        " dump_PDM_300\n",
        "D: sym"
       ]
      },
      {
       "output_type": "stream",
       "stream": "stdout",
       "text": [
        " dump_PDS_300\n",
        "D: sym"
       ]
      },
      {
       "output_type": "stream",
       "stream": "stdout",
       "text": [
        " dump_PEG_300\n",
        "D: sym"
       ]
      },
      {
       "output_type": "stream",
       "stream": "stdout",
       "text": [
        " dump_PFE_300\n",
        "D: sym"
       ]
      },
      {
       "output_type": "stream",
       "stream": "stdout",
       "text": [
        " dump_PFF_300\n",
        "D: sym"
       ]
      },
      {
       "output_type": "stream",
       "stream": "stdout",
       "text": [
        " dump_PFG_300\n",
        "D: sym"
       ]
      },
      {
       "output_type": "stream",
       "stream": "stdout",
       "text": [
        " dump_PF_300\n",
        "D: sym dump_PGH_300\n",
        "D: sym"
       ]
      },
      {
       "output_type": "stream",
       "stream": "stdout",
       "text": [
        " dump_PGR_300\n",
        "D: sym"
       ]
      },
      {
       "output_type": "stream",
       "stream": "stdout",
       "text": [
        " dump_PGX_300\n",
        "D: sym"
       ]
      },
      {
       "output_type": "stream",
       "stream": "stdout",
       "text": [
        " dump_PHH_300\n",
        "D: sym"
       ]
      },
      {
       "output_type": "stream",
       "stream": "stdout",
       "text": [
        " dump_PHM_300\n",
        "D: sym"
       ]
      },
      {
       "output_type": "stream",
       "stream": "stdout",
       "text": [
        " dump_PIR_300\n",
        "D: sym"
       ]
      },
      {
       "output_type": "stream",
       "stream": "stdout",
       "text": [
        " dump_PKG_300\n",
        "D: sym"
       ]
      },
      {
       "output_type": "stream",
       "stream": "stdout",
       "text": [
        " dump_PKI_300\n",
        "D: sym"
       ]
      },
      {
       "output_type": "stream",
       "stream": "stdout",
       "text": [
        " dump_PLCM_300\n",
        "D: sym"
       ]
      },
      {
       "output_type": "stream",
       "stream": "stdout",
       "text": [
        " dump_PLD_300\n",
        "D: sym"
       ]
      },
      {
       "output_type": "stream",
       "stream": "stdout",
       "text": [
        " dump_PLUG_300\n",
        "D: sym"
       ]
      },
      {
       "output_type": "stream",
       "stream": "stdout",
       "text": [
        " dump_PMCS_300\n",
        "D: sym"
       ]
      },
      {
       "output_type": "stream",
       "stream": "stdout",
       "text": [
        " dump_PMT_300\n",
        "D: sym"
       ]
      },
      {
       "output_type": "stream",
       "stream": "stdout",
       "text": [
        " dump_POM_300\n",
        "D: sym"
       ]
      },
      {
       "output_type": "stream",
       "stream": "stdout",
       "text": [
        " dump_POT_300\n",
        "D: sym"
       ]
      },
      {
       "output_type": "stream",
       "stream": "stdout",
       "text": [
        " dump_PPHM_300\n",
        "D: sym"
       ]
      },
      {
       "output_type": "stream",
       "stream": "stdout",
       "text": [
        " dump_PPL_300\n",
        "D: sym"
       ]
      },
      {
       "output_type": "stream",
       "stream": "stdout",
       "text": [
        " dump_PRKR_300\n",
        "D: sym"
       ]
      },
      {
       "output_type": "stream",
       "stream": "stdout",
       "text": [
        " dump_PSEC_300\n",
        "D: sym"
       ]
      },
      {
       "output_type": "stream",
       "stream": "stdout",
       "text": [
        " dump_PSE_300\n",
        "D: sym"
       ]
      },
      {
       "output_type": "stream",
       "stream": "stdout",
       "text": [
        " dump_PTEN_300\n",
        "D: sym"
       ]
      },
      {
       "output_type": "stream",
       "stream": "stdout",
       "text": [
        " dump_PVA_300\n",
        "D: sym"
       ]
      },
      {
       "output_type": "stream",
       "stream": "stdout",
       "text": [
        " dump_PWER_300\n",
        "D: sym"
       ]
      },
      {
       "output_type": "stream",
       "stream": "stdout",
       "text": [
        " dump_PWE_300\n",
        "D: sym"
       ]
      },
      {
       "output_type": "stream",
       "stream": "stdout",
       "text": [
        " dump_PWR_300\n",
        "D: sym"
       ]
      },
      {
       "output_type": "stream",
       "stream": "stdout",
       "text": [
        " dump_PXP_300\n",
        "D: sym"
       ]
      },
      {
       "output_type": "stream",
       "stream": "stdout",
       "text": [
        " dump_P_300\n",
        "D: sym"
       ]
      },
      {
       "output_type": "stream",
       "stream": "stdout",
       "text": [
        " dump_QCOR_300\n",
        "D: sym"
       ]
      },
      {
       "output_type": "stream",
       "stream": "stdout",
       "text": [
        " dump_QEP_300\n",
        "D: sym"
       ]
      },
      {
       "output_type": "stream",
       "stream": "stdout",
       "text": [
        " dump_QID_300\n",
        "D: sym"
       ]
      },
      {
       "output_type": "stream",
       "stream": "stdout",
       "text": [
        " dump_QIHU_300\n",
        "D: sym"
       ]
      },
      {
       "output_type": "stream",
       "stream": "stdout",
       "text": [
        " dump_QLIK_300\n",
        "D: sym"
       ]
      },
      {
       "output_type": "stream",
       "stream": "stdout",
       "text": [
        " dump_QTM_300\n",
        "D: sym"
       ]
      },
      {
       "output_type": "stream",
       "stream": "stdout",
       "text": [
        " dump_RAD_300\n",
        "D: sym"
       ]
      },
      {
       "output_type": "stream",
       "stream": "stdout",
       "text": [
        " dump_RAI_300\n",
        "D: sym"
       ]
      },
      {
       "output_type": "stream",
       "stream": "stdout",
       "text": [
        " dump_RAS_300\n",
        "D: sym"
       ]
      },
      {
       "output_type": "stream",
       "stream": "stdout",
       "text": [
        " dump_RAX_300\n",
        "D: sym"
       ]
      },
      {
       "output_type": "stream",
       "stream": "stdout",
       "text": [
        " dump_RCL_300\n",
        "D: sym"
       ]
      },
      {
       "output_type": "stream",
       "stream": "stdout",
       "text": [
        " dump_RDC_300\n",
        "D: sym"
       ]
      },
      {
       "output_type": "stream",
       "stream": "stdout",
       "text": [
        " dump_RDN_300\n",
        "D: sym"
       ]
      },
      {
       "output_type": "stream",
       "stream": "stdout",
       "text": [
        " dump_REM_300\n",
        "D: sym"
       ]
      },
      {
       "output_type": "stream",
       "stream": "stdout",
       "text": [
        " dump_RENN_300\n",
        "D: sym"
       ]
      },
      {
       "output_type": "stream",
       "stream": "stdout",
       "text": [
        " dump_RFMD_300\n",
        "D: sym"
       ]
      },
      {
       "output_type": "stream",
       "stream": "stdout",
       "text": [
        " dump_RF_300\n",
        "D: sym"
       ]
      },
      {
       "output_type": "stream",
       "stream": "stdout",
       "text": [
        " dump_RGC_300\n",
        "D: sym"
       ]
      },
      {
       "output_type": "stream",
       "stream": "stdout",
       "text": [
        " dump_RHI_300\n",
        "D: sym"
       ]
      },
      {
       "output_type": "stream",
       "stream": "stdout",
       "text": [
        " dump_RIO_300\n",
        "D: sym"
       ]
      },
      {
       "output_type": "stream",
       "stream": "stdout",
       "text": [
        " dump_RMBS_300\n",
        "D: sym"
       ]
      },
      {
       "output_type": "stream",
       "stream": "stdout",
       "text": [
        " dump_ROSE_300\n",
        "D: sym"
       ]
      },
      {
       "output_type": "stream",
       "stream": "stdout",
       "text": [
        " dump_ROVI_300\n",
        "D: sym"
       ]
      },
      {
       "output_type": "stream",
       "stream": "stdout",
       "text": [
        " dump_RRD_300\n",
        "D: sym"
       ]
      },
      {
       "output_type": "stream",
       "stream": "stdout",
       "text": [
        " dump_RSG_300\n",
        "D: sym"
       ]
      },
      {
       "output_type": "stream",
       "stream": "stdout",
       "text": [
        " dump_RSH_300\n",
        "D: sym"
       ]
      },
      {
       "output_type": "stream",
       "stream": "stdout",
       "text": [
        " dump_RSO_300\n",
        "D: sym"
       ]
      },
      {
       "output_type": "stream",
       "stream": "stdout",
       "text": [
        " dump_RSX_300\n",
        "D: sym"
       ]
      },
      {
       "output_type": "stream",
       "stream": "stdout",
       "text": [
        " dump_RTK_300\n",
        "D: sym"
       ]
      },
      {
       "output_type": "stream",
       "stream": "stdout",
       "text": [
        " dump_RVBD_300\n",
        "D: sym"
       ]
      },
      {
       "output_type": "stream",
       "stream": "stdout",
       "text": [
        " dump_RWM_300\n",
        "D: sym"
       ]
      },
      {
       "output_type": "stream",
       "stream": "stdout",
       "text": [
        " dump_RWT_300\n",
        "D: sym"
       ]
      },
      {
       "output_type": "stream",
       "stream": "stdout",
       "text": [
        " dump_RYL_300\n",
        "D: sym"
       ]
      },
      {
       "output_type": "stream",
       "stream": "stdout",
       "text": [
        " dump_SAI_300\n",
        "D: sym"
       ]
      },
      {
       "output_type": "stream",
       "stream": "stdout",
       "text": [
        " dump_SAN_300\n",
        "D: sym"
       ]
      },
      {
       "output_type": "stream",
       "stream": "stdout",
       "text": [
        " dump_SBGI_300\n",
        "D: sym"
       ]
      },
      {
       "output_type": "stream",
       "stream": "stdout",
       "text": [
        " dump_SBH_300\n",
        "D: sym"
       ]
      },
      {
       "output_type": "stream",
       "stream": "stdout",
       "text": [
        " dump_SBS_300\n",
        "D: sym"
       ]
      },
      {
       "output_type": "stream",
       "stream": "stdout",
       "text": [
        " dump_SCCO_300\n",
        "D: sym"
       ]
      },
      {
       "output_type": "stream",
       "stream": "stdout",
       "text": [
        " dump_SCHW_300\n",
        "D: sym"
       ]
      },
      {
       "output_type": "stream",
       "stream": "stdout",
       "text": [
        " dump_SCO_300\n",
        "D: sym"
       ]
      },
      {
       "output_type": "stream",
       "stream": "stdout",
       "text": [
        " dump_SCSS_300\n",
        "D: sym"
       ]
      },
      {
       "output_type": "stream",
       "stream": "stdout",
       "text": [
        " dump_SDRL_300\n",
        "D: sym"
       ]
      },
      {
       "output_type": "stream",
       "stream": "stdout",
       "text": [
        " dump_SDS_300\n",
        "D: sym"
       ]
      },
      {
       "output_type": "stream",
       "stream": "stdout",
       "text": [
        " dump_SD_300\n",
        "D: sym"
       ]
      },
      {
       "output_type": "stream",
       "stream": "stdout",
       "text": [
        " dump_SEE_300\n",
        "D: sym"
       ]
      },
      {
       "output_type": "stream",
       "stream": "stdout",
       "text": [
        " dump_SE_300\n",
        "D: sym"
       ]
      },
      {
       "output_type": "stream",
       "stream": "stdout",
       "text": [
        " dump_SFD_300\n",
        "D: sym"
       ]
      },
      {
       "output_type": "stream",
       "stream": "stdout",
       "text": [
        " dump_SFI_300\n",
        "D: sym"
       ]
      },
      {
       "output_type": "stream",
       "stream": "stdout",
       "text": [
        " dump_SFY_300\n",
        "D: sym"
       ]
      },
      {
       "output_type": "stream",
       "stream": "stdout",
       "text": [
        " dump_SHO_300\n",
        "D: sym"
       ]
      },
      {
       "output_type": "stream",
       "stream": "stdout",
       "text": [
        " dump_SH_300\n",
        "D: sym"
       ]
      },
      {
       "output_type": "stream",
       "stream": "stdout",
       "text": [
        " dump_SID_300\n",
        "D: sym"
       ]
      },
      {
       "output_type": "stream",
       "stream": "stdout",
       "text": [
        " dump_SIRI_300\n",
        "D: sym"
       ]
      },
      {
       "output_type": "stream",
       "stream": "stdout",
       "text": [
        " dump_SKM_300\n",
        "D: sym"
       ]
      },
      {
       "output_type": "stream",
       "stream": "stdout",
       "text": [
        " dump_SKS_300\n",
        "D: sym"
       ]
      },
      {
       "output_type": "stream",
       "stream": "stdout",
       "text": [
        " dump_SLCA_300\n",
        "D: sym dump_SLM_300\n",
        "D: sym"
       ]
      },
      {
       "output_type": "stream",
       "stream": "stdout",
       "text": [
        " dump_SLV_300\n",
        "D: sym"
       ]
      },
      {
       "output_type": "stream",
       "stream": "stdout",
       "text": [
        " dump_SLW_300\n",
        "D: sym"
       ]
      },
      {
       "output_type": "stream",
       "stream": "stdout",
       "text": [
        " dump_SMFG_300\n",
        "D: sym"
       ]
      },
      {
       "output_type": "stream",
       "stream": "stdout",
       "text": [
        " dump_SMH_300\n",
        "D: sym"
       ]
      },
      {
       "output_type": "stream",
       "stream": "stdout",
       "text": [
        " dump_SNE_300\n",
        "D: sym"
       ]
      },
      {
       "output_type": "stream",
       "stream": "stdout",
       "text": [
        " dump_SNH_300\n",
        "D: sym"
       ]
      },
      {
       "output_type": "stream",
       "stream": "stdout",
       "text": [
        " dump_SNTS_300\n",
        "D: sym"
       ]
      },
      {
       "output_type": "stream",
       "stream": "stdout",
       "text": [
        " dump_SNV_300\n",
        "D: sym"
       ]
      },
      {
       "output_type": "stream",
       "stream": "stdout",
       "text": [
        " dump_SOL_300\n",
        "D: sym"
       ]
      },
      {
       "output_type": "stream",
       "stream": "stdout",
       "text": [
        " dump_SONS_300\n",
        "D: sym"
       ]
      },
      {
       "output_type": "stream",
       "stream": "stdout",
       "text": [
        " dump_SO_300\n",
        "D: sym"
       ]
      },
      {
       "output_type": "stream",
       "stream": "stdout",
       "text": [
        " dump_SPF_300\n",
        "D: sym"
       ]
      },
      {
       "output_type": "stream",
       "stream": "stdout",
       "text": [
        " dump_SPLK_300\n",
        "D: sym dump_SPLS_300\n",
        "D: sym"
       ]
      },
      {
       "output_type": "stream",
       "stream": "stdout",
       "text": [
        " dump_SPLV_300\n",
        "D: sym"
       ]
      },
      {
       "output_type": "stream",
       "stream": "stdout",
       "text": [
        " dump_SPN_300\n",
        "D: sym"
       ]
      },
      {
       "output_type": "stream",
       "stream": "stdout",
       "text": [
        " dump_SPPI_300\n",
        "D: sym"
       ]
      },
      {
       "output_type": "stream",
       "stream": "stdout",
       "text": [
        " dump_SPR_300\n",
        "D: sym"
       ]
      },
      {
       "output_type": "stream",
       "stream": "stdout",
       "text": [
        " dump_SPWR_300\n",
        "D: sym"
       ]
      },
      {
       "output_type": "stream",
       "stream": "stdout",
       "text": [
        " dump_SPXL_300\n",
        "D: sym"
       ]
      },
      {
       "output_type": "stream",
       "stream": "stdout",
       "text": [
        " dump_SPXS_300\n",
        "D: sym"
       ]
      },
      {
       "output_type": "stream",
       "stream": "stdout",
       "text": [
        " dump_SPXU_300\n",
        "D: sym"
       ]
      },
      {
       "output_type": "stream",
       "stream": "stdout",
       "text": [
        " dump_SQNM_300\n",
        "D: sym"
       ]
      },
      {
       "output_type": "stream",
       "stream": "stdout",
       "text": [
        " dump_SQQQ_300\n",
        "D: sym"
       ]
      },
      {
       "output_type": "stream",
       "stream": "stdout",
       "text": [
        " dump_SRPT_300\n",
        "D: sym"
       ]
      },
      {
       "output_type": "stream",
       "stream": "stdout",
       "text": [
        " dump_SSRI_300\n",
        "D: sym"
       ]
      },
      {
       "output_type": "stream",
       "stream": "stdout",
       "text": [
        " dump_STI_300\n",
        "D: sym"
       ]
      },
      {
       "output_type": "stream",
       "stream": "stdout",
       "text": [
        " dump_STJ_300\n",
        "D: sym"
       ]
      },
      {
       "output_type": "stream",
       "stream": "stdout",
       "text": [
        " dump_STLD_300\n",
        "D: sym"
       ]
      },
      {
       "output_type": "stream",
       "stream": "stdout",
       "text": [
        " dump_STM_300\n",
        "D: sym"
       ]
      },
      {
       "output_type": "stream",
       "stream": "stdout",
       "text": [
        " dump_STO_300\n",
        "D: sym"
       ]
      },
      {
       "output_type": "stream",
       "stream": "stdout",
       "text": [
        " dump_STP_300\n",
        "D: sym"
       ]
      },
      {
       "output_type": "stream",
       "stream": "stdout",
       "text": [
        " dump_STRZA_300\n",
        "D: sym"
       ]
      },
      {
       "output_type": "stream",
       "stream": "stdout",
       "text": [
        " dump_STR_300\n",
        "D: sym"
       ]
      },
      {
       "output_type": "stream",
       "stream": "stdout",
       "text": [
        " dump_STSI_300\n",
        "D: sym"
       ]
      },
      {
       "output_type": "stream",
       "stream": "stdout",
       "text": [
        " dump_STWD_300\n",
        "D: sym"
       ]
      },
      {
       "output_type": "stream",
       "stream": "stdout",
       "text": [
        " dump_STX_300\n",
        "D: sym"
       ]
      },
      {
       "output_type": "stream",
       "stream": "stdout",
       "text": [
        " dump_ST_300\n",
        "D: sym"
       ]
      },
      {
       "output_type": "stream",
       "stream": "stdout",
       "text": [
        " dump_SUSQ_300\n",
        "D: sym"
       ]
      },
      {
       "output_type": "stream",
       "stream": "stdout",
       "text": [
        " dump_SU_300\n",
        "D: sym"
       ]
      },
      {
       "output_type": "stream",
       "stream": "stdout",
       "text": [
        " dump_SVM_300\n",
        "D: sym"
       ]
      },
      {
       "output_type": "stream",
       "stream": "stdout",
       "text": [
        " dump_SVU_300\n",
        "D: sym"
       ]
      },
      {
       "output_type": "stream",
       "stream": "stdout",
       "text": [
        " dump_SWC_300\n",
        "D: sym"
       ]
      },
      {
       "output_type": "stream",
       "stream": "stdout",
       "text": [
        " dump_SWFT_300\n",
        "D: sym"
       ]
      },
      {
       "output_type": "stream",
       "stream": "stdout",
       "text": [
        " dump_SWHC_300\n",
        "D: sym"
       ]
      },
      {
       "output_type": "stream",
       "stream": "stdout",
       "text": [
        " dump_SWKS_300\n",
        "D: sym"
       ]
      },
      {
       "output_type": "stream",
       "stream": "stdout",
       "text": [
        " dump_SWN_300\n",
        "D: sym"
       ]
      },
      {
       "output_type": "stream",
       "stream": "stdout",
       "text": [
        " dump_SWY_300\n",
        "D: sym"
       ]
      },
      {
       "output_type": "stream",
       "stream": "stdout",
       "text": [
        " dump_SYMC_300\n",
        "D: sym"
       ]
      },
      {
       "output_type": "stream",
       "stream": "stdout",
       "text": [
        " dump_SYY_300\n",
        "D: sym"
       ]
      },
      {
       "output_type": "stream",
       "stream": "stdout",
       "text": [
        " dump_S_300\n",
        "D: sym"
       ]
      },
      {
       "output_type": "stream",
       "stream": "stdout",
       "text": [
        " dump_TCB_300\n",
        "D: sym"
       ]
      },
      {
       "output_type": "stream",
       "stream": "stdout",
       "text": [
        " dump_TCK_300\n",
        "D: sym"
       ]
      },
      {
       "output_type": "stream",
       "stream": "stdout",
       "text": [
        " dump_TC_300\n",
        "D: sym"
       ]
      },
      {
       "output_type": "stream",
       "stream": "stdout",
       "text": [
        " dump_TEF_300\n",
        "D: sym"
       ]
      },
      {
       "output_type": "stream",
       "stream": "stdout",
       "text": [
        " dump_TEL_300\n",
        "D: sym"
       ]
      },
      {
       "output_type": "stream",
       "stream": "stdout",
       "text": [
        " dump_TER_300\n",
        "D: sym"
       ]
      },
      {
       "output_type": "stream",
       "stream": "stdout",
       "text": [
        " dump_TEVA_300\n",
        "D: sym"
       ]
      },
      {
       "output_type": "stream",
       "stream": "stdout",
       "text": [
        " dump_TEX_300\n",
        "D: sym"
       ]
      },
      {
       "output_type": "stream",
       "stream": "stdout",
       "text": [
        " dump_TE_300\n",
        "D: sym"
       ]
      },
      {
       "output_type": "stream",
       "stream": "stdout",
       "text": [
        " dump_THC_300\n",
        "D: sym"
       ]
      },
      {
       "output_type": "stream",
       "stream": "stdout",
       "text": [
        " dump_THRX_300\n",
        "D: sym"
       ]
      },
      {
       "output_type": "stream",
       "stream": "stdout",
       "text": [
        " dump_TIBX_300\n",
        "D: sym"
       ]
      },
      {
       "output_type": "stream",
       "stream": "stdout",
       "text": [
        " dump_TIVO_300\n",
        "D: sym"
       ]
      },
      {
       "output_type": "stream",
       "stream": "stdout",
       "text": [
        " dump_TLAB_300\n",
        "D: sym"
       ]
      },
      {
       "output_type": "stream",
       "stream": "stdout",
       "text": [
        " dump_TLM_300\n",
        "D: sym"
       ]
      },
      {
       "output_type": "stream",
       "stream": "stdout",
       "text": [
        " dump_TMUS_300\n",
        "D: sym"
       ]
      },
      {
       "output_type": "stream",
       "stream": "stdout",
       "text": [
        " dump_TOL_300\n",
        "D: sym"
       ]
      },
      {
       "output_type": "stream",
       "stream": "stdout",
       "text": [
        " dump_TPX_300\n",
        "D: sym"
       ]
      },
      {
       "output_type": "stream",
       "stream": "stdout",
       "text": [
        " dump_TQNT_300\n",
        "D: sym"
       ]
      },
      {
       "output_type": "stream",
       "stream": "stdout",
       "text": [
        " dump_TRI_300\n",
        "D: sym"
       ]
      },
      {
       "output_type": "stream",
       "stream": "stdout",
       "text": [
        " dump_TRMB_300\n",
        "D: sym"
       ]
      },
      {
       "output_type": "stream",
       "stream": "stdout",
       "text": [
        " dump_TRQ_300\n",
        "D: sym"
       ]
      },
      {
       "output_type": "stream",
       "stream": "stdout",
       "text": [
        " dump_TSL_300\n",
        "D: sym"
       ]
      },
      {
       "output_type": "stream",
       "stream": "stdout",
       "text": [
        " dump_TSM_300\n",
        "D: sym"
       ]
      },
      {
       "output_type": "stream",
       "stream": "stdout",
       "text": [
        " dump_TSN_300\n",
        "D: sym"
       ]
      },
      {
       "output_type": "stream",
       "stream": "stdout",
       "text": [
        " dump_TSS_300\n",
        "D: sym"
       ]
      },
      {
       "output_type": "stream",
       "stream": "stdout",
       "text": [
        " dump_TS_300\n",
        "D: sym"
       ]
      },
      {
       "output_type": "stream",
       "stream": "stdout",
       "text": [
        " dump_TTM_300\n",
        "D: sym"
       ]
      },
      {
       "output_type": "stream",
       "stream": "stdout",
       "text": [
        " dump_TTWO_300\n",
        "D: sym"
       ]
      },
      {
       "output_type": "stream",
       "stream": "stdout",
       "text": [
        " dump_TVIX_300\n",
        "D: sym"
       ]
      },
      {
       "output_type": "stream",
       "stream": "stdout",
       "text": [
        " dump_TV_300\n",
        "D: sym"
       ]
      },
      {
       "output_type": "stream",
       "stream": "stdout",
       "text": [
        " dump_TWM_300\n",
        "D: sym"
       ]
      },
      {
       "output_type": "stream",
       "stream": "stdout",
       "text": [
        " dump_TWO_300\n",
        "D: sym"
       ]
      },
      {
       "output_type": "stream",
       "stream": "stdout",
       "text": [
        " dump_TWTC_300\n",
        "D: sym"
       ]
      },
      {
       "output_type": "stream",
       "stream": "stdout",
       "text": [
        " dump_TXN_300\n",
        "D: sym"
       ]
      },
      {
       "output_type": "stream",
       "stream": "stdout",
       "text": [
        " dump_TXT_300\n",
        "D: sym"
       ]
      },
      {
       "output_type": "stream",
       "stream": "stdout",
       "text": [
        " dump_TYC_300\n",
        "D: sym"
       ]
      },
      {
       "output_type": "stream",
       "stream": "stdout",
       "text": [
        " dump_TZA_300\n",
        "D: sym"
       ]
      },
      {
       "output_type": "stream",
       "stream": "stdout",
       "text": [
        " dump_T_300\n",
        "D: sym"
       ]
      },
      {
       "output_type": "stream",
       "stream": "stdout",
       "text": [
        " dump_UAL_300\n",
        "D: sym"
       ]
      },
      {
       "output_type": "stream",
       "stream": "stdout",
       "text": [
        " dump_UBS_300\n",
        "D: sym"
       ]
      },
      {
       "output_type": "stream",
       "stream": "stdout",
       "text": [
        " dump_UCO_300\n",
        "D: sym"
       ]
      },
      {
       "output_type": "stream",
       "stream": "stdout",
       "text": [
        " dump_UDR_300\n",
        "D: sym"
       ]
      },
      {
       "output_type": "stream",
       "stream": "stdout",
       "text": [
        " dump_UMC_300\n",
        "D: sym"
       ]
      },
      {
       "output_type": "stream",
       "stream": "stdout",
       "text": [
        " dump_UNG_300\n",
        "D: sym"
       ]
      },
      {
       "output_type": "stream",
       "stream": "stdout",
       "text": [
        " dump_UNIS_300\n",
        "D: sym"
       ]
      },
      {
       "output_type": "stream",
       "stream": "stdout",
       "text": [
        " dump_UNM_300\n",
        "D: sym"
       ]
      },
      {
       "output_type": "stream",
       "stream": "stdout",
       "text": [
        " dump_UN_300\n",
        "D: sym"
       ]
      },
      {
       "output_type": "stream",
       "stream": "stdout",
       "text": [
        " dump_UPL_300\n",
        "D: sym"
       ]
      },
      {
       "output_type": "stream",
       "stream": "stdout",
       "text": [
        " dump_URBN_300\n",
        "D: sym"
       ]
      },
      {
       "output_type": "stream",
       "stream": "stdout",
       "text": [
        " dump_USB_300\n",
        "D: sym"
       ]
      },
      {
       "output_type": "stream",
       "stream": "stdout",
       "text": [
        " dump_USG_300\n",
        "D: sym"
       ]
      },
      {
       "output_type": "stream",
       "stream": "stdout",
       "text": [
        " dump_USO_300\n",
        "D: sym"
       ]
      },
      {
       "output_type": "stream",
       "stream": "stdout",
       "text": [
        " dump_UUP_300\n",
        "D: sym"
       ]
      },
      {
       "output_type": "stream",
       "stream": "stdout",
       "text": [
        " dump_UVXY_300\n",
        "D: sym"
       ]
      },
      {
       "output_type": "stream",
       "stream": "stdout",
       "text": [
        " dump_VALE_300\n",
        "D: sym"
       ]
      },
      {
       "output_type": "stream",
       "stream": "stdout",
       "text": [
        " dump_VCLK_300\n",
        "D: sym"
       ]
      },
      {
       "output_type": "stream",
       "stream": "stdout",
       "text": [
        " dump_VEA_300\n",
        "D: sym"
       ]
      },
      {
       "output_type": "stream",
       "stream": "stdout",
       "text": [
        " dump_VELT_300\n",
        "D: sym"
       ]
      },
      {
       "output_type": "stream",
       "stream": "stdout",
       "text": [
        " dump_VG_300\n",
        "D: sym"
       ]
      },
      {
       "output_type": "stream",
       "stream": "stdout",
       "text": [
        " dump_VHC_300\n",
        "D: sym"
       ]
      },
      {
       "output_type": "stream",
       "stream": "stdout",
       "text": [
        " dump_VIP_300\n",
        "D: sym"
       ]
      },
      {
       "output_type": "stream",
       "stream": "stdout",
       "text": [
        " dump_VIV_300\n",
        "D: sym"
       ]
      },
      {
       "output_type": "stream",
       "stream": "stdout",
       "text": [
        " dump_VIXY_300\n",
        "D: sym"
       ]
      },
      {
       "output_type": "stream",
       "stream": "stdout",
       "text": [
        " dump_VLO_300\n",
        "D: sym"
       ]
      },
      {
       "output_type": "stream",
       "stream": "stdout",
       "text": [
        " dump_VLY_300\n",
        "D: sym"
       ]
      },
      {
       "output_type": "stream",
       "stream": "stdout",
       "text": [
        " dump_VNTV_300\n",
        "D: sym dump_VOD_300\n",
        "D: sym"
       ]
      },
      {
       "output_type": "stream",
       "stream": "stdout",
       "text": [
        " dump_VOLC_300\n",
        "D: sym"
       ]
      },
      {
       "output_type": "stream",
       "stream": "stdout",
       "text": [
        " dump_VRNG_300\n",
        "D: sym"
       ]
      },
      {
       "output_type": "stream",
       "stream": "stdout",
       "text": [
        " dump_VRSN_300\n",
        "D: sym"
       ]
      },
      {
       "output_type": "stream",
       "stream": "stdout",
       "text": [
        " dump_VSH_300\n",
        "D: sym"
       ]
      },
      {
       "output_type": "stream",
       "stream": "stdout",
       "text": [
        " dump_VVUS_300\n",
        "D: sym"
       ]
      },
      {
       "output_type": "stream",
       "stream": "stdout",
       "text": [
        " dump_VWO_300\n",
        "D: sym"
       ]
      },
      {
       "output_type": "stream",
       "stream": "stdout",
       "text": [
        " dump_VXX_300\n",
        "D: sym"
       ]
      },
      {
       "output_type": "stream",
       "stream": "stdout",
       "text": [
        " dump_WAC_300\n",
        "D: sym"
       ]
      },
      {
       "output_type": "stream",
       "stream": "stdout",
       "text": [
        " dump_WAG_300\n",
        "D: sym"
       ]
      },
      {
       "output_type": "stream",
       "stream": "stdout",
       "text": [
        " dump_WCRX_300\n",
        "D: sym"
       ]
      },
      {
       "output_type": "stream",
       "stream": "stdout",
       "text": [
        " dump_WEC_300\n",
        "D: sym"
       ]
      },
      {
       "output_type": "stream",
       "stream": "stdout",
       "text": [
        " dump_WEN_300\n",
        "D: sym"
       ]
      },
      {
       "output_type": "stream",
       "stream": "stdout",
       "text": [
        " dump_WETF_300\n",
        "D: sym"
       ]
      },
      {
       "output_type": "stream",
       "stream": "stdout",
       "text": [
        " dump_WFC_300\n",
        "D: sym"
       ]
      },
      {
       "output_type": "stream",
       "stream": "stdout",
       "text": [
        " dump_WFR_300\n",
        "D: sym"
       ]
      },
      {
       "output_type": "stream",
       "stream": "stdout",
       "text": [
        " dump_WFT_300\n",
        "D: sym"
       ]
      },
      {
       "output_type": "stream",
       "stream": "stdout",
       "text": [
        " dump_WIN_300\n",
        "D: sym"
       ]
      },
      {
       "output_type": "stream",
       "stream": "stdout",
       "text": [
        " dump_WLL_300\n",
        "D: sym"
       ]
      },
      {
       "output_type": "stream",
       "stream": "stdout",
       "text": [
        " dump_WLT_300\n",
        "D: sym"
       ]
      },
      {
       "output_type": "stream",
       "stream": "stdout",
       "text": [
        " dump_WMB_300\n",
        "D: sym"
       ]
      },
      {
       "output_type": "stream",
       "stream": "stdout",
       "text": [
        " dump_WM_300\n",
        "D: sym"
       ]
      },
      {
       "output_type": "stream",
       "stream": "stdout",
       "text": [
        " dump_WNR_300\n",
        "D: sym"
       ]
      },
      {
       "output_type": "stream",
       "stream": "stdout",
       "text": [
        " dump_WPX_300\n",
        "D: sym"
       ]
      },
      {
       "output_type": "stream",
       "stream": "stdout",
       "text": [
        " dump_WU_300\n",
        "D: sym"
       ]
      },
      {
       "output_type": "stream",
       "stream": "stdout",
       "text": [
        " dump_WY_300\n",
        "D: sym"
       ]
      },
      {
       "output_type": "stream",
       "stream": "stdout",
       "text": [
        " dump_XCO_300\n",
        "D: sym"
       ]
      },
      {
       "output_type": "stream",
       "stream": "stdout",
       "text": [
        " dump_XEL_300\n",
        "D: sym"
       ]
      },
      {
       "output_type": "stream",
       "stream": "stdout",
       "text": [
        " dump_XHB_300\n",
        "D: sym"
       ]
      },
      {
       "output_type": "stream",
       "stream": "stdout",
       "text": [
        " dump_XIDE_300\n",
        "D: sym"
       ]
      },
      {
       "output_type": "stream",
       "stream": "stdout",
       "text": [
        " dump_XIV_300\n",
        "D: sym"
       ]
      },
      {
       "output_type": "stream",
       "stream": "stdout",
       "text": [
        " dump_XLB_300\n",
        "D: sym"
       ]
      },
      {
       "output_type": "stream",
       "stream": "stdout",
       "text": [
        " dump_XLF_300\n",
        "D: sym"
       ]
      },
      {
       "output_type": "stream",
       "stream": "stdout",
       "text": [
        " dump_XLI_300\n",
        "D: sym"
       ]
      },
      {
       "output_type": "stream",
       "stream": "stdout",
       "text": [
        " dump_XLK_300\n",
        "D: sym"
       ]
      },
      {
       "output_type": "stream",
       "stream": "stdout",
       "text": [
        " dump_XLNX_300\n",
        "D: sym"
       ]
      },
      {
       "output_type": "stream",
       "stream": "stdout",
       "text": [
        " dump_XLP_300\n",
        "D: sym"
       ]
      },
      {
       "output_type": "stream",
       "stream": "stdout",
       "text": [
        " dump_XLS_300\n",
        "D: sym"
       ]
      },
      {
       "output_type": "stream",
       "stream": "stdout",
       "text": [
        " dump_XLU_300\n",
        "D: sym"
       ]
      },
      {
       "output_type": "stream",
       "stream": "stdout",
       "text": [
        " dump_XLV_300\n",
        "D: sym"
       ]
      },
      {
       "output_type": "stream",
       "stream": "stdout",
       "text": [
        " dump_XL_300\n",
        "D: sym"
       ]
      },
      {
       "output_type": "stream",
       "stream": "stdout",
       "text": [
        " dump_XME_300\n",
        "D: sym"
       ]
      },
      {
       "output_type": "stream",
       "stream": "stdout",
       "text": [
        " dump_XRX_300\n",
        "D: sym"
       ]
      },
      {
       "output_type": "stream",
       "stream": "stdout",
       "text": [
        " dump_XYL_300\n",
        "D: sym"
       ]
      },
      {
       "output_type": "stream",
       "stream": "stdout",
       "text": [
        " dump_X_300\n",
        "D: sym"
       ]
      },
      {
       "output_type": "stream",
       "stream": "stdout",
       "text": [
        " dump_YELP_300\n",
        "D: sym dump_YGE_300\n",
        "D: sym"
       ]
      },
      {
       "output_type": "stream",
       "stream": "stdout",
       "text": [
        " dump_YHOO_300\n",
        "D: sym"
       ]
      },
      {
       "output_type": "stream",
       "stream": "stdout",
       "text": [
        " dump_YNDX_300\n",
        "D: sym"
       ]
      },
      {
       "output_type": "stream",
       "stream": "stdout",
       "text": [
        " dump_YOKU_300\n",
        "D: sym"
       ]
      },
      {
       "output_type": "stream",
       "stream": "stdout",
       "text": [
        " dump_ZGNX_300\n",
        "D: sym"
       ]
      },
      {
       "output_type": "stream",
       "stream": "stdout",
       "text": [
        " dump_ZION_300\n",
        "D: sym"
       ]
      },
      {
       "output_type": "stream",
       "stream": "stdout",
       "text": [
        " dump_ZIOP_300\n",
        "D: sym"
       ]
      },
      {
       "output_type": "stream",
       "stream": "stdout",
       "text": [
        " dump_ZNGA_300\n",
        "D: sym"
       ]
      },
      {
       "output_type": "stream",
       "stream": "stdout",
       "text": [
        " dump_ZQK_300\n",
        "D: sym"
       ]
      },
      {
       "output_type": "stream",
       "stream": "stdout",
       "text": [
        " dump_ZTS_300\n",
        "D: sym ~~~EQUITY\n",
        "t2s error: ~~~EQUITY  |  ('File not found', '~~~EQUITY', '/home/data/marketdata/iqfdl2/dump_~~~EQUITY.csv.gz')\n"
       ]
      }
     ],
     "prompt_number": 13
    },
    {
     "cell_type": "code",
     "collapsed": false,
     "input": [
      "d = pandas.DataFrame(stats).T\n",
      "filt = d.ix[(d.pf > 1.9) & (d.trades > 100)]\n",
      "filt2 = filt.sort(columns='pf')\n",
      "filt2.to_csv('/home/mad/gaps/filtered/'+name)\n",
      "H(filt2)"
     ],
     "language": "python",
     "metadata": {},
     "outputs": [
      {
       "html": [
        "<table border=\"1\" class=\"dataframe\">\n",
        "  <thead>\n",
        "    <tr style=\"text-align: right;\">\n",
        "      <th></th>\n",
        "      <th>av</th>\n",
        "      <th>maxdd</th>\n",
        "      <th>net</th>\n",
        "      <th>pf</th>\n",
        "      <th>rf</th>\n",
        "      <th>sharpe</th>\n",
        "      <th>sortino</th>\n",
        "      <th>trades</th>\n",
        "      <th>winrate</th>\n",
        "    </tr>\n",
        "  </thead>\n",
        "  <tbody>\n",
        "    <tr>\n",
        "      <th>dump_CVM_300</th>\n",
        "      <td> 0.008129</td>\n",
        "      <td> 0.2000</td>\n",
        "      <td>  0.9023</td>\n",
        "      <td> 1.924014</td>\n",
        "      <td>  4.511500</td>\n",
        "      <td> 0.191707</td>\n",
        "      <td> 0.202197</td>\n",
        "      <td> 111</td>\n",
        "      <td> 0.630631</td>\n",
        "    </tr>\n",
        "    <tr>\n",
        "      <th>dump_PGR_300</th>\n",
        "      <td> 0.049362</td>\n",
        "      <td> 0.8700</td>\n",
        "      <td>  6.0715</td>\n",
        "      <td> 1.975341</td>\n",
        "      <td>  6.978736</td>\n",
        "      <td> 0.252954</td>\n",
        "      <td> 0.449618</td>\n",
        "      <td> 123</td>\n",
        "      <td> 0.642276</td>\n",
        "    </tr>\n",
        "    <tr>\n",
        "      <th>dump_P_300</th>\n",
        "      <td> 0.065377</td>\n",
        "      <td> 1.3400</td>\n",
        "      <td>  8.1067</td>\n",
        "      <td> 2.029854</td>\n",
        "      <td>  6.049776</td>\n",
        "      <td> 0.227715</td>\n",
        "      <td> 0.237298</td>\n",
        "      <td> 124</td>\n",
        "      <td> 0.741935</td>\n",
        "    </tr>\n",
        "    <tr>\n",
        "      <th>dump_CLDX_300</th>\n",
        "      <td> 0.040132</td>\n",
        "      <td> 0.9151</td>\n",
        "      <td>  4.0533</td>\n",
        "      <td> 2.045986</td>\n",
        "      <td>  4.429352</td>\n",
        "      <td> 0.176441</td>\n",
        "      <td> 0.252331</td>\n",
        "      <td> 101</td>\n",
        "      <td> 0.623762</td>\n",
        "    </tr>\n",
        "    <tr>\n",
        "      <th>dump_VIP_300</th>\n",
        "      <td> 0.050388</td>\n",
        "      <td> 0.7500</td>\n",
        "      <td>  5.7442</td>\n",
        "      <td> 2.054949</td>\n",
        "      <td>  7.658933</td>\n",
        "      <td> 0.242102</td>\n",
        "      <td> 0.293552</td>\n",
        "      <td> 114</td>\n",
        "      <td> 0.675439</td>\n",
        "    </tr>\n",
        "    <tr>\n",
        "      <th>dump_NSM_300</th>\n",
        "      <td> 0.062737</td>\n",
        "      <td> 1.7050</td>\n",
        "      <td> 10.1006</td>\n",
        "      <td> 2.055168</td>\n",
        "      <td>  5.924106</td>\n",
        "      <td> 0.203161</td>\n",
        "      <td> 0.207453</td>\n",
        "      <td> 161</td>\n",
        "      <td> 0.720497</td>\n",
        "    </tr>\n",
        "    <tr>\n",
        "      <th>dump_CSE_300</th>\n",
        "      <td> 0.032251</td>\n",
        "      <td> 0.6800</td>\n",
        "      <td>  4.1926</td>\n",
        "      <td> 2.130081</td>\n",
        "      <td>  6.165588</td>\n",
        "      <td> 0.246190</td>\n",
        "      <td> 0.264788</td>\n",
        "      <td> 130</td>\n",
        "      <td> 0.700000</td>\n",
        "    </tr>\n",
        "    <tr>\n",
        "      <th>dump_VRNG_300</th>\n",
        "      <td> 0.029599</td>\n",
        "      <td> 1.0800</td>\n",
        "      <td>  4.0846</td>\n",
        "      <td> 2.231674</td>\n",
        "      <td>  3.782037</td>\n",
        "      <td> 0.212999</td>\n",
        "      <td> 0.162148</td>\n",
        "      <td> 138</td>\n",
        "      <td> 0.702899</td>\n",
        "    </tr>\n",
        "    <tr>\n",
        "      <th>dump_PBCT_300</th>\n",
        "      <td> 0.033210</td>\n",
        "      <td> 1.2905</td>\n",
        "      <td> 14.3469</td>\n",
        "      <td> 2.249643</td>\n",
        "      <td> 11.117319</td>\n",
        "      <td> 0.240690</td>\n",
        "      <td> 0.267873</td>\n",
        "      <td> 432</td>\n",
        "      <td> 0.710648</td>\n",
        "    </tr>\n",
        "    <tr>\n",
        "      <th>dump_QIHU_300</th>\n",
        "      <td> 0.157653</td>\n",
        "      <td> 4.0920</td>\n",
        "      <td> 17.9724</td>\n",
        "      <td> 2.342627</td>\n",
        "      <td>  4.392082</td>\n",
        "      <td> 0.274558</td>\n",
        "      <td> 0.214778</td>\n",
        "      <td> 114</td>\n",
        "      <td> 0.763158</td>\n",
        "    </tr>\n",
        "    <tr>\n",
        "      <th>dump_CHTP_300</th>\n",
        "      <td> 0.032762</td>\n",
        "      <td> 1.1521</td>\n",
        "      <td>  3.8004</td>\n",
        "      <td> 2.395001</td>\n",
        "      <td>  3.298672</td>\n",
        "      <td> 0.225796</td>\n",
        "      <td> 0.281525</td>\n",
        "      <td> 116</td>\n",
        "      <td> 0.620690</td>\n",
        "    </tr>\n",
        "    <tr>\n",
        "      <th>dump_AVNR_300</th>\n",
        "      <td> 0.023950</td>\n",
        "      <td> 0.4699</td>\n",
        "      <td>  2.6584</td>\n",
        "      <td> 2.444076</td>\n",
        "      <td>  5.657374</td>\n",
        "      <td> 0.182961</td>\n",
        "      <td> 0.420899</td>\n",
        "      <td> 111</td>\n",
        "      <td> 0.621622</td>\n",
        "    </tr>\n",
        "    <tr>\n",
        "      <th>dump_KMI_300</th>\n",
        "      <td> 0.092729</td>\n",
        "      <td> 1.1147</td>\n",
        "      <td>  9.6438</td>\n",
        "      <td> 2.546571</td>\n",
        "      <td>  8.651476</td>\n",
        "      <td> 0.312343</td>\n",
        "      <td> 0.384571</td>\n",
        "      <td> 104</td>\n",
        "      <td> 0.788462</td>\n",
        "    </tr>\n",
        "    <tr>\n",
        "      <th>dump_GNBT_300</th>\n",
        "      <td> 0.006769</td>\n",
        "      <td> 0.0767</td>\n",
        "      <td>  0.7243</td>\n",
        "      <td> 2.913606</td>\n",
        "      <td>  9.443286</td>\n",
        "      <td> 0.289970</td>\n",
        "      <td> 0.437799</td>\n",
        "      <td> 107</td>\n",
        "      <td> 0.691589</td>\n",
        "    </tr>\n",
        "    <tr>\n",
        "      <th>dump_PLD_300</th>\n",
        "      <td> 0.177704</td>\n",
        "      <td> 3.5600</td>\n",
        "      <td> 18.1258</td>\n",
        "      <td> 2.924326</td>\n",
        "      <td>  5.091517</td>\n",
        "      <td> 0.379581</td>\n",
        "      <td> 0.387857</td>\n",
        "      <td> 102</td>\n",
        "      <td> 0.794118</td>\n",
        "    </tr>\n",
        "    <tr>\n",
        "      <th>dump_CYS_300</th>\n",
        "      <td> 0.034939</td>\n",
        "      <td> 0.4800</td>\n",
        "      <td>  5.1710</td>\n",
        "      <td> 3.031747</td>\n",
        "      <td> 10.772917</td>\n",
        "      <td> 0.328958</td>\n",
        "      <td> 0.420252</td>\n",
        "      <td> 148</td>\n",
        "      <td> 0.736486</td>\n",
        "    </tr>\n",
        "    <tr>\n",
        "      <th>dump_DNKN_300</th>\n",
        "      <td> 0.141207</td>\n",
        "      <td> 1.1900</td>\n",
        "      <td> 16.3800</td>\n",
        "      <td> 3.286624</td>\n",
        "      <td> 13.764706</td>\n",
        "      <td> 0.349385</td>\n",
        "      <td> 0.538551</td>\n",
        "      <td> 116</td>\n",
        "      <td> 0.724138</td>\n",
        "    </tr>\n",
        "  </tbody>\n",
        "</table>"
       ],
       "metadata": {},
       "output_type": "display_data",
       "text": [
        "<IPython.core.display.HTML at 0x42e8250>"
       ]
      }
     ],
     "prompt_number": 14
    },
    {
     "cell_type": "code",
     "collapsed": false,
     "input": [
      "#sym, df = next(iter(df1.groupby('Symbol')))\n",
      "_grp = df1.groupby('Symbol')\n",
      "sym = _sym = 'dump_ANV_300'\n",
      "df =  _grp.get_group(sym)\n",
      "fdf = _fdf(df)\n",
      "#print H(fdf)\n",
      "\n"
     ],
     "language": "python",
     "metadata": {},
     "outputs": [],
     "prompt_number": 76
    },
    {
     "cell_type": "code",
     "collapsed": false,
     "input": [
      "_xf = pandas.Timestamp('2010-09-06 09:40:00')\n",
      "_around = lambda l, p, s=5: [v for v in l if v < p][-5:] + [v for v in l if v >= p][:5]\n",
      "xx = _around(ohlc.index, _xf)\n",
      "#xx"
     ],
     "language": "python",
     "metadata": {},
     "outputs": [],
     "prompt_number": 77
    },
    {
     "cell_type": "code",
     "collapsed": false,
     "input": [
      "dfx = df1[df1.Symbol == _sym]\n",
      "dfx.sort_index(inplace=True)\n",
      "#H(dfx.tail(30))\n",
      "#H(df.tail(30))\n",
      "prices = ohlc.O.shift(-1)\n",
      "#prices.ix[df.index]\n",
      "#df.tail(20)"
     ],
     "language": "python",
     "metadata": {},
     "outputs": [],
     "prompt_number": 7
    },
    {
     "cell_type": "code",
     "collapsed": false,
     "input": [
      "#prices.ix[df.index]"
     ],
     "language": "python",
     "metadata": {},
     "outputs": [],
     "prompt_number": 58
    },
    {
     "cell_type": "code",
     "collapsed": false,
     "input": [
      "from IPython.display import HTML, display\n",
      "H = lambda df: display(HTML(df.tail(300).to_html()))"
     ],
     "language": "python",
     "metadata": {},
     "outputs": [],
     "prompt_number": 11
    },
    {
     "cell_type": "code",
     "collapsed": false,
     "input": [
      "#top(d.sort(columns='pf'))\n",
      "#H(d.sort(columns='pf').tail(50))"
     ],
     "language": "python",
     "metadata": {},
     "outputs": [],
     "prompt_number": 12
    }
   ],
   "metadata": {}
  }
 ]
}